{
  "cells": [
    {
      "cell_type": "markdown",
      "metadata": {
        "id": "view-in-github",
        "colab_type": "text"
      },
      "source": [
        "<a href=\"https://colab.research.google.com/github/kai-lim/NLP_course/blob/main/D3_embeddings.ipynb\" target=\"_parent\"><img src=\"https://colab.research.google.com/assets/colab-badge.svg\" alt=\"Open In Colab\"/></a>"
      ]
    },
    {
      "cell_type": "markdown",
      "metadata": {
        "id": "0OjBWQtuFo0w"
      },
      "source": [
        "## Word embeddings\n",
        "*(Credit: Leon Derczynski, IT University of Copenhagen)*"
      ]
    },
    {
      "cell_type": "markdown",
      "metadata": {
        "id": "jahAH9FcFo0z"
      },
      "source": [
        "Let's load some embeddings, and then use these to see which words are close to each other.\n",
        "We'll use the gensim package's word2vec implementation, and an nltk corpus. We also need to download punkt - an nltk tokeniser used by the movie_reviews corpus."
      ]
    },
    {
      "cell_type": "code",
      "execution_count": null,
      "metadata": {
        "id": "wNhihIEDFo00",
        "colab": {
          "base_uri": "https://localhost:8080/"
        },
        "outputId": "fd1c68bb-116d-43c5-d976-30a3d942011b"
      },
      "outputs": [
        {
          "output_type": "stream",
          "name": "stdout",
          "text": [
            "[nltk_data] Downloading package brown to /root/nltk_data...\n",
            "[nltk_data]   Unzipping corpora/brown.zip.\n",
            "[nltk_data] Downloading package movie_reviews to /root/nltk_data...\n",
            "[nltk_data]   Unzipping corpora/movie_reviews.zip.\n",
            "[nltk_data] Downloading package punkt to /root/nltk_data...\n",
            "[nltk_data]   Unzipping tokenizers/punkt.zip.\n"
          ]
        },
        {
          "output_type": "execute_result",
          "data": {
            "text/plain": [
              "True"
            ]
          },
          "metadata": {},
          "execution_count": 1
        }
      ],
      "source": [
        "from gensim.models import Word2Vec\n",
        "from nltk.corpus import brown, movie_reviews\n",
        "\n",
        "import nltk\n",
        "nltk.download('brown')\n",
        "nltk.download('movie_reviews')\n",
        "nltk.download('punkt')"
      ]
    },
    {
      "cell_type": "markdown",
      "metadata": {
        "id": "IL-pGzhdFo04"
      },
      "source": [
        "Let's generate word vectors over the Brown corpus text. We will have 20 dimensions, using a window of three for the context words in the skip-grams (e.g. c1, c2, w, c3, c4). This might be a little slow (maybe 1-2 minutes)."
      ]
    },
    {
      "cell_type": "code",
      "execution_count": null,
      "metadata": {
        "id": "sFlJ2Tz0Fo05"
      },
      "outputs": [],
      "source": [
        "# for the Brown corpus\n",
        "b = Word2Vec(brown.sents(), size=20, window=3, min_count=3)"
      ]
    },
    {
      "cell_type": "markdown",
      "metadata": {
        "id": "dOpnc7g9Fo07"
      },
      "source": [
        "Now we have the vectors, we can see how good they are by measuring which words are similar to each other."
      ]
    },
    {
      "cell_type": "code",
      "execution_count": null,
      "metadata": {
        "id": "VQIw3mJvFo08",
        "colab": {
          "base_uri": "https://localhost:8080/"
        },
        "outputId": "3a4efa93-aeda-4d9b-ec80-22c239f625c2"
      },
      "outputs": [
        {
          "output_type": "stream",
          "name": "stderr",
          "text": [
            "/usr/local/lib/python3.7/dist-packages/ipykernel_launcher.py:1: DeprecationWarning: Call to deprecated `most_similar` (Method will be removed in 4.0.0, use self.wv.most_similar() instead).\n",
            "  \"\"\"Entry point for launching an IPython kernel.\n"
          ]
        },
        {
          "output_type": "execute_result",
          "data": {
            "text/plain": [
              "[('pool', 0.9683407545089722),\n",
              " ('planter', 0.9549104571342468),\n",
              " ('church', 0.9533883333206177),\n",
              " ('paper', 0.9525842666625977),\n",
              " ('valley', 0.9507160782814026)]"
            ]
          },
          "metadata": {},
          "execution_count": 4
        }
      ],
      "source": [
        "b.most_similar('company', topn=5)"
      ]
    },
    {
      "cell_type": "code",
      "execution_count": null,
      "metadata": {
        "id": "TiBDgxeoy0oH"
      },
      "outputs": [],
      "source": [
        "# for the Brown corpus\n",
        "b2 = Word2Vec(brown.sents(), size=30, window=5, min_count=3)"
      ]
    },
    {
      "cell_type": "code",
      "source": [
        "b2.most_similar('company', topn=5)"
      ],
      "metadata": {
        "colab": {
          "base_uri": "https://localhost:8080/"
        },
        "id": "19X84SOcy5P5",
        "outputId": "65155b15-25f6-4477-b416-d19929973682"
      },
      "execution_count": null,
      "outputs": [
        {
          "output_type": "stream",
          "name": "stderr",
          "text": [
            "/usr/local/lib/python3.7/dist-packages/ipykernel_launcher.py:1: DeprecationWarning: Call to deprecated `most_similar` (Method will be removed in 4.0.0, use self.wv.most_similar() instead).\n",
            "  \"\"\"Entry point for launching an IPython kernel.\n"
          ]
        },
        {
          "output_type": "execute_result",
          "data": {
            "text/plain": [
              "[('soul', 0.9609832763671875),\n",
              " ('paper', 0.9599371552467346),\n",
              " ('pool', 0.959900438785553),\n",
              " ('driver', 0.9578371644020081),\n",
              " ('tragedy', 0.954524576663971)]"
            ]
          },
          "metadata": {},
          "execution_count": 24
        }
      ]
    },
    {
      "cell_type": "markdown",
      "metadata": {
        "id": "oBSdnlU4Fo1C"
      },
      "source": [
        "Not great, eh? Try altering the window and the dimension size, to see if you get better results."
      ]
    },
    {
      "cell_type": "markdown",
      "metadata": {
        "id": "X0b2OJTOFo1D"
      },
      "source": [
        "Try also with the movie reviews results!"
      ]
    },
    {
      "cell_type": "code",
      "execution_count": null,
      "metadata": {
        "id": "ad2VWdpcFo1D"
      },
      "outputs": [],
      "source": [
        "# for the movie review corpus\n",
        "mr = Word2Vec(movie_reviews.sents(), size=20, window=5, min_count=3)"
      ]
    },
    {
      "cell_type": "code",
      "execution_count": null,
      "metadata": {
        "id": "01mNdhm8Fo1I",
        "colab": {
          "base_uri": "https://localhost:8080/"
        },
        "outputId": "c418c73c-5125-4b78-ef59-2d851f33ecfd"
      },
      "outputs": [
        {
          "output_type": "stream",
          "name": "stderr",
          "text": [
            "/usr/local/lib/python3.7/dist-packages/ipykernel_launcher.py:1: DeprecationWarning: Call to deprecated `most_similar` (Method will be removed in 4.0.0, use self.wv.most_similar() instead).\n",
            "  \"\"\"Entry point for launching an IPython kernel.\n"
          ]
        },
        {
          "output_type": "execute_result",
          "data": {
            "text/plain": [
              "[('urinate', 0.7589472532272339),\n",
              " ('empathize', 0.7365001440048218),\n",
              " ('lei', 0.7324034571647644),\n",
              " ('learn', 0.7205872535705566),\n",
              " (';', 0.6854209303855896)]"
            ]
          },
          "metadata": {},
          "execution_count": 6
        }
      ],
      "source": [
        "mr.most_similar('love', topn=5)"
      ]
    },
    {
      "cell_type": "markdown",
      "metadata": {
        "id": "eTYsddU5Fo1L"
      },
      "source": [
        "We can also do some arithmetic with the words. Let's try that classical result, king - man + woman."
      ]
    },
    {
      "cell_type": "code",
      "execution_count": null,
      "metadata": {
        "id": "rjrmbgvCFo1M",
        "colab": {
          "base_uri": "https://localhost:8080/"
        },
        "outputId": "5cc80707-c747-4429-8d54-dd497f504e45"
      },
      "outputs": [
        {
          "output_type": "stream",
          "name": "stderr",
          "text": [
            "/usr/local/lib/python3.7/dist-packages/ipykernel_launcher.py:1: DeprecationWarning: Call to deprecated `most_similar` (Method will be removed in 4.0.0, use self.wv.most_similar() instead).\n",
            "  \"\"\"Entry point for launching an IPython kernel.\n"
          ]
        },
        {
          "output_type": "execute_result",
          "data": {
            "text/plain": [
              "[('military', 0.969031572341919),\n",
              " (\"other's\", 0.9493482112884521),\n",
              " ('levels', 0.9446753263473511),\n",
              " ('tax', 0.9438850283622742),\n",
              " ('lower', 0.9429642558097839)]"
            ]
          },
          "metadata": {},
          "execution_count": 7
        }
      ],
      "source": [
        "b.most_similar(positive=['biggest', 'small'], negative=['big'], topn=5)"
      ]
    },
    {
      "cell_type": "markdown",
      "metadata": {
        "id": "CyFNDhcJFo1Q"
      },
      "source": [
        "Not a perfect result with the default model! Why don't we try loading a bigger dataset, based on a bigger vocabulary. This should give better results. You'll need the GloVe embeddings for this. \n",
        "\n",
        "We will download this from a github repository. If you are running this on your own local computer (rather then Colaboratory) you can download from www.derczynski.com/glove.twitter.27B.25d.txt.bz2 to your machine. In this case, there is no need to run the next cell - just replace the file name in the cell after next with the path to your downloaded file."
      ]
    },
    {
      "cell_type": "code",
      "execution_count": null,
      "metadata": {
        "id": "yqhoHpJWFo1R",
        "colab": {
          "base_uri": "https://localhost:8080/"
        },
        "outputId": "5064359d-cfaa-46ed-8c8b-85242df265a0"
      },
      "outputs": [
        {
          "output_type": "stream",
          "name": "stdout",
          "text": [
            "Done copying files\n"
          ]
        }
      ],
      "source": [
        "!git clone --quiet https://github.com/KCL-Health-NLP/nlp_examples.git  \n",
        "from gensim.models.keyedvectors import KeyedVectors\n",
        "print(\"Done copying files\")"
      ]
    },
    {
      "cell_type": "markdown",
      "metadata": {
        "id": "MrQFNE0oyYSU"
      },
      "source": [
        "Now let's load the model file. This might take a few minutes. If you are using a copy on your own local machine, change the file path below to that of your file."
      ]
    },
    {
      "cell_type": "code",
      "execution_count": null,
      "metadata": {
        "id": "C4qKmtOuypp6",
        "colab": {
          "base_uri": "https://localhost:8080/"
        },
        "outputId": "dcca7143-c50f-42a1-e9b0-b5d6a9f35605"
      },
      "outputs": [
        {
          "output_type": "stream",
          "name": "stdout",
          "text": [
            "Done loading\n"
          ]
        }
      ],
      "source": [
        "glove = KeyedVectors.load_word2vec_format(\"nlp_examples/representation/glove.twitter.27B.25d.txt.bz2\", binary=False)\n",
        "print(\"Done loading\")"
      ]
    },
    {
      "cell_type": "markdown",
      "metadata": {
        "id": "26LIcnK9Fo1V"
      },
      "source": [
        "Now, try the above again. Can you find any cool word combinations? What differences are there in the datasets?\n",
        "\n",
        "Here are some ideas to try, substitute your own words in to these."
      ]
    },
    {
      "cell_type": "code",
      "execution_count": null,
      "metadata": {
        "id": "u0tsWpenFo1W",
        "colab": {
          "base_uri": "https://localhost:8080/"
        },
        "outputId": "d70ace9b-5147-4b87-8bb3-584d1df9dab3"
      },
      "outputs": [
        {
          "output_type": "execute_result",
          "data": {
            "text/plain": [
              "[('bread', 0.9616427421569824),\n",
              " ('corn', 0.9524653553962708),\n",
              " ('egg', 0.9472206234931946),\n",
              " ('fish', 0.9398375153541565),\n",
              " ('soup', 0.9275275468826294)]"
            ]
          },
          "metadata": {},
          "execution_count": 10
        }
      ],
      "source": [
        "glove.most_similar('meat', topn=5)"
      ]
    },
    {
      "cell_type": "code",
      "execution_count": null,
      "metadata": {
        "id": "iwhIzDHeFo1Z",
        "colab": {
          "base_uri": "https://localhost:8080/"
        },
        "outputId": "18dba3b7-adea-4933-9c83-f70c86e4d78c"
      },
      "outputs": [
        {
          "output_type": "execute_result",
          "data": {
            "text/plain": [
              "[('average', 0.8820492625236511),\n",
              " ('human', 0.8792450428009033),\n",
              " ('persons', 0.877970814704895),\n",
              " ('smallest', 0.8638321757316589),\n",
              " ('potential', 0.8624012470245361)]"
            ]
          },
          "metadata": {},
          "execution_count": 11
        }
      ],
      "source": [
        "glove.most_similar(positive=['biggest', 'small'], negative=['big'], topn=5)"
      ]
    },
    {
      "cell_type": "code",
      "execution_count": null,
      "metadata": {
        "id": "vsnpDVSOFo1d",
        "colab": {
          "base_uri": "https://localhost:8080/"
        },
        "outputId": "c2ff3fe2-b081-4729-c4dc-5be3ab2ea84d"
      },
      "outputs": [
        {
          "output_type": "execute_result",
          "data": {
            "text/plain": [
              "[('meets', 0.8841923475265503),\n",
              " ('prince', 0.832163393497467),\n",
              " ('queen', 0.8257461190223694),\n",
              " ('’s', 0.8174097537994385),\n",
              " ('crow', 0.8134994506835938),\n",
              " ('hunter', 0.8131038546562195),\n",
              " ('father', 0.811583399772644),\n",
              " ('soldier', 0.8111359477043152),\n",
              " ('mercy', 0.8082392811775208),\n",
              " ('hero', 0.8082262873649597)]"
            ]
          },
          "metadata": {},
          "execution_count": 12
        }
      ],
      "source": [
        "glove.most_similar(positive=['woman', 'king'], negative=['man'])"
      ]
    },
    {
      "cell_type": "code",
      "execution_count": null,
      "metadata": {
        "id": "s9xvpKT2Fo1i",
        "colab": {
          "base_uri": "https://localhost:8080/"
        },
        "outputId": "89a20a79-c6cf-44a8-e943-f5e9e7101c20"
      },
      "outputs": [
        {
          "output_type": "execute_result",
          "data": {
            "text/plain": [
              "0.77646494"
            ]
          },
          "metadata": {},
          "execution_count": 13
        }
      ],
      "source": [
        "glove.similarity('car', 'bike')"
      ]
    },
    {
      "cell_type": "code",
      "execution_count": null,
      "metadata": {
        "id": "wzUGyMgpFo1l",
        "colab": {
          "base_uri": "https://localhost:8080/"
        },
        "outputId": "65554b89-c888-4d17-a8d9-b1c9e8fe901f"
      },
      "outputs": [
        {
          "output_type": "execute_result",
          "data": {
            "text/plain": [
              "0.6448954"
            ]
          },
          "metadata": {},
          "execution_count": 14
        }
      ],
      "source": [
        "glove.similarity('car', 'purple')"
      ]
    },
    {
      "cell_type": "code",
      "execution_count": null,
      "metadata": {
        "id": "wv_i2NIyFo1p",
        "colab": {
          "base_uri": "https://localhost:8080/"
        },
        "outputId": "cdeb43de-d483-4705-ad50-e6c4b8cbd6b6"
      },
      "outputs": [
        {
          "output_type": "execute_result",
          "data": {
            "text/plain": [
              "0.86647636"
            ]
          },
          "metadata": {},
          "execution_count": 15
        }
      ],
      "source": [
        "glove.similarity('red', 'purple')"
      ]
    },
    {
      "cell_type": "code",
      "execution_count": null,
      "metadata": {
        "id": "fNyv2H2NFo1t",
        "colab": {
          "base_uri": "https://localhost:8080/",
          "height": 90
        },
        "outputId": "6249642a-45ef-4cc4-b223-4b95117e903f"
      },
      "outputs": [
        {
          "output_type": "stream",
          "name": "stderr",
          "text": [
            "/usr/local/lib/python3.7/dist-packages/gensim/models/keyedvectors.py:895: FutureWarning: arrays to stack must be passed as a \"sequence\" type such as list or tuple. Support for non-sequence iterables such as generators is deprecated as of NumPy 1.16 and will raise an error in the future.\n",
            "  vectors = vstack(self.word_vec(word, use_norm=True) for word in used_words).astype(REAL)\n"
          ]
        },
        {
          "output_type": "execute_result",
          "data": {
            "text/plain": [
              "'cereal'"
            ],
            "application/vnd.google.colaboratory.intrinsic+json": {
              "type": "string"
            }
          },
          "metadata": {},
          "execution_count": 16
        }
      ],
      "source": [
        "glove.doesnt_match(\"breakfast cereal dinner lunch\".split())"
      ]
    },
    {
      "cell_type": "code",
      "execution_count": null,
      "metadata": {
        "id": "BPOmgAzXFo1x",
        "colab": {
          "base_uri": "https://localhost:8080/",
          "height": 90
        },
        "outputId": "b7c5d096-fb20-4dba-ac60-f421a6405ad3"
      },
      "outputs": [
        {
          "output_type": "stream",
          "name": "stderr",
          "text": [
            "/usr/local/lib/python3.7/dist-packages/gensim/models/keyedvectors.py:895: FutureWarning: arrays to stack must be passed as a \"sequence\" type such as list or tuple. Support for non-sequence iterables such as generators is deprecated as of NumPy 1.16 and will raise an error in the future.\n",
            "  vectors = vstack(self.word_vec(word, use_norm=True) for word in used_words).astype(REAL)\n"
          ]
        },
        {
          "output_type": "execute_result",
          "data": {
            "text/plain": [
              "'horse'"
            ],
            "application/vnd.google.colaboratory.intrinsic+json": {
              "type": "string"
            }
          },
          "metadata": {},
          "execution_count": 17
        }
      ],
      "source": [
        "glove.doesnt_match(\"red green horse blue\".split())"
      ]
    },
    {
      "cell_type": "markdown",
      "metadata": {
        "id": "I-vQBPAwadgI"
      },
      "source": [
        "What about ambiguous words? Can you think of any and try them? Past suggestions have been cancer, bank and play. Can you find any others, and explain what is going on? How does the embedding deal with ambiguity? What factors influence this?"
      ]
    },
    {
      "cell_type": "code",
      "execution_count": null,
      "metadata": {
        "id": "DE8jPa8Wa-xk",
        "colab": {
          "base_uri": "https://localhost:8080/"
        },
        "outputId": "803cc2aa-1cba-4d5c-898c-2abe4c336e2f"
      },
      "outputs": [
        {
          "output_type": "execute_result",
          "data": {
            "text/plain": [
              "[('kind', 0.9247308373451233),\n",
              " ('even', 0.8885588645935059),\n",
              " ('is', 0.87043297290802),\n",
              " ('over', 0.8653795123100281),\n",
              " ('blind', 0.8579867482185364),\n",
              " ('exactly', 0.8571450710296631),\n",
              " ('its', 0.8565132021903992),\n",
              " ('had', 0.8532353639602661),\n",
              " ('true', 0.852778434753418),\n",
              " ('exact', 0.8523545265197754)]"
            ]
          },
          "metadata": {},
          "execution_count": 18
        }
      ],
      "source": [
        "glove.most_similar('word')"
      ]
    },
    {
      "cell_type": "markdown",
      "metadata": {
        "id": "WMjn2ZIbXFqM"
      },
      "source": [
        "What do these embeddings look like? We will display embeddings for four words: two colour adjectives, and two action verbs. Each column is the enbedding for one word. We have printed to two decimal places, using Python string formatting. Can you spot any similarities and differences?"
      ]
    },
    {
      "cell_type": "code",
      "execution_count": null,
      "metadata": {
        "id": "KNf_9myuFo12",
        "colab": {
          "base_uri": "https://localhost:8080/"
        },
        "outputId": "d042b301-786b-46a1-9f45-337651059429"
      },
      "outputs": [
        {
          "output_type": "stream",
          "name": "stdout",
          "text": [
            "   red      green             walk    run\n",
            "\n",
            "   -0.27   -0.68             -1.41   -0.03\n",
            "   -0.73   -0.91              0.28    0.49\n",
            "    0.55    0.21              0.52    0.17\n",
            "   -0.30   -0.12              0.23   -0.21\n",
            "    0.29   -0.22             -0.85   -0.32\n",
            "    0.80    0.70              0.55    0.46\n",
            "    0.63    0.75              1.26    1.15\n",
            "    0.64   -0.25             -0.66   -0.32\n",
            "   -0.11    0.66              0.53    0.32\n",
            "   -0.32   -0.19              0.44    0.13\n",
            "    1.02    0.95             -0.60    0.01\n",
            "   -0.62   -0.33              0.21    0.17\n",
            "   -4.04   -4.08             -4.41   -4.05\n",
            "   -0.31   -0.73              0.28    0.27\n",
            "   -0.36   -0.11             -0.20    0.35\n",
            "   -0.30   -0.97              0.63   -0.03\n",
            "    0.48    0.49              0.18    0.00\n",
            "   -0.32   -0.28             -0.67   -0.82\n",
            "    0.39    0.39             -0.10   -0.24\n",
            "    0.82    0.99             -1.07   -0.69\n",
            "   -0.84   -0.83              0.02   -0.30\n",
            "    0.04   -0.05              0.17    0.30\n",
            "    0.73    0.24              0.86    1.24\n",
            "   -0.53   -0.21             -0.32   -0.16\n",
            "    0.19    0.20              0.33    0.46\n"
          ]
        }
      ],
      "source": [
        "print(\"   red      green             walk    run\\n\")\n",
        "for i in range(len(glove['red'])):\n",
        "  print(\"%8.2f%8.2f          %8.2f%8.2f\" % (glove['red'][i], glove['green'][i], glove['walk'][i], glove['run'][i]))"
      ]
    },
    {
      "cell_type": "markdown",
      "metadata": {
        "id": "mjo-IFo5X-54"
      },
      "source": [
        "How do we use these embeddings in NLP? The usual way is to replace each occurence of a word with an embedding - it represents our word. The example below displays what we would pass to our algorithm for a sentence. We show one line for each word, with each value formatted to two decimal places again. The word is displayed at the start of the line for convenience only - this would not be passed to our algorithm."
      ]
    },
    {
      "cell_type": "code",
      "execution_count": null,
      "metadata": {
        "id": "2b-1ZJ9kP1uX",
        "colab": {
          "base_uri": "https://localhost:8080/"
        },
        "outputId": "d3e38278-633b-4468-af7b-7741c292a495"
      },
      "outputs": [
        {
          "output_type": "stream",
          "name": "stdout",
          "text": [
            "the         -0.01  0.02  0.21  0.17 -0.44 -0.15  1.84 -0.16  0.18 -0.32  0.07  0.52 -6.34  0.48  0.14 -0.49  0.39 -0.00 -0.10  0.21 -0.86  0.17  0.19 -0.84 -0.31\n",
            "quick       -0.06  1.14 -0.49  0.09  0.57  0.64  0.96 -0.88  0.29 -0.31 -0.26  0.72 -3.54 -0.52  0.40  0.13  0.45 -1.03 -0.58 -0.79 -0.30 -0.47  0.98  0.29 -0.36\n",
            "brown       -0.55 -0.93  0.71  0.31 -0.15  0.39  0.46  0.08  0.33 -1.07  0.72  0.14 -3.99 -1.25 -0.13 -0.57 -0.32 -0.36 -0.41  0.78  0.21  0.93  0.37 -0.44 -0.09\n",
            "fox          0.32 -0.05  0.90 -0.50  0.14 -0.48  0.40  0.51  0.32 -0.81  0.42 -0.49 -3.01 -0.40  0.57 -0.45 -0.60  0.28 -0.07  0.20  0.22  0.10 -0.15 -1.32  0.11\n",
            "jumped      -1.01  0.55  1.84 -0.24 -0.56 -0.08  0.32 -1.00 -0.37  0.67  0.45  1.24 -2.95  0.23  0.16  0.76  0.95 -0.04  0.09 -0.87  0.85  0.56  2.15 -0.91 -0.27\n",
            "over         0.55  0.34 -0.05  0.03 -0.59  0.23  0.10 -0.60 -1.03  0.67  0.19  1.27 -5.16  0.18  0.38  0.74  0.38  0.52 -0.79 -0.45 -0.78  0.23  0.19 -0.47  0.39\n",
            "the         -0.01  0.02  0.21  0.17 -0.44 -0.15  1.84 -0.16  0.18 -0.32  0.07  0.52 -6.34  0.48  0.14 -0.49  0.39 -0.00 -0.10  0.21 -0.86  0.17  0.19 -0.84 -0.31\n",
            "lazy        -0.68  0.28 -0.14 -0.38  0.79  0.97  1.70 -1.07 -0.24  0.27 -1.57  0.15 -3.23 -0.47  0.16  0.30  0.57 -0.80 -0.07 -0.86  0.41  0.70  0.23  0.35  0.19\n",
            "dog         -1.24 -0.36  0.57  0.37  0.60 -0.19  1.27 -0.37  0.09  0.40  0.25 -0.26 -3.92 -1.11 -0.21 -0.24  0.95 -0.53 -0.00 -0.36  0.56  0.78  0.47 -0.78  0.78\n"
          ]
        }
      ],
      "source": [
        "sentence=[\"the\", \"quick\", \"brown\", \"fox\", \"jumped\", \"over\", \"the\", \"lazy\", \"dog\"]\n",
        "embeddings = []\n",
        "for i in sentence:\n",
        "  embeddings.append(glove[i])\n",
        "  \n",
        "for i, val in enumerate(embeddings):\n",
        "  print(sentence[i].ljust(10), ''.join(\"{:6.2f}\".format(x) for x in val))  \n",
        "  "
      ]
    }
  ],
  "metadata": {
    "colab": {
      "name": "D3_embeddings.ipynb",
      "provenance": [],
      "include_colab_link": true
    },
    "kernelspec": {
      "display_name": "Python 3",
      "language": "python",
      "name": "python3"
    },
    "language_info": {
      "codemirror_mode": {
        "name": "ipython",
        "version": 3
      },
      "file_extension": ".py",
      "mimetype": "text/x-python",
      "name": "python",
      "nbconvert_exporter": "python",
      "pygments_lexer": "ipython3",
      "version": "3.7.3"
    }
  },
  "nbformat": 4,
  "nbformat_minor": 0
}