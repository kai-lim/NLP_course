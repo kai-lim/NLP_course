{
  "cells": [
    {
      "cell_type": "markdown",
      "metadata": {
        "id": "view-in-github",
        "colab_type": "text"
      },
      "source": [
        "<a href=\"https://colab.research.google.com/github/kai-lim/NLP_course/blob/main/Day2_pattern_matching.ipynb\" target=\"_parent\"><img src=\"https://colab.research.google.com/assets/colab-badge.svg\" alt=\"Open In Colab\"/></a>"
      ]
    },
    {
      "cell_type": "markdown",
      "metadata": {
        "id": "s69I2pZanj30"
      },
      "source": [
        "# Introduction to NLP with Python - pattern matching\n",
        "## Negation detection\n",
        "\n",
        "A brief introduction to using Python for negation detection for information extraction using a simple version of the NegEx algorithm.\n",
        "\n",
        "\n",
        "Written by Sumithra Velupillai May 2020\n"
      ]
    },
    {
      "cell_type": "markdown",
      "metadata": {
        "id": "QCH349j7nj37"
      },
      "source": [
        "## The NegEx algorithm\n",
        "\n",
        "The NegEx algorithm is a widely used algorithm in clinical NLP. It is a simple pattern matching algorithm that relies on two main lexicons:\n",
        "\n",
        "* a list of terms/concepts that are the main concepts of interest for the information extraction problem, e.g. diagnoses, symptoms. These are called target terms. \n",
        "\n",
        "* a list of terms that indicate negation. In the original version of NegEx the negation terms were classified as pre-negation terms, post-negation terms, and pseudonegation terms (i.e. terms that are ambiguous). \n",
        "\n",
        "In simple terms, the algorithm works in the following way:\n",
        "\n",
        "* For each sentence, look for target terms.\n",
        "* If a target term is found, check if this term is negated. This is done by looking at the surrounding words in a window of +/- 5 words within the sentence.\n",
        "\n",
        "\n",
        "The original article: \n",
        "\n",
        "Chapman et al. A Simple Algorithm for Identifying Negated Findings and Diseases in Discharge Summaries, \n",
        "Journal of Biomedical Informatics Volume 34, Issue 5, October 2001, Pages 301-310\n",
        "\n",
        "https://www.sciencedirect.com/science/article/pii/S1532046401910299\n",
        "\n",
        "There are a few extended versions of this algorithm, where other modifiers are taken into account (e.g. uncertainty, experiencer), where several types of targets can be defined, where the scope of a modifier is dealt with differently, etc.  \n",
        "\n",
        "Some relevant publications:\n",
        "\n",
        "\n",
        "Harkema et al. ConText: An Algorithm for Determining Negation, Experiencer, and Temporal Status From Clinical Reports.\n",
        "J Biomed Inform. 2009 Oct;42(5):839-51. doi: 10.1016/j.jbi.2009.05.002. Epub 2009 May 10.\n",
        "\n",
        "https://pubmed.ncbi.nlm.nih.gov/19435614/\n",
        "\n",
        "\n",
        "Chapman et al. Document-Level Classification of CT Pulmonary Angiography Reports based on an Extension of the ConText Algorithm.\n",
        "J Biomed Inform. 2011 Oct; 44(5): 728–737. doi: 10.1016/j.jbi.2011.03.011\n",
        "https://www.ncbi.nlm.nih.gov/pmc/articles/PMC3164892/\n",
        "\n",
        "\n",
        "Chapman et al. Extending the NegEx Lexicon for Multiple Languages\n",
        "Stud Health Technol Inform. 2013;192:677-81.\n",
        "https://pubmed.ncbi.nlm.nih.gov/23920642/\n",
        "\n",
        "\n",
        "Example of using this in the mental health domain:\n",
        "\n",
        "Downs et al. Detection of Suicidality in Adolescents with Autism Spectrum Disorders: Developing a Natural Language Processing Approach for Use in Electronic Health Records\n",
        "AMIA Annu Symp Proc. 2017; 2017: 641–649.\n",
        "\n",
        "https://www.ncbi.nlm.nih.gov/pmc/articles/PMC5977628/\n",
        "\n",
        "\n",
        "Velupillai et al. Identifying Suicidal Adolescents From Mental Health Records Using Natural Language Processing\n",
        "Stud Health Technol Inform. 2019 Aug 21;264:413-417. doi: 10.3233/SHTI190254.\n",
        "\n",
        "https://pubmed.ncbi.nlm.nih.gov/31437956/\n"
      ]
    },
    {
      "cell_type": "markdown",
      "metadata": {
        "id": "p3ivXqFPnj4A"
      },
      "source": [
        "We'll use pandas to save outputs"
      ]
    },
    {
      "cell_type": "code",
      "execution_count": 1,
      "metadata": {
        "id": "ZQjdRMiqnj4B"
      },
      "outputs": [],
      "source": [
        "import pandas as pd"
      ]
    },
    {
      "cell_type": "markdown",
      "metadata": {
        "id": "ct8QXb0anj4D"
      },
      "source": [
        "A key package for working with pattern matching and regular expressions is called 're', we need to import that too. "
      ]
    },
    {
      "cell_type": "code",
      "execution_count": 2,
      "metadata": {
        "id": "jPWS9CPPnj4I"
      },
      "outputs": [],
      "source": [
        "import re"
      ]
    },
    {
      "cell_type": "markdown",
      "metadata": {
        "id": "qhNC0qd1nj4J"
      },
      "source": [
        "We will use SpaCy again for tokenizing.\n",
        "\n",
        "spaCy: https://spacy.io/\n"
      ]
    },
    {
      "cell_type": "markdown",
      "metadata": {
        "id": "iridpAainj4J"
      },
      "source": [
        "spaCy has a default language model for English that we will load into the variable 'nlp'"
      ]
    },
    {
      "cell_type": "code",
      "execution_count": 5,
      "metadata": {
        "id": "wwnZxOsvnj4K"
      },
      "outputs": [],
      "source": [
        "try:\n",
        "    import spacy\n",
        "except ImportError as e:\n",
        "    !pip install spacy\n",
        "    import spacy\n",
        "try:\n",
        "    nlp = spacy.load('en_core_web_sm')\n",
        "except Error as e:\n",
        "    !python -m spacy download en_core_web_sm #to run on command line\n",
        "    nlp = spacy.load('en_core_web_sm')\n",
        "    "
      ]
    },
    {
      "cell_type": "markdown",
      "metadata": {
        "id": "ndItcQNMnj4L"
      },
      "source": [
        "Let's define a function to extract words from sentences, and exclude punctuations"
      ]
    },
    {
      "cell_type": "code",
      "execution_count": 6,
      "metadata": {
        "id": "2l6VQHR5nj4L"
      },
      "outputs": [],
      "source": [
        "import string\n",
        "def get_spacy_tokens(row):\n",
        "  return [str(token) for token in row if str(token) not in string.punctuation]"
      ]
    },
    {
      "cell_type": "markdown",
      "metadata": {
        "id": "rQY7Dd7Nnj4M"
      },
      "source": [
        "Then we need a function to implement the NegEx algorithm, that returns a dataframe with each sentence, a list of target terms (if found) and if the sentence is negated or not (boolean)"
      ]
    },
    {
      "cell_type": "code",
      "execution_count": 7,
      "metadata": {
        "id": "MxJaVp_1nj4M"
      },
      "outputs": [],
      "source": [
        "def simple_negex(doc, target_terms, negation_terms):\n",
        "    negated_sentences = []\n",
        "    for sentence in doc.sents:\n",
        "        words = get_spacy_tokens(sentence)\n",
        "        negated = False\n",
        "        ## find target terms\n",
        "        t_word = []\n",
        "        neg_word = []\n",
        "        for w in words:            \n",
        "            negated = False\n",
        "            for reg in target_terms:\n",
        "                r = re.compile(reg, flags=re.I)\n",
        "                if re.search(r, w):\n",
        "                    # target term found, save\n",
        "                    t_word.append(w)\n",
        "                    # look for negation in window +- 5 words\n",
        "                    start = words.index(w)-6\n",
        "                    if start<0:\n",
        "                        start=0\n",
        "                    for ww in words[start:words.index(w)]:\n",
        "                        if ww in negation_terms:\n",
        "                            negated = True\n",
        "                            break\n",
        "                    end = words.index(w)+6\n",
        "                    if end > len(words):\n",
        "                        end = len(words)\n",
        "                    for ww in words[words.index(w):end+1]:\n",
        "                        if ww in negation_terms:\n",
        "                            negated = True\n",
        "                            break\n",
        "            neg_word.append(negated)\n",
        "        if True in neg_word:\n",
        "            negated_sentences.append([str(sentence), t_word, True])\n",
        "        else:\n",
        "            negated_sentences.append([str(sentence), t_word, False])\n",
        "    df = pd.DataFrame(negated_sentences, columns=['sentence', 'target terms', 'negated'])\n",
        "    return df\n",
        "    "
      ]
    },
    {
      "cell_type": "markdown",
      "metadata": {
        "id": "noqIOK8Qnj4P"
      },
      "source": [
        "Let's create a sample document, a list of target terms, and a list of negation terms"
      ]
    },
    {
      "cell_type": "code",
      "execution_count": 8,
      "metadata": {
        "id": "j1JLNJFFnj4Q"
      },
      "outputs": [],
      "source": [
        "\n",
        "text = \"The patient denies having suicidal thoughts. This was not an intentional overdose. She has been suicidal in the past. Suicidal ideation was not intentional.\"\n",
        "\n",
        "## we'll use spacy for tokenizing\n",
        "doc = nlp(text)\n",
        "\n",
        "## a simple list of target terms\n",
        "target_terms = ['suicid']\n",
        "\n",
        "## a simple list of negation terms\n",
        "negation_terms = ['no', 'not']\n",
        "\n",
        "negated_sentences = simple_negex(doc, target_terms, negation_terms)"
      ]
    },
    {
      "cell_type": "markdown",
      "metadata": {
        "id": "E9_HUzKvnj4S"
      },
      "source": [
        "What results did we get?"
      ]
    },
    {
      "cell_type": "code",
      "execution_count": 9,
      "metadata": {
        "id": "9jjFg1bKnj4T",
        "outputId": "f21475d7-81c9-4a8d-b98a-4d05cccc0ba4",
        "colab": {
          "base_uri": "https://localhost:8080/",
          "height": 175
        }
      },
      "outputs": [
        {
          "output_type": "execute_result",
          "data": {
            "text/plain": [
              "                                       sentence target terms  negated\n",
              "0  The patient denies having suicidal thoughts.   [suicidal]    False\n",
              "1         This was not an intentional overdose.           []    False\n",
              "2            She has been suicidal in the past.   [suicidal]    False\n",
              "3        Suicidal ideation was not intentional.   [Suicidal]     True"
            ],
            "text/html": [
              "\n",
              "  <div id=\"df-2ee1a12b-8771-49b1-9386-409a882ab00e\">\n",
              "    <div class=\"colab-df-container\">\n",
              "      <div>\n",
              "<style scoped>\n",
              "    .dataframe tbody tr th:only-of-type {\n",
              "        vertical-align: middle;\n",
              "    }\n",
              "\n",
              "    .dataframe tbody tr th {\n",
              "        vertical-align: top;\n",
              "    }\n",
              "\n",
              "    .dataframe thead th {\n",
              "        text-align: right;\n",
              "    }\n",
              "</style>\n",
              "<table border=\"1\" class=\"dataframe\">\n",
              "  <thead>\n",
              "    <tr style=\"text-align: right;\">\n",
              "      <th></th>\n",
              "      <th>sentence</th>\n",
              "      <th>target terms</th>\n",
              "      <th>negated</th>\n",
              "    </tr>\n",
              "  </thead>\n",
              "  <tbody>\n",
              "    <tr>\n",
              "      <th>0</th>\n",
              "      <td>The patient denies having suicidal thoughts.</td>\n",
              "      <td>[suicidal]</td>\n",
              "      <td>False</td>\n",
              "    </tr>\n",
              "    <tr>\n",
              "      <th>1</th>\n",
              "      <td>This was not an intentional overdose.</td>\n",
              "      <td>[]</td>\n",
              "      <td>False</td>\n",
              "    </tr>\n",
              "    <tr>\n",
              "      <th>2</th>\n",
              "      <td>She has been suicidal in the past.</td>\n",
              "      <td>[suicidal]</td>\n",
              "      <td>False</td>\n",
              "    </tr>\n",
              "    <tr>\n",
              "      <th>3</th>\n",
              "      <td>Suicidal ideation was not intentional.</td>\n",
              "      <td>[Suicidal]</td>\n",
              "      <td>True</td>\n",
              "    </tr>\n",
              "  </tbody>\n",
              "</table>\n",
              "</div>\n",
              "      <button class=\"colab-df-convert\" onclick=\"convertToInteractive('df-2ee1a12b-8771-49b1-9386-409a882ab00e')\"\n",
              "              title=\"Convert this dataframe to an interactive table.\"\n",
              "              style=\"display:none;\">\n",
              "        \n",
              "  <svg xmlns=\"http://www.w3.org/2000/svg\" height=\"24px\"viewBox=\"0 0 24 24\"\n",
              "       width=\"24px\">\n",
              "    <path d=\"M0 0h24v24H0V0z\" fill=\"none\"/>\n",
              "    <path d=\"M18.56 5.44l.94 2.06.94-2.06 2.06-.94-2.06-.94-.94-2.06-.94 2.06-2.06.94zm-11 1L8.5 8.5l.94-2.06 2.06-.94-2.06-.94L8.5 2.5l-.94 2.06-2.06.94zm10 10l.94 2.06.94-2.06 2.06-.94-2.06-.94-.94-2.06-.94 2.06-2.06.94z\"/><path d=\"M17.41 7.96l-1.37-1.37c-.4-.4-.92-.59-1.43-.59-.52 0-1.04.2-1.43.59L10.3 9.45l-7.72 7.72c-.78.78-.78 2.05 0 2.83L4 21.41c.39.39.9.59 1.41.59.51 0 1.02-.2 1.41-.59l7.78-7.78 2.81-2.81c.8-.78.8-2.07 0-2.86zM5.41 20L4 18.59l7.72-7.72 1.47 1.35L5.41 20z\"/>\n",
              "  </svg>\n",
              "      </button>\n",
              "      \n",
              "  <style>\n",
              "    .colab-df-container {\n",
              "      display:flex;\n",
              "      flex-wrap:wrap;\n",
              "      gap: 12px;\n",
              "    }\n",
              "\n",
              "    .colab-df-convert {\n",
              "      background-color: #E8F0FE;\n",
              "      border: none;\n",
              "      border-radius: 50%;\n",
              "      cursor: pointer;\n",
              "      display: none;\n",
              "      fill: #1967D2;\n",
              "      height: 32px;\n",
              "      padding: 0 0 0 0;\n",
              "      width: 32px;\n",
              "    }\n",
              "\n",
              "    .colab-df-convert:hover {\n",
              "      background-color: #E2EBFA;\n",
              "      box-shadow: 0px 1px 2px rgba(60, 64, 67, 0.3), 0px 1px 3px 1px rgba(60, 64, 67, 0.15);\n",
              "      fill: #174EA6;\n",
              "    }\n",
              "\n",
              "    [theme=dark] .colab-df-convert {\n",
              "      background-color: #3B4455;\n",
              "      fill: #D2E3FC;\n",
              "    }\n",
              "\n",
              "    [theme=dark] .colab-df-convert:hover {\n",
              "      background-color: #434B5C;\n",
              "      box-shadow: 0px 1px 3px 1px rgba(0, 0, 0, 0.15);\n",
              "      filter: drop-shadow(0px 1px 2px rgba(0, 0, 0, 0.3));\n",
              "      fill: #FFFFFF;\n",
              "    }\n",
              "  </style>\n",
              "\n",
              "      <script>\n",
              "        const buttonEl =\n",
              "          document.querySelector('#df-2ee1a12b-8771-49b1-9386-409a882ab00e button.colab-df-convert');\n",
              "        buttonEl.style.display =\n",
              "          google.colab.kernel.accessAllowed ? 'block' : 'none';\n",
              "\n",
              "        async function convertToInteractive(key) {\n",
              "          const element = document.querySelector('#df-2ee1a12b-8771-49b1-9386-409a882ab00e');\n",
              "          const dataTable =\n",
              "            await google.colab.kernel.invokeFunction('convertToInteractive',\n",
              "                                                     [key], {});\n",
              "          if (!dataTable) return;\n",
              "\n",
              "          const docLinkHtml = 'Like what you see? Visit the ' +\n",
              "            '<a target=\"_blank\" href=https://colab.research.google.com/notebooks/data_table.ipynb>data table notebook</a>'\n",
              "            + ' to learn more about interactive tables.';\n",
              "          element.innerHTML = '';\n",
              "          dataTable['output_type'] = 'display_data';\n",
              "          await google.colab.output.renderOutput(dataTable, element);\n",
              "          const docLink = document.createElement('div');\n",
              "          docLink.innerHTML = docLinkHtml;\n",
              "          element.appendChild(docLink);\n",
              "        }\n",
              "      </script>\n",
              "    </div>\n",
              "  </div>\n",
              "  "
            ]
          },
          "metadata": {},
          "execution_count": 9
        }
      ],
      "source": [
        "negated_sentences"
      ]
    },
    {
      "cell_type": "markdown",
      "metadata": {
        "id": "ILLPzO44nj4V"
      },
      "source": [
        "What do you think about these results? Are there any terms missing as targets? As negations? \n",
        "\n",
        "*Try adding new terms, changing sentences!*"
      ]
    },
    {
      "cell_type": "code",
      "execution_count": 59,
      "metadata": {
        "id": "BZEfCF-Snj4V"
      },
      "outputs": [],
      "source": [
        "\n",
        "text = \"The patient denies having suicidal thoughts. This was not an intentional overdose. She has been suicidal in the past. Suicidal ideation was not intentional. She was not suicidal. She didn't want to die. He wasn't suicidal at all. Paddington bear's owner was suicidal.\"\n",
        "\n",
        "## we'll use spacy for tokenizing\n",
        "doc = nlp(text)\n",
        "\n",
        "## a simple list of target terms\n",
        "target_terms = ['suicid', 'die','overdose']\n",
        "\n",
        "## a simple list of negation terms\n",
        "negation_terms = ['no', 'not', 'n\\'t','denies']\n",
        "\n",
        "negated_sentences = simple_negex(doc, target_terms, negation_terms)"
      ]
    },
    {
      "cell_type": "code",
      "source": [
        "negated_sentences"
      ],
      "metadata": {
        "colab": {
          "base_uri": "https://localhost:8080/",
          "height": 300
        },
        "id": "Z2eoKyewiKSg",
        "outputId": "01a68c1d-ce57-45b1-919d-bfb9988c5a01"
      },
      "execution_count": 61,
      "outputs": [
        {
          "output_type": "execute_result",
          "data": {
            "text/plain": [
              "                                       sentence target terms  negated\n",
              "0  The patient denies having suicidal thoughts.   [suicidal]     True\n",
              "1         This was not an intentional overdose.   [overdose]     True\n",
              "2            She has been suicidal in the past.   [suicidal]    False\n",
              "3        Suicidal ideation was not intentional.   [Suicidal]     True\n",
              "4                         She was not suicidal.   [suicidal]     True\n",
              "5                       She didn't want to die.        [die]     True\n",
              "6                    He wasn't suicidal at all.   [suicidal]     True\n",
              "7         Paddington bear's owner was suicidal.   [suicidal]    False"
            ],
            "text/html": [
              "\n",
              "  <div id=\"df-db829759-a4e9-4ea7-8bd7-1c0078ca4996\">\n",
              "    <div class=\"colab-df-container\">\n",
              "      <div>\n",
              "<style scoped>\n",
              "    .dataframe tbody tr th:only-of-type {\n",
              "        vertical-align: middle;\n",
              "    }\n",
              "\n",
              "    .dataframe tbody tr th {\n",
              "        vertical-align: top;\n",
              "    }\n",
              "\n",
              "    .dataframe thead th {\n",
              "        text-align: right;\n",
              "    }\n",
              "</style>\n",
              "<table border=\"1\" class=\"dataframe\">\n",
              "  <thead>\n",
              "    <tr style=\"text-align: right;\">\n",
              "      <th></th>\n",
              "      <th>sentence</th>\n",
              "      <th>target terms</th>\n",
              "      <th>negated</th>\n",
              "    </tr>\n",
              "  </thead>\n",
              "  <tbody>\n",
              "    <tr>\n",
              "      <th>0</th>\n",
              "      <td>The patient denies having suicidal thoughts.</td>\n",
              "      <td>[suicidal]</td>\n",
              "      <td>True</td>\n",
              "    </tr>\n",
              "    <tr>\n",
              "      <th>1</th>\n",
              "      <td>This was not an intentional overdose.</td>\n",
              "      <td>[overdose]</td>\n",
              "      <td>True</td>\n",
              "    </tr>\n",
              "    <tr>\n",
              "      <th>2</th>\n",
              "      <td>She has been suicidal in the past.</td>\n",
              "      <td>[suicidal]</td>\n",
              "      <td>False</td>\n",
              "    </tr>\n",
              "    <tr>\n",
              "      <th>3</th>\n",
              "      <td>Suicidal ideation was not intentional.</td>\n",
              "      <td>[Suicidal]</td>\n",
              "      <td>True</td>\n",
              "    </tr>\n",
              "    <tr>\n",
              "      <th>4</th>\n",
              "      <td>She was not suicidal.</td>\n",
              "      <td>[suicidal]</td>\n",
              "      <td>True</td>\n",
              "    </tr>\n",
              "    <tr>\n",
              "      <th>5</th>\n",
              "      <td>She didn't want to die.</td>\n",
              "      <td>[die]</td>\n",
              "      <td>True</td>\n",
              "    </tr>\n",
              "    <tr>\n",
              "      <th>6</th>\n",
              "      <td>He wasn't suicidal at all.</td>\n",
              "      <td>[suicidal]</td>\n",
              "      <td>True</td>\n",
              "    </tr>\n",
              "    <tr>\n",
              "      <th>7</th>\n",
              "      <td>Paddington bear's owner was suicidal.</td>\n",
              "      <td>[suicidal]</td>\n",
              "      <td>False</td>\n",
              "    </tr>\n",
              "  </tbody>\n",
              "</table>\n",
              "</div>\n",
              "      <button class=\"colab-df-convert\" onclick=\"convertToInteractive('df-db829759-a4e9-4ea7-8bd7-1c0078ca4996')\"\n",
              "              title=\"Convert this dataframe to an interactive table.\"\n",
              "              style=\"display:none;\">\n",
              "        \n",
              "  <svg xmlns=\"http://www.w3.org/2000/svg\" height=\"24px\"viewBox=\"0 0 24 24\"\n",
              "       width=\"24px\">\n",
              "    <path d=\"M0 0h24v24H0V0z\" fill=\"none\"/>\n",
              "    <path d=\"M18.56 5.44l.94 2.06.94-2.06 2.06-.94-2.06-.94-.94-2.06-.94 2.06-2.06.94zm-11 1L8.5 8.5l.94-2.06 2.06-.94-2.06-.94L8.5 2.5l-.94 2.06-2.06.94zm10 10l.94 2.06.94-2.06 2.06-.94-2.06-.94-.94-2.06-.94 2.06-2.06.94z\"/><path d=\"M17.41 7.96l-1.37-1.37c-.4-.4-.92-.59-1.43-.59-.52 0-1.04.2-1.43.59L10.3 9.45l-7.72 7.72c-.78.78-.78 2.05 0 2.83L4 21.41c.39.39.9.59 1.41.59.51 0 1.02-.2 1.41-.59l7.78-7.78 2.81-2.81c.8-.78.8-2.07 0-2.86zM5.41 20L4 18.59l7.72-7.72 1.47 1.35L5.41 20z\"/>\n",
              "  </svg>\n",
              "      </button>\n",
              "      \n",
              "  <style>\n",
              "    .colab-df-container {\n",
              "      display:flex;\n",
              "      flex-wrap:wrap;\n",
              "      gap: 12px;\n",
              "    }\n",
              "\n",
              "    .colab-df-convert {\n",
              "      background-color: #E8F0FE;\n",
              "      border: none;\n",
              "      border-radius: 50%;\n",
              "      cursor: pointer;\n",
              "      display: none;\n",
              "      fill: #1967D2;\n",
              "      height: 32px;\n",
              "      padding: 0 0 0 0;\n",
              "      width: 32px;\n",
              "    }\n",
              "\n",
              "    .colab-df-convert:hover {\n",
              "      background-color: #E2EBFA;\n",
              "      box-shadow: 0px 1px 2px rgba(60, 64, 67, 0.3), 0px 1px 3px 1px rgba(60, 64, 67, 0.15);\n",
              "      fill: #174EA6;\n",
              "    }\n",
              "\n",
              "    [theme=dark] .colab-df-convert {\n",
              "      background-color: #3B4455;\n",
              "      fill: #D2E3FC;\n",
              "    }\n",
              "\n",
              "    [theme=dark] .colab-df-convert:hover {\n",
              "      background-color: #434B5C;\n",
              "      box-shadow: 0px 1px 3px 1px rgba(0, 0, 0, 0.15);\n",
              "      filter: drop-shadow(0px 1px 2px rgba(0, 0, 0, 0.3));\n",
              "      fill: #FFFFFF;\n",
              "    }\n",
              "  </style>\n",
              "\n",
              "      <script>\n",
              "        const buttonEl =\n",
              "          document.querySelector('#df-db829759-a4e9-4ea7-8bd7-1c0078ca4996 button.colab-df-convert');\n",
              "        buttonEl.style.display =\n",
              "          google.colab.kernel.accessAllowed ? 'block' : 'none';\n",
              "\n",
              "        async function convertToInteractive(key) {\n",
              "          const element = document.querySelector('#df-db829759-a4e9-4ea7-8bd7-1c0078ca4996');\n",
              "          const dataTable =\n",
              "            await google.colab.kernel.invokeFunction('convertToInteractive',\n",
              "                                                     [key], {});\n",
              "          if (!dataTable) return;\n",
              "\n",
              "          const docLinkHtml = 'Like what you see? Visit the ' +\n",
              "            '<a target=\"_blank\" href=https://colab.research.google.com/notebooks/data_table.ipynb>data table notebook</a>'\n",
              "            + ' to learn more about interactive tables.';\n",
              "          element.innerHTML = '';\n",
              "          dataTable['output_type'] = 'display_data';\n",
              "          await google.colab.output.renderOutput(dataTable, element);\n",
              "          const docLink = document.createElement('div');\n",
              "          docLink.innerHTML = docLinkHtml;\n",
              "          element.appendChild(docLink);\n",
              "        }\n",
              "      </script>\n",
              "    </div>\n",
              "  </div>\n",
              "  "
            ]
          },
          "metadata": {},
          "execution_count": 61
        }
      ]
    },
    {
      "cell_type": "code",
      "source": [
        "for sentence in doc.sents:\n",
        "         print(get_spacy_tokens(sentence))\n"
      ],
      "metadata": {
        "colab": {
          "base_uri": "https://localhost:8080/"
        },
        "id": "rBLMGeOllTQc",
        "outputId": "5f9e2164-c422-43e3-8b61-365ac78524b3"
      },
      "execution_count": 60,
      "outputs": [
        {
          "output_type": "stream",
          "name": "stdout",
          "text": [
            "['The', 'patient', 'denies', 'having', 'suicidal', 'thoughts']\n",
            "['This', 'was', 'not', 'an', 'intentional', 'overdose']\n",
            "['She', 'has', 'been', 'suicidal', 'in', 'the', 'past']\n",
            "['Suicidal', 'ideation', 'was', 'not', 'intentional']\n",
            "['She', 'was', 'not', 'suicidal']\n",
            "['She', 'did', \"n't\", 'want', 'to', 'die']\n",
            "['He', 'was', \"n't\", 'suicidal', 'at', 'all']\n",
            "['Paddington', 'bear', \"'s\", 'owner', 'was', 'suicidal']\n"
          ]
        }
      ]
    }
  ],
  "metadata": {
    "colab": {
      "name": "Day2_pattern_matching.ipynb",
      "provenance": [],
      "include_colab_link": true
    },
    "kernelspec": {
      "display_name": "Python [conda env:root] *",
      "language": "python",
      "name": "conda-root-py"
    },
    "language_info": {
      "codemirror_mode": {
        "name": "ipython",
        "version": 3
      },
      "file_extension": ".py",
      "mimetype": "text/x-python",
      "name": "python",
      "nbconvert_exporter": "python",
      "pygments_lexer": "ipython3",
      "version": "3.7.4"
    }
  },
  "nbformat": 4,
  "nbformat_minor": 0
}