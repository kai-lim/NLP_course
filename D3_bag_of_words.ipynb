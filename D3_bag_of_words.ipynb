{
  "nbformat": 4,
  "nbformat_minor": 0,
  "metadata": {
    "colab": {
      "name": "D3_bag-of-words.ipynb",
      "provenance": [],
      "collapsed_sections": [],
      "include_colab_link": true
    },
    "kernelspec": {
      "name": "python3",
      "display_name": "Python 3"
    }
  },
  "cells": [
    {
      "cell_type": "markdown",
      "metadata": {
        "id": "view-in-github",
        "colab_type": "text"
      },
      "source": [
        "<a href=\"https://colab.research.google.com/github/kai-lim/NLP_course/blob/main/D3_bag_of_words.ipynb\" target=\"_parent\"><img src=\"https://colab.research.google.com/assets/colab-badge.svg\" alt=\"Open In Colab\"/></a>"
      ]
    },
    {
      "cell_type": "markdown",
      "metadata": {
        "id": "EpbT5yTXIFaT"
      },
      "source": [
        "# Bag of Words - BoW\n",
        "\n",
        "With acknowledgements to Rahul Vasaikar https://github.com/rahulvasaikar\n",
        "\n",
        "This notebook builds a simple bag of words model from first principles. We will then see how you can use the SciKitLearn module to build BoW models, and visualises it along a small number of axes.\n",
        "\n"
      ]
    },
    {
      "cell_type": "markdown",
      "metadata": {
        "id": "XbSrdIgm1tsR"
      },
      "source": [
        "Firsrt, we will import some useful modules for handling strings and collections, and also SciKit and pandas for our second version of BoW."
      ]
    },
    {
      "cell_type": "code",
      "metadata": {
        "id": "7ESh_zb_I6gG"
      },
      "source": [
        "# Import some useful modules, to implement a Bag of Words from scratch\n",
        "import string\n",
        "import pprint\n",
        "from collections import Counter\n",
        "\n",
        "# Modules we will use to implement another version of Bag of Words with SciKitLearn\n",
        "import pandas as pd\n",
        "from sklearn.feature_extraction.text import CountVectorizer\n"
      ],
      "execution_count": null,
      "outputs": []
    },
    {
      "cell_type": "markdown",
      "metadata": {
        "id": "KM3Wy36C1rM9"
      },
      "source": [
        "Let's make some simple documents, in a list."
      ]
    },
    {
      "cell_type": "code",
      "metadata": {
        "id": "QDPxrbJ5IQF_"
      },
      "source": [
        "documents = ['Klonopin 0.25 mg po every evening, Fluconazole 200 mg po daily, Synthroid 125 mcg po every day',\n",
        "             'She will not consider switching to clozapine',\n",
        "             'lovastatin 40 mg one half tab po daily, multivitamin daily, metformin 500 mg one tab po twice a day',\n",
        "             'Aspirin 81 mg po once daily, Zoloft 25 mg po once daily, Calcium with vitamin D two tablets po once daily']\n",
        "\n"
      ],
      "execution_count": null,
      "outputs": []
    },
    {
      "cell_type": "markdown",
      "metadata": {
        "id": "_cFYwj4YKZZw"
      },
      "source": [
        "Let's \"normalise\" our documents, to remove punctuation and case differences. We could do more here - what NLP techniques might you apply to iron out differences between similar words?"
      ]
    },
    {
      "cell_type": "code",
      "metadata": {
        "id": "UDN7LUW4I0fU",
        "colab": {
          "base_uri": "https://localhost:8080/"
        },
        "outputId": "5ec3ead5-5b22-4a54-b62a-974f75bbd9b1"
      },
      "source": [
        "normalised_documents = []\n",
        "for i in documents:\n",
        "    no_punctuation = ''.join(c for c in i if c not in string.punctuation) #string.punctuation contains all punctuations.\n",
        "    normalised_documents.append(no_punctuation.lower())\n",
        "    \n",
        "for i in normalised_documents:\n",
        "  print(i)"
      ],
      "execution_count": null,
      "outputs": [
        {
          "output_type": "stream",
          "name": "stdout",
          "text": [
            "klonopin 025 mg po every evening fluconazole 200 mg po daily synthroid 125 mcg po every day\n",
            "she will not consider switching to clozapine\n",
            "lovastatin 40 mg one half tab po daily multivitamin daily metformin 500 mg one tab po twice a day\n",
            "aspirin 81 mg po once daily zoloft 25 mg po once daily calcium with vitamin d two tablets po once daily\n"
          ]
        }
      ]
    },
    {
      "cell_type": "markdown",
      "metadata": {
        "id": "fJ0G2cipMJfC"
      },
      "source": [
        "Now let's split them up in to tokens, by splitting at whitespace. We could use a tokeniser for this, e.g. from nltk. Why might this be better?"
      ]
    },
    {
      "cell_type": "code",
      "metadata": {
        "id": "AWDc2C7TMRVW",
        "colab": {
          "base_uri": "https://localhost:8080/"
        },
        "outputId": "edff0c6a-cbf8-4342-97fc-4ffecc6d0751"
      },
      "source": [
        "tokenised_documents = []\n",
        "for i in normalised_documents:\n",
        "    tokenised_documents.append(i.split(' '))\n",
        "\n",
        "for i in tokenised_documents:\n",
        "  print(i)"
      ],
      "execution_count": null,
      "outputs": [
        {
          "output_type": "stream",
          "name": "stdout",
          "text": [
            "['klonopin', '025', 'mg', 'po', 'every', 'evening', 'fluconazole', '200', 'mg', 'po', 'daily', 'synthroid', '125', 'mcg', 'po', 'every', 'day']\n",
            "['she', 'will', 'not', 'consider', 'switching', 'to', 'clozapine']\n",
            "['lovastatin', '40', 'mg', 'one', 'half', 'tab', 'po', 'daily', 'multivitamin', 'daily', 'metformin', '500', 'mg', 'one', 'tab', 'po', 'twice', 'a', 'day']\n",
            "['aspirin', '81', 'mg', 'po', 'once', 'daily', 'zoloft', '25', 'mg', 'po', 'once', 'daily', 'calcium', 'with', 'vitamin', 'd', 'two', 'tablets', 'po', 'once', 'daily']\n"
          ]
        }
      ]
    },
    {
      "cell_type": "code",
      "source": [
        "#try using nltk.tokenise\n",
        "#from nltk.tokenize import wordpunct_tokenize\n",
        "#nltk.download('punkt')\n",
        "\n",
        "#def get_nltk_word(row):\n",
        "#    words = [wordpunc_tokenize(row)]\n",
        "#    return words\n",
        "\n",
        "#tokenised_nltk=[]\n",
        "#tokenised_nltk = normalised_documents.apply(get_nltk_word)\n",
        "  \n",
        "\n",
        "#print(tokenised_nltk)"
      ],
      "metadata": {
        "colab": {
          "base_uri": "https://localhost:8080/",
          "height": 269
        },
        "id": "VGBmZyCickk8",
        "outputId": "0463be76-08ea-4bd7-a7fd-78c72421cf45"
      },
      "execution_count": null,
      "outputs": [
        {
          "output_type": "stream",
          "name": "stdout",
          "text": [
            "[nltk_data] Downloading package punkt to /root/nltk_data...\n",
            "[nltk_data]   Package punkt is already up-to-date!\n"
          ]
        },
        {
          "output_type": "error",
          "ename": "AttributeError",
          "evalue": "ignored",
          "traceback": [
            "\u001b[0;31m---------------------------------------------------------------------------\u001b[0m",
            "\u001b[0;31mAttributeError\u001b[0m                            Traceback (most recent call last)",
            "\u001b[0;32m<ipython-input-21-4be205d49815>\u001b[0m in \u001b[0;36m<module>\u001b[0;34m()\u001b[0m\n\u001b[1;32m      8\u001b[0m \u001b[0;34m\u001b[0m\u001b[0m\n\u001b[1;32m      9\u001b[0m \u001b[0mtokenised_nltk\u001b[0m\u001b[0;34m=\u001b[0m\u001b[0;34m[\u001b[0m\u001b[0;34m]\u001b[0m\u001b[0;34m\u001b[0m\u001b[0;34m\u001b[0m\u001b[0m\n\u001b[0;32m---> 10\u001b[0;31m \u001b[0mtokenised_nltk\u001b[0m \u001b[0;34m=\u001b[0m \u001b[0mnormalised_documents\u001b[0m\u001b[0;34m.\u001b[0m\u001b[0mapply\u001b[0m\u001b[0;34m(\u001b[0m\u001b[0mget_nltk_word\u001b[0m\u001b[0;34m)\u001b[0m\u001b[0;34m\u001b[0m\u001b[0;34m\u001b[0m\u001b[0m\n\u001b[0m\u001b[1;32m     11\u001b[0m \u001b[0;34m\u001b[0m\u001b[0m\n\u001b[1;32m     12\u001b[0m \u001b[0;34m\u001b[0m\u001b[0m\n",
            "\u001b[0;31mAttributeError\u001b[0m: 'list' object has no attribute 'apply'"
          ]
        }
      ]
    },
    {
      "cell_type": "markdown",
      "metadata": {
        "id": "ps4vk10rMxAa"
      },
      "source": [
        "Let's  find the frequency of each unique token in our documents, i.e. the Bag of Words - BoW."
      ]
    },
    {
      "cell_type": "code",
      "metadata": {
        "id": "e7x6ICnINGEr",
        "colab": {
          "base_uri": "https://localhost:8080/"
        },
        "outputId": "709079cd-a3ee-4dae-d759-53d02b733240"
      },
      "source": [
        "frequency_list = []\n",
        "import pprint\n",
        "from collections import Counter\n",
        "\n",
        "for i in tokenised_documents:\n",
        "    frequency_list.append(Counter(i))\n",
        "\n",
        "pp = pprint.PrettyPrinter(width=200)\n",
        "pp.pprint(frequency_list)"
      ],
      "execution_count": null,
      "outputs": [
        {
          "output_type": "stream",
          "name": "stdout",
          "text": [
            "[Counter({'po': 3, 'mg': 2, 'every': 2, 'klonopin': 1, '025': 1, 'evening': 1, 'fluconazole': 1, '200': 1, 'daily': 1, 'synthroid': 1, '125': 1, 'mcg': 1, 'day': 1}),\n",
            " Counter({'she': 1, 'will': 1, 'not': 1, 'consider': 1, 'switching': 1, 'to': 1, 'clozapine': 1}),\n",
            " Counter({'mg': 2, 'one': 2, 'tab': 2, 'po': 2, 'daily': 2, 'lovastatin': 1, '40': 1, 'half': 1, 'multivitamin': 1, 'metformin': 1, '500': 1, 'twice': 1, 'a': 1, 'day': 1}),\n",
            " Counter({'po': 3, 'once': 3, 'daily': 3, 'mg': 2, 'aspirin': 1, '81': 1, 'zoloft': 1, '25': 1, 'calcium': 1, 'with': 1, 'vitamin': 1, 'd': 1, 'two': 1, 'tablets': 1})]\n"
          ]
        }
      ]
    },
    {
      "cell_type": "markdown",
      "metadata": {
        "id": "cdLrH4iCQqZC"
      },
      "source": [
        "Now let's do the same with SciKitLearn, using the CountVectorizer class\n",
        ". We define a token pattern that excludes numbers, and we also remove english stopwords."
      ]
    },
    {
      "cell_type": "code",
      "metadata": {
        "id": "CFrooygARcsZ",
        "colab": {
          "base_uri": "https://localhost:8080/"
        },
        "outputId": "d088c6d5-a825-4cf9-b37d-1d8f944a7d9e"
      },
      "source": [
        "count_vector = CountVectorizer(input=documents, token_pattern=r'\\b[^\\d\\W]+\\b', stop_words = 'english')\n",
        "print(count_vector)"
      ],
      "execution_count": null,
      "outputs": [
        {
          "output_type": "stream",
          "name": "stdout",
          "text": [
            "CountVectorizer(input=['Klonopin 0.25 mg po every evening, Fluconazole 200 mg '\n",
            "                       'po daily, Synthroid 125 mcg po every day',\n",
            "                       'She will not consider switching to clozapine',\n",
            "                       'lovastatin 40 mg one half tab po daily, multivitamin '\n",
            "                       'daily, metformin 500 mg one tab po twice a day',\n",
            "                       'Aspirin 81 mg po once daily, Zoloft 25 mg po once '\n",
            "                       'daily, Calcium with vitamin D two tablets po once '\n",
            "                       'daily'],\n",
            "                stop_words='english', token_pattern='\\\\b[^\\\\d\\\\W]+\\\\b')\n"
          ]
        }
      ]
    },
    {
      "cell_type": "markdown",
      "source": [
        ""
      ],
      "metadata": {
        "id": "56-qRHHvoEG2"
      }
    },
    {
      "cell_type": "markdown",
      "metadata": {
        "id": "9yhT9wkgRxPP"
      },
      "source": [
        "Now let's run our vectorizer, to make the bag of words. We will print our token features. Note how all punctuation has been removed by default. \n"
      ]
    },
    {
      "cell_type": "code",
      "metadata": {
        "id": "mKUlfKf1UDtV",
        "colab": {
          "base_uri": "https://localhost:8080/"
        },
        "outputId": "f52fa7cd-0574-48f7-a917-c89940782844"
      },
      "source": [
        "count_vector.fit(documents)\n",
        "count_vector.get_feature_names()"
      ],
      "execution_count": null,
      "outputs": [
        {
          "output_type": "stream",
          "name": "stderr",
          "text": [
            "/usr/local/lib/python3.7/dist-packages/sklearn/utils/deprecation.py:87: FutureWarning: Function get_feature_names is deprecated; get_feature_names is deprecated in 1.0 and will be removed in 1.2. Please use get_feature_names_out instead.\n",
            "  warnings.warn(msg, category=FutureWarning)\n"
          ]
        },
        {
          "output_type": "execute_result",
          "data": {
            "text/plain": [
              "['aspirin',\n",
              " 'calcium',\n",
              " 'clozapine',\n",
              " 'consider',\n",
              " 'd',\n",
              " 'daily',\n",
              " 'day',\n",
              " 'evening',\n",
              " 'fluconazole',\n",
              " 'half',\n",
              " 'klonopin',\n",
              " 'lovastatin',\n",
              " 'mcg',\n",
              " 'metformin',\n",
              " 'mg',\n",
              " 'multivitamin',\n",
              " 'po',\n",
              " 'switching',\n",
              " 'synthroid',\n",
              " 'tab',\n",
              " 'tablets',\n",
              " 'twice',\n",
              " 'vitamin',\n",
              " 'zoloft']"
            ]
          },
          "metadata": {},
          "execution_count": 25
        }
      ]
    },
    {
      "cell_type": "markdown",
      "metadata": {
        "id": "0S18RaPkVs7q"
      },
      "source": [
        "Let's transform our  documents in to count vectors and take a look:"
      ]
    },
    {
      "cell_type": "code",
      "metadata": {
        "id": "equrYFb_VtSH",
        "colab": {
          "base_uri": "https://localhost:8080/"
        },
        "outputId": "6d707d42-fdc4-42ba-85a4-eb200fd79621"
      },
      "source": [
        "doc_array = count_vector.transform(documents).toarray()\n",
        "print(doc_array)"
      ],
      "execution_count": null,
      "outputs": [
        {
          "output_type": "stream",
          "name": "stdout",
          "text": [
            "[[0 0 0 0 0 1 1 1 1 0 1 0 1 0 2 0 3 0 1 0 0 0 0 0]\n",
            " [0 0 1 1 0 0 0 0 0 0 0 0 0 0 0 0 0 1 0 0 0 0 0 0]\n",
            " [0 0 0 0 0 2 1 0 0 1 0 1 0 1 2 1 2 0 0 2 0 1 0 0]\n",
            " [1 1 0 0 1 3 0 0 0 0 0 0 0 0 2 0 3 0 0 0 1 0 1 1]]\n"
          ]
        }
      ]
    },
    {
      "cell_type": "markdown",
      "metadata": {
        "id": "mBYfGwX9V7vc"
      },
      "source": [
        "And looking at how this encodes each document against the word dimensions: "
      ]
    },
    {
      "cell_type": "code",
      "metadata": {
        "id": "4N6WD7ulV8Cs",
        "colab": {
          "base_uri": "https://localhost:8080/",
          "height": 355
        },
        "outputId": "1911bb8e-5727-4250-fd5d-ebaf605db889"
      },
      "source": [
        "frequency_matrix = pd.DataFrame(doc_array,index=documents,columns=count_vector.get_feature_names())\n",
        "frequency_matrix"
      ],
      "execution_count": null,
      "outputs": [
        {
          "output_type": "stream",
          "name": "stderr",
          "text": [
            "/usr/local/lib/python3.7/dist-packages/sklearn/utils/deprecation.py:87: FutureWarning: Function get_feature_names is deprecated; get_feature_names is deprecated in 1.0 and will be removed in 1.2. Please use get_feature_names_out instead.\n",
            "  warnings.warn(msg, category=FutureWarning)\n"
          ]
        },
        {
          "output_type": "execute_result",
          "data": {
            "text/plain": [
              "                                                    aspirin  calcium  \\\n",
              "Klonopin 0.25 mg po every evening, Fluconazole ...        0        0   \n",
              "She will not consider switching to clozapine              0        0   \n",
              "lovastatin 40 mg one half tab po daily, multivi...        0        0   \n",
              "Aspirin 81 mg po once daily, Zoloft 25 mg po on...        1        1   \n",
              "\n",
              "                                                    clozapine  consider  d  \\\n",
              "Klonopin 0.25 mg po every evening, Fluconazole ...          0         0  0   \n",
              "She will not consider switching to clozapine                1         1  0   \n",
              "lovastatin 40 mg one half tab po daily, multivi...          0         0  0   \n",
              "Aspirin 81 mg po once daily, Zoloft 25 mg po on...          0         0  1   \n",
              "\n",
              "                                                    daily  day  evening  \\\n",
              "Klonopin 0.25 mg po every evening, Fluconazole ...      1    1        1   \n",
              "She will not consider switching to clozapine            0    0        0   \n",
              "lovastatin 40 mg one half tab po daily, multivi...      2    1        0   \n",
              "Aspirin 81 mg po once daily, Zoloft 25 mg po on...      3    0        0   \n",
              "\n",
              "                                                    fluconazole  half  ...  \\\n",
              "Klonopin 0.25 mg po every evening, Fluconazole ...            1     0  ...   \n",
              "She will not consider switching to clozapine                  0     0  ...   \n",
              "lovastatin 40 mg one half tab po daily, multivi...            0     1  ...   \n",
              "Aspirin 81 mg po once daily, Zoloft 25 mg po on...            0     0  ...   \n",
              "\n",
              "                                                    mg  multivitamin  po  \\\n",
              "Klonopin 0.25 mg po every evening, Fluconazole ...   2             0   3   \n",
              "She will not consider switching to clozapine         0             0   0   \n",
              "lovastatin 40 mg one half tab po daily, multivi...   2             1   2   \n",
              "Aspirin 81 mg po once daily, Zoloft 25 mg po on...   2             0   3   \n",
              "\n",
              "                                                    switching  synthroid  tab  \\\n",
              "Klonopin 0.25 mg po every evening, Fluconazole ...          0          1    0   \n",
              "She will not consider switching to clozapine                1          0    0   \n",
              "lovastatin 40 mg one half tab po daily, multivi...          0          0    2   \n",
              "Aspirin 81 mg po once daily, Zoloft 25 mg po on...          0          0    0   \n",
              "\n",
              "                                                    tablets  twice  vitamin  \\\n",
              "Klonopin 0.25 mg po every evening, Fluconazole ...        0      0        0   \n",
              "She will not consider switching to clozapine              0      0        0   \n",
              "lovastatin 40 mg one half tab po daily, multivi...        0      1        0   \n",
              "Aspirin 81 mg po once daily, Zoloft 25 mg po on...        1      0        1   \n",
              "\n",
              "                                                    zoloft  \n",
              "Klonopin 0.25 mg po every evening, Fluconazole ...       0  \n",
              "She will not consider switching to clozapine             0  \n",
              "lovastatin 40 mg one half tab po daily, multivi...       0  \n",
              "Aspirin 81 mg po once daily, Zoloft 25 mg po on...       1  \n",
              "\n",
              "[4 rows x 24 columns]"
            ],
            "text/html": [
              "\n",
              "  <div id=\"df-1cf2d2f3-e876-44ad-8bcb-372e70b05c95\">\n",
              "    <div class=\"colab-df-container\">\n",
              "      <div>\n",
              "<style scoped>\n",
              "    .dataframe tbody tr th:only-of-type {\n",
              "        vertical-align: middle;\n",
              "    }\n",
              "\n",
              "    .dataframe tbody tr th {\n",
              "        vertical-align: top;\n",
              "    }\n",
              "\n",
              "    .dataframe thead th {\n",
              "        text-align: right;\n",
              "    }\n",
              "</style>\n",
              "<table border=\"1\" class=\"dataframe\">\n",
              "  <thead>\n",
              "    <tr style=\"text-align: right;\">\n",
              "      <th></th>\n",
              "      <th>aspirin</th>\n",
              "      <th>calcium</th>\n",
              "      <th>clozapine</th>\n",
              "      <th>consider</th>\n",
              "      <th>d</th>\n",
              "      <th>daily</th>\n",
              "      <th>day</th>\n",
              "      <th>evening</th>\n",
              "      <th>fluconazole</th>\n",
              "      <th>half</th>\n",
              "      <th>...</th>\n",
              "      <th>mg</th>\n",
              "      <th>multivitamin</th>\n",
              "      <th>po</th>\n",
              "      <th>switching</th>\n",
              "      <th>synthroid</th>\n",
              "      <th>tab</th>\n",
              "      <th>tablets</th>\n",
              "      <th>twice</th>\n",
              "      <th>vitamin</th>\n",
              "      <th>zoloft</th>\n",
              "    </tr>\n",
              "  </thead>\n",
              "  <tbody>\n",
              "    <tr>\n",
              "      <th>Klonopin 0.25 mg po every evening, Fluconazole 200 mg po daily, Synthroid 125 mcg po every day</th>\n",
              "      <td>0</td>\n",
              "      <td>0</td>\n",
              "      <td>0</td>\n",
              "      <td>0</td>\n",
              "      <td>0</td>\n",
              "      <td>1</td>\n",
              "      <td>1</td>\n",
              "      <td>1</td>\n",
              "      <td>1</td>\n",
              "      <td>0</td>\n",
              "      <td>...</td>\n",
              "      <td>2</td>\n",
              "      <td>0</td>\n",
              "      <td>3</td>\n",
              "      <td>0</td>\n",
              "      <td>1</td>\n",
              "      <td>0</td>\n",
              "      <td>0</td>\n",
              "      <td>0</td>\n",
              "      <td>0</td>\n",
              "      <td>0</td>\n",
              "    </tr>\n",
              "    <tr>\n",
              "      <th>She will not consider switching to clozapine</th>\n",
              "      <td>0</td>\n",
              "      <td>0</td>\n",
              "      <td>1</td>\n",
              "      <td>1</td>\n",
              "      <td>0</td>\n",
              "      <td>0</td>\n",
              "      <td>0</td>\n",
              "      <td>0</td>\n",
              "      <td>0</td>\n",
              "      <td>0</td>\n",
              "      <td>...</td>\n",
              "      <td>0</td>\n",
              "      <td>0</td>\n",
              "      <td>0</td>\n",
              "      <td>1</td>\n",
              "      <td>0</td>\n",
              "      <td>0</td>\n",
              "      <td>0</td>\n",
              "      <td>0</td>\n",
              "      <td>0</td>\n",
              "      <td>0</td>\n",
              "    </tr>\n",
              "    <tr>\n",
              "      <th>lovastatin 40 mg one half tab po daily, multivitamin daily, metformin 500 mg one tab po twice a day</th>\n",
              "      <td>0</td>\n",
              "      <td>0</td>\n",
              "      <td>0</td>\n",
              "      <td>0</td>\n",
              "      <td>0</td>\n",
              "      <td>2</td>\n",
              "      <td>1</td>\n",
              "      <td>0</td>\n",
              "      <td>0</td>\n",
              "      <td>1</td>\n",
              "      <td>...</td>\n",
              "      <td>2</td>\n",
              "      <td>1</td>\n",
              "      <td>2</td>\n",
              "      <td>0</td>\n",
              "      <td>0</td>\n",
              "      <td>2</td>\n",
              "      <td>0</td>\n",
              "      <td>1</td>\n",
              "      <td>0</td>\n",
              "      <td>0</td>\n",
              "    </tr>\n",
              "    <tr>\n",
              "      <th>Aspirin 81 mg po once daily, Zoloft 25 mg po once daily, Calcium with vitamin D two tablets po once daily</th>\n",
              "      <td>1</td>\n",
              "      <td>1</td>\n",
              "      <td>0</td>\n",
              "      <td>0</td>\n",
              "      <td>1</td>\n",
              "      <td>3</td>\n",
              "      <td>0</td>\n",
              "      <td>0</td>\n",
              "      <td>0</td>\n",
              "      <td>0</td>\n",
              "      <td>...</td>\n",
              "      <td>2</td>\n",
              "      <td>0</td>\n",
              "      <td>3</td>\n",
              "      <td>0</td>\n",
              "      <td>0</td>\n",
              "      <td>0</td>\n",
              "      <td>1</td>\n",
              "      <td>0</td>\n",
              "      <td>1</td>\n",
              "      <td>1</td>\n",
              "    </tr>\n",
              "  </tbody>\n",
              "</table>\n",
              "<p>4 rows × 24 columns</p>\n",
              "</div>\n",
              "      <button class=\"colab-df-convert\" onclick=\"convertToInteractive('df-1cf2d2f3-e876-44ad-8bcb-372e70b05c95')\"\n",
              "              title=\"Convert this dataframe to an interactive table.\"\n",
              "              style=\"display:none;\">\n",
              "        \n",
              "  <svg xmlns=\"http://www.w3.org/2000/svg\" height=\"24px\"viewBox=\"0 0 24 24\"\n",
              "       width=\"24px\">\n",
              "    <path d=\"M0 0h24v24H0V0z\" fill=\"none\"/>\n",
              "    <path d=\"M18.56 5.44l.94 2.06.94-2.06 2.06-.94-2.06-.94-.94-2.06-.94 2.06-2.06.94zm-11 1L8.5 8.5l.94-2.06 2.06-.94-2.06-.94L8.5 2.5l-.94 2.06-2.06.94zm10 10l.94 2.06.94-2.06 2.06-.94-2.06-.94-.94-2.06-.94 2.06-2.06.94z\"/><path d=\"M17.41 7.96l-1.37-1.37c-.4-.4-.92-.59-1.43-.59-.52 0-1.04.2-1.43.59L10.3 9.45l-7.72 7.72c-.78.78-.78 2.05 0 2.83L4 21.41c.39.39.9.59 1.41.59.51 0 1.02-.2 1.41-.59l7.78-7.78 2.81-2.81c.8-.78.8-2.07 0-2.86zM5.41 20L4 18.59l7.72-7.72 1.47 1.35L5.41 20z\"/>\n",
              "  </svg>\n",
              "      </button>\n",
              "      \n",
              "  <style>\n",
              "    .colab-df-container {\n",
              "      display:flex;\n",
              "      flex-wrap:wrap;\n",
              "      gap: 12px;\n",
              "    }\n",
              "\n",
              "    .colab-df-convert {\n",
              "      background-color: #E8F0FE;\n",
              "      border: none;\n",
              "      border-radius: 50%;\n",
              "      cursor: pointer;\n",
              "      display: none;\n",
              "      fill: #1967D2;\n",
              "      height: 32px;\n",
              "      padding: 0 0 0 0;\n",
              "      width: 32px;\n",
              "    }\n",
              "\n",
              "    .colab-df-convert:hover {\n",
              "      background-color: #E2EBFA;\n",
              "      box-shadow: 0px 1px 2px rgba(60, 64, 67, 0.3), 0px 1px 3px 1px rgba(60, 64, 67, 0.15);\n",
              "      fill: #174EA6;\n",
              "    }\n",
              "\n",
              "    [theme=dark] .colab-df-convert {\n",
              "      background-color: #3B4455;\n",
              "      fill: #D2E3FC;\n",
              "    }\n",
              "\n",
              "    [theme=dark] .colab-df-convert:hover {\n",
              "      background-color: #434B5C;\n",
              "      box-shadow: 0px 1px 3px 1px rgba(0, 0, 0, 0.15);\n",
              "      filter: drop-shadow(0px 1px 2px rgba(0, 0, 0, 0.3));\n",
              "      fill: #FFFFFF;\n",
              "    }\n",
              "  </style>\n",
              "\n",
              "      <script>\n",
              "        const buttonEl =\n",
              "          document.querySelector('#df-1cf2d2f3-e876-44ad-8bcb-372e70b05c95 button.colab-df-convert');\n",
              "        buttonEl.style.display =\n",
              "          google.colab.kernel.accessAllowed ? 'block' : 'none';\n",
              "\n",
              "        async function convertToInteractive(key) {\n",
              "          const element = document.querySelector('#df-1cf2d2f3-e876-44ad-8bcb-372e70b05c95');\n",
              "          const dataTable =\n",
              "            await google.colab.kernel.invokeFunction('convertToInteractive',\n",
              "                                                     [key], {});\n",
              "          if (!dataTable) return;\n",
              "\n",
              "          const docLinkHtml = 'Like what you see? Visit the ' +\n",
              "            '<a target=\"_blank\" href=https://colab.research.google.com/notebooks/data_table.ipynb>data table notebook</a>'\n",
              "            + ' to learn more about interactive tables.';\n",
              "          element.innerHTML = '';\n",
              "          dataTable['output_type'] = 'display_data';\n",
              "          await google.colab.output.renderOutput(dataTable, element);\n",
              "          const docLink = document.createElement('div');\n",
              "          docLink.innerHTML = docLinkHtml;\n",
              "          element.appendChild(docLink);\n",
              "        }\n",
              "      </script>\n",
              "    </div>\n",
              "  </div>\n",
              "  "
            ]
          },
          "metadata": {},
          "execution_count": 27
        }
      ]
    },
    {
      "cell_type": "markdown",
      "metadata": {
        "id": "6NqxYyHdWZX4"
      },
      "source": [
        "We can spot the difference between our documents. To imagine what it would look like if we plotted these in a multidimensional space, with one dimension for each word in our vocabulary, let's restrict our vocabulary to just three of the words for now."
      ]
    },
    {
      "cell_type": "code",
      "metadata": {
        "id": "Qp5XuPFPWZyr",
        "colab": {
          "base_uri": "https://localhost:8080/",
          "height": 230
        },
        "outputId": "30fdc706-c45e-4770-cc73-ed28c98f7b81"
      },
      "source": [
        "count_vector = CountVectorizer(input=documents, token_pattern=r'\\b[^\\d\\W]+\\b', stop_words = 'english', vocabulary=['daily','mg','po'])\n",
        "count_vector.fit(documents)\n",
        "doc_array = count_vector.transform(documents).toarray()\n",
        "frequency_matrix = pd.DataFrame(doc_array,index=documents,columns=count_vector.get_feature_names())\n",
        "frequency_matrix"
      ],
      "execution_count": null,
      "outputs": [
        {
          "output_type": "stream",
          "name": "stderr",
          "text": [
            "/usr/local/lib/python3.7/dist-packages/sklearn/utils/deprecation.py:87: FutureWarning: Function get_feature_names is deprecated; get_feature_names is deprecated in 1.0 and will be removed in 1.2. Please use get_feature_names_out instead.\n",
            "  warnings.warn(msg, category=FutureWarning)\n"
          ]
        },
        {
          "output_type": "execute_result",
          "data": {
            "text/plain": [
              "                                                    daily  mg  po\n",
              "Klonopin 0.25 mg po every evening, Fluconazole ...      1   2   3\n",
              "She will not consider switching to clozapine            0   0   0\n",
              "lovastatin 40 mg one half tab po daily, multivi...      2   2   2\n",
              "Aspirin 81 mg po once daily, Zoloft 25 mg po on...      3   2   3"
            ],
            "text/html": [
              "\n",
              "  <div id=\"df-28371ea8-97c4-4042-b068-584cc5e36d9b\">\n",
              "    <div class=\"colab-df-container\">\n",
              "      <div>\n",
              "<style scoped>\n",
              "    .dataframe tbody tr th:only-of-type {\n",
              "        vertical-align: middle;\n",
              "    }\n",
              "\n",
              "    .dataframe tbody tr th {\n",
              "        vertical-align: top;\n",
              "    }\n",
              "\n",
              "    .dataframe thead th {\n",
              "        text-align: right;\n",
              "    }\n",
              "</style>\n",
              "<table border=\"1\" class=\"dataframe\">\n",
              "  <thead>\n",
              "    <tr style=\"text-align: right;\">\n",
              "      <th></th>\n",
              "      <th>daily</th>\n",
              "      <th>mg</th>\n",
              "      <th>po</th>\n",
              "    </tr>\n",
              "  </thead>\n",
              "  <tbody>\n",
              "    <tr>\n",
              "      <th>Klonopin 0.25 mg po every evening, Fluconazole 200 mg po daily, Synthroid 125 mcg po every day</th>\n",
              "      <td>1</td>\n",
              "      <td>2</td>\n",
              "      <td>3</td>\n",
              "    </tr>\n",
              "    <tr>\n",
              "      <th>She will not consider switching to clozapine</th>\n",
              "      <td>0</td>\n",
              "      <td>0</td>\n",
              "      <td>0</td>\n",
              "    </tr>\n",
              "    <tr>\n",
              "      <th>lovastatin 40 mg one half tab po daily, multivitamin daily, metformin 500 mg one tab po twice a day</th>\n",
              "      <td>2</td>\n",
              "      <td>2</td>\n",
              "      <td>2</td>\n",
              "    </tr>\n",
              "    <tr>\n",
              "      <th>Aspirin 81 mg po once daily, Zoloft 25 mg po once daily, Calcium with vitamin D two tablets po once daily</th>\n",
              "      <td>3</td>\n",
              "      <td>2</td>\n",
              "      <td>3</td>\n",
              "    </tr>\n",
              "  </tbody>\n",
              "</table>\n",
              "</div>\n",
              "      <button class=\"colab-df-convert\" onclick=\"convertToInteractive('df-28371ea8-97c4-4042-b068-584cc5e36d9b')\"\n",
              "              title=\"Convert this dataframe to an interactive table.\"\n",
              "              style=\"display:none;\">\n",
              "        \n",
              "  <svg xmlns=\"http://www.w3.org/2000/svg\" height=\"24px\"viewBox=\"0 0 24 24\"\n",
              "       width=\"24px\">\n",
              "    <path d=\"M0 0h24v24H0V0z\" fill=\"none\"/>\n",
              "    <path d=\"M18.56 5.44l.94 2.06.94-2.06 2.06-.94-2.06-.94-.94-2.06-.94 2.06-2.06.94zm-11 1L8.5 8.5l.94-2.06 2.06-.94-2.06-.94L8.5 2.5l-.94 2.06-2.06.94zm10 10l.94 2.06.94-2.06 2.06-.94-2.06-.94-.94-2.06-.94 2.06-2.06.94z\"/><path d=\"M17.41 7.96l-1.37-1.37c-.4-.4-.92-.59-1.43-.59-.52 0-1.04.2-1.43.59L10.3 9.45l-7.72 7.72c-.78.78-.78 2.05 0 2.83L4 21.41c.39.39.9.59 1.41.59.51 0 1.02-.2 1.41-.59l7.78-7.78 2.81-2.81c.8-.78.8-2.07 0-2.86zM5.41 20L4 18.59l7.72-7.72 1.47 1.35L5.41 20z\"/>\n",
              "  </svg>\n",
              "      </button>\n",
              "      \n",
              "  <style>\n",
              "    .colab-df-container {\n",
              "      display:flex;\n",
              "      flex-wrap:wrap;\n",
              "      gap: 12px;\n",
              "    }\n",
              "\n",
              "    .colab-df-convert {\n",
              "      background-color: #E8F0FE;\n",
              "      border: none;\n",
              "      border-radius: 50%;\n",
              "      cursor: pointer;\n",
              "      display: none;\n",
              "      fill: #1967D2;\n",
              "      height: 32px;\n",
              "      padding: 0 0 0 0;\n",
              "      width: 32px;\n",
              "    }\n",
              "\n",
              "    .colab-df-convert:hover {\n",
              "      background-color: #E2EBFA;\n",
              "      box-shadow: 0px 1px 2px rgba(60, 64, 67, 0.3), 0px 1px 3px 1px rgba(60, 64, 67, 0.15);\n",
              "      fill: #174EA6;\n",
              "    }\n",
              "\n",
              "    [theme=dark] .colab-df-convert {\n",
              "      background-color: #3B4455;\n",
              "      fill: #D2E3FC;\n",
              "    }\n",
              "\n",
              "    [theme=dark] .colab-df-convert:hover {\n",
              "      background-color: #434B5C;\n",
              "      box-shadow: 0px 1px 3px 1px rgba(0, 0, 0, 0.15);\n",
              "      filter: drop-shadow(0px 1px 2px rgba(0, 0, 0, 0.3));\n",
              "      fill: #FFFFFF;\n",
              "    }\n",
              "  </style>\n",
              "\n",
              "      <script>\n",
              "        const buttonEl =\n",
              "          document.querySelector('#df-28371ea8-97c4-4042-b068-584cc5e36d9b button.colab-df-convert');\n",
              "        buttonEl.style.display =\n",
              "          google.colab.kernel.accessAllowed ? 'block' : 'none';\n",
              "\n",
              "        async function convertToInteractive(key) {\n",
              "          const element = document.querySelector('#df-28371ea8-97c4-4042-b068-584cc5e36d9b');\n",
              "          const dataTable =\n",
              "            await google.colab.kernel.invokeFunction('convertToInteractive',\n",
              "                                                     [key], {});\n",
              "          if (!dataTable) return;\n",
              "\n",
              "          const docLinkHtml = 'Like what you see? Visit the ' +\n",
              "            '<a target=\"_blank\" href=https://colab.research.google.com/notebooks/data_table.ipynb>data table notebook</a>'\n",
              "            + ' to learn more about interactive tables.';\n",
              "          element.innerHTML = '';\n",
              "          dataTable['output_type'] = 'display_data';\n",
              "          await google.colab.output.renderOutput(dataTable, element);\n",
              "          const docLink = document.createElement('div');\n",
              "          docLink.innerHTML = docLinkHtml;\n",
              "          element.appendChild(docLink);\n",
              "        }\n",
              "      </script>\n",
              "    </div>\n",
              "  </div>\n",
              "  "
            ]
          },
          "metadata": {},
          "execution_count": 28
        }
      ]
    },
    {
      "cell_type": "markdown",
      "metadata": {
        "id": "W3QidNK8CyfY"
      },
      "source": [
        "Our plotting module needs one array for  each of our three dimensions, instead of one for each document:"
      ]
    },
    {
      "cell_type": "code",
      "metadata": {
        "id": "Gr2FoZP0CzdO",
        "colab": {
          "base_uri": "https://localhost:8080/"
        },
        "outputId": "61d1bdb0-c6a4-45fb-e029-ac09d7a55e8d"
      },
      "source": [
        "rotated = list(zip(*doc_array[::-1]))\n",
        "print(rotated)"
      ],
      "execution_count": null,
      "outputs": [
        {
          "output_type": "stream",
          "name": "stdout",
          "text": [
            "[(3, 2, 0, 1), (2, 2, 0, 2), (3, 2, 0, 3)]\n"
          ]
        }
      ]
    },
    {
      "cell_type": "markdown",
      "metadata": {
        "id": "_5nPWRh1Dkss"
      },
      "source": [
        "And now the plot:"
      ]
    },
    {
      "cell_type": "code",
      "metadata": {
        "id": "RqzBxex3DlfM",
        "colab": {
          "base_uri": "https://localhost:8080/",
          "height": 265
        },
        "outputId": "72a5aa13-1fb3-4a6b-cd6d-b73e50445aa4"
      },
      "source": [
        "import matplotlib.pyplot as plt\n",
        "from mpl_toolkits.mplot3d import Axes3D\n",
        "fig = plt.figure()\n",
        "ax = fig.add_subplot(111, projection='3d')\n",
        "z,x,y = rotated\n",
        "ax.scatter(list(x), list(y), list(z), zdir='z', c= 'red')"
      ],
      "execution_count": null,
      "outputs": [
        {
          "output_type": "execute_result",
          "data": {
            "text/plain": [
              "<mpl_toolkits.mplot3d.art3d.Path3DCollection at 0x7f5e9e74fdd0>"
            ]
          },
          "metadata": {},
          "execution_count": 30
        },
        {
          "output_type": "display_data",
          "data": {
            "text/plain": [
              "<Figure size 432x288 with 1 Axes>"
            ],
            "image/png": "[encoded data removed]"
          },
          "metadata": {
            "needs_background": "light"
          }
        }
      ]
    }
  ]
}