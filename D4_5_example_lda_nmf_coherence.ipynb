{
  "cells": [
    {
      "cell_type": "markdown",
      "metadata": {
        "id": "view-in-github",
        "colab_type": "text"
      },
      "source": [
        "<a href=\"https://colab.research.google.com/github/kai-lim/NLP_course/blob/main/D4_5_example_lda_nmf_coherence.ipynb\" target=\"_parent\"><img src=\"https://colab.research.google.com/assets/colab-badge.svg\" alt=\"Open In Colab\"/></a>"
      ]
    },
    {
      "cell_type": "markdown",
      "metadata": {
        "id": "TpjsHV_sLTEr"
      },
      "source": [
        "# Topic modeling example\n",
        "\n",
        "This exercise introduces topic modeling using the LDA (Latent Dirichlet Allocation) algorithm and the Non-negative Matrix Factorisation (NMF) algorithm.\n",
        "\n",
        "Topic modeling is an unsupervised approach that allows you to explore large text collections.\n",
        "\n",
        "In this example, we use the gensim LDA and pyLDAvis implementations for one type of analysis, as well as the sklearn implementations of LDA and NMF to look at how the models relate to categories in the data. \n",
        "\n",
        "The main packages that are used in this example are:\n",
        "\n",
        "nltk: http://www.nltk.org/ - for preprocessing\n",
        "\n",
        "gensim: https://radimrehurek.com/gensim/ - for building the LDA model\n",
        "\n",
        "pyLDAvis: https://github.com/bmabey/pyLDAvis - for visualization and easier exploration of the generated topics\n",
        "\n",
        "sklearn: https://scikit-learn.org/stable/, https://scikit-learn.org/stable/modules/decomposition.html#nmf - for building LDA and NMF models\n",
        "\n",
        "The example is inspired by, and uses functions from: http://nbviewer.jupyter.org/github/bmabey/pyLDAvis/blob/master/notebooks/Gensim%20Newsgroup.ipynb\n",
        "and\n",
        "https://github.com/derekgreene/topic-model-tutorial/blob/master/2%20-%20NMF%20Topic%20Models.ipynb\n",
        "\n",
        "Written by: Sumithra Velupillai, with input from Sonia Priou, February 2019 "
      ]
    },
    {
      "cell_type": "code",
      "execution_count": null,
      "metadata": {
        "id": "EtmTjyU3LTE2",
        "colab": {
          "base_uri": "https://localhost:8080/"
        },
        "outputId": "50aa4869-5375-449d-f402-15eeb5bcee64"
      },
      "outputs": [
        {
          "output_type": "stream",
          "name": "stdout",
          "text": [
            "Looking in indexes: https://pypi.org/simple, https://us-python.pkg.dev/colab-wheels/public/simple/\n",
            "Collecting pyLDAvis==2.1.2\n",
            "  Downloading pyLDAvis-2.1.2.tar.gz (1.6 MB)\n",
            "\u001b[K     |████████████████████████████████| 1.6 MB 4.7 MB/s \n",
            "\u001b[?25hRequirement already satisfied: wheel>=0.23.0 in /usr/local/lib/python3.7/dist-packages (from pyLDAvis==2.1.2) (0.37.1)\n",
            "Requirement already satisfied: numpy>=1.9.2 in /usr/local/lib/python3.7/dist-packages (from pyLDAvis==2.1.2) (1.21.6)\n",
            "Requirement already satisfied: scipy>=0.18.0 in /usr/local/lib/python3.7/dist-packages (from pyLDAvis==2.1.2) (1.4.1)\n",
            "Requirement already satisfied: pandas>=0.17.0 in /usr/local/lib/python3.7/dist-packages (from pyLDAvis==2.1.2) (1.3.5)\n",
            "Requirement already satisfied: joblib>=0.8.4 in /usr/local/lib/python3.7/dist-packages (from pyLDAvis==2.1.2) (1.1.0)\n",
            "Requirement already satisfied: jinja2>=2.7.2 in /usr/local/lib/python3.7/dist-packages (from pyLDAvis==2.1.2) (2.11.3)\n",
            "Requirement already satisfied: numexpr in /usr/local/lib/python3.7/dist-packages (from pyLDAvis==2.1.2) (2.8.1)\n",
            "Requirement already satisfied: pytest in /usr/local/lib/python3.7/dist-packages (from pyLDAvis==2.1.2) (3.6.4)\n",
            "Requirement already satisfied: future in /usr/local/lib/python3.7/dist-packages (from pyLDAvis==2.1.2) (0.16.0)\n",
            "Collecting funcy\n",
            "  Downloading funcy-1.17-py2.py3-none-any.whl (33 kB)\n",
            "Requirement already satisfied: MarkupSafe>=0.23 in /usr/local/lib/python3.7/dist-packages (from jinja2>=2.7.2->pyLDAvis==2.1.2) (2.0.1)\n",
            "Requirement already satisfied: python-dateutil>=2.7.3 in /usr/local/lib/python3.7/dist-packages (from pandas>=0.17.0->pyLDAvis==2.1.2) (2.8.2)\n",
            "Requirement already satisfied: pytz>=2017.3 in /usr/local/lib/python3.7/dist-packages (from pandas>=0.17.0->pyLDAvis==2.1.2) (2022.1)\n",
            "Requirement already satisfied: six>=1.5 in /usr/local/lib/python3.7/dist-packages (from python-dateutil>=2.7.3->pandas>=0.17.0->pyLDAvis==2.1.2) (1.15.0)\n",
            "Requirement already satisfied: packaging in /usr/local/lib/python3.7/dist-packages (from numexpr->pyLDAvis==2.1.2) (21.3)\n",
            "Requirement already satisfied: pyparsing!=3.0.5,>=2.0.2 in /usr/local/lib/python3.7/dist-packages (from packaging->numexpr->pyLDAvis==2.1.2) (3.0.9)\n",
            "Requirement already satisfied: py>=1.5.0 in /usr/local/lib/python3.7/dist-packages (from pytest->pyLDAvis==2.1.2) (1.11.0)\n",
            "Requirement already satisfied: more-itertools>=4.0.0 in /usr/local/lib/python3.7/dist-packages (from pytest->pyLDAvis==2.1.2) (8.13.0)\n",
            "Requirement already satisfied: atomicwrites>=1.0 in /usr/local/lib/python3.7/dist-packages (from pytest->pyLDAvis==2.1.2) (1.4.0)\n",
            "Requirement already satisfied: attrs>=17.4.0 in /usr/local/lib/python3.7/dist-packages (from pytest->pyLDAvis==2.1.2) (21.4.0)\n",
            "Requirement already satisfied: pluggy<0.8,>=0.5 in /usr/local/lib/python3.7/dist-packages (from pytest->pyLDAvis==2.1.2) (0.7.1)\n",
            "Requirement already satisfied: setuptools in /usr/local/lib/python3.7/dist-packages (from pytest->pyLDAvis==2.1.2) (57.4.0)\n",
            "Building wheels for collected packages: pyLDAvis\n",
            "  Building wheel for pyLDAvis (setup.py) ... \u001b[?25l\u001b[?25hdone\n",
            "  Created wheel for pyLDAvis: filename=pyLDAvis-2.1.2-py2.py3-none-any.whl size=97738 sha256=29e247eb355699f5fc2f2ea23b3f5a91abb8cb2ae56c4bcde9dcb6c60cbc02fb\n",
            "  Stored in directory: /root/.cache/pip/wheels/3b/fb/41/e32e5312da9f440d34c4eff0d2207b46dc9332a7b931ef1e89\n",
            "Successfully built pyLDAvis\n",
            "Installing collected packages: funcy, pyLDAvis\n",
            "Successfully installed funcy-1.17 pyLDAvis-2.1.2\n",
            "[nltk_data] Downloading package punkt to /root/nltk_data...\n",
            "[nltk_data]   Unzipping tokenizers/punkt.zip.\n",
            "[nltk_data] Downloading package stopwords to /root/nltk_data...\n",
            "[nltk_data]   Unzipping corpora/stopwords.zip.\n"
          ]
        },
        {
          "output_type": "stream",
          "name": "stderr",
          "text": [
            "/usr/local/lib/python3.7/dist-packages/past/types/oldstr.py:5: DeprecationWarning: Using or importing the ABCs from 'collections' instead of from 'collections.abc' is deprecated since Python 3.3,and in 3.9 it will stop working\n",
            "  from collections import Iterable\n"
          ]
        },
        {
          "output_type": "stream",
          "name": "stdout",
          "text": [
            "2022-06-10 11:34:15.604842\n"
          ]
        }
      ],
      "source": [
        "## First we need to import all the necessary packages\n",
        "\n",
        "# There is an incompatibility between the current pyLDAvis and pandas,\n",
        "# we will downgrade to solve it\n",
        "!pip install --upgrade pyLDAvis==2.1.2\n",
        "\n",
        "import string\n",
        "from gensim import models\n",
        "from gensim.corpora import Dictionary, MmCorpus\n",
        "import nltk\n",
        "nltk.download('punkt')\n",
        "nltk.download('stopwords')\n",
        "import itertools\n",
        "import zipfile\n",
        "\n",
        "try:\n",
        "    import pyLDAvis\n",
        "except ImportError as e:\n",
        "    !pip install pyldavis\n",
        "    import pyLDAvis\n",
        "\n",
        "import pyLDAvis.gensim as gensimvis\n",
        "import os\n",
        "import pandas as pd\n",
        "\n",
        "import re\n",
        "import codecs\n",
        "from sklearn.utils import shuffle\n",
        "from sklearn.pipeline import Pipeline\n",
        "from sklearn.feature_extraction.text import CountVectorizer, TfidfTransformer, TfidfVectorizer\n",
        "\n",
        "import numpy as np\n",
        "from sklearn.decomposition import NMF, LatentDirichletAllocation\n",
        "import zipfile\n",
        "\n",
        "import matplotlib.pyplot as plt\n",
        "import seaborn as sns\n",
        "\n",
        "%matplotlib inline\n",
        "\n",
        "import warnings; warnings.simplefilter('ignore')\n",
        "\n",
        "from datetime import datetime\n",
        "print(datetime.now())\n"
      ]
    },
    {
      "cell_type": "markdown",
      "metadata": {
        "id": "OMOIwywkLTE7"
      },
      "source": [
        "# 1: corpus\n",
        "The first step in building a topic model is to read a corpus, or a collection of documents.\n",
        "\n",
        "In this example, we are using documents from http://www.mtsamples.com/. \n",
        "\n",
        "These are transcribed medical transcriptions sample reports and examples from a variety of clinical disciplines, such as radiology, surgery, discharge summaries. Note that one document can belong to several categories. \n",
        "\n",
        "We will save each document, all its words, and which clinical specialty it belongs to, in a dataframe.\n"
      ]
    },
    {
      "cell_type": "code",
      "execution_count": null,
      "metadata": {
        "id": "QVcuUvcDLTE7"
      },
      "outputs": [],
      "source": [
        "xlds = 'https://github.com/KCL-Health-NLP/nlp_examples/blob/master/topic_modelling/mtsamples_for_topic_modelling.xlsx?raw=true'\n",
        "df = pd.read_excel(xlds)"
      ]
    },
    {
      "cell_type": "markdown",
      "metadata": {
        "id": "-3JiDkh2LTE8"
      },
      "source": [
        "How many documents are in the data?"
      ]
    },
    {
      "cell_type": "code",
      "execution_count": null,
      "metadata": {
        "id": "6eegdJcsLTE9",
        "colab": {
          "base_uri": "https://localhost:8080/"
        },
        "outputId": "3ee38e1c-bc4c-4280-ee03-48ded5fe247a"
      },
      "outputs": [
        {
          "output_type": "execute_result",
          "data": {
            "text/plain": [
              "6385"
            ]
          },
          "metadata": {},
          "execution_count": 3
        }
      ],
      "source": [
        "len(df)"
      ]
    },
    {
      "cell_type": "code",
      "source": [
        "df.head()"
      ],
      "metadata": {
        "colab": {
          "base_uri": "https://localhost:8080/",
          "height": 204
        },
        "id": "d0GFCpeIZUW9",
        "outputId": "cd41fdc6-15f0-4425-8f02-8898e8da71cb"
      },
      "execution_count": null,
      "outputs": [
        {
          "output_type": "execute_result",
          "data": {
            "text/plain": [
              "   Unnamed: 0  index                Category  \\\n",
              "0           0      0  100-ent-otolaryngology   \n",
              "1           1      1  100-ent-otolaryngology   \n",
              "2           2      2  100-ent-otolaryngology   \n",
              "3           3      3  100-ent-otolaryngology   \n",
              "4           4      4  100-ent-otolaryngology   \n",
              "\n",
              "                               Document Name  \\\n",
              "0                     1969-tonsillectomy.txt   \n",
              "1            2596-bilateralmyringotomies.txt   \n",
              "2            1019-endoscopicsinussurgery.txt   \n",
              "3  2735-tracheostomythyroidisthmusectomy.txt   \n",
              "4               1469-earlacerationrepair.txt   \n",
              "\n",
              "                                    Document Content  \\\n",
              "0                                  PREOPERATIVE D...   \n",
              "1                                  PREOPERATIVE D...   \n",
              "2                                  PREOPERATIVE D...   \n",
              "3                                  PREOPERATIVE D...   \n",
              "4                                  PREOPERATIVE D...   \n",
              "\n",
              "                                      Document words  \n",
              "0  ['preoperative', 'diagnosis', 'tonsillitispost...  \n",
              "1  ['preoperative', 'diagnoses1', 'recurrent', 'a...  \n",
              "2  ['preoperative', 'diagnosis1', 'left', 'chroni...  \n",
              "3  ['preoperative', 'diagnoses1', 'ventilatordepe...  \n",
              "4  ['preoperative', 'diagnosis', 'bilateral', 'ea...  "
            ],
            "text/html": [
              "\n",
              "  <div id=\"df-88ece5b4-33b3-4f54-9033-bbfd9ff2aeb7\">\n",
              "    <div class=\"colab-df-container\">\n",
              "      <div>\n",
              "<style scoped>\n",
              "    .dataframe tbody tr th:only-of-type {\n",
              "        vertical-align: middle;\n",
              "    }\n",
              "\n",
              "    .dataframe tbody tr th {\n",
              "        vertical-align: top;\n",
              "    }\n",
              "\n",
              "    .dataframe thead th {\n",
              "        text-align: right;\n",
              "    }\n",
              "</style>\n",
              "<table border=\"1\" class=\"dataframe\">\n",
              "  <thead>\n",
              "    <tr style=\"text-align: right;\">\n",
              "      <th></th>\n",
              "      <th>Unnamed: 0</th>\n",
              "      <th>index</th>\n",
              "      <th>Category</th>\n",
              "      <th>Document Name</th>\n",
              "      <th>Document Content</th>\n",
              "      <th>Document words</th>\n",
              "    </tr>\n",
              "  </thead>\n",
              "  <tbody>\n",
              "    <tr>\n",
              "      <th>0</th>\n",
              "      <td>0</td>\n",
              "      <td>0</td>\n",
              "      <td>100-ent-otolaryngology</td>\n",
              "      <td>1969-tonsillectomy.txt</td>\n",
              "      <td>PREOPERATIVE D...</td>\n",
              "      <td>['preoperative', 'diagnosis', 'tonsillitispost...</td>\n",
              "    </tr>\n",
              "    <tr>\n",
              "      <th>1</th>\n",
              "      <td>1</td>\n",
              "      <td>1</td>\n",
              "      <td>100-ent-otolaryngology</td>\n",
              "      <td>2596-bilateralmyringotomies.txt</td>\n",
              "      <td>PREOPERATIVE D...</td>\n",
              "      <td>['preoperative', 'diagnoses1', 'recurrent', 'a...</td>\n",
              "    </tr>\n",
              "    <tr>\n",
              "      <th>2</th>\n",
              "      <td>2</td>\n",
              "      <td>2</td>\n",
              "      <td>100-ent-otolaryngology</td>\n",
              "      <td>1019-endoscopicsinussurgery.txt</td>\n",
              "      <td>PREOPERATIVE D...</td>\n",
              "      <td>['preoperative', 'diagnosis1', 'left', 'chroni...</td>\n",
              "    </tr>\n",
              "    <tr>\n",
              "      <th>3</th>\n",
              "      <td>3</td>\n",
              "      <td>3</td>\n",
              "      <td>100-ent-otolaryngology</td>\n",
              "      <td>2735-tracheostomythyroidisthmusectomy.txt</td>\n",
              "      <td>PREOPERATIVE D...</td>\n",
              "      <td>['preoperative', 'diagnoses1', 'ventilatordepe...</td>\n",
              "    </tr>\n",
              "    <tr>\n",
              "      <th>4</th>\n",
              "      <td>4</td>\n",
              "      <td>4</td>\n",
              "      <td>100-ent-otolaryngology</td>\n",
              "      <td>1469-earlacerationrepair.txt</td>\n",
              "      <td>PREOPERATIVE D...</td>\n",
              "      <td>['preoperative', 'diagnosis', 'bilateral', 'ea...</td>\n",
              "    </tr>\n",
              "  </tbody>\n",
              "</table>\n",
              "</div>\n",
              "      <button class=\"colab-df-convert\" onclick=\"convertToInteractive('df-88ece5b4-33b3-4f54-9033-bbfd9ff2aeb7')\"\n",
              "              title=\"Convert this dataframe to an interactive table.\"\n",
              "              style=\"display:none;\">\n",
              "        \n",
              "  <svg xmlns=\"http://www.w3.org/2000/svg\" height=\"24px\"viewBox=\"0 0 24 24\"\n",
              "       width=\"24px\">\n",
              "    <path d=\"M0 0h24v24H0V0z\" fill=\"none\"/>\n",
              "    <path d=\"M18.56 5.44l.94 2.06.94-2.06 2.06-.94-2.06-.94-.94-2.06-.94 2.06-2.06.94zm-11 1L8.5 8.5l.94-2.06 2.06-.94-2.06-.94L8.5 2.5l-.94 2.06-2.06.94zm10 10l.94 2.06.94-2.06 2.06-.94-2.06-.94-.94-2.06-.94 2.06-2.06.94z\"/><path d=\"M17.41 7.96l-1.37-1.37c-.4-.4-.92-.59-1.43-.59-.52 0-1.04.2-1.43.59L10.3 9.45l-7.72 7.72c-.78.78-.78 2.05 0 2.83L4 21.41c.39.39.9.59 1.41.59.51 0 1.02-.2 1.41-.59l7.78-7.78 2.81-2.81c.8-.78.8-2.07 0-2.86zM5.41 20L4 18.59l7.72-7.72 1.47 1.35L5.41 20z\"/>\n",
              "  </svg>\n",
              "      </button>\n",
              "      \n",
              "  <style>\n",
              "    .colab-df-container {\n",
              "      display:flex;\n",
              "      flex-wrap:wrap;\n",
              "      gap: 12px;\n",
              "    }\n",
              "\n",
              "    .colab-df-convert {\n",
              "      background-color: #E8F0FE;\n",
              "      border: none;\n",
              "      border-radius: 50%;\n",
              "      cursor: pointer;\n",
              "      display: none;\n",
              "      fill: #1967D2;\n",
              "      height: 32px;\n",
              "      padding: 0 0 0 0;\n",
              "      width: 32px;\n",
              "    }\n",
              "\n",
              "    .colab-df-convert:hover {\n",
              "      background-color: #E2EBFA;\n",
              "      box-shadow: 0px 1px 2px rgba(60, 64, 67, 0.3), 0px 1px 3px 1px rgba(60, 64, 67, 0.15);\n",
              "      fill: #174EA6;\n",
              "    }\n",
              "\n",
              "    [theme=dark] .colab-df-convert {\n",
              "      background-color: #3B4455;\n",
              "      fill: #D2E3FC;\n",
              "    }\n",
              "\n",
              "    [theme=dark] .colab-df-convert:hover {\n",
              "      background-color: #434B5C;\n",
              "      box-shadow: 0px 1px 3px 1px rgba(0, 0, 0, 0.15);\n",
              "      filter: drop-shadow(0px 1px 2px rgba(0, 0, 0, 0.3));\n",
              "      fill: #FFFFFF;\n",
              "    }\n",
              "  </style>\n",
              "\n",
              "      <script>\n",
              "        const buttonEl =\n",
              "          document.querySelector('#df-88ece5b4-33b3-4f54-9033-bbfd9ff2aeb7 button.colab-df-convert');\n",
              "        buttonEl.style.display =\n",
              "          google.colab.kernel.accessAllowed ? 'block' : 'none';\n",
              "\n",
              "        async function convertToInteractive(key) {\n",
              "          const element = document.querySelector('#df-88ece5b4-33b3-4f54-9033-bbfd9ff2aeb7');\n",
              "          const dataTable =\n",
              "            await google.colab.kernel.invokeFunction('convertToInteractive',\n",
              "                                                     [key], {});\n",
              "          if (!dataTable) return;\n",
              "\n",
              "          const docLinkHtml = 'Like what you see? Visit the ' +\n",
              "            '<a target=\"_blank\" href=https://colab.research.google.com/notebooks/data_table.ipynb>data table notebook</a>'\n",
              "            + ' to learn more about interactive tables.';\n",
              "          element.innerHTML = '';\n",
              "          dataTable['output_type'] = 'display_data';\n",
              "          await google.colab.output.renderOutput(dataTable, element);\n",
              "          const docLink = document.createElement('div');\n",
              "          docLink.innerHTML = docLinkHtml;\n",
              "          element.appendChild(docLink);\n",
              "        }\n",
              "      </script>\n",
              "    </div>\n",
              "  </div>\n",
              "  "
            ]
          },
          "metadata": {},
          "execution_count": 6
        }
      ]
    },
    {
      "cell_type": "markdown",
      "metadata": {
        "id": "qw1QBpYeLTE9"
      },
      "source": [
        "How many clinical specialties are in the data? "
      ]
    },
    {
      "cell_type": "code",
      "execution_count": null,
      "metadata": {
        "id": "xi_Y3vezLTE-",
        "colab": {
          "base_uri": "https://localhost:8080/"
        },
        "outputId": "826ae1a1-2d4a-4307-e91e-605cfce13331"
      },
      "outputs": [
        {
          "output_type": "execute_result",
          "data": {
            "text/plain": [
              "85-surgery                   1103\n",
              "97-consult                    516\n",
              "97-consult-historyandphy.     516\n",
              "6-cardiovascularpulmonary     372\n",
              "49-orthopedic                 355\n",
              "95-radiology                  273\n",
              "98-generalmedicine            259\n",
              "98-general                    259\n",
              "24-gastroenterology           230\n",
              "42-neurology                  223\n",
              "91-soapchartprogressnotes     166\n",
              "45-obstetricsgynecology       160\n",
              "82-urology                    158\n",
              "89-discharge                  108\n",
              "89-dischargesummary           108\n",
              "100-ent-otolaryngology         98\n",
              "100-ent                        98\n",
              "43-neurosurgery                94\n",
              "96-hematology-oncology         90\n",
              "96-hematology                  90\n",
              "46-ophthalmology               83\n",
              "41-nephrology                  81\n",
              "93-emergency                   75\n",
              "93-emergencyroomreports        75\n",
              "66-pediatrics-neonatal         70\n",
              "66-pediatrics                  70\n",
              "105-pain                       62\n",
              "105-painmanagement             62\n",
              "72-psychiatrypsychology        53\n",
              "87-officenotes                 51\n",
              "87-office                      51\n",
              "71-podiatry                    47\n",
              "18-dermatology                 29\n",
              "17-dentistry                   27\n",
              "70-cosmeticplasticsurgery      27\n",
              "86-letters                     23\n",
              "68-physical                    21\n",
              "68-physicalmedicine-rehab      21\n",
              "78-sleep                       20\n",
              "78-sleepmedicine               20\n",
              "21-endocrinology               19\n",
              "5-bariatrics                   18\n",
              "90-ime-qme-workcompetc.        16\n",
              "90-ime-qme-work                16\n",
              "99-chiropractic                14\n",
              "77-rheumatology                10\n",
              "44-dietsandnutritions          10\n",
              "106-speech-language             9\n",
              "92-labmedicine-pathology        8\n",
              "94-autopsy                      8\n",
              "3-allergyimmunology             7\n",
              "34-hospice-palliativecare       6\n",
              "Name: Category, dtype: int64"
            ]
          },
          "metadata": {},
          "execution_count": 4
        }
      ],
      "source": [
        "df['Category'].value_counts()"
      ]
    },
    {
      "cell_type": "markdown",
      "metadata": {
        "id": "5u4YmszBLTE_"
      },
      "source": [
        "We need to convert the texts to words - let's use a very simple approach"
      ]
    },
    {
      "cell_type": "code",
      "execution_count": null,
      "metadata": {
        "id": "XwgSakJRLTE_"
      },
      "outputs": [],
      "source": [
        "def getWords(row):\n",
        "    \n",
        "    return [''.join(c.lower() for c in s if c not in string.punctuation) for s in nltk.word_tokenize(row)]\n",
        "\n",
        "df['Document words'] = df['Document Content'].apply(getWords)\n"
      ]
    },
    {
      "cell_type": "code",
      "source": [
        "df.head()"
      ],
      "metadata": {
        "colab": {
          "base_uri": "https://localhost:8080/",
          "height": 204
        },
        "id": "oFes8a1lbx1D",
        "outputId": "e6445536-20f6-4b46-b1f5-4fc73e1ad5c9"
      },
      "execution_count": null,
      "outputs": [
        {
          "output_type": "execute_result",
          "data": {
            "text/plain": [
              "   Unnamed: 0  index                Category  \\\n",
              "0           0      0  100-ent-otolaryngology   \n",
              "1           1      1  100-ent-otolaryngology   \n",
              "2           2      2  100-ent-otolaryngology   \n",
              "3           3      3  100-ent-otolaryngology   \n",
              "4           4      4  100-ent-otolaryngology   \n",
              "\n",
              "                               Document Name  \\\n",
              "0                     1969-tonsillectomy.txt   \n",
              "1            2596-bilateralmyringotomies.txt   \n",
              "2            1019-endoscopicsinussurgery.txt   \n",
              "3  2735-tracheostomythyroidisthmusectomy.txt   \n",
              "4               1469-earlacerationrepair.txt   \n",
              "\n",
              "                                    Document Content  \\\n",
              "0                                  PREOPERATIVE D...   \n",
              "1                                  PREOPERATIVE D...   \n",
              "2                                  PREOPERATIVE D...   \n",
              "3                                  PREOPERATIVE D...   \n",
              "4                                  PREOPERATIVE D...   \n",
              "\n",
              "                                      Document words  \n",
              "0  [preoperative, diagnosis, , tonsillitispostope...  \n",
              "1  [preoperative, diagnoses1, , recurrent, acute,...  \n",
              "2  [preoperative, diagnosis1, , left, chronic, an...  \n",
              "3  [preoperative, diagnoses1, , ventilatordepende...  \n",
              "4  [preoperative, diagnosis, , bilateral, ear, la...  "
            ],
            "text/html": [
              "\n",
              "  <div id=\"df-b7f7a5f1-9607-4794-bace-eb784351717d\">\n",
              "    <div class=\"colab-df-container\">\n",
              "      <div>\n",
              "<style scoped>\n",
              "    .dataframe tbody tr th:only-of-type {\n",
              "        vertical-align: middle;\n",
              "    }\n",
              "\n",
              "    .dataframe tbody tr th {\n",
              "        vertical-align: top;\n",
              "    }\n",
              "\n",
              "    .dataframe thead th {\n",
              "        text-align: right;\n",
              "    }\n",
              "</style>\n",
              "<table border=\"1\" class=\"dataframe\">\n",
              "  <thead>\n",
              "    <tr style=\"text-align: right;\">\n",
              "      <th></th>\n",
              "      <th>Unnamed: 0</th>\n",
              "      <th>index</th>\n",
              "      <th>Category</th>\n",
              "      <th>Document Name</th>\n",
              "      <th>Document Content</th>\n",
              "      <th>Document words</th>\n",
              "    </tr>\n",
              "  </thead>\n",
              "  <tbody>\n",
              "    <tr>\n",
              "      <th>0</th>\n",
              "      <td>0</td>\n",
              "      <td>0</td>\n",
              "      <td>100-ent-otolaryngology</td>\n",
              "      <td>1969-tonsillectomy.txt</td>\n",
              "      <td>PREOPERATIVE D...</td>\n",
              "      <td>[preoperative, diagnosis, , tonsillitispostope...</td>\n",
              "    </tr>\n",
              "    <tr>\n",
              "      <th>1</th>\n",
              "      <td>1</td>\n",
              "      <td>1</td>\n",
              "      <td>100-ent-otolaryngology</td>\n",
              "      <td>2596-bilateralmyringotomies.txt</td>\n",
              "      <td>PREOPERATIVE D...</td>\n",
              "      <td>[preoperative, diagnoses1, , recurrent, acute,...</td>\n",
              "    </tr>\n",
              "    <tr>\n",
              "      <th>2</th>\n",
              "      <td>2</td>\n",
              "      <td>2</td>\n",
              "      <td>100-ent-otolaryngology</td>\n",
              "      <td>1019-endoscopicsinussurgery.txt</td>\n",
              "      <td>PREOPERATIVE D...</td>\n",
              "      <td>[preoperative, diagnosis1, , left, chronic, an...</td>\n",
              "    </tr>\n",
              "    <tr>\n",
              "      <th>3</th>\n",
              "      <td>3</td>\n",
              "      <td>3</td>\n",
              "      <td>100-ent-otolaryngology</td>\n",
              "      <td>2735-tracheostomythyroidisthmusectomy.txt</td>\n",
              "      <td>PREOPERATIVE D...</td>\n",
              "      <td>[preoperative, diagnoses1, , ventilatordepende...</td>\n",
              "    </tr>\n",
              "    <tr>\n",
              "      <th>4</th>\n",
              "      <td>4</td>\n",
              "      <td>4</td>\n",
              "      <td>100-ent-otolaryngology</td>\n",
              "      <td>1469-earlacerationrepair.txt</td>\n",
              "      <td>PREOPERATIVE D...</td>\n",
              "      <td>[preoperative, diagnosis, , bilateral, ear, la...</td>\n",
              "    </tr>\n",
              "  </tbody>\n",
              "</table>\n",
              "</div>\n",
              "      <button class=\"colab-df-convert\" onclick=\"convertToInteractive('df-b7f7a5f1-9607-4794-bace-eb784351717d')\"\n",
              "              title=\"Convert this dataframe to an interactive table.\"\n",
              "              style=\"display:none;\">\n",
              "        \n",
              "  <svg xmlns=\"http://www.w3.org/2000/svg\" height=\"24px\"viewBox=\"0 0 24 24\"\n",
              "       width=\"24px\">\n",
              "    <path d=\"M0 0h24v24H0V0z\" fill=\"none\"/>\n",
              "    <path d=\"M18.56 5.44l.94 2.06.94-2.06 2.06-.94-2.06-.94-.94-2.06-.94 2.06-2.06.94zm-11 1L8.5 8.5l.94-2.06 2.06-.94-2.06-.94L8.5 2.5l-.94 2.06-2.06.94zm10 10l.94 2.06.94-2.06 2.06-.94-2.06-.94-.94-2.06-.94 2.06-2.06.94z\"/><path d=\"M17.41 7.96l-1.37-1.37c-.4-.4-.92-.59-1.43-.59-.52 0-1.04.2-1.43.59L10.3 9.45l-7.72 7.72c-.78.78-.78 2.05 0 2.83L4 21.41c.39.39.9.59 1.41.59.51 0 1.02-.2 1.41-.59l7.78-7.78 2.81-2.81c.8-.78.8-2.07 0-2.86zM5.41 20L4 18.59l7.72-7.72 1.47 1.35L5.41 20z\"/>\n",
              "  </svg>\n",
              "      </button>\n",
              "      \n",
              "  <style>\n",
              "    .colab-df-container {\n",
              "      display:flex;\n",
              "      flex-wrap:wrap;\n",
              "      gap: 12px;\n",
              "    }\n",
              "\n",
              "    .colab-df-convert {\n",
              "      background-color: #E8F0FE;\n",
              "      border: none;\n",
              "      border-radius: 50%;\n",
              "      cursor: pointer;\n",
              "      display: none;\n",
              "      fill: #1967D2;\n",
              "      height: 32px;\n",
              "      padding: 0 0 0 0;\n",
              "      width: 32px;\n",
              "    }\n",
              "\n",
              "    .colab-df-convert:hover {\n",
              "      background-color: #E2EBFA;\n",
              "      box-shadow: 0px 1px 2px rgba(60, 64, 67, 0.3), 0px 1px 3px 1px rgba(60, 64, 67, 0.15);\n",
              "      fill: #174EA6;\n",
              "    }\n",
              "\n",
              "    [theme=dark] .colab-df-convert {\n",
              "      background-color: #3B4455;\n",
              "      fill: #D2E3FC;\n",
              "    }\n",
              "\n",
              "    [theme=dark] .colab-df-convert:hover {\n",
              "      background-color: #434B5C;\n",
              "      box-shadow: 0px 1px 3px 1px rgba(0, 0, 0, 0.15);\n",
              "      filter: drop-shadow(0px 1px 2px rgba(0, 0, 0, 0.3));\n",
              "      fill: #FFFFFF;\n",
              "    }\n",
              "  </style>\n",
              "\n",
              "      <script>\n",
              "        const buttonEl =\n",
              "          document.querySelector('#df-b7f7a5f1-9607-4794-bace-eb784351717d button.colab-df-convert');\n",
              "        buttonEl.style.display =\n",
              "          google.colab.kernel.accessAllowed ? 'block' : 'none';\n",
              "\n",
              "        async function convertToInteractive(key) {\n",
              "          const element = document.querySelector('#df-b7f7a5f1-9607-4794-bace-eb784351717d');\n",
              "          const dataTable =\n",
              "            await google.colab.kernel.invokeFunction('convertToInteractive',\n",
              "                                                     [key], {});\n",
              "          if (!dataTable) return;\n",
              "\n",
              "          const docLinkHtml = 'Like what you see? Visit the ' +\n",
              "            '<a target=\"_blank\" href=https://colab.research.google.com/notebooks/data_table.ipynb>data table notebook</a>'\n",
              "            + ' to learn more about interactive tables.';\n",
              "          element.innerHTML = '';\n",
              "          dataTable['output_type'] = 'display_data';\n",
              "          await google.colab.output.renderOutput(dataTable, element);\n",
              "          const docLink = document.createElement('div');\n",
              "          docLink.innerHTML = docLinkHtml;\n",
              "          element.appendChild(docLink);\n",
              "        }\n",
              "      </script>\n",
              "    </div>\n",
              "  </div>\n",
              "  "
            ]
          },
          "metadata": {},
          "execution_count": 11
        }
      ]
    },
    {
      "cell_type": "code",
      "source": [
        "df[\"Document Content\"][1]"
      ],
      "metadata": {
        "id": "qZAqELjlcBNm",
        "outputId": "e9b4a900-8778-45f6-a711-02d4f7b16167",
        "colab": {
          "base_uri": "https://localhost:8080/",
          "height": 157
        }
      },
      "execution_count": null,
      "outputs": [
        {
          "output_type": "execute_result",
          "data": {
            "text/plain": [
              "\"                                PREOPERATIVE DIAGNOSES1.  Recurrent acute otitis media, bilateral middle ear effusions.2.  Chronic rhinitis.3.  Recurrent adenoiditis with adenoid hypertrophy.POSTOPERATIVE DIAGNOSES1.  Recurrent acute otitis media, bilateral middle ear effusions.2.  Chronic rhinitis.3.  Recurrent adenoiditis with adenoid hypertrophy.FINAL DIAGNOSES1.  Recurrent acute otitis media, bilateral middle ear effusions.2.  Chronic rhinitis.3.  Recurrent adenoiditis with adenoid hypertrophy.4.  Acute and chronic adenoiditis.OPERATIONS PERFORMED1.  Bilateral myringotomies.2.  Placement of ventilating tubes.3.  Nasal endoscopy.4.  Adenoidectomy.DESCRIPTION OF OPERATIONS:  The patient was brought to the operating room, endotracheal intubation carried out by Dr. X. Both sides of the patient's nose were then sprayed with Afrin.  Ears were inspected then with the operating microscope.  The anterior inferior quadrant myringotomy incisions were performed.  Then, a modest amount of serous and a trace of mucoid material encountered that was evacuated.  The middle ear mucosa looked remarkably clean.  Armstrong tubes were inserted.  Ciprodex drops were instilled.  Ciprodex will be planned for two postoperative days as well.  Nasal endoscopy was carried out, and evidence of acute purulent adenoiditis was evident in spite of the fact that clinically the patient has shown some modest improvement following cessation of all milk products.  The adenoids were shaved back, flushed with curette through a traditional transoral route with thick purulent material emanating from the crypts, and representative cultures were taken.  Additional adenoid tissue was shaved backwards with the RADenoid shaver.  Electrocautery was used to establish hemostasis, and repeat nasal endoscopy accomplished.  The patient still had residual evidence of inter choanal adenoid tissue, and video photos were taken.  That remaining material was resected, guided by the nasal endoscope using the RADenoid shaver to remove the material and flush with the posterior nasopharynx.  Electrocautery again used to establish hemostasis.  Bleeding was trivial.  Extensive irrigation accomplished.  No additional bleeding was evident.  The patient was awakened, extubated, taken to the recovery room in a stable condition.  Discharge anticipated later in the day on Augmentin 400 mg twice daily, Lortab or Tylenol p.r.n. for pain.  Office recheck would be anticipated if stable and doing well in approximately two weeks.  Parents were instructed to call, however, regarding the outcome of the culture on Monday next week to ensure adequate antibiotic coverage before cessation of the antibiotic.                \""
            ],
            "application/vnd.google.colaboratory.intrinsic+json": {
              "type": "string"
            }
          },
          "metadata": {},
          "execution_count": 12
        }
      ]
    },
    {
      "cell_type": "markdown",
      "metadata": {
        "id": "tJrGq2lOLTFB"
      },
      "source": [
        "# 2 Using gensim and pyLDAVis\n",
        "\n",
        "We now need to generate representations for the vocabulary (dictionary) and the text collection (corpus)\n",
        "\n",
        "Let's use some functions that we can call later, and that we can modify later if we want.\n",
        "\n",
        "(Using all the words in the whole corpus or text collection is not typically what you want, because very common words, \n",
        "\n",
        "or very rare words will not generate good topic representations. Why?\n",
        "\n",
        "What parameters and configurations could be interesting to change below?)"
      ]
    },
    {
      "cell_type": "code",
      "execution_count": 14,
      "metadata": {
        "id": "ZbOkf9hxLTFE"
      },
      "outputs": [],
      "source": [
        "\n",
        "## functions from http://nbviewer.jupyter.org/github/bmabey/pyLDAvis/blob/master/notebooks/Gensim%20Newsgroup.ipynb\n",
        "\n",
        "## this function returns a set of stopwords predefined in the nltk package\n",
        "\n",
        "def nltk_stopwords():\n",
        "    return set(nltk.corpus.stopwords.words('english'))\n",
        "\n",
        "## this function prepares the data and returns a dictionary and a corpus.\n",
        "## which parameters do you think would be worth modifying/experimenting with?\n",
        "\n",
        "def prep_corpus(docs, additional_stopwords=set(), no_below=5, no_above=0.5): #remove words with frequency less than 5 or appear in less than 50% of the docouments. \n",
        "  print('Building dictionary...')\n",
        "  dictionary = Dictionary(docs)\n",
        "  stopwords = nltk_stopwords().union(additional_stopwords)\n",
        "  stopword_ids = map(dictionary.token2id.get, stopwords)\n",
        "  dictionary.filter_tokens(stopword_ids)\n",
        "  dictionary.compactify()\n",
        "  dictionary.filter_extremes(no_below=no_below, no_above=no_above, keep_n=None)\n",
        "  dictionary.compactify()\n",
        "\n",
        "  print('Building corpus...')\n",
        "  corpus = [dictionary.doc2bow(doc) for doc in docs]\n",
        "\n",
        "  return dictionary, corpus\n",
        "\n",
        "\n"
      ]
    },
    {
      "cell_type": "code",
      "execution_count": 15,
      "metadata": {
        "id": "9TlhogT2LTFG",
        "colab": {
          "base_uri": "https://localhost:8080/"
        },
        "outputId": "b381276a-c330-49fc-ae96-50067dcafbda"
      },
      "outputs": [
        {
          "output_type": "stream",
          "name": "stdout",
          "text": [
            "Building dictionary...\n",
            "Building corpus...\n"
          ]
        }
      ],
      "source": [
        "## now, let's use the functions we defined above to get our dictionary and corpus\n",
        "dictionary, corpus = prep_corpus(df['Document words'])"
      ]
    },
    {
      "cell_type": "code",
      "execution_count": null,
      "metadata": {
        "id": "orjLb3NQLTFH"
      },
      "outputs": [],
      "source": [
        "## If you want, you can save your corpus and dictionary to disk for quicker processing later\n",
        "\n",
        "#MmCorpus.serialize('/Users/sumithra/DSV/MeDESTO/teaching/Farr2017/data/gensim_topic_model_data/mtsamples.mm', corpus)\n",
        "#dictionary.save('/Users/sumithra/DSV/MeDESTO/teaching/Farr2017/data/gensim_topic_model_data/mtsamples.dict')"
      ]
    },
    {
      "cell_type": "code",
      "execution_count": 16,
      "metadata": {
        "id": "8KgOwJHnLTFI"
      },
      "outputs": [],
      "source": [
        "## Now we have our dictionary and corpus, let's generate an LDA model.\n",
        "## The LDA model has many parameters that can be set, all available parameters can be found here:\n",
        "## https://radimrehurek.com/gensim/models/ldamodel.html\n",
        "\n",
        "## Here, we've set the number of topics to 10.\n",
        "\n",
        "lda = models.ldamodel.LdaModel(corpus=corpus, id2word=dictionary, num_topics=10, passes=10)\n",
        "\n",
        "## You can also save the generated model to disk if you want\n",
        "#lda.save('/Users/sumithra/DSV/MeDESTO/teaching/Farr2017/data/gensim_topic_model_data/mtsamples_20_lda.model')"
      ]
    },
    {
      "cell_type": "code",
      "execution_count": 17,
      "metadata": {
        "id": "MJ7xKv1FLTFK",
        "colab": {
          "base_uri": "https://localhost:8080/"
        },
        "outputId": "7b719483-7575-48c7-ef57-48bd860e5b1f"
      },
      "outputs": [
        {
          "output_type": "execute_result",
          "data": {
            "text/plain": [
              "[(0,\n",
              "  '0.009*\"blood\" + 0.008*\"pain\" + 0.008*\"negative\" + 0.005*\"also\" + 0.005*\"heart\" + 0.005*\"denies\" + 0.004*\"2\" + 0.004*\"bowel\" + 0.004*\"rate\" + 0.004*\"present\"'),\n",
              " (1,\n",
              "  '0.022*\"artery\" + 0.013*\"coronary\" + 0.010*\"vein\" + 0.007*\"catheter\" + 0.007*\"ventricular\" + 0.006*\"pulmonary\" + 0.006*\"stenosis\" + 0.006*\"atrial\" + 0.005*\"heart\" + 0.005*\"valve\"'),\n",
              " (2,\n",
              "  '0.008*\"also\" + 0.008*\"quot\" + 0.006*\"time\" + 0.005*\"years\" + 0.004*\"reported\" + 0.004*\"would\" + 0.004*\"mother\" + 0.004*\"evaluation\" + 0.004*\"two\" + 0.004*\"test\"'),\n",
              " (3,\n",
              "  '0.016*\"placed\" + 0.009*\"using\" + 0.008*\"incision\" + 0.008*\"procedure\" + 0.008*\"removed\" + 0.006*\"used\" + 0.006*\"closed\" + 0.006*\"room\" + 0.006*\"fashion\" + 0.006*\"taken\"'),\n",
              " (4,\n",
              "  '0.012*\"pain\" + 0.011*\"without\" + 0.007*\"denies\" + 0.007*\"clear\" + 0.006*\"negative\" + 0.006*\"intact\" + 0.006*\"bilaterally\" + 0.006*\"examination\" + 0.005*\"noted\" + 0.005*\"signs\"'),\n",
              " (5,\n",
              "  '0.006*\"cancer\" + 0.006*\"breast\" + 0.005*\"showed\" + 0.005*\"2\" + 0.005*\"1\" + 0.004*\"revealed\" + 0.004*\"pain\" + 0.004*\"exam\" + 0.004*\"disease\" + 0.004*\"mass\"'),\n",
              " (6,\n",
              "  '0.021*\"pain\" + 0.013*\"knee\" + 0.008*\"extremity\" + 0.008*\"fracture\" + 0.008*\"back\" + 0.008*\"injury\" + 0.007*\"shoulder\" + 0.007*\"joint\" + 0.007*\"lateral\" + 0.006*\"examination\"'),\n",
              " (7,\n",
              "  '0.009*\"bladder\" + 0.008*\"evidence\" + 0.007*\"ct\" + 0.006*\"tumor\" + 0.006*\"seen\" + 0.006*\"renal\" + 0.006*\"without\" + 0.006*\"small\" + 0.005*\"pelvis\" + 0.005*\"procedure\"'),\n",
              " (8,\n",
              "  '0.020*\"mg\" + 0.007*\"po\" + 0.006*\"daily\" + 0.006*\"also\" + 0.006*\"blood\" + 0.005*\"medical\" + 0.005*\"dr\" + 0.004*\"time\" + 0.004*\"present\" + 0.004*\"status\"'),\n",
              " (9,\n",
              "  '0.008*\"procedure\" + 0.007*\"skin\" + 0.007*\"placed\" + 0.007*\"used\" + 0.007*\"lateral\" + 0.007*\"area\" + 0.006*\"1\" + 0.006*\"incision\" + 0.006*\"wound\" + 0.006*\"foot\"')]"
            ]
          },
          "metadata": {},
          "execution_count": 17
        }
      ],
      "source": [
        "## you can now look at these topics by printing them from the generated model\n",
        "\n",
        "lda.print_topics()"
      ]
    },
    {
      "cell_type": "code",
      "execution_count": 18,
      "metadata": {
        "id": "JkVAHVbwLTFM",
        "colab": {
          "base_uri": "https://localhost:8080/",
          "height": 861
        },
        "outputId": "d64df026-042c-413b-82d0-49be692759bf"
      },
      "outputs": [
        {
          "output_type": "execute_result",
          "data": {
            "text/plain": [
              "<IPython.core.display.HTML object>"
            ],
            "text/html": [
              "\n",
              "<link rel=\"stylesheet\" type=\"text/css\" href=\"https://cdn.rawgit.com/bmabey/pyLDAvis/files/ldavis.v1.0.0.css\">\n",
              "\n",
              "\n",
              "<div id=\"ldavis_el611403573994974244284852265\"></div>\n",
              "<script type=\"text/javascript\">\n",
              "\n",
              "var ldavis_el611403573994974244284852265_data = {\"mdsDat\": {\"x\": [0.25884861502206963, -0.15564830385147135, -0.1567109136119041, -0.12074688490092043, -0.137237951875201, 0.23514335642931647, 0.08696153380133927, 0.10591336349788427, -0.1268777159073012, 0.010354901396188377], \"y\": [-0.00033875234785968084, 0.04295408708835116, -0.034570285612770736, -0.07862585439877365, 0.08470725306177773, -0.06901763189887156, 0.07130048914425391, 0.18287222186615407, 0.02761249942054413, -0.22689402632280553], \"topics\": [1, 2, 3, 4, 5, 6, 7, 8, 9, 10], \"cluster\": [1, 1, 1, 1, 1, 1, 1, 1, 1, 1], \"Freq\": [20.380936892215605, 13.494473394684231, 11.855258580125188, 11.111822843943859, 9.593885463179861, 8.7819930790873, 6.403377482551435, 6.256460099615606, 6.2419924992912925, 5.879799665305634]}, \"tinfo\": {\"Term\": [\"artery\", \"pain\", \"mg\", \"placed\", \"incision\", \"procedure\", \"coronary\", \"knee\", \"vein\", \"using\", \"lateral\", \"catheter\", \"used\", \"closed\", \"vicryl\", \"bladder\", \"denies\", \"removed\", \"medial\", \"operating\", \"wound\", \"po\", \"negative\", \"anterior\", \"joint\", \"evidence\", \"suture\", \"heart\", \"sterile\", \"fashion\", \"grasped\", \"clamp\", \"scalpel\", \"dura\", \"speculum\", \"clamps\", \"retractor\", \"bluntly\", \"metzenbaum\", \"microscope\", \"ports\", \"stitches\", \"veress\", \"retractors\", \"hemostatic\", \"osteophytes\", \"figureofeight\", \"omentum\", \"platysma\", \"doubly\", \"drilled\", \"bur\", \"trocars\", \"distraction\", \"camera\", \"curette\", \"allis\", \"tenaculum\", \"kerrison\", \"ethibond\", \"peritoneum\", \"opened\", \"suction\", \"cautery\", \"stapler\", \"trocar\", \"c5c6\", \"irrigated\", \"fascia\", \"drain\", \"approximated\", \"bovie\", \"staples\", \"monocryl\", \"electrocautery\", \"suture\", \"dissected\", \"vicryl\", \"scissors\", \"closed\", \"port\", \"hemostasis\", \"sutures\", \"prolene\", \"sponge\", \"placed\", \"running\", \"fashion\", \"incision\", \"secured\", \"operating\", \"removed\", \"using\", \"endotracheal\", \"draped\", \"dissection\", \"prepped\", \"carried\", \"preoperative\", \"made\", \"turned\", \"taken\", \"anesthesia\", \"used\", \"procedure\", \"recovery\", \"position\", \"anterior\", \"sterile\", \"room\", \"diagnosis\", \"skin\", \"general\", \"brought\", \"performed\", \"tissue\", \"posterior\", \"noted\", \"furosemide\", \"seroquel\", \"lantus\", \"day3\", \"psychosis\", \"meq\", \"haldol\", \"manic\", \"gfr\", \"paranoia\", \"klonopin\", \"panic\", \"daily9\", \"overload\", \"daily7\", \"tricor\", \"zyprexa\", \"hdl\", \"hyperkalemia\", \"gaf\", \"triglycerides\", \"day5\", \"murmurlungs\", \"bid6\", \"hepatosplenomegalyextremities\", \"daily10\", \"q6\", \"119\", \"psychiatry\", \"mag\", \"digoxin\", \"difficile\", \"mg\", \"po\", \"lithium\", \"paranoid\", \"huntington\", \"methotrexate\", \"daily\", \"lisinopril\", \"sliding\", \"transplant\", \"continue\", \"daily6\", \"lasix\", \"schizophrenia\", \"medications1\", \"daughter\", \"norvasc\", \"aspirin\", \"prn\", \"calcium\", \"coumadin\", \"delusions\", \"status\", \"husband\", \"fibrillation\", \"bid\", \"admission\", \"medications\", \"currently\", \"dialysis\", \"white\", \"hospital\", \"last\", \"data\", \"illness\", \"admitted\", \"dose\", \"past\", \"hypertension\", \"secondary\", \"blood\", \"day\", \"dr\", \"chronic\", \"medical\", \"rate\", \"also\", \"present\", \"since\", \"post\", \"today\", \"would\", \"disease\", \"10\", \"pressure\", \"one\", \"time\", \"per\", \"20\", \"denies\", \"chest\", \"wheeze\", \"auscultated\", \"wellchild\", \"generic\", \"sig\", \"heeltoshin\", \"dispense\", \"colposcopy\", \"acoustic\", \"notedneurologic\", \"ecstasy\", \"usereview\", \"selfbreast\", \"pulsations\", \"hematologiclymphatic\", \"toothache\", \"canals\", \"allegra\", \"986\", \"stridor\", \"chantix\", \"thrills\", \"extremitiesneurologic\", \"testicles\", \"lymphadenitis\", \"clicks\", \"immunologic\", \"beverages\", \"decongestant\", \"kernig\", \"iixii\", \"postnasal\", \"anticipatory\", \"turgor\", \"gums\", \"tms\", \"spots\", \"musculoskeletal\", \"ears\", \"accommodation\", \"funduscopic\", \"salivary\", \"nephrostomy\", \"throat\", \"masses\", \"pharynx\", \"nourished\", \"hearing\", \"equal\", \"tinnitus\", \"tympanic\", \"reveals\", \"tenderness\", \"nose\", \"allergies\", \"sore\", \"ear\", \"cranial\", \"rashes\", \"extraocular\", \"bilaterally\", \"membranes\", \"xii\", \"clear\", \"intact\", \"without\", \"nontender\", \"denies\", \"wellnourished\", \"nerves\", \"pulses\", \"respirations\", \"supple\", \"pain\", \"negative\", \"regular\", \"lesions\", \"rhythm\", \"problems\", \"signs\", \"examination\", \"light\", \"sounds\", \"alert\", \"systems\", \"neck\", \"good\", \"noted\", \"soft\", \"states\", \"acute\", \"rate\", \"chest\", \"blood\", \"present\", \"back\", \"skin\", \"tasks\", \"edition\", \"impairment\", \"task\", \"learning\", \"neuropsychological\", \"naming\", \"weaknesses\", \"executive\", \"fluency\", \"abilities\", \"processing\", \"inventory\", \"behavioral\", \"visuospatial\", \"knowledge\", \"errors\", \"items\", \"comprehension\", \"repetition\", \"wechsler\", \"intellectual\", \"attentional\", \"accuracy\", \"beerybuktenica\", \"recognition\", \"sentence\", \"decisions\", \"af\", \"premorbid\", \"functioning\", \"average\", \"goals\", \"intelligence\", \"cognitive\", \"assessing\", \"memory\", \"performance\", \"calories\", \"reported\", \"skills\", \"school\", \"verbal\", \"ms\", \"information\", \"quot\", \"recall\", \"test\", \"behavior\", \"visual\", \"mother\", \"mr\", \"years\", \"fell\", \"work\", \"able\", \"range\", \"also\", \"would\", \"evaluation\", \"difficulty\", \"reports\", \"time\", \"weight\", \"symptoms\", \"may\", \"problems\", \"two\", \"low\", \"day\", \"states\", \"months\", \"medical\", \"dr\", \"significant\", \"mild\", \"treatment\", \"one\", \"however\", \"pain\", \"hematemesis\", \"lithotripsy\", \"ampicillin\", \"ileus\", \"normocephalicneck\", \"fevergastrointestinal\", \"splenectomy\", \"asbestos\", \"urgencymusculoskeletal\", \"cyanosiscns\", \"normalfetal\", \"glaucomacardiovascular\", \"gastroenteritis\", \"melenaurological\", \"1001\", \"cefotaxime\", \"pcr\", \"segs\", \"esrd\", \"streptococcus\", \"wbcs\", \"weaknessskin\", \"exsmoker\", \"preeclampsia\", \"tirednessheent\", \"d5\", \"empirically\", \"intestinal\", \"nonfocallaboratory\", \"enzyme\", \"fetal\", \"labor\", \"alkaline\", \"phosphatase\", \"lightheaded\", \"bilirubin\", \"prenatal\", \"delivery\", \"contractions\", \"acidosis\", \"sepsis\", \"h\", \"alt\", \"baby\", \"ast\", \"gestational\", \"bun\", \"consume\", \"creatinine\", \"platelet\", \"count\", \"hemoglobin\", \"fever\", \"vomiting\", \"hepatitis\", \"mom\", \"negative\", \"39\", \"chloride\", \"potassium\", \"hematocrit\", \"blood\", \"nausea\", \"positive\", \"urine\", \"heart\", \"abdominal\", \"bowel\", \"admitted\", \"pain\", \"rate\", \"hypertension\", \"emergency\", \"denies\", \"surgery\", \"data\", \"also\", \"disease\", \"present\", \"weeks\", \"2\", \"chest\", \"medical\", \"illness\", \"soft\", \"per\", \"renal\", \"pressure\", \"signs\", \"room\", \"time\", \"1\", \"osteotomy\", \"phalanx\", \"hallux\", \"bunion\", \"metatarsophalangeal\", \"metatarsal\", \"exsanguinated\", \"esmarch\", \"webril\", \"pulley\", \"bunionectomy\", \"osteomyelitis\", \"interphalangeal\", \"antebrachial\", \"eminence\", \"pleura\", \"depomedrol\", \"rasp\", \"intermetatarsal\", \"footpostoperative\", \"22gauge\", \"stoma\", \"bulldog\", \"stockinet\", \"rejection\", \"kwires\", \"nevus\", \"reciprocating\", \"1012\", \"alar\", \"kwire\", \"pneumatic\", \"periosteum\", \"a1\", \"kerlix\", \"volar\", \"periosteal\", \"tourniquet\", \"carpal\", \"excision\", \"foot\", \"foot2\", \"dorsal\", \"release\", \"deepened\", \"bandage\", \"extensor\", \"inch\", \"nasal\", \"fifth\", \"cartilage\", \"injected\", \"toe\", \"wound\", \"screw\", \"05\", \"lateral\", \"directed\", \"needle\", \"medial\", \"area\", \"cc\", \"proximal\", \"first\", \"procedure\", \"used\", \"skin\", \"bone\", \"tissue\", \"incision\", \"site\", \"sterile\", \"1\", \"distal\", \"anesthesia\", \"placed\", \"cm\", \"15\", \"using\", \"performed\", \"noted\", \"position\", \"x\", \"diagnosis\", \"upper\", \"od\", \"bronchoscope\", \"cystoscope\", \"ana\", \"ileum\", \"terminal\", \"upj\", \"stereotactic\", \"stranding\", \"ureteroscope\", \"colonoscope\", \"perinephric\", \"antrum\", \"anca\", \"olympus\", \"diverticula\", \"contrastreason\", \"afb\", \"ileocecal\", \"intrarenal\", \"livedo\", \"foci\", \"openended\", \"solitary\", \"strictures\", \"retroflexed\", \"dna\", \"pyelogram\", \"pylorus\", \"doublestranded\", \"hydronephrosis\", \"cystoscopy\", \"stone\", \"ureteral\", \"calcifications\", \"biopsies\", \"noncontrast\", \"enhancing\", \"vocal\", \"lobes\", \"pancreas\", \"tumor\", \"collecting\", \"orifice\", \"scope\", \"correlation\", \"antibodies\", \"contrast\", \"pelvis\", \"cytology\", \"cecum\", \"biopsy\", \"bladder\", \"obstruction\", \"ct\", \"inflammatory\", \"stent\", \"colon\", \"ureter\", \"images\", \"evidence\", \"endoscopy\", \"esophagus\", \"seen\", \"kidney\", \"mass\", \"prostate\", \"lobe\", \"small\", \"renal\", \"unremarkable\", \"exam\", \"fluid\", \"within\", \"cm\", \"abdomen\", \"obtained\", \"without\", \"procedure\", \"performed\", \"bowel\", \"lesion\", \"noted\", \"lower\", \"x\", \"circumflex\", \"angioplasty\", \"atrium\", \"6french\", \"diagonal\", \"basilic\", \"subclavian\", \"fistulogram\", \"obtuse\", \"pigtail\", \"brachiocephalic\", \"stenting\", \"adenosine\", \"rca\", \"sublingual\", \"suprascapular\", \"4french\", \"luminal\", \"hypokinesis\", \"ventriculogram\", \"arteriotomy\", \"judkins\", \"myoview\", \"sternotomy\", \"enddiastolic\", \"joules\", \"reversible\", \"generator\", \"intracardiac\", \"glenn\", \"ventricular\", \"lad\", \"carbohydrate\", \"antegrade\", \"tricuspid\", \"aortic\", \"artery\", \"valve\", \"descending\", \"fraction\", \"lv\", \"coronary\", \"saphenous\", \"cephalic\", \"balloon\", \"ventricle\", \"vessel\", \"aorta\", \"regurgitation\", \"vein\", \"branch\", \"pericardial\", \"stenosis\", \"mitral\", \"catheterization\", \"myocardial\", \"atrial\", \"ejection\", \"pulmonary\", \"catheter\", \"sheath\", \"carotid\", \"flow\", \"cardiac\", \"femoral\", \"stress\", \"distal\", \"heart\", \"pressure\", \"proximal\", \"performed\", \"significant\", \"disease\", \"procedure\", \"blood\", \"mild\", \"1\", \"anterior\", \"obtained\", \"bue\", \"neuroblastoma\", \"htn\", \"staging\", \"evoked\", \"unremarkablemotor\", \"rhf\", \"latency\", \"rue\", \"hct\", \"hepatosplenomegalyext\", \"bilaterallycv\", \"gcsf\", \"carboplatin\", \"tobaccoetohillicit\", \"useexam\", \"ho\", \"rhm\", \"gs\", \"bilaterallygen\", \"cn\", \"11monthold\", \"petct\", \"adjuvant\", \"i131\", \"cyclophosphamide\", \"cancerhistory\", \"anc\", \"ha\", \"dm\", \"amplitude\", \"lue\", \"qd\", \"mastectomy\", \"chemotherapy\", \"cycle\", \"tab\", \"breast\", \"metastasis\", \"yo\", \"cancer\", \"node\", \"lymph\", \"supraclavicular\", \"t1\", \"fluconazole\", \"metastatic\", \"revealed\", \"bp\", \"sweats\", \"nodes\", \"died\", \"showed\", \"underwent\", \"biopsy\", \"scan\", \"strength\", \"weakness\", \"denied\", \"mass\", \"lung\", \"tsh\", \"thyroid\", \"exam\", \"age\", \"2\", \"brain\", \"1\", \"liver\", \"disease\", \"decreased\", \"mild\", \"mri\", \"quot\", \"lower\", \"3\", \"ct\", \"pain\", \"chest\", \"upper\", \"one\", \"prior\", \"also\", \"denies\", \"noted\", \"time\", \"arthroscopic\", \"meniscus\", \"claim\", \"meniscal\", \"arthroscopy\", \"claimant\", \"epicondylitis\", \"chiropractic\", \"humerus\", \"chondromalacia\", \"sprain\", \"malleolus\", \"ligamentous\", \"patellofemoral\", \"subacromial\", \"hamstring\", \"t7\", \"xxxx\", \"glenohumeral\", \"injured\", \"probed\", \"suprapatellar\", \"knee2\", \"rotator\", \"seatbelt\", \"avulsion\", \"ant\", \"righthand\", \"osteochondral\", \"calcaneal\", \"patella\", \"elbow\", \"subscapularis\", \"flexion\", \"peroneal\", \"tear\", \"splinter\", \"cruciate\", \"rotation\", \"knee\", \"buttock\", \"vehicle\", \"femur\", \"fracture\", \"tibial\", \"injury\", \"shoulder\", \"worker\", \"conditions\", \"tibia\", \"degrees\", \"extension\", \"extremity\", \"spine\", \"degenerative\", \"hip\", \"patellar\", \"thoracic\", \"motion\", \"joint\", \"leg\", \"pain\", \"tendon\", \"medial\", \"related\", \"back\", \"lateral\", \"mri\", \"physical\", \"examination\", \"nerve\", \"medical\", \"evidence\", \"anterior\", \"lower\", \"upper\", \"time\", \"dr\", \"significant\", \"noted\"], \"Freq\": [3147.0, 8287.0, 6105.0, 7709.0, 3813.0, 5251.0, 1811.0, 1681.0, 1811.0, 4703.0, 2593.0, 1899.0, 3774.0, 2504.0, 2245.0, 1844.0, 3548.0, 3787.0, 1689.0, 2289.0, 2079.0, 2102.0, 3508.0, 3278.0, 1642.0, 2932.0, 1943.0, 2725.0, 2044.0, 2523.0, 412.02101955624613, 412.33925491143043, 392.81386203316566, 255.2689462231447, 250.26663158838645, 225.69450671978504, 221.9989498643588, 221.71146972716744, 216.43408387416756, 216.15077428423913, 213.64939097661423, 177.16285490517012, 173.6529387643627, 164.79734662719625, 160.953920245047, 153.8809083496881, 146.30960850696704, 145.46112812921146, 141.31492617914557, 137.90606876733438, 136.69235733555752, 128.2984735427897, 126.5939832031807, 123.71611041838149, 122.9402756323581, 119.14038318937189, 114.19009767256097, 114.15643539822464, 114.06428273936866, 113.21022451145603, 399.23009491288803, 520.209329915265, 329.8831184417025, 434.40103904084714, 179.15838986448335, 519.7918232084828, 377.0719978496363, 955.4407392973542, 1401.3872091033998, 481.60941524362084, 245.1549993083773, 458.60849783104175, 266.74425837845, 429.55252104062146, 628.8900113861204, 1741.9434975953195, 858.5627476696584, 1981.8481682464862, 501.8072318259, 2167.727692921376, 602.336732755664, 1173.3651877532607, 1054.7176790176363, 467.0178825002128, 498.95737155929277, 5778.046287051323, 944.148705231371, 2007.4830225181202, 2829.8505149985685, 502.8898894596961, 1777.2318333836738, 2752.480494455645, 3294.314543365001, 680.098743652165, 1400.7654483035742, 1272.6891334446634, 1409.2077864594926, 870.7249674492754, 1518.3185068234866, 1751.0335648847595, 606.2896719564583, 2001.63653159256, 1601.915832400666, 2188.8877759701572, 2787.039580265457, 1010.0244509829118, 1698.0926790185665, 1884.2783999319108, 1328.7061163580506, 2102.531068402951, 1830.2769212977362, 1982.3331844030513, 1579.002065044684, 1188.5082599637622, 1507.1407827327291, 1245.5886297063512, 1225.4114809592766, 1195.1412791228845, 92.92687209179233, 87.77962113108097, 86.58744317809347, 71.66431123837971, 61.4958734092793, 80.17918401814146, 52.485820738847366, 52.12047972179104, 91.76047147411109, 48.66416414520469, 46.63474310245522, 45.09462213339117, 45.66814743973228, 42.778130673771244, 42.421743709994786, 41.657527335056926, 40.609899700608715, 58.20368600339032, 39.105639153814394, 37.36255737660413, 82.949778266431, 36.66050586834153, 35.64387564963429, 35.35447234991158, 34.61739699253036, 34.01454401604661, 34.210686412940966, 33.20504726912948, 32.96690958019066, 32.479765552756454, 137.11246227680476, 49.71658677210433, 4759.841905686674, 1687.6562622233757, 64.3621566629577, 96.54526861534858, 96.18240671141075, 76.99745147382865, 1518.3355976010548, 229.56209319082146, 99.99290219496436, 286.62628494552035, 764.8730916628768, 70.85314134516038, 213.91397199526716, 76.78011248973588, 108.60094745925393, 295.8583797734921, 118.42447910083038, 348.28637834450143, 390.27903144276297, 321.0646416808998, 241.70475523821804, 97.91620796776998, 968.866081446576, 323.4810730257414, 371.3059332546412, 390.3812974094292, 494.8727118913537, 879.8870184590492, 629.4696871211004, 251.2492251205291, 709.8881718689029, 751.139253879272, 750.2910367181337, 437.7822394971763, 764.632920353026, 507.03858034193365, 360.14164010675256, 732.541375752938, 623.4965820278752, 598.4354621614796, 1398.70177379412, 794.4520330127853, 1055.4259109092754, 757.5098332403859, 1069.5596714675526, 838.1030869612832, 1407.1911276920694, 983.440790870968, 640.4867706000263, 590.5395174853774, 659.7515131517187, 754.7546645848337, 865.6564602659228, 765.3446196581572, 826.7739548955892, 814.007712581644, 985.1621455511768, 673.8179669790748, 695.1797195628585, 731.8854479912136, 684.4405143982525, 95.36170889341311, 90.26403359966602, 81.30566110706049, 61.51793133316479, 56.60443024561596, 49.13767582361027, 43.0844612724058, 39.27088167089274, 37.323817393500974, 36.70514610184651, 35.941946188723534, 33.798670624434465, 32.56845946620088, 69.92134929263368, 31.064801327292, 35.2793689804761, 171.77421453704005, 73.73418497925618, 30.125873181447098, 29.90464663600101, 29.496285162844433, 29.341649456738338, 28.410432332309224, 28.65671297523412, 27.87897236423023, 26.81315145876006, 28.07083667857427, 25.90703025834979, 25.864444865377816, 25.851801299848322, 73.48881854499197, 73.44640045818012, 42.4344499518278, 83.06876329856415, 77.7934626397437, 246.5641073619088, 55.84099431130281, 272.3102787225178, 309.2510008606512, 183.10913518290977, 67.20754179665629, 46.66918696013705, 177.62378761527162, 549.1850997091025, 889.6459174989445, 141.19743631600443, 149.89245696213226, 474.4814173584585, 668.2414061002444, 97.88298285040597, 239.72862298293705, 695.8474483403297, 823.6331209421852, 510.71409982694024, 281.0691864209336, 174.82732490097217, 627.8406969671935, 402.4473199005386, 324.8022757504864, 362.0911620078411, 1185.5238023684358, 351.54274762072185, 171.6353504241358, 1502.6609463927675, 1230.2747584753129, 2239.0294686979187, 687.1361989966697, 1521.7508660736594, 209.7622732375597, 402.3438290900609, 474.18810575887824, 375.6904042248508, 490.5662793946942, 2423.5851807430345, 1250.522914801874, 806.8151233122791, 564.106753716625, 652.1807795563468, 738.9926955258412, 939.3392887829721, 1175.7640214183887, 544.6820783102019, 625.0724492417552, 566.2674888737672, 732.8280849480931, 777.2689510376172, 805.3055437303458, 996.9710027526393, 713.8090552773344, 648.1994665664779, 667.3007152644982, 691.7309997748393, 698.4817077323875, 741.5247069531821, 673.1925211977215, 659.685369071421, 661.4804207642886, 263.70228257222914, 236.43837969717293, 275.6992860631831, 199.24112971068737, 197.25968893177563, 173.69359510929726, 158.08271192481072, 139.3923168476686, 136.17663396636857, 130.54866247542472, 123.19484663477684, 120.0709002342696, 114.37917244922652, 114.29623998234129, 109.75075896475265, 101.63641521532938, 97.20687611626165, 95.43642924317338, 93.69795572593652, 90.80676684324061, 89.23519435555849, 79.40964040931956, 72.51617032640837, 81.0875107239521, 66.94315111565616, 65.00179324230206, 64.01106165181068, 63.30266336227945, 62.81425341008289, 61.95977121548452, 358.95913681417295, 595.5345499797243, 92.29181133164012, 92.61548765465233, 399.4176354943963, 113.04427784178276, 625.7240737206214, 245.5698894808814, 155.04313172373347, 829.0537830095788, 164.20542195301195, 322.3992929541826, 372.1066210640025, 348.65268321004413, 527.0112743857774, 1452.6820981829158, 271.93278105984797, 723.1228123740625, 165.96148669651072, 510.6873780851312, 774.0891368747386, 389.2002749266809, 889.0156143208515, 260.29286658082015, 491.23436050557405, 634.8702568608425, 629.4827379991025, 1528.8382970202451, 820.0365013859589, 734.6388209983248, 629.1093402794799, 438.1866595872031, 1149.1216700315051, 711.8297491605085, 718.7196405125756, 638.1721429113954, 555.3273577321099, 724.7696782224149, 472.2365082048322, 578.7420471576559, 535.1023647854905, 472.51160563685556, 612.9476797771002, 594.1593764486015, 568.8955304734678, 514.3806283162581, 482.20605706301643, 515.8355532201824, 483.33543507099904, 489.8766157856984, 127.38400411561489, 92.46866863992899, 75.17403795812356, 63.33490849813977, 56.18999096776619, 53.70870594586865, 50.23281122876056, 49.7712186383954, 48.34297012156996, 43.141335153537995, 42.93371036152983, 42.07148093393322, 41.912786117013106, 41.36618138196735, 41.25980619450199, 40.828241783334065, 40.15403662852243, 35.89552342460728, 34.873885950391426, 34.255880878143365, 34.23493610226691, 33.770957214569414, 31.79454211054351, 31.695202510957696, 31.6550585586718, 30.93025519659449, 30.369857324485917, 28.740062183325566, 28.58726662222198, 91.74151282870845, 170.29300529909355, 95.2589779575007, 148.2789167740565, 142.70414904017375, 55.52180837288856, 182.27543832086303, 88.17305298529237, 271.85463212003566, 52.78320458191201, 53.090178644417165, 139.62198129426284, 337.44915384958364, 194.1399635935914, 262.82751350229944, 174.44391510982416, 111.12835326948922, 398.56788117840046, 64.25650281398185, 563.3781181216154, 216.62794610800773, 637.6267320830718, 426.2022777580416, 519.957312976953, 585.3458636403037, 191.75881118599602, 360.2340913625282, 1310.1489742739216, 120.37721620954858, 221.55210329261718, 372.0436278343176, 279.66810941082264, 1507.6161374898554, 465.9295685068888, 571.8191988639913, 440.2285031219906, 797.2463975806387, 645.6972235092359, 680.1595928473243, 443.6812118295575, 1391.2871453561852, 678.241580375882, 509.58344261085995, 435.1615646047989, 757.4977921435625, 651.9100102660426, 358.136934932487, 913.61887013095, 655.3089873911232, 674.8361817657815, 450.7798540499605, 687.694547896282, 624.9390768766259, 672.9331785484821, 510.9128834282142, 513.9714831635926, 497.7397484808017, 524.0372769833065, 538.217037733064, 503.23348364995223, 536.3333376544693, 545.2564166097889, 503.43812013040747, 315.5933039155187, 236.78039571310293, 161.37302671372566, 145.02874373024792, 144.37828855756268, 556.135675908201, 100.87927040143406, 161.63422859084707, 96.43896242537576, 73.76957232462317, 67.40065418281522, 73.81214399909877, 63.27078569116329, 62.10733254592173, 61.25678873270114, 66.13777860545983, 56.98431088568123, 55.103544058401795, 50.13320589899677, 49.878820447191686, 48.92281237032688, 48.269072919989256, 47.841709610156904, 47.26633249345578, 47.36818936318258, 50.91851121043989, 44.192846154576635, 50.635819888571234, 43.89792510339044, 43.97623432202448, 78.47817745688214, 139.22873595359098, 142.3580417338105, 84.45023357902318, 134.08931946258966, 112.19399642400866, 134.59709003365342, 564.3382611488527, 464.5729185791119, 272.5846346096453, 880.1645274651822, 79.41262969524661, 517.1165806674691, 225.43219838647505, 131.89710396585704, 159.90214836046763, 217.40097984877588, 175.66335255188687, 729.8920582315925, 297.25768637463045, 228.79418328749233, 452.7704817514044, 337.22959393957893, 924.5004698626495, 284.5380065693571, 363.34255801138505, 1007.8198496291939, 327.43323993496637, 724.3094590125247, 713.6521108179566, 1001.6557473631407, 445.7060093735684, 637.833844159511, 621.5208813224867, 1241.0578110729057, 1015.7031074750267, 1071.9120234234747, 637.8710246612364, 729.6842015219466, 934.1368060698362, 503.9600653769238, 643.1945643082822, 939.3425012314133, 617.4001486112587, 667.6536688433389, 1047.660492318051, 627.4671412584306, 508.7238791279948, 756.7917617199082, 658.8181652333158, 698.148408158487, 539.1823231914586, 541.8249716140941, 537.8497385996183, 533.3746225919447, 163.78916895418598, 101.18656388952603, 98.34594732887426, 95.73315250365684, 93.56885569921242, 82.94149942010374, 75.93489826484455, 71.41652098503235, 71.17085176132841, 70.37101964055, 57.601080463159285, 56.014216065811745, 51.740949670558706, 49.885617738994284, 48.879816566881644, 47.50409473329079, 45.637431421741816, 45.60735856537722, 45.21246755729105, 43.85273746047704, 43.29101277949376, 42.571652498229724, 42.26040263046819, 42.51314952899587, 40.812409765264064, 38.66470499286198, 38.158785179811765, 36.09576399596416, 35.4370690378473, 35.2326394534036, 160.95347739662634, 178.81643133780832, 402.4516301331708, 444.21958086533544, 111.94046628347222, 248.25867801646825, 70.46780918362516, 99.97405136548204, 124.50130261005134, 82.86812784717041, 151.0112193851343, 718.6243838164254, 112.12964320434229, 93.92987843570704, 307.6953193961577, 75.13251004809696, 84.9098417764871, 500.4361351643434, 605.7303000928173, 95.17136650218946, 110.52649337737296, 577.4514099921588, 969.5931948581493, 445.7806067471158, 800.2217317700728, 203.94648230553221, 385.7957731490678, 456.1783920432961, 289.56557616558706, 239.45507039221397, 924.518843622829, 156.88745164590432, 191.9742193497944, 703.4051302244518, 507.8284163454968, 542.0846981413417, 259.50258271674755, 301.9883316715284, 623.893504943348, 641.1743144823384, 361.71734911944935, 561.8440945575924, 380.5943760433109, 538.8103133856788, 527.3130453546369, 509.80611168940374, 476.4243245448307, 624.9505926319331, 592.9029326683616, 515.5679134720386, 429.19190537529386, 350.14104866657266, 448.7366930067387, 399.76762608893335, 397.12020778195165, 224.9039375333489, 192.01759706699036, 160.7207066746894, 160.40858854336523, 128.0974308980418, 122.41877291520359, 254.84250545872035, 87.5509080165704, 85.72766260514528, 86.13654429453993, 82.00049659264262, 64.94372948431838, 64.12576429142113, 63.7909042328075, 64.00471997348812, 62.20108206398838, 62.010140691105555, 56.92469005181862, 51.20114419668903, 50.55141313618496, 49.54081637725082, 49.28845098860659, 48.22475189251848, 46.109270192747545, 45.86093793291685, 45.95298723955945, 42.29491733226566, 41.723389238591665, 41.75579616964459, 41.08533501623968, 770.9114768261342, 180.27289892110667, 254.9737855359409, 58.67736989906135, 145.27612526102135, 536.7406138572401, 2365.4165402060908, 572.8275494883183, 335.69670422490606, 262.74703430503195, 174.23912378856946, 1381.7057594540174, 122.94550773694932, 267.27105070938774, 347.91995407426276, 254.44712639448562, 357.4329918144513, 309.1581742564344, 196.2864447586087, 1136.4303779164159, 307.07525084829734, 218.44243001239647, 645.2932944040951, 210.41020328928045, 261.22121874188684, 303.51913490566284, 619.2388408003017, 263.93317149773605, 672.1608065952864, 804.4246771385444, 391.35680815624636, 536.9504500759796, 322.85539866995686, 561.9501726981069, 489.1477009432178, 347.0274564086237, 553.6243821282162, 589.712780911577, 558.8692785261643, 402.9024419114023, 500.38365094972664, 421.05201349419536, 424.6364086387062, 456.40608641902185, 442.50982284153514, 387.57675423407943, 385.46519844937717, 372.75360891231196, 362.2168186560274, 70.49646613034459, 59.506571164111435, 73.8946003768812, 52.96035100791256, 53.556062541428275, 68.68980082930277, 55.07468147070939, 48.16415775053169, 48.144844127732604, 127.57930504833956, 43.350956927610525, 42.549345626814805, 42.5299030158198, 41.802727342231506, 44.94193823480366, 41.52620496465765, 83.79222330005035, 43.75026977559461, 37.59265015501121, 47.01137451331267, 38.09222772992264, 35.40706787120872, 32.87789878611382, 32.70242764885707, 32.55407549327945, 31.54874464032015, 30.86765550531858, 31.960223277417136, 53.61444700337737, 29.652457711541302, 73.54037362245205, 61.58766042500321, 363.91086098937495, 55.93676306696387, 286.5038239480493, 134.601913218666, 73.81103490224537, 654.103294309069, 106.87476163393235, 78.0333659680782, 685.1602289807151, 215.19371286204552, 310.8020791745458, 129.9743956228543, 62.737775808804145, 63.790118140096524, 164.03032472599864, 471.00554435130005, 156.81811019977457, 139.5016147841936, 202.16416845240056, 257.6784731553463, 561.6553778967182, 315.565028083968, 303.2162393276474, 355.793237417281, 274.867754749213, 298.10589060001917, 244.06801624812746, 386.39963205084075, 267.591411067241, 143.4701474173097, 251.60314171165376, 425.30526563635203, 313.54047969763974, 519.2029842024331, 233.22636332559736, 502.8374149356145, 266.6351617958566, 422.46259231409647, 258.3962767353822, 352.28677196249157, 265.62454871897165, 332.28552252910583, 367.89290906858076, 326.6088338239893, 289.9444236255261, 430.61444494891305, 340.9589405071581, 332.4663325192523, 330.37501229218645, 299.70989971500035, 331.4650065924737, 307.8535222737064, 316.8498763574894, 297.29028250693915, 175.5125634790725, 167.89369313613602, 99.31037018320139, 86.81957765225344, 87.05029230235196, 206.8449358702744, 85.13819263017953, 96.20565606955347, 108.10391391932048, 67.30851278707016, 64.45359828404374, 63.64185919914179, 62.58871314464336, 58.82885738149023, 97.18655784336417, 47.3675147335591, 48.44493484266059, 42.06356119696362, 43.46982643718804, 269.008777490033, 33.32085043100766, 33.0548374944512, 34.005007740214815, 253.3721729832427, 32.37329399505481, 31.531899133762582, 29.678553875771588, 29.494778152648745, 28.854024311115424, 27.937371286394487, 185.11412414009092, 325.8645344497538, 65.76344891158891, 483.69815371181016, 71.54437235909299, 396.5379450762599, 64.95801616146846, 207.20574831027332, 260.25570335343286, 1363.9575100728903, 114.08156063537052, 199.59509279817064, 161.0406987027826, 817.2134576528032, 283.3636787225464, 802.391484610025, 738.0241005606916, 209.42927660533988, 257.9165747260557, 118.51779451186545, 494.1898084819895, 325.6659797362384, 829.9271234044173, 654.2633145767035, 392.56798879117565, 545.5652419764557, 169.1591445589366, 237.33338553196575, 587.450874442084, 723.693642302463, 532.2033513917743, 2155.394843751392, 479.0761793095796, 615.2588710333557, 434.345915696983, 806.6932584199286, 679.6068145017838, 436.85232815224845, 417.06309702393963, 659.6520065234223, 467.57845076952094, 595.5209914882678, 533.4366428779917, 550.7216426893806, 537.6337694633631, 525.0707445057402, 548.7737913147627, 437.60814000500915, 431.91992086419447, 438.6935882442437], \"Total\": [3147.0, 8287.0, 6105.0, 7709.0, 3813.0, 5251.0, 1811.0, 1681.0, 1811.0, 4703.0, 2593.0, 1899.0, 3774.0, 2504.0, 2245.0, 1844.0, 3548.0, 3787.0, 1689.0, 2289.0, 2079.0, 2102.0, 3508.0, 3278.0, 1642.0, 2932.0, 1943.0, 2725.0, 2044.0, 2523.0, 412.8499406674029, 413.17001467318454, 393.6442541743318, 256.0980515094909, 251.09550813046246, 226.5233524945909, 222.82842535678708, 222.54035775641196, 217.2630609650341, 216.97964086703607, 214.48190089768136, 177.99246975283788, 174.48177110016238, 165.6262961649039, 161.78363126128048, 154.7099762440803, 147.13938155843326, 146.2900134643827, 142.14376364494538, 138.73541578801448, 137.52138650298045, 129.1273254585386, 127.42282313079967, 124.54520378404231, 123.76924424872925, 119.96940546988853, 115.0189345872594, 114.9852696094916, 114.89311486343489, 114.03913221559299, 402.39505162955913, 526.8072481988917, 332.55379368208133, 441.35670639049107, 180.4729451621691, 530.1595207627856, 383.44475310129735, 983.8556087362416, 1457.2599146332525, 493.4266673583557, 250.13657545316795, 477.66629452036835, 273.2970160810868, 447.0287972062985, 670.0783948732079, 1943.6975223116842, 927.2244067942696, 2245.157842206779, 532.5042686990736, 2504.987452985873, 649.3654280226762, 1336.4751534158038, 1193.123121594065, 497.12756859168286, 537.7241630726239, 7709.15725088701, 1092.4784910801643, 2523.1537635642694, 3813.9707466672, 547.8209655937883, 2289.0036523516696, 3787.613157253627, 4703.910787558969, 769.3419956464367, 1786.2642056797022, 1620.9168313920904, 1901.096394532432, 1061.1401153115198, 2127.721740819967, 2629.3834462333484, 676.6127767514095, 3184.9759164624506, 2477.571715635669, 3774.188019353595, 5251.352790267976, 1339.7953144299042, 2798.738572657515, 3278.2115475724518, 2044.4631044789332, 4055.7053433534224, 3409.074181346812, 4154.964618537929, 3039.702334691691, 1785.641637604344, 3926.0606893452523, 2385.9288434192254, 2518.978048344577, 5112.570755291236, 93.80732926178932, 88.65987586727809, 87.47233793988909, 72.58526711265559, 62.37613564300186, 81.43996830077937, 53.366070956817154, 53.00074351812858, 93.35608190424283, 49.544421514954784, 47.51791895212267, 45.974901033548235, 46.56291203833853, 43.65869642220535, 43.31555723766045, 42.53778179425811, 41.49013661672013, 59.47387984772231, 39.985955278211634, 38.24281072369422, 84.95613645017656, 37.55216668923669, 36.525009488852575, 36.25257949216618, 35.49776742217436, 34.89480728883999, 35.104285262165114, 34.08553778316223, 33.847158473147, 33.36008054559527, 146.30890368357544, 51.623793204154545, 6105.311121001251, 2102.624042228599, 68.1517212357924, 105.48628836606741, 105.49666108135192, 84.0804412806996, 2205.2386073212065, 282.11477052992586, 114.40510149746643, 378.15143531713426, 1182.7196770097912, 78.06963937420875, 279.3467680392088, 85.6987939791085, 129.37044825863015, 438.1505235165285, 146.4017853038184, 548.1229742307509, 642.5668649154811, 507.5897265496383, 360.3683457315681, 116.40427130030426, 2160.526733908036, 531.6839836810769, 634.7805204792029, 695.1763396225628, 950.3470385210924, 2090.7739902712674, 1383.7243352525734, 409.4202261223885, 1740.5536141895857, 1918.2239019459319, 2010.4509313401447, 923.6209407211942, 2094.336203306564, 1182.415532375073, 715.2116321866489, 2069.5805737106925, 1628.5676445150539, 1538.265156477286, 5648.607891613648, 2367.9894182924063, 3731.1693433762266, 2232.77489545536, 3939.5788170226688, 2688.8051784444515, 6551.030968018434, 3669.469151865484, 1736.0661329534478, 1510.2959260220325, 1877.0577118328536, 2421.8635790004005, 3308.4508673497503, 2683.0707627582315, 3181.310473193893, 3400.5068701394343, 5564.766717304167, 2235.7622561012863, 2477.889755794406, 3548.082044740243, 3236.5897723610124, 96.24544208480512, 91.15260158730244, 82.18897260807726, 62.403220319819404, 57.50538143761875, 50.02108217427578, 43.96806337135059, 40.15424538860989, 38.208697811224944, 37.58847945409164, 36.82524241009919, 34.682120155581266, 33.45176833983733, 71.88734068094021, 31.948104624193633, 36.28693120042651, 176.76373052793892, 75.8855219248584, 31.00930778278395, 30.788785860308213, 30.381467417943192, 30.22512625100269, 29.294492489429125, 29.549420918901433, 28.782292804679262, 27.696502764412703, 29.017230654886585, 26.79083737368261, 26.747950986133752, 26.735115275498796, 76.10060357218343, 76.54275487630639, 44.09347062127769, 87.31772288917799, 81.89697496850077, 266.6327141887306, 58.52882392669754, 305.17005185547464, 354.70091590724934, 205.79702571754393, 71.72770766910212, 49.03743068202722, 200.69997440056267, 670.2613289317945, 1189.7717245076567, 162.86748938432544, 176.12558831841068, 625.4072498570667, 915.71593256174, 110.90767090271858, 301.11409631279315, 985.1559314624445, 1197.557471562434, 700.96535646818, 366.49515513629325, 213.7285877459221, 931.3452430104802, 571.2366364640554, 444.49469562500536, 509.31583030461263, 2182.7167640094403, 509.84874287014935, 212.75383107540569, 3070.2374749151213, 2492.2257807036463, 5357.237075561152, 1239.587599620836, 3548.082044740243, 274.05543681229256, 646.1262400475441, 815.5036925104762, 605.5870895973106, 879.8836875931356, 8287.051941092432, 3508.876092510657, 1896.687823086933, 1116.804906259267, 1400.67798568654, 1716.191533706581, 2564.1818327683254, 3811.326020513952, 1081.6609857947967, 1373.877842789166, 1170.230903181377, 1991.768625094659, 2440.056807184928, 3009.1795594933947, 5112.570755291236, 2352.2132901943514, 1950.3955701074565, 2321.362245104836, 2688.8051784444515, 3236.5897723610124, 5648.607891613648, 3669.469151865484, 3620.3449287577905, 4154.964618537929, 264.59288767180993, 237.3289949196389, 276.8175739810944, 200.1317364783289, 198.15029190947982, 174.58419919754076, 158.97341623533072, 140.28291509231093, 137.0672395152952, 131.43930575775732, 124.10666358523903, 120.96153527717779, 115.26978996540689, 115.1869077858537, 110.64135889707752, 102.5270476980953, 98.09749348006342, 96.32705571514784, 94.58970693427399, 91.69738736199875, 90.12579215937443, 80.30023854272656, 73.40676777757838, 82.09023775813354, 67.8337485341352, 65.89239714878387, 64.90166407321222, 64.19331195564911, 63.70505098649026, 62.8503689472711, 367.9237999023384, 616.9839113405416, 94.0794962480733, 94.42222857387827, 423.9562347768212, 116.0949535342554, 728.8932801876167, 270.740224831092, 165.52112105520567, 1047.8687468917549, 177.73695046300875, 377.8304645790675, 449.38247690555875, 418.8117715672679, 677.5225006011875, 2399.9259452218143, 343.6900511939483, 1158.8650438798343, 190.85771918897547, 862.1991245294454, 1682.6269444088687, 654.9356256699554, 2263.597441893283, 371.9943743698008, 1004.3103721743319, 1493.3430816294683, 1563.8220119922194, 6551.030968018434, 2421.8635790004005, 2055.5584654182844, 1689.029543566135, 921.265705214151, 5564.766717304167, 2267.351906981918, 2432.7942032977076, 1980.5953765219592, 1716.191533706581, 3318.624225917033, 1282.7798691980304, 2367.9894182924063, 1950.3955701074565, 1371.795111980838, 3939.5788170226688, 3731.1693433762266, 3117.370499251958, 2440.7401155908265, 1640.4246915077833, 3400.5068701394343, 1776.006947609858, 8287.051941092432, 128.2620266338709, 93.34629418647884, 76.0522035108501, 64.21248996843251, 57.06808807372747, 54.58622886974843, 51.111001350206756, 50.65171916971036, 49.22048454139997, 44.01883492739027, 43.81120292901387, 42.948965911419435, 42.79036916481316, 42.24368936353034, 42.13732690909676, 41.705802589764, 41.03156267331592, 36.77305553443077, 35.7615866964377, 35.133662013512435, 35.1130317554232, 34.64846020218908, 32.674546848941915, 32.572693307564606, 32.532631083973016, 31.807813906045972, 31.247493423595255, 29.617696370729522, 29.46479480563996, 94.57454262247975, 177.1379920285474, 99.50081596881128, 159.11568840917704, 156.05654820672078, 58.939967355329436, 209.93237355469958, 98.07229577941631, 343.09795388962414, 56.75956083339214, 57.26006761280477, 169.74940884532057, 468.52230560137303, 260.64890425939535, 379.2248218390891, 238.35294855061218, 139.03965824454338, 652.1953511568622, 72.14019236568285, 1019.2691644156687, 324.69135531385365, 1260.8759614824323, 768.0632855873243, 993.1017234806304, 1179.9721017964262, 285.24950141473056, 654.7839100300407, 3508.876092510657, 160.69105627781545, 372.47749091023144, 763.288916850602, 515.6969038945531, 5648.607891613648, 1115.427344062122, 1540.4714365763236, 1075.047532114741, 2725.6039892234185, 2022.8231587644918, 2313.8603986668136, 1182.415532375073, 8287.051941092432, 2688.8051784444515, 1628.5676445150539, 1222.148405453468, 3548.082044740243, 2732.483994044462, 923.6209407211942, 6551.030968018434, 3308.4508673497503, 3669.469151865484, 1512.4793325622575, 4023.6204493788773, 3236.5897723610124, 3939.5788170226688, 2094.336203306564, 2352.2132901943514, 2235.7622561012863, 2795.8731451525427, 3181.310473193893, 2564.1818327683254, 4055.7053433534224, 5564.766717304167, 4471.329795415454, 316.43761594566007, 237.60650972472595, 162.19930966953947, 145.85389233773844, 145.20421073959048, 559.4004551699788, 101.71313274685092, 163.24243709234082, 97.4160302783387, 74.59463484246218, 68.22574790934861, 74.72113120607129, 64.09594286280641, 62.932504692377734, 62.086588984824324, 67.04396331000476, 57.80966971329013, 55.93068368043254, 50.95829081286893, 50.70388214821759, 49.75572275570687, 49.09466786282723, 48.6677219976168, 48.09167562636872, 48.19702139610537, 51.815802264718386, 45.018725046831115, 51.58735038930157, 44.723467102492606, 44.80395141254436, 79.97983964879961, 143.33118734876314, 147.269856764635, 86.62438862511044, 139.62049354478282, 116.28747129538486, 140.83764433384718, 624.5052671964561, 573.4125845038296, 349.46641100911575, 1349.420181521569, 86.86429084697548, 772.4438643400879, 293.3874106070167, 156.81141558533685, 199.58476726977864, 296.01727105145926, 229.47059696449628, 1371.418605577044, 446.7632510459547, 320.6498059468878, 776.1587334537035, 542.9589764489021, 2079.732366224834, 438.38208048345973, 623.0207048146775, 2593.379334380466, 553.0256201217016, 1723.7065180162847, 1689.0370215252938, 2985.2279975572364, 881.2850095452188, 1602.3519192711342, 1600.2057351894935, 5251.352790267976, 3774.188019353595, 4154.964618537929, 1808.4081819465641, 2385.9288434192254, 3813.9707466672, 1276.694538575265, 2044.4631044789332, 4471.329795415454, 1973.1068440267668, 2477.571715635669, 7709.15725088701, 2319.2755330150185, 1502.2275950552746, 4703.910787558969, 3926.0606893452523, 5112.570755291236, 2798.738572657515, 3145.819733270336, 3409.074181346812, 3164.4756340116824, 164.9845341331622, 102.05991755073859, 99.20907077662766, 96.59634724450976, 94.44267152795663, 83.86478832484082, 76.79935665091986, 72.2799972142153, 72.0339864321989, 71.23413344358511, 58.464235495825776, 56.87736217859183, 52.60407924898109, 50.74997100545898, 49.742937755391154, 48.36721582957878, 46.50054968748555, 46.47062430168933, 46.07902088477638, 44.71586128853102, 44.15413435014374, 43.435468537754524, 43.12351643165993, 43.39308347867753, 41.67554588088767, 39.527849534363526, 39.0220153119695, 36.959028329463, 36.30020519239453, 36.09584411355853, 165.6302277381065, 184.88973413846068, 424.82466238614484, 469.86678710642866, 116.32437078454683, 276.4822164244981, 73.79468308563384, 106.78424933373856, 136.34620064255648, 88.30587870229895, 169.14752739588997, 953.9997265855055, 123.98303948231197, 103.50689843913435, 391.7158632745516, 80.85411336391621, 92.94905572447692, 717.8913478618913, 897.6500448235458, 106.81713986470692, 127.72100505808046, 967.3635507369899, 1844.9514555375815, 729.3104188431687, 1666.8911103458238, 288.3611250567733, 669.1139801540103, 836.957260671094, 470.34366756645255, 378.5211878958053, 2932.1727160533146, 214.18470525024895, 293.6268177719332, 2252.3685518003394, 1449.3512016383897, 1642.4033133335097, 493.16901440806583, 670.1685252282689, 2376.7911488319796, 2795.8731451525427, 993.0108899392841, 2404.3482034170424, 1142.6127157677822, 2377.884321269332, 2319.2755330150185, 2171.253196046544, 2278.410376640956, 5357.237075561152, 5251.352790267976, 3926.0606893452523, 2313.8603986668136, 1132.408478507159, 5112.570755291236, 3308.0992542229137, 3145.819733270336, 225.7460468334501, 192.85967751136428, 161.5627575080442, 161.2506133690352, 128.9395065139431, 123.26086293812091, 256.8807304484345, 88.39885734372626, 86.56967855312607, 86.98736507233498, 82.94770336661662, 65.78579230020007, 64.96783055427869, 64.63291364077017, 64.85216582079637, 63.043230120795556, 62.85780546578748, 57.76672307768376, 52.04325335810249, 51.39343906900526, 50.382945679673256, 50.13045798301054, 49.06945229385807, 46.955510329887574, 46.70294419985754, 46.807402413783244, 43.13699399591453, 42.56540588720467, 42.60168231998741, 41.92734231037503, 798.0167928856073, 186.7477842459479, 272.9873828813019, 60.38544533057544, 154.227441196048, 606.4737185213966, 3147.116480464516, 686.7732701743666, 388.6778443374474, 299.58261887240474, 194.11147196715817, 1811.5695622688447, 135.44925796909598, 320.2977996767649, 429.40075700049124, 304.9748594559145, 453.1209677217602, 385.40043609448566, 233.45584291976655, 1811.0266673326523, 406.53399990299096, 270.41997577115086, 1027.625669536711, 259.47057749469343, 344.07604083504685, 420.9988108574197, 1092.34355301507, 351.85617850895744, 1327.2996750166838, 1899.6409910787286, 655.1917404129648, 1062.7579418946937, 518.5463298772831, 1379.0249624491112, 1121.4476204121027, 669.0428417984511, 1973.1068440267668, 2725.6039892234185, 3181.310473193893, 1602.3519192711342, 3926.0606893452523, 3117.370499251958, 3308.4508673497503, 5251.352790267976, 5648.607891613648, 2440.7401155908265, 4471.329795415454, 3278.2115475724518, 2278.410376640956, 71.41409122251599, 60.37596468552259, 75.034032373969, 53.83120957470847, 54.45790717987017, 69.84719716407243, 56.03666844771493, 49.033698357788666, 49.099383265965045, 130.1203662224232, 44.220542701704076, 43.41906313123074, 43.39929132518659, 42.67209419061686, 45.87999475863005, 42.4183667438756, 85.60513764078104, 44.72045065811925, 38.463310770901955, 48.1403410481415, 39.02525445919519, 36.27658192570246, 33.748950101714996, 33.57185531719152, 33.42343182741468, 32.4181324136081, 31.737158082969437, 32.869990497055234, 55.18333590706237, 30.522717742033564, 75.77819070144352, 63.59212842455369, 434.7706181186493, 60.30885607623751, 356.6676471435464, 158.1019646437786, 82.73802884634293, 1014.2499533440389, 134.35742735191735, 93.15334293119288, 1351.6980977374546, 330.47541183423056, 542.7936890840958, 181.7303922271662, 71.58840322892694, 74.09919739112895, 267.01727077908674, 1255.3626781233256, 275.5127625783156, 250.06985991439333, 444.21229755238164, 649.364382459273, 2322.4938217463055, 1028.5139201491884, 967.3635507369899, 1301.0907139485946, 871.5042625434126, 1012.365567007533, 720.1725252964204, 1642.4033133335097, 921.2239311017465, 284.5409184315622, 839.140771359068, 2404.3482034170424, 1378.2008166548665, 4023.6204493788773, 774.6095787135822, 4471.329795415454, 1065.6603788163386, 3308.4508673497503, 1050.3793373099168, 2440.7401155908265, 1199.149514018271, 2399.9259452218143, 3308.0992542229137, 2486.986006452669, 1666.8911103458238, 8287.051941092432, 3236.5897723610124, 3164.4756340116824, 3400.5068701394343, 2166.5614509099114, 6551.030968018434, 3548.082044740243, 5112.570755291236, 5564.766717304167, 176.38058139860877, 168.75299377050237, 100.16886764360855, 87.67840136871409, 87.91917673766623, 208.92316914334708, 86.00171537432382, 97.21555631095242, 109.27744364610449, 68.17412760329805, 65.31230582960377, 64.50341314916794, 63.45235348855734, 59.69050212703814, 98.70120866023582, 48.22626864081934, 49.34230801233642, 42.92210668511433, 44.54724656895701, 275.7998006985957, 34.18012665103151, 33.91342059022406, 34.889027400303526, 260.03395330020396, 33.23263459974209, 32.390453897383, 30.537044080208478, 30.35697227257664, 29.712523660602365, 28.795888999956304, 194.18497952868825, 350.8813390699129, 68.63648812707925, 535.1847794484017, 75.16931847374101, 449.007419549643, 68.52723699512651, 229.80348179562114, 293.25093868984607, 1681.3357654712536, 123.67510216037596, 227.85154079493495, 187.06905884515933, 1153.3436010123205, 356.46217660831576, 1199.2289192509736, 1095.1728461731975, 258.52573789003475, 334.27579906274764, 134.5649207620575, 759.6671272401809, 465.2601985682203, 1526.6374637555632, 1155.5557883737965, 604.6795343812287, 966.6139383430486, 208.93533891857578, 332.70769880298246, 1164.6226007405603, 1642.231663532877, 1059.5531006350545, 8287.051941092432, 1024.3199809354867, 1689.0370215252938, 925.804262122837, 3620.3449287577905, 2593.379334380466, 1199.149514018271, 1160.7264395245816, 3811.326020513952, 1738.084117815089, 3939.5788170226688, 2932.1727160533146, 3278.2115475724518, 3308.0992542229137, 3164.4756340116824, 5564.766717304167, 3731.1693433762266, 3117.370499251958, 5112.570755291236], \"Category\": [\"Default\", \"Default\", \"Default\", \"Default\", \"Default\", \"Default\", \"Default\", \"Default\", \"Default\", \"Default\", \"Default\", \"Default\", \"Default\", \"Default\", \"Default\", \"Default\", \"Default\", \"Default\", \"Default\", \"Default\", \"Default\", \"Default\", \"Default\", \"Default\", \"Default\", \"Default\", \"Default\", \"Default\", \"Default\", \"Default\", \"Topic1\", \"Topic1\", \"Topic1\", \"Topic1\", \"Topic1\", \"Topic1\", \"Topic1\", \"Topic1\", \"Topic1\", \"Topic1\", \"Topic1\", \"Topic1\", \"Topic1\", \"Topic1\", \"Topic1\", \"Topic1\", \"Topic1\", \"Topic1\", \"Topic1\", \"Topic1\", \"Topic1\", \"Topic1\", \"Topic1\", \"Topic1\", \"Topic1\", \"Topic1\", \"Topic1\", \"Topic1\", \"Topic1\", \"Topic1\", \"Topic1\", \"Topic1\", \"Topic1\", \"Topic1\", \"Topic1\", \"Topic1\", \"Topic1\", \"Topic1\", \"Topic1\", \"Topic1\", \"Topic1\", \"Topic1\", \"Topic1\", \"Topic1\", \"Topic1\", \"Topic1\", \"Topic1\", \"Topic1\", \"Topic1\", \"Topic1\", \"Topic1\", \"Topic1\", \"Topic1\", \"Topic1\", \"Topic1\", \"Topic1\", \"Topic1\", \"Topic1\", \"Topic1\", \"Topic1\", \"Topic1\", \"Topic1\", \"Topic1\", \"Topic1\", \"Topic1\", \"Topic1\", \"Topic1\", \"Topic1\", \"Topic1\", \"Topic1\", \"Topic1\", \"Topic1\", \"Topic1\", \"Topic1\", \"Topic1\", \"Topic1\", \"Topic1\", \"Topic1\", \"Topic1\", \"Topic1\", \"Topic1\", \"Topic1\", \"Topic1\", \"Topic1\", \"Topic1\", \"Topic1\", \"Topic1\", \"Topic1\", \"Topic2\", \"Topic2\", \"Topic2\", \"Topic2\", \"Topic2\", \"Topic2\", \"Topic2\", \"Topic2\", \"Topic2\", \"Topic2\", \"Topic2\", \"Topic2\", \"Topic2\", \"Topic2\", \"Topic2\", \"Topic2\", \"Topic2\", \"Topic2\", \"Topic2\", \"Topic2\", \"Topic2\", \"Topic2\", \"Topic2\", \"Topic2\", \"Topic2\", \"Topic2\", \"Topic2\", \"Topic2\", \"Topic2\", \"Topic2\", \"Topic2\", \"Topic2\", \"Topic2\", \"Topic2\", \"Topic2\", \"Topic2\", \"Topic2\", \"Topic2\", \"Topic2\", \"Topic2\", \"Topic2\", \"Topic2\", \"Topic2\", \"Topic2\", \"Topic2\", \"Topic2\", \"Topic2\", \"Topic2\", \"Topic2\", \"Topic2\", \"Topic2\", \"Topic2\", \"Topic2\", \"Topic2\", \"Topic2\", \"Topic2\", \"Topic2\", \"Topic2\", \"Topic2\", \"Topic2\", \"Topic2\", \"Topic2\", \"Topic2\", \"Topic2\", \"Topic2\", \"Topic2\", \"Topic2\", \"Topic2\", \"Topic2\", \"Topic2\", \"Topic2\", \"Topic2\", \"Topic2\", \"Topic2\", \"Topic2\", \"Topic2\", \"Topic2\", \"Topic2\", \"Topic2\", \"Topic2\", \"Topic2\", \"Topic2\", \"Topic2\", \"Topic2\", \"Topic2\", \"Topic2\", \"Topic2\", \"Topic2\", \"Topic2\", \"Topic2\", \"Topic2\", \"Topic2\", \"Topic2\", \"Topic3\", \"Topic3\", \"Topic3\", \"Topic3\", \"Topic3\", \"Topic3\", \"Topic3\", \"Topic3\", \"Topic3\", \"Topic3\", \"Topic3\", \"Topic3\", \"Topic3\", \"Topic3\", \"Topic3\", \"Topic3\", \"Topic3\", \"Topic3\", \"Topic3\", \"Topic3\", \"Topic3\", \"Topic3\", \"Topic3\", \"Topic3\", \"Topic3\", \"Topic3\", \"Topic3\", \"Topic3\", \"Topic3\", \"Topic3\", \"Topic3\", \"Topic3\", \"Topic3\", \"Topic3\", \"Topic3\", \"Topic3\", \"Topic3\", \"Topic3\", \"Topic3\", \"Topic3\", \"Topic3\", \"Topic3\", \"Topic3\", \"Topic3\", \"Topic3\", \"Topic3\", \"Topic3\", \"Topic3\", \"Topic3\", \"Topic3\", \"Topic3\", \"Topic3\", \"Topic3\", \"Topic3\", \"Topic3\", \"Topic3\", \"Topic3\", \"Topic3\", \"Topic3\", \"Topic3\", \"Topic3\", \"Topic3\", \"Topic3\", \"Topic3\", \"Topic3\", \"Topic3\", \"Topic3\", \"Topic3\", \"Topic3\", \"Topic3\", \"Topic3\", \"Topic3\", \"Topic3\", \"Topic3\", \"Topic3\", \"Topic3\", \"Topic3\", \"Topic3\", \"Topic3\", \"Topic3\", \"Topic3\", \"Topic3\", \"Topic3\", \"Topic3\", \"Topic3\", \"Topic3\", \"Topic3\", \"Topic3\", \"Topic3\", \"Topic3\", \"Topic3\", \"Topic3\", \"Topic3\", \"Topic3\", \"Topic3\", \"Topic3\", \"Topic3\", \"Topic4\", \"Topic4\", \"Topic4\", \"Topic4\", \"Topic4\", \"Topic4\", \"Topic4\", \"Topic4\", \"Topic4\", \"Topic4\", \"Topic4\", \"Topic4\", \"Topic4\", \"Topic4\", \"Topic4\", \"Topic4\", \"Topic4\", \"Topic4\", \"Topic4\", \"Topic4\", \"Topic4\", \"Topic4\", \"Topic4\", \"Topic4\", \"Topic4\", \"Topic4\", \"Topic4\", \"Topic4\", \"Topic4\", \"Topic4\", \"Topic4\", \"Topic4\", \"Topic4\", \"Topic4\", \"Topic4\", \"Topic4\", \"Topic4\", \"Topic4\", \"Topic4\", \"Topic4\", \"Topic4\", \"Topic4\", \"Topic4\", \"Topic4\", \"Topic4\", \"Topic4\", \"Topic4\", \"Topic4\", \"Topic4\", \"Topic4\", \"Topic4\", \"Topic4\", \"Topic4\", \"Topic4\", \"Topic4\", \"Topic4\", \"Topic4\", \"Topic4\", \"Topic4\", \"Topic4\", \"Topic4\", \"Topic4\", \"Topic4\", \"Topic4\", \"Topic4\", \"Topic4\", \"Topic4\", \"Topic4\", \"Topic4\", \"Topic4\", \"Topic4\", \"Topic4\", \"Topic4\", \"Topic4\", \"Topic4\", \"Topic4\", \"Topic4\", \"Topic4\", \"Topic4\", \"Topic4\", \"Topic5\", \"Topic5\", \"Topic5\", \"Topic5\", \"Topic5\", \"Topic5\", \"Topic5\", \"Topic5\", \"Topic5\", \"Topic5\", \"Topic5\", \"Topic5\", \"Topic5\", \"Topic5\", \"Topic5\", \"Topic5\", \"Topic5\", \"Topic5\", \"Topic5\", \"Topic5\", \"Topic5\", \"Topic5\", \"Topic5\", \"Topic5\", \"Topic5\", \"Topic5\", \"Topic5\", \"Topic5\", \"Topic5\", \"Topic5\", \"Topic5\", \"Topic5\", \"Topic5\", \"Topic5\", \"Topic5\", \"Topic5\", \"Topic5\", \"Topic5\", \"Topic5\", \"Topic5\", \"Topic5\", \"Topic5\", \"Topic5\", \"Topic5\", \"Topic5\", \"Topic5\", \"Topic5\", \"Topic5\", \"Topic5\", \"Topic5\", \"Topic5\", \"Topic5\", \"Topic5\", \"Topic5\", \"Topic5\", \"Topic5\", \"Topic5\", \"Topic5\", \"Topic5\", \"Topic5\", \"Topic5\", \"Topic5\", \"Topic5\", \"Topic5\", \"Topic5\", \"Topic5\", \"Topic5\", \"Topic5\", \"Topic5\", \"Topic5\", \"Topic5\", \"Topic5\", \"Topic5\", \"Topic5\", \"Topic5\", \"Topic5\", \"Topic5\", \"Topic5\", \"Topic5\", \"Topic5\", \"Topic5\", \"Topic5\", \"Topic5\", \"Topic5\", \"Topic5\", \"Topic5\", \"Topic5\", \"Topic5\", \"Topic5\", \"Topic5\", \"Topic5\", \"Topic5\", \"Topic6\", \"Topic6\", \"Topic6\", \"Topic6\", \"Topic6\", \"Topic6\", \"Topic6\", \"Topic6\", \"Topic6\", \"Topic6\", \"Topic6\", \"Topic6\", \"Topic6\", \"Topic6\", \"Topic6\", \"Topic6\", \"Topic6\", \"Topic6\", \"Topic6\", \"Topic6\", \"Topic6\", \"Topic6\", \"Topic6\", \"Topic6\", \"Topic6\", \"Topic6\", \"Topic6\", \"Topic6\", \"Topic6\", \"Topic6\", \"Topic6\", \"Topic6\", \"Topic6\", \"Topic6\", \"Topic6\", \"Topic6\", \"Topic6\", \"Topic6\", \"Topic6\", \"Topic6\", \"Topic6\", \"Topic6\", \"Topic6\", \"Topic6\", \"Topic6\", \"Topic6\", \"Topic6\", \"Topic6\", \"Topic6\", \"Topic6\", \"Topic6\", \"Topic6\", \"Topic6\", \"Topic6\", \"Topic6\", \"Topic6\", \"Topic6\", \"Topic6\", \"Topic6\", \"Topic6\", \"Topic6\", \"Topic6\", \"Topic6\", \"Topic6\", \"Topic6\", \"Topic6\", \"Topic6\", \"Topic6\", \"Topic6\", \"Topic6\", \"Topic6\", \"Topic6\", \"Topic6\", \"Topic6\", \"Topic6\", \"Topic6\", \"Topic6\", \"Topic6\", \"Topic6\", \"Topic6\", \"Topic6\", \"Topic6\", \"Topic6\", \"Topic6\", \"Topic6\", \"Topic7\", \"Topic7\", \"Topic7\", \"Topic7\", \"Topic7\", \"Topic7\", \"Topic7\", \"Topic7\", \"Topic7\", \"Topic7\", \"Topic7\", \"Topic7\", \"Topic7\", \"Topic7\", \"Topic7\", \"Topic7\", \"Topic7\", \"Topic7\", \"Topic7\", \"Topic7\", \"Topic7\", \"Topic7\", \"Topic7\", \"Topic7\", \"Topic7\", \"Topic7\", \"Topic7\", \"Topic7\", \"Topic7\", \"Topic7\", \"Topic7\", \"Topic7\", \"Topic7\", \"Topic7\", \"Topic7\", \"Topic7\", \"Topic7\", \"Topic7\", \"Topic7\", \"Topic7\", \"Topic7\", \"Topic7\", \"Topic7\", \"Topic7\", \"Topic7\", \"Topic7\", \"Topic7\", \"Topic7\", \"Topic7\", \"Topic7\", \"Topic7\", \"Topic7\", \"Topic7\", \"Topic7\", \"Topic7\", \"Topic7\", \"Topic7\", \"Topic7\", \"Topic7\", \"Topic7\", \"Topic7\", \"Topic7\", \"Topic7\", \"Topic7\", \"Topic7\", \"Topic7\", \"Topic7\", \"Topic7\", \"Topic7\", \"Topic7\", \"Topic7\", \"Topic7\", \"Topic7\", \"Topic7\", \"Topic7\", \"Topic7\", \"Topic7\", \"Topic7\", \"Topic7\", \"Topic7\", \"Topic7\", \"Topic7\", \"Topic7\", \"Topic7\", \"Topic7\", \"Topic8\", \"Topic8\", \"Topic8\", \"Topic8\", \"Topic8\", \"Topic8\", \"Topic8\", \"Topic8\", \"Topic8\", \"Topic8\", \"Topic8\", \"Topic8\", \"Topic8\", \"Topic8\", \"Topic8\", \"Topic8\", \"Topic8\", \"Topic8\", \"Topic8\", \"Topic8\", \"Topic8\", \"Topic8\", \"Topic8\", \"Topic8\", \"Topic8\", \"Topic8\", \"Topic8\", \"Topic8\", \"Topic8\", \"Topic8\", \"Topic8\", \"Topic8\", \"Topic8\", \"Topic8\", \"Topic8\", \"Topic8\", \"Topic8\", \"Topic8\", \"Topic8\", \"Topic8\", \"Topic8\", \"Topic8\", \"Topic8\", \"Topic8\", \"Topic8\", \"Topic8\", \"Topic8\", \"Topic8\", \"Topic8\", \"Topic8\", \"Topic8\", \"Topic8\", \"Topic8\", \"Topic8\", \"Topic8\", \"Topic8\", \"Topic8\", \"Topic8\", \"Topic8\", \"Topic8\", \"Topic8\", \"Topic8\", \"Topic8\", \"Topic8\", \"Topic8\", \"Topic8\", \"Topic8\", \"Topic8\", \"Topic8\", \"Topic8\", \"Topic8\", \"Topic8\", \"Topic8\", \"Topic8\", \"Topic8\", \"Topic8\", \"Topic8\", \"Topic8\", \"Topic8\", \"Topic9\", \"Topic9\", \"Topic9\", \"Topic9\", \"Topic9\", \"Topic9\", \"Topic9\", \"Topic9\", \"Topic9\", \"Topic9\", \"Topic9\", \"Topic9\", \"Topic9\", \"Topic9\", \"Topic9\", \"Topic9\", \"Topic9\", \"Topic9\", \"Topic9\", \"Topic9\", \"Topic9\", \"Topic9\", \"Topic9\", \"Topic9\", \"Topic9\", \"Topic9\", \"Topic9\", \"Topic9\", \"Topic9\", \"Topic9\", \"Topic9\", \"Topic9\", \"Topic9\", \"Topic9\", \"Topic9\", \"Topic9\", \"Topic9\", \"Topic9\", \"Topic9\", \"Topic9\", \"Topic9\", \"Topic9\", \"Topic9\", \"Topic9\", \"Topic9\", \"Topic9\", \"Topic9\", \"Topic9\", \"Topic9\", \"Topic9\", \"Topic9\", \"Topic9\", \"Topic9\", \"Topic9\", \"Topic9\", \"Topic9\", \"Topic9\", \"Topic9\", \"Topic9\", \"Topic9\", \"Topic9\", \"Topic9\", \"Topic9\", \"Topic9\", \"Topic9\", \"Topic9\", \"Topic9\", \"Topic9\", \"Topic9\", \"Topic9\", \"Topic9\", \"Topic9\", \"Topic9\", \"Topic9\", \"Topic9\", \"Topic9\", \"Topic9\", \"Topic9\", \"Topic9\", \"Topic9\", \"Topic9\", \"Topic9\", \"Topic9\", \"Topic9\", \"Topic9\", \"Topic9\", \"Topic10\", \"Topic10\", \"Topic10\", \"Topic10\", \"Topic10\", \"Topic10\", \"Topic10\", \"Topic10\", \"Topic10\", \"Topic10\", \"Topic10\", \"Topic10\", \"Topic10\", \"Topic10\", \"Topic10\", \"Topic10\", \"Topic10\", \"Topic10\", \"Topic10\", \"Topic10\", \"Topic10\", \"Topic10\", \"Topic10\", \"Topic10\", \"Topic10\", \"Topic10\", \"Topic10\", \"Topic10\", \"Topic10\", \"Topic10\", \"Topic10\", \"Topic10\", \"Topic10\", \"Topic10\", \"Topic10\", \"Topic10\", \"Topic10\", \"Topic10\", \"Topic10\", \"Topic10\", \"Topic10\", \"Topic10\", \"Topic10\", \"Topic10\", \"Topic10\", \"Topic10\", \"Topic10\", \"Topic10\", \"Topic10\", \"Topic10\", \"Topic10\", \"Topic10\", \"Topic10\", \"Topic10\", \"Topic10\", \"Topic10\", \"Topic10\", \"Topic10\", \"Topic10\", \"Topic10\", \"Topic10\", \"Topic10\", \"Topic10\", \"Topic10\", \"Topic10\", \"Topic10\", \"Topic10\", \"Topic10\", \"Topic10\", \"Topic10\", \"Topic10\", \"Topic10\", \"Topic10\", \"Topic10\", \"Topic10\", \"Topic10\", \"Topic10\", \"Topic10\", \"Topic10\", \"Topic10\"], \"logprob\": [30.0, 29.0, 28.0, 27.0, 26.0, 25.0, 24.0, 23.0, 22.0, 21.0, 20.0, 19.0, 18.0, 17.0, 16.0, 15.0, 14.0, 13.0, 12.0, 11.0, 10.0, 9.0, 8.0, 7.0, 6.0, 5.0, 4.0, 3.0, 2.0, 1.0, -6.752999782562256, -6.752200126647949, -6.80079984664917, -7.231800079345703, -7.2515997886657715, -7.354899883270264, -7.371399879455566, -7.372700214385986, -7.3968000411987305, -7.398099899291992, -7.409800052642822, -7.5970001220703125, -7.617000102996826, -7.669400215148926, -7.692999839782715, -7.7378997802734375, -7.788400173187256, -7.7941999435424805, -7.8231000900268555, -7.847499847412109, -7.856400012969971, -7.9197001457214355, -7.93310022354126, -7.956099987030029, -7.962399959564209, -7.993800163269043, -8.036199569702148, -8.036499977111816, -8.037300109863281, -8.0447998046875, -6.784599781036377, -6.519899845123291, -6.975399971008301, -6.700099945068359, -7.5858001708984375, -6.520699977874756, -6.841700077056885, -5.911900043487549, -5.528900146484375, -6.5970001220703125, -7.272200107574463, -6.645899772644043, -7.18779993057251, -6.711299896240234, -6.330100059509277, -5.311299800872803, -6.018799781799316, -5.182300090789795, -6.5559000968933105, -5.092700004577637, -6.373300075531006, -5.706500053405762, -5.8130998611450195, -6.627699851989746, -6.561600208282471, -4.112299919128418, -5.923799991607666, -5.16949987411499, -4.826099872589111, -6.553699970245361, -5.291299819946289, -4.853799819946289, -4.674099922180176, -6.2519001960754395, -5.529300212860107, -5.625199794769287, -5.5233001708984375, -6.004799842834473, -5.448699951171875, -5.306099891662598, -6.366700172424316, -5.172399997711182, -5.395100116729736, -5.082900047302246, -4.841400146484375, -5.856400012969971, -5.3368000984191895, -5.232800006866455, -5.582099914550781, -5.123199939727783, -5.261899948120117, -5.18209981918335, -5.4095001220703125, -5.693600177764893, -5.456099987030029, -5.646699905395508, -5.663099765777588, -5.6880998611450195, -7.829999923706055, -7.886899948120117, -7.900599956512451, -8.089799880981445, -8.242799758911133, -7.977499961853027, -8.401200294494629, -8.40820026397705, -7.842599868774414, -8.476799964904785, -8.519399642944336, -8.553000450134277, -8.540399551391602, -8.60569953918457, -8.614100456237793, -8.63230037689209, -8.65779972076416, -8.297800064086914, -8.695500373840332, -8.741100311279297, -7.94350004196167, -8.760100364685059, -8.788200378417969, -8.796299934387207, -8.817399978637695, -8.835000038146973, -8.82919979095459, -8.859100341796875, -8.866299629211426, -8.881199836730957, -7.440999984741211, -8.455400466918945, -3.8938000202178955, -4.930699825286865, -8.197199821472168, -7.791800022125244, -7.795499801635742, -8.017999649047852, -5.036399841308594, -6.925600051879883, -7.756700038909912, -6.70359992980957, -5.722099781036377, -8.101200103759766, -6.996200084686279, -8.02079963684082, -7.674099922180176, -6.671899795532227, -7.587500095367432, -6.508699893951416, -6.394899845123291, -6.590099811553955, -6.874100208282471, -7.777699947357178, -5.485599994659424, -6.582600116729736, -6.444699764251709, -6.394599914550781, -6.15749979019165, -5.581999778747559, -5.916900157928467, -6.835299968719482, -5.7967000007629395, -5.740200042724609, -5.741300106048584, -6.28000020980835, -5.722400188446045, -6.133200168609619, -6.475299835205078, -5.7652997970581055, -5.926400184631348, -5.96750020980835, -5.118500232696533, -5.684100151062012, -5.400100231170654, -5.7316999435424805, -5.3867998123168945, -5.6305999755859375, -5.112400054931641, -5.470699787139893, -5.899499893188477, -5.9807000160217285, -5.869900226593018, -5.735400199890137, -5.598299980163574, -5.721399784088135, -5.644199848175049, -5.659800052642822, -5.468999862670898, -5.848800182342529, -5.817599773406982, -5.76609992980957, -5.833199977874756, -7.674600124359131, -7.729499816894531, -7.834000110626221, -8.112899780273438, -8.196200370788574, -8.337599754333496, -8.469099998474121, -8.561800003051758, -8.612600326538086, -8.629300117492676, -8.650400161743164, -8.711799621582031, -8.748900413513184, -7.984899997711182, -8.796199798583984, -8.668999671936035, -7.086100101470947, -7.93179988861084, -8.826899528503418, -8.834199905395508, -8.847999572753906, -8.853300094604492, -8.885499954223633, -8.876899719238281, -8.904399871826172, -8.943400382995605, -8.897500038146973, -8.977700233459473, -8.979399681091309, -8.979900360107422, -7.935100078582764, -7.935699939727783, -8.484299659729004, -7.812600135803223, -7.878200054168701, -6.724599838256836, -8.209799766540527, -6.62529993057251, -6.4980998039245605, -7.022200107574463, -8.024499893188477, -8.389200210571289, -7.052599906921387, -5.923799991607666, -5.441400051116943, -7.282100200653076, -7.222300052642822, -6.070000171661377, -5.72760009765625, -7.648499965667725, -6.752799987792969, -5.687099933624268, -5.518499851226807, -5.996500015258789, -6.593699932098389, -7.06850004196167, -5.789999961853027, -6.2347002029418945, -6.448999881744385, -6.340400218963623, -5.154300212860107, -6.369900226593018, -7.086900234222412, -4.917300224304199, -5.117300033569336, -4.518499851226807, -5.699699878692627, -4.904600143432617, -6.886300086975098, -6.235000133514404, -6.070700168609619, -6.303500175476074, -6.0366997718811035, -4.439300060272217, -5.100900173187256, -5.5391998291015625, -5.896999835968018, -5.7519001960754395, -5.626999855041504, -5.3871002197265625, -5.162600040435791, -5.93209981918335, -5.794400215148926, -5.893199920654297, -5.63539981842041, -5.576499938964844, -5.540999889373779, -5.327499866485596, -5.661600112915039, -5.7581000328063965, -5.729000091552734, -5.6930999755859375, -5.6834001541137695, -5.623600006103516, -5.720200061798096, -5.740499973297119, -5.737800121307373, -6.592700004577637, -6.7017998695373535, -6.5482001304626465, -6.873000144958496, -6.882999897003174, -7.010200023651123, -7.104400157928467, -7.230199813842773, -7.253499984741211, -7.29580020904541, -7.353700160980225, -7.37939977645874, -7.427999973297119, -7.428699970245361, -7.469299793243408, -7.54610013961792, -7.590700149536133, -7.609000205993652, -7.627399921417236, -7.65880012512207, -7.676199913024902, -7.792900085449219, -7.883699893951416, -7.771999835968018, -7.963699817657471, -7.993100166320801, -8.008399963378906, -8.019599914550781, -8.027299880981445, -8.041000366210938, -6.284299850463867, -5.7779998779296875, -7.642499923706055, -7.638999938964844, -6.177499771118164, -7.439700126647949, -5.728600025177002, -6.663899898529053, -7.123799800872803, -5.447199821472168, -7.066400051116943, -6.39169979095459, -6.248300075531006, -6.313399791717529, -5.900300025939941, -4.886300086975098, -6.5619001388549805, -5.583899974822998, -7.055699825286865, -5.931700229644775, -5.5157999992370605, -6.203400135040283, -5.377399921417236, -6.6057000160217285, -5.970600128173828, -5.714099884033203, -5.722599983215332, -4.83519983291626, -5.458199977874756, -5.5680999755859375, -5.723199844360352, -6.08489990234375, -5.120699882507324, -5.599699974060059, -5.590000152587891, -5.708899974822998, -5.847899913787842, -5.581600189208984, -6.010000228881836, -5.806600093841553, -5.885000228881836, -6.009399890899658, -5.749199867248535, -5.780399799346924, -5.823800086975098, -5.924499988555908, -5.989099979400635, -5.9217000007629395, -5.986800193786621, -5.973299980163574, -7.173399925231934, -7.49370002746582, -7.700799942016602, -7.872200012207031, -7.9918999671936035, -8.036999702453613, -8.103899955749512, -8.113200187683105, -8.14229965209961, -8.256099700927734, -8.26099967956543, -8.281200408935547, -8.28499984741211, -8.298199653625488, -8.300700187683105, -8.311200141906738, -8.327899932861328, -8.4399995803833, -8.468899726867676, -8.486800193786621, -8.48740005493164, -8.50100040435791, -8.561300277709961, -8.564499855041504, -8.565699577331543, -8.588899612426758, -8.607199668884277, -8.662300109863281, -8.667699813842773, -7.5015997886657715, -6.8831000328063965, -7.464000225067139, -7.021500110626221, -7.059800148010254, -8.003800392150879, -6.815100193023682, -7.541299819946289, -6.415299892425537, -8.054400444030762, -8.048600196838379, -7.081699848175049, -6.19920015335083, -6.751999855041504, -6.449100017547607, -6.859000205993652, -7.309899806976318, -6.032700061798096, -7.857699871063232, -5.686699867248535, -6.642399787902832, -5.562900066375732, -5.965700149536133, -5.766900062561035, -5.648399829864502, -6.764400005340576, -6.133900165557861, -4.842700004577637, -7.230000019073486, -6.619999885559082, -6.101600170135498, -6.38700008392334, -4.702300071716309, -5.8765997886657715, -5.671800136566162, -5.933300018310547, -5.3394999504089355, -5.550300121307373, -5.498300075531006, -5.92549991607666, -4.782599925994873, -5.501100063323975, -5.7870001792907715, -5.944900035858154, -5.390600204467773, -5.5406999588012695, -6.139699935913086, -5.203199863433838, -5.5355000495910645, -5.506100177764893, -5.909599781036377, -5.487299919128418, -5.583000183105469, -5.508999824523926, -5.78439998626709, -5.77839994430542, -5.810500144958496, -5.759099960327148, -5.732399940490723, -5.799600124359131, -5.735899925231934, -5.719399929046631, -5.799200057983398, -6.177700042724609, -6.465099811553955, -6.848499774932861, -6.9552998542785645, -6.959799766540527, -5.611199855804443, -7.318299770355225, -6.84689998626709, -7.36329984664917, -7.631199836730957, -7.721499919891357, -7.63070011138916, -7.784800052642822, -7.803299903869629, -7.8171000480651855, -7.740499973297119, -7.889400005340576, -7.922999858856201, -8.017499923706055, -8.022600173950195, -8.041999816894531, -8.055399894714355, -8.064299583435059, -8.076399803161621, -8.074199676513672, -8.001999855041504, -8.143600463867188, -8.007499694824219, -8.150300025939941, -8.148500442504883, -7.569399833679199, -6.996099948883057, -6.973800182342529, -7.495999813079834, -7.033699989318848, -7.211999893188477, -7.029900074005127, -5.596499919891357, -5.791100025177002, -6.32420015335083, -5.152100086212158, -7.557499885559082, -5.683899879455566, -6.514200210571289, -7.05019998550415, -6.857600212097168, -6.5503997802734375, -6.763599872589111, -5.339300155639648, -6.237599849700928, -6.4994001388549805, -5.816800117492676, -6.111400127410889, -5.10290002822876, -6.281300067901611, -6.036799907684326, -5.016600131988525, -6.140900135040283, -5.3470001220703125, -5.361800193786621, -5.022799968719482, -5.832499980926514, -5.474100112915039, -5.5, -4.808499813079834, -5.008900165557861, -4.954999923706055, -5.474100112915039, -5.339600086212158, -5.092599868774414, -5.709700107574463, -5.465700149536133, -5.086999893188477, -5.506700038909912, -5.428400039672852, -4.97790002822876, -5.490499973297119, -5.700300216674805, -5.303100109100342, -5.441699981689453, -5.383800029754639, -5.642099857330322, -5.63730001449585, -5.644599914550781, -5.6529998779296875, -6.5177001953125, -6.999300003051758, -7.0278000831604, -7.054800033569336, -7.077600002288818, -7.198200225830078, -7.286399841308594, -7.347799777984619, -7.351200103759766, -7.362500190734863, -7.56279993057251, -7.590700149536133, -7.670100212097168, -7.706600189208984, -7.7270002365112305, -7.755499839782715, -7.795599937438965, -7.796199798583984, -7.804900169372559, -7.8354997634887695, -7.848400115966797, -7.865099906921387, -7.872499942779541, -7.866499900817871, -7.907299995422363, -7.961400032043457, -7.974599838256836, -8.030099868774414, -8.048600196838379, -8.054300308227539, -6.535200119018555, -6.429999828338623, -5.61870002746582, -5.519999980926514, -6.8983001708984375, -6.101799964904785, -7.361199855804443, -7.01140022277832, -6.791999816894531, -7.199100017547607, -6.598999977111816, -5.039000034332275, -6.896699905395508, -7.073800086975098, -5.887199878692627, -7.297100067138672, -7.174699783325195, -5.4008002281188965, -5.20989990234375, -7.0605998039245605, -6.911099910736084, -5.257699966430664, -4.7393999099731445, -5.516499996185303, -4.931399822235107, -6.298500061035156, -5.660999774932861, -5.4934000968933105, -5.94789981842041, -6.138000011444092, -4.7870001792907715, -6.560800075531006, -6.359000205993652, -5.060400009155273, -5.386199951171875, -5.320899963378906, -6.057499885559082, -5.905900001525879, -5.180300235748291, -5.1529998779296875, -5.725500106811523, -5.285099983215332, -5.674600124359131, -5.327000141143799, -5.348499774932861, -5.382299900054932, -5.449999809265137, -5.178599834442139, -5.231299877166748, -5.370999813079834, -5.5543999671936035, -5.757999897003174, -5.509900093078613, -5.625400066375732, -5.6321001052856445, -6.1774001121521, -6.3354997634887695, -6.513400077819824, -6.515399932861328, -6.740300178527832, -6.785699844360352, -6.052499771118164, -7.1209001541137695, -7.141900062561035, -7.137199878692627, -7.186399936676025, -7.419600009918213, -7.432300090789795, -7.4375, -7.434100151062012, -7.462699890136719, -7.465799808502197, -7.551400184631348, -7.657299995422363, -7.670100212097168, -7.690299987792969, -7.695400238037109, -7.717199802398682, -7.7621002197265625, -7.767499923706055, -7.765500068664551, -7.848400115966797, -7.861999988555908, -7.861299991607666, -7.877500057220459, -4.945499897003174, -6.398600101470947, -6.0518999099731445, -7.521100044250488, -6.614500045776367, -5.307600021362305, -3.824399948120117, -5.242499828338623, -5.776899814605713, -6.021900177001953, -6.432700157165527, -4.361999988555908, -6.781400203704834, -6.004799842834473, -5.741099834442139, -6.053999900817871, -5.714200019836426, -5.859300136566162, -6.313499927520752, -4.557499885559082, -5.866000175476074, -6.206600189208984, -5.1234002113342285, -6.24399995803833, -6.027699947357178, -5.877699851989746, -5.164599895477295, -6.017399787902832, -5.082600116729736, -4.9029998779296875, -5.623499870300293, -5.307199954986572, -5.815899848937988, -5.26170015335083, -5.400400161743164, -5.74370002746582, -5.276599884033203, -5.213500022888184, -5.267199993133545, -5.594399929046631, -5.377699851989746, -5.550300121307373, -5.541900157928467, -5.469699859619141, -5.5005998611450195, -5.633200168609619, -5.638700008392334, -5.6722002029418945, -5.700900077819824, -7.33519983291626, -7.504700183868408, -7.2881999015808105, -7.621200084686279, -7.610099792480469, -7.361199855804443, -7.582099914550781, -7.71619987487793, -7.716599941253662, -6.742099761962891, -7.821499824523926, -7.840099811553955, -7.84060001373291, -7.857800006866455, -7.785399913787842, -7.864500045776367, -7.162399768829346, -7.812300205230713, -7.964000225067139, -7.7403998374938965, -7.950799942016602, -8.023900032043457, -8.097999572753906, -8.103300094604492, -8.10789966583252, -8.139300346374512, -8.161100387573242, -8.126299858093262, -7.609000205993652, -8.201199531555176, -7.293000221252441, -7.470300197601318, -5.693900108337402, -7.5665998458862305, -5.933000087738037, -6.688499927520752, -7.289299964904785, -5.107500076293945, -6.919099807739258, -7.233699798583984, -5.061100006103516, -6.219299793243408, -5.851600170135498, -6.723499774932861, -7.4517998695373535, -7.435200214385986, -6.490699768066406, -5.4359002113342285, -6.535699844360352, -6.652699947357178, -6.281700134277344, -6.039100170135498, -5.259900093078613, -5.836400032043457, -5.876299858093262, -5.716400146484375, -5.9745001792907715, -5.8933000564575195, -6.093299865722656, -5.633900165557861, -6.001299858093262, -6.62470006942749, -6.062900066375732, -5.538000106811523, -5.842899799346924, -5.338500022888184, -6.138800144195557, -5.370500087738037, -6.004899978637695, -5.5447001457214355, -6.036300182342529, -5.72629976272583, -6.008699893951416, -5.784800052642822, -5.683000087738037, -5.802000045776367, -5.92110013961792, -5.525599956512451, -5.758999824523926, -5.784299850463867, -5.790599822998047, -5.888000011444092, -5.787300109863281, -5.861199855804443, -5.832399845123291, -5.896100044250488, -6.36329984664917, -6.407700061798096, -6.932799816131592, -7.067200183868408, -7.064499855041504, -6.198999881744385, -7.086699962615967, -6.9644999504089355, -6.847899913787842, -7.321700096130371, -7.365099906921387, -7.377699851989746, -7.394400119781494, -7.456399917602539, -6.954400062561035, -7.673099994659424, -7.650599956512451, -7.791800022125244, -7.758900165557861, -5.936299800872803, -8.024800300598145, -8.03279972076416, -8.004500389099121, -5.996200084686279, -8.05370044708252, -8.079999923706055, -8.140600204467773, -8.14680004119873, -8.168800354003906, -8.201000213623047, -6.309999942779541, -5.744500160217285, -7.344900131225586, -5.349599838256836, -7.260700225830078, -5.5482001304626465, -7.3572998046875, -6.197299957275391, -5.969299793243408, -4.312900066375732, -6.794099807739258, -6.2347002029418945, -6.449399948120117, -4.825099945068359, -5.884300231933594, -4.843400001525879, -4.927000045776367, -6.186600208282471, -5.978400230407715, -6.75600004196167, -5.328100204467773, -5.745100021362305, -4.809700012207031, -5.047500133514404, -5.558300018310547, -5.2291998863220215, -6.400199890136719, -6.061500072479248, -5.155200004577637, -4.946599960327148, -5.254000186920166, -3.855299949645996, -5.3592000007629395, -5.109000205993652, -5.457200050354004, -4.838099956512451, -5.009500026702881, -5.451399803161621, -5.497799873352051, -5.039299964904785, -5.383399963378906, -5.141600131988525, -5.251699924468994, -5.219799995422363, -5.243800163269043, -5.267499923706055, -5.223299980163574, -5.449699878692627, -5.462800025939941, -5.447199821472168], \"loglift\": [30.0, 29.0, 28.0, 27.0, 26.0, 25.0, 24.0, 23.0, 22.0, 21.0, 20.0, 19.0, 18.0, 17.0, 16.0, 15.0, 14.0, 13.0, 12.0, 11.0, 10.0, 9.0, 8.0, 7.0, 6.0, 5.0, 4.0, 3.0, 2.0, 1.0, 1.5886, 1.5886, 1.5885, 1.5873, 1.5873, 1.5869, 1.5868, 1.5868, 1.5867, 1.5867, 1.5867, 1.5859, 1.5858, 1.5856, 1.5854, 1.5852, 1.5849, 1.5849, 1.5847, 1.5846, 1.5845, 1.5841, 1.584, 1.5839, 1.5838, 1.5836, 1.5833, 1.5833, 1.5833, 1.5833, 1.5827, 1.578, 1.5825, 1.5747, 1.5833, 1.5708, 1.5738, 1.5613, 1.5515, 1.5663, 1.5705, 1.5499, 1.5663, 1.5507, 1.5271, 1.481, 1.5136, 1.4658, 1.5312, 1.446, 1.5154, 1.4604, 1.4673, 1.5281, 1.5157, 1.3022, 1.4446, 1.3619, 1.2921, 1.505, 1.3375, 1.2713, 1.2344, 1.4673, 1.3475, 1.3487, 1.2912, 1.3928, 1.2531, 1.184, 1.4808, 1.1261, 1.1545, 1.0458, 0.9571, 1.308, 1.0909, 1.0368, 1.1596, 0.9336, 0.9686, 0.8505, 0.9356, 1.1835, 0.6331, 0.9406, 0.87, 0.1371, 1.9935, 1.9929, 1.9927, 1.9901, 1.9887, 1.9873, 1.9863, 1.9861, 1.9857, 1.985, 1.9841, 1.9836, 1.9835, 1.9825, 1.982, 1.982, 1.9814, 1.9813, 1.9806, 1.9796, 1.979, 1.9789, 1.9785, 1.9778, 1.9778, 1.9773, 1.9771, 1.9767, 1.9765, 1.9761, 1.938, 1.9652, 1.7539, 1.783, 1.9457, 1.9143, 1.9105, 1.9149, 1.6297, 1.7967, 1.8682, 1.7258, 1.567, 1.9059, 1.736, 1.893, 1.8279, 1.6102, 1.7908, 1.5494, 1.5043, 1.5449, 1.6035, 1.8299, 1.2009, 1.506, 1.4666, 1.4258, 1.3504, 1.1374, 1.2152, 1.5146, 1.106, 1.0653, 1.0172, 1.2563, 0.9953, 1.1562, 1.3168, 0.9643, 1.0428, 1.0588, 0.607, 0.9107, 0.7401, 0.9219, 0.6991, 0.8372, 0.4649, 0.6861, 1.0057, 1.0639, 0.9573, 0.837, 0.6621, 0.7485, 0.6554, 0.5732, 0.2715, 0.8035, 0.7319, 0.4244, 0.4492, 2.1232, 2.1226, 2.1216, 2.1181, 2.1166, 2.1146, 2.1121, 2.1102, 2.109, 2.1086, 2.1081, 2.1066, 2.1056, 2.1047, 2.1044, 2.1042, 2.1038, 2.1036, 2.1035, 2.1033, 2.1028, 2.1027, 2.1018, 2.1017, 2.1005, 2.1, 2.0992, 2.0989, 2.0988, 2.0988, 2.0975, 2.0911, 2.094, 2.0825, 2.081, 2.0541, 2.0854, 2.0185, 1.9953, 2.0156, 2.0673, 2.0829, 2.0103, 1.9332, 1.8417, 1.9896, 1.9711, 1.8562, 1.8173, 2.0075, 1.9044, 1.7847, 1.7581, 1.8158, 1.867, 1.9315, 1.7381, 1.7822, 1.8187, 1.7912, 1.522, 1.7606, 1.9176, 1.4179, 1.4265, 1.26, 1.5424, 1.2859, 1.865, 1.6587, 1.5902, 1.655, 1.5482, 0.903, 1.1007, 1.2776, 1.4494, 1.368, 1.2898, 1.1282, 0.9563, 1.4463, 1.3449, 1.4065, 1.1325, 0.9884, 0.8142, 0.4977, 0.9399, 1.0308, 0.8857, 0.7747, 0.599, 0.1019, 0.4366, 0.4298, 0.2948, 2.1938, 2.1934, 2.1931, 2.1927, 2.1927, 2.192, 2.1915, 2.1908, 2.1906, 2.1904, 2.1898, 2.1898, 2.1894, 2.1894, 2.1891, 2.1884, 2.188, 2.1879, 2.1877, 2.1874, 2.1872, 2.186, 2.185, 2.1849, 2.1839, 2.1836, 2.1833, 2.1832, 2.1831, 2.1829, 2.1725, 2.1618, 2.178, 2.1778, 2.1375, 2.1705, 2.0445, 2.0996, 2.1318, 1.9629, 2.118, 2.0385, 2.0085, 2.0138, 1.9459, 1.6951, 1.963, 1.7255, 2.0574, 1.6734, 1.4207, 1.6767, 1.2626, 1.8401, 1.482, 1.3418, 1.2872, 0.742, 1.1142, 1.1682, 1.2096, 1.4541, 0.6197, 1.0386, 0.9778, 1.0646, 1.0689, 0.6757, 1.1979, 0.7882, 0.9038, 1.1313, 0.3366, 0.3598, 0.4961, 0.6401, 0.9728, 0.3113, 0.8957, -0.6311, 2.3372, 2.3346, 2.3324, 2.3303, 2.3285, 2.3278, 2.3267, 2.3265, 2.3261, 2.3239, 2.3238, 2.3234, 2.3233, 2.3231, 2.323, 2.3228, 2.3224, 2.3199, 2.3189, 2.3187, 2.3187, 2.3184, 2.3167, 2.3167, 2.3167, 2.3161, 2.3156, 2.314, 2.3138, 2.3136, 2.3046, 2.3005, 2.2735, 2.2546, 2.2843, 2.2028, 2.2376, 2.1113, 2.2714, 2.2684, 2.1487, 2.0159, 2.0494, 1.9774, 2.0319, 2.12, 1.8516, 2.2283, 1.7512, 1.9394, 1.6622, 1.7551, 1.697, 1.643, 1.9469, 1.7465, 1.3589, 2.0552, 1.8245, 1.6254, 1.7321, 1.0232, 1.4711, 1.353, 1.4512, 1.1148, 1.2021, 1.1197, 1.3638, 0.5596, 0.9667, 1.1822, 1.3114, 0.7999, 0.911, 1.3967, 0.3741, 0.7249, 0.6507, 1.1335, 0.5775, 0.6994, 0.5769, 0.9333, 0.8231, 0.8418, 0.6697, 0.5673, 0.7157, 0.3209, 0.0211, 0.1601, 2.4298, 2.429, 2.4274, 2.4268, 2.4268, 2.4266, 2.4242, 2.4226, 2.4224, 2.4213, 2.4203, 2.4202, 2.4195, 2.4193, 2.419, 2.4189, 2.4181, 2.4176, 2.4161, 2.4161, 2.4156, 2.4155, 2.4153, 2.4152, 2.4151, 2.415, 2.414, 2.4138, 2.4138, 2.4138, 2.4135, 2.4034, 2.3985, 2.407, 2.392, 2.3966, 2.3871, 2.3312, 2.222, 2.184, 2.0051, 2.3428, 2.0312, 2.169, 2.2594, 2.2108, 2.1238, 2.1653, 1.8018, 2.025, 2.0949, 1.8935, 1.9562, 1.6217, 2.0002, 1.8932, 1.4873, 1.9083, 1.5655, 1.5709, 1.3404, 1.7507, 1.5113, 1.4867, 0.9899, 1.1199, 1.0776, 1.3904, 1.2477, 1.0257, 1.5029, 1.276, 0.8722, 1.2706, 1.1212, 0.4366, 1.1251, 1.3497, 0.6054, 0.6475, 0.4414, 0.7856, 0.6736, 0.5859, 0.6519, 2.7411, 2.7398, 2.7396, 2.7394, 2.739, 2.7373, 2.737, 2.7363, 2.7363, 2.7362, 2.7335, 2.7331, 2.7318, 2.7312, 2.7308, 2.7303, 2.7296, 2.7296, 2.7294, 2.7289, 2.7286, 2.7283, 2.7281, 2.7279, 2.7274, 2.7263, 2.726, 2.7247, 2.7243, 2.7241, 2.7197, 2.7149, 2.6942, 2.6922, 2.7099, 2.6407, 2.7022, 2.6824, 2.6575, 2.6848, 2.6349, 2.465, 2.6479, 2.6513, 2.5069, 2.675, 2.6579, 2.3875, 2.355, 2.6329, 2.6038, 2.2324, 2.105, 2.2561, 2.0145, 2.402, 2.1977, 2.1415, 2.2633, 2.2904, 1.5941, 2.437, 2.3234, 1.5845, 1.6996, 1.6399, 2.1063, 1.9512, 1.4108, 1.2757, 1.7385, 1.2945, 1.649, 1.2637, 1.2671, 1.2993, 1.1834, 0.5998, 0.5671, 0.7182, 1.0636, 1.5746, 0.3153, 0.6351, 0.6788, 2.7678, 2.7672, 2.7663, 2.7663, 2.765, 2.7647, 2.7636, 2.7619, 2.7618, 2.7617, 2.7601, 2.7587, 2.7585, 2.7584, 2.7584, 2.7581, 2.758, 2.7569, 2.7552, 2.755, 2.7547, 2.7546, 2.7542, 2.7534, 2.7534, 2.7531, 2.7518, 2.7516, 2.7515, 2.7513, 2.737, 2.7363, 2.7033, 2.7429, 2.7118, 2.6494, 2.486, 2.5901, 2.625, 2.6404, 2.6636, 2.5007, 2.6747, 2.5906, 2.5611, 2.5904, 2.5343, 2.5511, 2.5981, 2.3056, 2.491, 2.5581, 2.3063, 2.562, 2.4961, 2.4444, 2.204, 2.484, 2.0912, 1.9123, 2.2562, 2.0888, 2.2977, 1.8738, 1.9418, 2.1151, 1.5007, 1.2407, 1.0324, 1.391, 0.7115, 0.7696, 0.7186, 0.3287, 0.2249, 0.9314, 0.3206, 0.5974, 0.9326, 2.7609, 2.7594, 2.7586, 2.7576, 2.7572, 2.7572, 2.7566, 2.756, 2.7542, 2.7541, 2.754, 2.7536, 2.7536, 2.7533, 2.7532, 2.7526, 2.7525, 2.7519, 2.751, 2.7501, 2.7497, 2.7496, 2.7477, 2.7476, 2.7475, 2.7467, 2.7461, 2.7458, 2.745, 2.7449, 2.7439, 2.7418, 2.596, 2.6986, 2.5548, 2.613, 2.6597, 2.3352, 2.545, 2.5968, 2.0944, 2.3449, 2.2163, 2.4387, 2.6419, 2.6241, 2.2866, 1.7936, 2.2103, 2.1902, 1.9866, 1.8496, 1.3544, 1.5924, 1.6137, 1.4773, 1.6199, 1.5513, 1.6918, 1.3268, 1.5376, 2.0891, 1.5693, 1.0416, 1.2933, 0.7262, 1.5735, 0.5887, 1.3884, 0.7157, 1.3715, 0.8383, 1.2666, 0.7967, 0.5775, 0.7438, 1.0248, -0.1834, 0.5234, 0.5207, 0.4424, 0.7958, -0.21, 0.3293, -0.0072, -0.1556, 2.8287, 2.8285, 2.825, 2.8238, 2.8237, 2.8237, 2.8236, 2.8232, 2.8229, 2.8209, 2.8204, 2.8202, 2.8199, 2.8191, 2.8182, 2.8157, 2.8153, 2.8134, 2.8092, 2.8087, 2.8082, 2.808, 2.808, 2.8077, 2.8074, 2.8068, 2.8051, 2.8048, 2.8043, 2.8034, 2.7858, 2.7597, 2.7909, 2.7325, 2.7842, 2.7094, 2.7802, 2.7301, 2.7143, 2.6244, 2.7529, 2.7012, 2.6838, 2.4891, 2.6042, 2.4318, 2.439, 2.623, 2.5743, 2.7067, 2.4037, 2.4769, 2.2242, 2.2648, 2.4017, 2.2617, 2.6225, 2.4958, 2.1493, 2.0142, 2.1451, 1.4869, 2.0737, 1.8238, 2.0768, 1.3323, 1.4944, 1.8239, 1.8101, 1.0796, 1.5207, 0.9443, 1.1295, 1.0498, 1.0167, 1.0374, 0.5171, 0.6905, 0.8571, 0.378]}, \"token.table\": {\"Topic\": [1, 2, 3, 4, 5, 6, 8, 9, 10, 1, 2, 3, 4, 5, 6, 7, 8, 9, 10, 1, 2, 3, 4, 5, 6, 7, 8, 9, 10, 5, 6, 2, 9, 1, 2, 3, 4, 5, 6, 7, 8, 9, 10, 1, 2, 3, 4, 5, 6, 7, 8, 9, 10, 1, 2, 3, 4, 5, 6, 8, 9, 10, 6, 1, 2, 3, 4, 5, 6, 7, 8, 9, 10, 2, 3, 5, 7, 8, 9, 8, 8, 3, 6, 9, 1, 2, 3, 4, 5, 6, 7, 9, 1, 2, 3, 4, 5, 7, 8, 9, 4, 1, 2, 3, 4, 5, 6, 7, 8, 9, 10, 2, 3, 4, 5, 9, 4, 5, 9, 3, 1, 2, 3, 4, 5, 7, 8, 9, 10, 8, 9, 1, 2, 3, 4, 5, 7, 9, 1, 2, 3, 4, 5, 6, 7, 8, 9, 4, 7, 1, 2, 3, 4, 5, 6, 7, 8, 9, 10, 6, 2, 3, 4, 5, 9, 10, 2, 5, 9, 2, 3, 1, 2, 3, 4, 5, 9, 1, 1, 2, 3, 4, 5, 6, 7, 8, 9, 10, 2, 3, 5, 9, 5, 8, 9, 7, 9, 7, 1, 4, 5, 6, 7, 8, 10, 8, 10, 6, 1, 8, 1, 2, 3, 4, 5, 6, 7, 8, 9, 10, 5, 7, 3, 5, 7, 3, 7, 8, 2, 3, 5, 8, 9, 1, 6, 1, 2, 3, 4, 5, 6, 7, 8, 9, 10, 8, 1, 2, 3, 4, 5, 6, 8, 9, 10, 10, 5, 2, 3, 4, 5, 8, 9, 1, 4, 2, 5, 9, 2, 3, 5, 8, 8, 4, 3, 3, 4, 8, 9, 10, 1, 3, 4, 5, 9, 1, 2, 3, 4, 5, 6, 7, 8, 9, 10, 1, 7, 8, 1, 2, 6, 8, 4, 2, 3, 4, 5, 4, 3, 2, 3, 4, 5, 6, 9, 10, 2, 1, 2, 3, 4, 5, 6, 7, 9, 10, 9, 9, 2, 5, 9, 2, 5, 6, 7, 1, 2, 5, 6, 7, 9, 1, 2, 3, 4, 5, 7, 9, 10, 1, 2, 3, 4, 5, 6, 7, 8, 9, 10, 1, 1, 2, 3, 5, 6, 7, 9, 10, 1, 6, 1, 2, 3, 4, 5, 7, 9, 10, 2, 3, 4, 5, 6, 9, 8, 2, 3, 4, 5, 6, 7, 8, 9, 1, 6, 8, 1, 2, 3, 4, 5, 6, 8, 9, 7, 1, 2, 3, 4, 5, 6, 7, 8, 10, 9, 6, 2, 3, 5, 9, 6, 6, 1, 3, 6, 9, 10, 1, 3, 10, 6, 7, 2, 3, 4, 5, 8, 9, 4, 5, 8, 1, 3, 10, 2, 3, 4, 5, 6, 7, 8, 9, 9, 4, 8, 9, 1, 2, 3, 5, 8, 9, 1, 2, 3, 4, 5, 8, 9, 2, 4, 6, 1, 4, 6, 8, 1, 6, 10, 1, 2, 3, 4, 6, 7, 8, 3, 5, 7, 8, 1, 6, 7, 1, 2, 4, 6, 7, 9, 1, 7, 5, 1, 6, 8, 3, 2, 3, 4, 7, 8, 9, 1, 2, 3, 5, 6, 7, 8, 9, 10, 10, 2, 5, 8, 9, 10, 1, 2, 3, 4, 5, 6, 7, 8, 9, 10, 8, 10, 4, 10, 1, 1, 1, 2, 3, 4, 5, 6, 7, 8, 9, 10, 3, 1, 2, 3, 5, 6, 1, 2, 3, 4, 5, 6, 7, 8, 9, 9, 2, 3, 4, 7, 8, 1, 3, 5, 7, 9, 7, 3, 4, 1, 4, 5, 6, 10, 3, 4, 5, 2, 3, 4, 5, 6, 7, 8, 9, 10, 1, 5, 6, 2, 3, 4, 7, 8, 9, 7, 2, 3, 4, 5, 8, 9, 7, 9, 10, 2, 3, 5, 7, 8, 9, 1, 2, 5, 8, 9, 1, 2, 3, 4, 5, 7, 8, 9, 2, 3, 5, 7, 8, 9, 1, 10, 1, 2, 3, 4, 5, 6, 7, 8, 9, 10, 1, 2, 3, 4, 5, 6, 7, 9, 10, 5, 1, 4, 8, 9, 9, 7, 5, 7, 5, 7, 5, 1, 2, 3, 4, 5, 6, 8, 9, 10, 2, 2, 5, 2, 2, 2, 3, 4, 5, 8, 9, 2, 3, 4, 5, 7, 8, 9, 10, 1, 2, 3, 4, 5, 6, 7, 8, 9, 10, 2, 2, 4, 3, 2, 3, 4, 5, 6, 7, 8, 9, 10, 1, 6, 7, 1, 2, 3, 4, 5, 6, 7, 9, 10, 1, 2, 3, 4, 5, 6, 7, 8, 9, 10, 1, 2, 3, 4, 5, 8, 2, 3, 4, 2, 4, 5, 9, 10, 2, 3, 4, 5, 9, 10, 6, 7, 8, 1, 2, 3, 4, 5, 6, 7, 8, 9, 10, 8, 1, 2, 4, 5, 8, 2, 3, 4, 5, 9, 2, 5, 1, 2, 3, 4, 5, 6, 7, 8, 9, 10, 2, 3, 5, 1, 2, 3, 6, 8, 10, 1, 2, 3, 4, 5, 6, 7, 8, 9, 10, 3, 1, 6, 1, 6, 8, 9, 1, 2, 3, 4, 5, 6, 7, 8, 9, 10, 1, 7, 9, 7, 1, 4, 6, 7, 9, 10, 1, 2, 4, 5, 6, 7, 8, 9, 7, 1, 1, 2, 3, 4, 5, 6, 7, 8, 9, 10, 1, 5, 1, 6, 7, 8, 1, 1, 1, 3, 5, 6, 9, 2, 3, 4, 9, 3, 4, 2, 5, 8, 9, 1, 4, 6, 8, 9, 10, 1, 6, 1, 2, 3, 4, 5, 6, 7, 8, 9, 10, 6, 5, 8, 5, 7, 1, 6, 7, 8, 4, 7, 5, 8, 10, 1, 2, 3, 4, 5, 8, 9, 10, 4, 1, 6, 1, 4, 5, 7, 10, 5, 1, 1, 2, 3, 4, 5, 6, 7, 8, 9, 10, 1, 2, 3, 4, 5, 6, 7, 8, 9, 10, 9, 1, 2, 3, 4, 5, 7, 8, 9, 10, 1, 2, 3, 4, 5, 6, 7, 8, 9, 10, 1, 6, 7, 4, 6, 5, 1, 4, 6, 7, 8, 9, 10, 6, 9, 10, 2, 3, 4, 5, 9, 3, 1, 2, 3, 4, 5, 6, 8, 9, 10, 1, 6, 10, 1, 2, 3, 4, 6, 7, 8, 2, 3, 4, 6, 7, 8, 9, 10, 1, 3, 5, 6, 8, 10, 1, 5, 6, 10, 2, 5, 2, 3, 5, 7, 9, 5, 2, 3, 5, 8, 9, 2, 3, 4, 5, 6, 10, 1, 1, 2, 3, 4, 5, 6, 7, 8, 9, 10, 8, 2, 3, 4, 6, 9, 10, 1, 3, 5, 6, 7, 8, 9, 2, 9, 4, 1, 2, 3, 5, 6, 7, 8, 10, 7, 2, 3, 4, 6, 8, 9, 10, 2, 6, 6, 2, 8, 9, 1, 2, 3, 5, 6, 7, 10, 1, 4, 6, 8, 3, 9, 2, 2, 5, 9, 1, 2, 3, 4, 5, 6, 7, 8, 9, 10, 8, 3, 5, 8, 2, 3, 5, 8, 10, 4, 8, 1, 2, 3, 4, 5, 6, 7, 8, 9, 10, 1, 9, 3, 9, 2, 3, 4, 5, 6, 9, 10, 7, 9, 2, 6, 10, 7, 9, 2, 1, 3, 4, 5, 9, 1, 2, 3, 4, 5, 8, 9, 3, 5, 2, 5, 9, 3, 1, 2, 3, 5, 8, 9, 1, 6, 7, 8, 1, 2, 3, 5, 9, 9, 2, 1, 2, 3, 4, 5, 6, 7, 9, 10, 7, 9, 1, 2, 3, 4, 5, 6, 7, 8, 9, 10, 1, 2, 3, 4, 5, 6, 7, 8, 9, 10, 9, 10, 2, 4, 2, 3, 4, 5, 7, 9, 3, 7, 2, 2, 3, 4, 5, 8, 9, 10, 8, 9, 3, 4, 7, 7, 5, 1, 2, 3, 4, 5, 6, 7, 9, 10, 1, 7, 8, 9, 10, 3, 4, 1, 2, 6, 8, 10, 1, 2, 3, 6, 10, 1, 2, 3, 6, 7, 9, 10, 2, 4, 5, 8, 9, 10, 1, 3, 4, 6, 8, 4, 10, 1, 2, 3, 4, 5, 6, 7, 8, 9, 10, 1, 2, 3, 4, 5, 6, 7, 8, 9, 10, 4, 2, 4, 6, 6, 5, 8, 7, 4, 1, 2, 6, 4, 1, 2, 3, 4, 5, 6, 9, 10, 8, 8, 1, 6, 3, 1, 1, 2, 3, 4, 5, 6, 7, 9, 2, 1, 2, 3, 4, 5, 9, 10, 10, 4, 6, 10, 6, 4, 5, 2, 8, 2, 2, 3, 5, 9, 1, 2, 3, 4, 5, 6, 7, 8, 9, 10, 9, 1, 2, 3, 6, 7, 8, 9, 10, 4, 1, 2, 3, 4, 5, 6, 8, 9, 10, 1, 2, 3, 5, 6, 7, 8, 9, 10, 1, 2, 3, 4, 5, 6, 7, 8, 9, 10, 10, 1, 2, 3, 4, 5, 6, 8, 9, 10, 3, 5, 2, 4, 5, 9, 2, 7, 5, 7, 1, 2, 3, 4, 5, 7, 8, 9, 2, 4, 5, 6, 7, 8, 9, 6, 7, 8, 1, 2, 3, 4, 5, 6, 7, 8, 9, 1, 2, 3, 4, 5, 6, 7, 8, 9, 10, 7, 9, 8, 2, 3, 4, 5, 6, 7, 8, 9, 5, 8, 1, 3, 5, 6, 7, 9, 3, 1, 2, 3, 4, 5, 6, 7, 8, 9, 2, 10, 2, 1, 2, 3, 4, 5, 6, 7, 8, 9, 10, 1, 2, 3, 5, 6, 7, 8, 9, 2, 9, 1, 2, 3, 4, 5, 6, 7, 8, 9, 10, 1, 6, 9, 10, 1, 2, 3, 4, 5, 6, 7, 8, 9, 10, 2, 3, 4, 5, 6, 7, 8, 9, 10, 2, 3, 5, 7, 5, 1, 2, 3, 5, 7, 9, 3, 4, 9, 10, 10, 2, 1, 5, 9, 1, 2, 3, 5, 6, 7, 8, 9, 2, 6, 6, 2, 4, 5, 1, 1, 2, 3, 4, 5, 6, 7, 8, 9, 1, 1, 2, 3, 4, 5, 6, 7, 8, 9, 10, 2, 3, 8, 9, 1, 2, 3, 4, 5, 6, 1, 6, 1, 2, 3, 4, 5, 6, 7, 8, 9, 10, 1, 2, 3, 4, 5, 9, 10, 1, 2, 3, 4, 5, 6, 8, 10, 2, 3, 4, 7, 8, 9, 10, 1, 2, 3, 4, 7, 9, 10, 2, 3, 4, 5, 8, 9, 2, 3, 4, 9, 10, 2, 3, 4, 5, 8, 8, 4, 1, 2, 3, 4, 5, 6, 7, 9, 2, 3, 4, 5, 7, 9, 1, 2, 3, 4, 5, 6, 7, 8, 9, 10, 1, 6, 7, 8, 9, 2, 3, 4, 5, 6, 7, 8, 9, 10, 1, 3, 1, 3, 4, 6, 7, 9, 10, 1, 2, 3, 4, 5, 6, 9, 10, 9, 4, 6, 1, 2, 3, 5, 6, 9, 1, 3, 5, 6, 7, 9, 10, 5, 7, 5, 2, 3, 5, 9, 5, 5, 2, 3, 5, 8, 9, 1, 2, 3, 5, 6, 9, 10, 1, 2, 3, 4, 5, 6, 7, 8, 9, 10, 3, 3, 4, 5, 10, 1, 2, 3, 4, 5, 6, 7, 8, 9, 1, 2, 3, 4, 5, 6, 7, 8, 9, 10, 8, 7, 7, 1, 1, 2, 3, 4, 5, 6, 7, 8, 9, 10, 1, 6, 7, 1, 2, 6, 7, 9, 1, 7, 10, 6, 1, 6, 2, 1, 2, 3, 4, 5, 6, 7, 8, 9, 10, 7, 9, 2, 2, 2, 4, 1, 2, 3, 4, 5, 6, 7, 8, 9, 10, 1, 3, 4, 9, 10, 3, 9, 10, 10, 5, 1, 2, 3, 4, 5, 7, 9, 1, 2, 3, 4, 5, 6, 7, 8, 9, 10, 4, 8, 9, 1, 2, 3, 4, 5, 6, 7, 8, 9, 10, 2, 5, 8, 9, 7, 1, 6, 1, 6, 1, 9, 6, 9, 10, 9, 6, 1, 3, 9, 10, 2, 5, 9, 1, 2, 3, 4, 5, 6, 7, 8, 9, 10, 8, 1, 2, 3, 4, 5, 6, 7, 8, 9, 10, 2, 5, 6, 1, 6, 1, 6, 2, 3, 4, 5, 6, 8, 9, 1, 4, 5, 8, 9, 1, 1, 2, 3, 4, 5, 6, 7, 8, 9, 10, 1, 2, 3, 4, 5, 6, 7, 8, 9, 10, 1, 2, 3, 4, 5, 6, 7, 8, 9, 10, 1, 2, 3, 4, 5, 6, 7, 8, 9, 10, 3, 5, 2, 5, 8, 9, 5, 4, 4, 5, 1, 2, 6, 7, 8, 9, 1, 6, 7, 8, 10, 1, 2, 3, 4, 5, 6, 7, 8, 9, 10, 1, 2, 3, 4, 5, 6, 7, 8, 9, 1, 2, 3, 4, 5, 6, 7, 8, 9, 10, 2, 3, 4, 5, 6, 9, 10, 10, 1, 2, 3, 4, 5, 6, 7, 8, 9, 10, 1, 2, 3, 4, 5, 6, 7, 8, 10, 4, 1, 6, 1, 2, 3, 4, 5, 7, 9, 1, 3, 4, 6, 7, 8, 9, 10, 2, 2, 6, 2, 3, 4, 5, 6, 7, 8, 9, 10, 3, 7, 2, 3, 5, 8, 9, 10, 7, 7, 2, 2, 3, 4, 5, 9, 2, 3, 4, 5, 6, 7, 9, 10, 1, 2, 3, 4, 5, 6, 8, 9, 10, 2, 3, 5, 9, 6, 2, 3, 4, 5, 6, 8, 9, 10, 8, 2, 3, 4, 5, 6, 8, 9, 6, 4, 1, 4, 6, 7, 8, 9, 10, 2, 3, 4, 5, 6, 8, 9, 10, 5, 8, 9, 6, 2, 3, 4, 5, 6, 7, 8, 9, 10, 1, 2, 3, 6, 9, 1, 2, 3, 5, 6, 7, 8, 9, 1, 2, 3, 5, 6, 7, 8, 9, 10, 4, 1, 2, 3, 4, 5, 6, 7, 8, 9, 10, 2, 3, 4, 5, 7, 9, 1, 2, 3, 4, 5, 9, 10, 1, 1, 7, 1, 2, 3, 4, 5, 6, 7, 8, 9, 10, 2, 3, 4, 5, 6, 7, 8, 9, 10, 8, 9, 9, 2, 3, 4, 5, 8, 9, 10, 1, 2, 3, 4, 5, 6, 7, 8, 9, 10, 1, 3, 6, 8, 10, 1, 10, 9, 1, 2, 3, 4, 6, 10, 3, 9, 1, 8, 1, 1, 2, 3, 4, 5, 6, 7, 8, 9, 10, 2, 3, 2, 3, 4, 10, 1, 6, 1, 7, 9, 1, 6, 10, 10, 1, 2, 3, 4, 5, 6, 7, 8, 9, 10, 1, 6, 8, 10, 1, 2, 3, 4, 5, 6, 7, 8, 9, 10, 5, 3, 4, 1, 2, 5, 2, 1, 6, 7, 8, 10, 1, 2, 3, 4, 5, 6, 7, 10, 1, 2, 3, 4, 5, 6, 7, 8, 9, 10, 3, 1, 2, 3, 4, 5, 6, 7, 8, 9, 10, 1, 2, 3, 4, 5, 6, 7, 8, 9, 10, 1, 2, 3, 4, 5, 6, 7, 8, 9, 10, 1, 3, 4, 5, 6, 7, 8, 10, 4, 9, 1, 2, 3, 5, 6, 7, 8, 9, 10, 1, 2, 7, 1, 2, 3, 4, 5, 6, 7, 8, 9, 10, 1, 2, 3, 5, 6, 7, 8, 9, 10, 7, 2, 3, 5, 10, 1, 2, 3, 5, 6, 9, 1, 1, 3, 4, 5, 6, 7, 9, 10, 5, 9, 10, 1, 6, 3, 5, 10, 9, 1, 6, 1, 5, 2, 3, 4, 5, 6, 8, 9, 10, 1, 2, 3, 4, 5, 6, 7, 8, 9, 10, 1, 2, 3, 4, 5, 6, 7, 8, 9, 1, 2, 5, 7, 8, 8, 7, 1, 6, 7, 8, 8, 1, 6, 6, 5, 7, 7, 2, 3, 4, 5, 9, 10, 5, 2, 3, 4, 5, 8, 9, 10, 7, 3, 1, 10, 1, 8, 8, 1, 10, 1, 6, 2, 3, 5, 8, 9, 3, 9, 10, 8, 1, 2, 3, 4, 5, 6, 7, 8, 9, 10, 1, 6, 1, 5, 6, 8, 10, 2, 3, 5, 9, 1, 2, 3, 4, 5, 6, 7, 8, 9, 10, 2, 3, 4, 5, 8, 9, 10, 1, 9, 10, 2, 5, 9, 1, 2, 3, 4, 5, 6, 7, 8, 9, 10, 4, 4, 1, 4, 6, 8, 10, 1, 2, 3, 4, 5, 7, 9, 10, 1, 3, 4, 6, 9, 10, 7, 1, 2, 3, 4, 5, 6, 8, 9, 10, 3, 1, 4, 6, 7, 8, 9, 10, 3, 1, 3, 5, 9, 10, 1, 2, 3, 4, 5, 7, 9, 1, 3, 10, 1, 3, 6, 8, 9, 10, 1, 2, 3, 4, 5, 6, 7, 8, 9, 10, 3, 5, 7, 5, 1, 2, 3, 4, 5, 6, 7, 8, 9, 10, 2, 3, 5, 9, 9, 1, 2, 3, 4, 5, 6, 8, 10, 1, 3, 4, 6, 10, 3, 1, 6, 10, 1, 2, 4, 5, 6, 9, 1, 2, 3, 4, 5, 6, 7, 8, 9, 10, 2, 8, 9, 2, 4, 1, 6, 7, 1, 2, 3, 4, 9, 1, 3, 4, 6, 7, 9, 3, 5, 1, 2, 6, 1, 2, 3, 4, 5, 6, 7, 8, 9, 10, 1, 2, 3, 5, 1, 2, 3, 4, 5, 6, 7, 8, 9, 10, 2, 3, 4, 5, 7, 8, 9, 10, 9, 7, 1, 2, 3, 4, 5, 6, 7, 8, 9, 10, 1, 7, 3, 7, 7, 5, 1, 2, 3, 5, 7, 8, 9, 1, 2, 3, 4, 5, 6, 7, 8, 9, 9, 3, 1, 2, 3, 4, 5, 6, 7, 8, 10, 3, 5, 6, 7, 8, 2, 3, 4, 5, 7, 10, 1, 2, 3, 4, 5, 6, 8, 4, 7, 8, 2, 5, 8, 8, 3, 4, 6, 7, 8, 9, 1, 1, 4, 5, 7, 8, 1, 6, 1, 2, 3, 4, 5, 6, 7, 8, 9, 4, 3, 7, 4, 6, 2, 3, 5, 7, 9, 10, 5, 1, 2, 3, 4, 5, 7, 8, 9, 10, 4, 5, 6, 4, 1, 2, 3, 4, 5, 6, 7, 8, 9, 10, 2, 3, 4, 5, 8, 9, 10, 3, 2, 3, 9, 10, 3, 1, 2, 3, 4, 5, 6, 7, 8, 9, 10, 1, 2, 3, 4, 5, 6, 7, 8, 9, 10, 1, 2, 3, 4, 5, 6, 7, 8, 9, 10, 1, 2, 3, 4, 5, 6, 9, 10, 3, 4, 9, 10, 1, 2, 3, 4, 5, 6, 7, 8, 9, 10, 1, 2, 5, 6, 10, 1, 2, 3, 4, 5, 6, 7, 8, 9, 10, 2, 3, 5, 9, 10, 1, 2, 3, 4, 5, 6, 7, 8, 9, 10, 7, 9, 2], \"Freq\": [0.09148973631133993, 0.1492727276658704, 0.004815249279544207, 0.025681329490902436, 0.016050830931814024, 0.582645162824849, 0.08667448703179573, 0.03210166186362805, 0.009630498559088414, 0.1959148709849541, 0.1323990908939416, 0.06351578009101252, 0.01722082770073227, 0.11249449783725106, 0.21000463910373507, 0.014537062344773992, 0.08610413850366135, 0.11249449783725106, 0.05479354268414813, 0.2049890027628615, 0.2851210674792528, 0.050688189774089384, 0.08833162482690576, 0.09317681943766432, 0.10659428143668798, 0.020871607554036806, 0.05329714071834399, 0.07230521188362751, 0.024598680331543377, 0.973009039905395, 0.9838235461299403, 0.9681525405270716, 0.964809751692786, 0.17973308497908755, 0.11449663191260392, 0.010650849480242225, 0.12115341283775531, 0.08587247393445295, 0.3388301490902058, 0.05192289121618085, 0.05258856930869599, 0.027292801793120703, 0.017307630405393615, 0.171238815556363, 0.1302309714826331, 0.11879848161965387, 0.08499807680736741, 0.17099028316803738, 0.06735227723624727, 0.04150490885038116, 0.051197671995080955, 0.12898830954100493, 0.03454600197726337, 0.3107482882155666, 0.28048059780495943, 0.0359176592872538, 0.059324673204789985, 0.09443519408109426, 0.07466030301283093, 0.07304602619093188, 0.030267690410607135, 0.0411640589584257, 0.9848113400057044, 0.14153678351494942, 0.12907189633039423, 0.0776039750522308, 0.0784081613222021, 0.18375656268844287, 0.07036629862248907, 0.06634536727263254, 0.05388048008807734, 0.13148445514030813, 0.0675516466775895, 0.006223121704241713, 0.006223121704241713, 0.7467746045090057, 0.14313179919755942, 0.012446243408483427, 0.08090058215514227, 0.9863532387198218, 0.9922442876780068, 0.9674514571607333, 0.9697038135937887, 0.011544093018973673, 0.29291839438994954, 0.09625777425707462, 0.1229704580221958, 0.00046056351319174457, 0.16165779313030235, 0.0009211270263834891, 0.23488739172778972, 0.0898098850723902, 0.20812496543550554, 0.02620100514983799, 0.1656101268904854, 0.0039548687018623385, 0.3193556476753838, 0.166598844065951, 0.026695363737570782, 0.08404095991457468, 0.9910829640144265, 0.1620525135697154, 0.1707578138854439, 0.04285686309281729, 0.42522043849904656, 0.04821397097941945, 0.016740962145631755, 0.023437347003884456, 0.012723131230680133, 0.010044577287379052, 0.08772264164311039, 0.05345072389480245, 0.8892256793408044, 0.004859156717709314, 0.019436626870837255, 0.029154940306255882, 0.986719032763119, 0.925601421891229, 0.05239253331459787, 0.9683658988537983, 0.03403174156320969, 0.2735462771220019, 0.2873312863627957, 0.03187783386933566, 0.1326807139426403, 0.11200320008144961, 0.03963190156728217, 0.03920112002850736, 0.04953987695910271, 0.985102926386466, 0.9829662283544192, 0.0031567415674473285, 0.5208623586288093, 0.014731460648087533, 0.009470224702341986, 0.2851589882594087, 0.0031567415674473285, 0.16204606712896288, 0.0143773483471185, 0.4287832712934753, 0.029600423067596915, 0.02706324394751718, 0.3755025097718009, 0.033829054934396474, 0.021143159333997796, 0.012685895600398678, 0.05666366701511409, 0.9889325732328544, 0.9898726494691783, 0.004353501991504435, 0.03482801593203548, 0.24089377686324542, 0.2887822987697942, 0.17341449599492667, 0.003627918326253696, 0.0014511673305014784, 0.013786089639764045, 0.2278332708887321, 0.010158171313510348, 0.9820562386307904, 0.2520870019737269, 0.4836652309055235, 0.024781434092332476, 0.14954313676407527, 0.07519883448707786, 0.014527047571367312, 0.006284735402259207, 0.9301408395343628, 0.05656261862033287, 0.013177744247317649, 0.975153074301506, 0.008185647089616646, 0.04092823544808323, 0.7667222773940925, 0.12824180440399413, 0.024556941268849938, 0.03001403932859437, 0.9911411578370484, 0.11082225126766598, 0.21477535472948492, 0.09662601246891539, 0.2333983776697814, 0.13952002432320484, 0.061974977981642414, 0.039993705002931805, 0.024270988913992965, 0.05052639830523063, 0.02793453441044473, 0.23019471411354395, 0.007673157137118132, 0.7442962423004588, 0.015346314274236264, 0.9861647202542922, 0.013196409029345572, 0.9765342681715724, 0.9938263996360002, 0.9735323775912508, 0.9852222377550066, 0.6466008591759274, 0.0032289680857724213, 0.0076687992037095, 0.2696188351619972, 0.034307785911331976, 0.03027157580411645, 0.008476041225152605, 0.995542471487781, 0.9824133574029666, 0.9851824633877845, 0.0165602819441933, 0.9770566347074046, 0.5747036067257834, 0.003355488149672833, 0.029589304592569525, 0.0003050443772429848, 0.01769257388009312, 0.028979215838083557, 0.05246763288579338, 0.11378155271163333, 0.011286641957990437, 0.16807945186088463, 0.07531007115069208, 0.914479435401261, 0.9525219813323684, 0.02267909479362782, 0.9885164942033885, 0.09859874676084651, 0.09859874676084651, 0.8017634933974098, 0.03792414955107169, 0.03297752134875799, 0.0016488760674378995, 0.8854464482141521, 0.04122190168594749, 0.9794649165406454, 0.015991263943520743, 0.28540533610738533, 0.023448795220090347, 0.052257315061915624, 0.018424053387213844, 0.025458691953240947, 0.3356527544361504, 0.0609668675722349, 0.11255421705643366, 0.030818416574975884, 0.05527216016164153, 0.9923992995148009, 0.10771765268439108, 0.0031775118785956073, 0.015569808205118475, 0.007943779696489019, 0.0842040647827836, 0.004130765442174289, 0.7514815592878611, 0.0251023438409053, 0.9978422715494475, 0.9895452076353163, 0.9871333257707058, 0.6348940226203649, 0.10581567043672747, 0.06567869199521016, 0.03283934599760508, 0.11493771099161777, 0.04378579466347344, 0.017227277664656395, 0.9733411880530863, 0.15942743830555564, 0.7300098490833337, 0.1048864725694445, 0.3643542353515489, 0.004577314514466695, 0.06408240320253374, 0.5666715368909768, 0.9965167869332994, 0.9944587155940324, 0.9873552529798229, 0.014587090254015537, 0.9659895323770289, 0.004862363418005179, 0.014587090254015537, 0.9879454021045829, 0.08965657847794235, 0.055376122001082044, 0.07647178752530377, 0.6935200041087894, 0.08438266209688693, 0.16131059650174867, 0.11490617833001275, 0.18230307138896254, 0.12899323384643258, 0.06214877433714632, 0.05993904013849223, 0.03397466330430666, 0.010772454218438695, 0.02320220908586796, 0.22290693728923147, 0.1071260337809497, 0.08150893874637477, 0.8104317338210978, 0.1553224748765386, 0.04509362173834992, 0.8016643864595542, 0.9897707763188881, 0.9877089420509374, 0.07859257704503915, 0.005239505136335943, 0.8697578526317665, 0.04191604109068754, 0.9896958099781591, 0.9704810505677037, 0.5610087365915613, 0.08918600427865844, 0.0417160342593725, 0.0417160342593725, 0.024454226979632156, 0.23303439827649466, 0.0071924196998918105, 0.9654485416013818, 0.11865946341303668, 0.021532798379971907, 0.5433595506095039, 0.01786764120891286, 0.07696830059224001, 0.04444003069909096, 0.03940043958888476, 0.10812213654624192, 0.030237546661237145, 0.9903484068745528, 0.976312152691209, 0.11908596838441426, 0.8669458498385358, 0.009526877470753141, 0.01808434576610609, 0.04701929899187583, 0.03255182237899096, 0.896983549998862, 0.011371112744138028, 0.004134950088777465, 0.02480970053266479, 0.04755192602094085, 0.5964665503061494, 0.313222469224893, 0.289438509830278, 0.022222806934534454, 0.05528600749567108, 0.021138767571874235, 0.048781771319709774, 0.5257590908902053, 0.0314371415171463, 0.005420196813301087, 0.15596763253969168, 0.24767164349946502, 0.13135979948291854, 0.017349407478876033, 0.2669684334504598, 0.05399560490874684, 0.007258425577897116, 0.07842640319532737, 0.03912468421256738, 0.0019473824721187385, 0.9975718662364899, 0.3594321273753265, 0.017695120116939148, 0.037602130248495694, 0.0022118900146173934, 0.3527964573314743, 0.05585022286908919, 0.08958154559200444, 0.08460479305911531, 0.9609218930987973, 0.03768321149407048, 0.10329058751241242, 0.08341039075270125, 0.22819008454625003, 0.0008643563808570077, 0.2938811694913826, 0.18540444369382816, 0.09940098379855589, 0.00561831647557055, 0.050814342932736, 0.33392282498655085, 0.02177757554260114, 0.014518383695067427, 0.007259191847533713, 0.5698465600313966, 0.9885746882897057, 0.14329799559713824, 0.002581945866615103, 0.15104383319698353, 0.011618756399767964, 0.010327783466460412, 0.37438215065918995, 0.003872918799922655, 0.3007966934606595, 0.04181692061194542, 0.20170514648114848, 0.7551643898745438, 0.0670446173310634, 0.015775204077897273, 0.10253882650633227, 0.02169090560710875, 0.05619916452750903, 0.08873552293817215, 0.001971900509737159, 0.644811466684051, 0.9896147520380696, 0.665867089431891, 0.04648189102005631, 0.02128086576821855, 0.029121184735456968, 0.0425617315364371, 0.07336298462201658, 0.04144168596968876, 0.04760193658680466, 0.033041344219076174, 0.9801987087098835, 0.9862799824974446, 0.3633880547900412, 0.0015332829316035493, 0.6117798897098162, 0.02299924397405324, 0.9941455635907119, 0.9820339395769283, 0.9912696599690624, 0.01617140366220596, 0.0404285091555149, 0.01617140366220596, 0.9217700087457398, 0.9831924858818063, 0.015647625770002224, 0.9723610200067964, 0.03438660336627741, 0.9628248942557676, 0.6324005061765344, 0.0019700950348178646, 0.015760760278542917, 0.18715902830769712, 0.06895332621862525, 0.09062437160162176, 0.9364363835374423, 0.042290675385561916, 0.01812457516524082, 0.9937848513708029, 0.9730502942333752, 0.022629076610078493, 0.1487018442479461, 0.1834729222561723, 0.06510329499412565, 0.037730318689777366, 0.011097152555816872, 0.0347710780082262, 0.011097152555816872, 0.5067699667156372, 0.9767730279742658, 0.062273940357865536, 0.9341091053679831, 0.9842497959529568, 0.0029006001406211733, 0.15373180745292217, 0.10732220520298341, 0.30673846487068906, 0.40753431975727483, 0.022479651089814093, 0.08186247928187267, 0.027287493093957556, 0.22300468494027384, 0.014114220565840116, 0.02164180486762151, 0.5052890962570762, 0.12514608901711569, 0.015695504848027786, 0.17265055332830564, 0.8109344171481022, 0.82081526033374, 0.0018847652361279907, 0.1639745755431352, 0.013193356652895935, 0.2619680362878925, 0.7141747655943737, 0.0249493367893231, 0.3937586120287083, 0.03684906797060104, 0.00789622885084308, 0.001052830513445744, 0.000526415256722872, 0.13634155149122387, 0.4232378664051891, 0.03196967732279127, 0.12497237498909314, 0.08428369476008607, 0.7585532528407747, 0.9833316084609753, 0.0022657410333202198, 0.011328705166601097, 0.26552136648818536, 0.011347066943939546, 0.017020600415909318, 0.5060791856997038, 0.07602534852439496, 0.12481773638333502, 0.12527305115336418, 0.869081792376464, 0.9830766333235073, 0.15298263069383977, 0.012488378015823656, 0.833599232556229, 0.9545292727655642, 0.05046715098539796, 0.030841036713298756, 0.047663420375098076, 0.014018653051499434, 0.05046715098539796, 0.8046706851560675, 0.033368454946706656, 0.21133354799580883, 0.2156590884518634, 0.19310448464529317, 0.11524475643631096, 0.01606629312248839, 0.10659367552420182, 0.10535780682247195, 0.0030896717543246904, 0.9874962777864033, 0.3678074604326025, 0.5960091694601296, 0.01342362994279571, 0.024162533897032278, 0.9827775192059627, 0.13212258907086855, 0.3394878729346385, 0.1598907264349155, 0.04926605016201878, 0.1598907264349155, 0.030455376463793427, 0.03359048874683099, 0.02821601054733803, 0.022393659164553992, 0.044787318329107983, 0.9966951942507303, 0.9883310286808146, 0.004786448549963726, 0.9907948498424913, 0.9971682004220224, 0.9976896311624056, 0.06644437170308454, 0.19803028429154607, 0.4895386797536081, 0.01172547735936786, 0.11725477359367859, 0.0035827847486957346, 0.049507571072886516, 0.00065141540885377, 0.05374177123043602, 0.009771231132806549, 0.9748523208746903, 0.8654733968490765, 0.007584868330319398, 0.005988053944988999, 0.0039920359633259985, 0.11696665372545177, 0.27939759238420936, 0.00819221335694441, 0.02759482393918117, 0.007761044232894704, 0.0521714640100144, 0.27034304077916554, 0.22722612837419495, 0.04570392714926881, 0.08105979532134469, 0.973728436280481, 0.018869872273989213, 0.03538101051372978, 0.941134879665212, 0.9033493651039138, 0.0887218126441344, 0.07407785667608259, 0.014337649679241792, 0.1409868885125443, 0.5448306878111882, 0.22581798244805823, 0.9920594959997566, 0.971254710991598, 0.9937656331393039, 0.011966166893371636, 0.1675263365072029, 0.014957708616714544, 0.032906958956771995, 0.7718177646224705, 0.027723796325103807, 0.06930949081275951, 0.8871614824033218, 0.646814300015799, 0.04903951555675339, 0.10907064666933082, 0.06933172889058238, 0.024519757778376696, 0.013528142222552659, 0.025365266667286234, 0.03973891777874844, 0.022828740000557613, 0.017618177190188745, 0.9337633910800035, 0.03523635438037749, 0.023680463695002603, 0.029252337505591447, 0.023680463695002603, 0.696484226323606, 0.18944370956002082, 0.03621717976882751, 0.9892356178400131, 0.0143521952132145, 0.0066240900984066925, 0.00717609760660725, 0.1981706954440002, 0.7628743763331707, 0.010488142655810596, 0.9275965919313537, 0.03710386367725415, 0.024735909118169433, 0.6715351191812542, 0.002774938509013447, 0.11654741737856476, 0.10822260185152442, 0.022199508072107577, 0.07492333974336307, 0.09834432869527561, 0.35768784065781695, 0.5059974331256922, 0.016655087924199903, 0.021413684473971302, 0.06302116793985651, 0.0770258719264913, 0.7037363753283977, 0.005251763994988043, 0.0017505879983293476, 0.012254115988305433, 0.008752939991646738, 0.12604233587971303, 0.40617337839052536, 0.004905475584426635, 0.5523565508064391, 0.010792046285738597, 0.004905475584426635, 0.020602997454591866, 0.09573397160085677, 0.9007696418807887, 0.018597495545805955, 0.06959062849398358, 0.06479127480474332, 0.03959466793623203, 0.15117964121106775, 0.0005999192111550308, 0.47993536892402466, 0.0011998384223100616, 0.17397657123495894, 0.0005999192111550308, 0.9919195609406279, 0.4545703099780981, 0.05781498378099817, 0.25727667782544184, 0.16549539107310726, 0.005058811080837339, 0.013008371350724588, 0.023125993512399266, 0.023125993512399266, 0.9768545685257036, 0.018975096272581655, 0.08855044927204773, 0.03795019254516331, 0.8538793322661745, 0.9871018969176466, 0.9878129009055038, 0.02704314559863874, 0.9681446124312669, 0.1029797279156926, 0.8893703774537088, 0.9746032874679129, 0.0018138626753224512, 0.6883608852848703, 0.12923771561672465, 0.08661194274664705, 0.027661405798667382, 0.008162382038951031, 0.0009069313376612256, 0.05214855191552047, 0.005441588025967354, 0.974357007292424, 0.9094444468953921, 0.07685446030101906, 0.9696285279110609, 0.9879107209215127, 0.4742205169774463, 0.007578866709685215, 0.05521745745627799, 0.3876048974381867, 0.046555895502352035, 0.02815007635025937, 0.6755669207567063, 0.04108177220817809, 0.14835084408508753, 0.009129282712928464, 0.006846962034696348, 0.08216354441635618, 0.015976244747624813, 0.018258565425856927, 0.009712881241076514, 0.33530555240933707, 0.09332811975121347, 0.24451122776449138, 0.15202770638206717, 0.0025337951063677863, 0.03969612333309532, 0.015202770638206718, 0.09206122219802956, 0.01604736900699598, 0.9919368332454129, 0.9852960098466181, 0.9814106498123424, 0.9720370735492415, 0.12947703288633228, 0.0542661093714775, 0.23515314060973583, 0.2075440674207385, 0.01999277713686013, 0.04379370229978886, 0.017136666117308685, 0.24562554768142447, 0.04664981331934031, 0.0765250409557689, 0.8417754505134579, 0.08290212770208298, 0.01653768555311376, 0.006615074221245504, 0.07441958498901191, 0.038036676772161646, 0.07276581643370054, 0.01653768555311376, 0.11907133598241906, 0.00826884277655688, 0.6499310422373707, 0.06581830147323421, 0.05923647132591079, 0.06976739956162827, 0.003949098088394052, 0.06845103353216359, 0.04475644500179927, 0.0013163660294646842, 0.014480026324111528, 0.022378222500899634, 0.650284818555554, 0.03206081492266415, 0.0029146195384240144, 0.029146195384240143, 0.07286548846060036, 0.7927765144513319, 0.06995086892217633, 0.8418935053265855, 0.060135250380470386, 0.08590750054352912, 0.1374670603537006, 0.383241501592135, 0.09164470690246707, 0.33880770430609036, 0.04721090961642243, 0.20630864528207102, 0.4289641504362187, 0.02564765945446511, 0.21335470557175923, 0.08680746276895884, 0.038612410387491435, 0.9859942165851193, 0.13378688998504878, 0.8644691352880076, 0.5368026339858136, 0.031093485903003412, 0.004400021590047653, 0.06805366725940369, 0.06629365862338463, 0.1578141076963758, 0.07978705816619744, 0.008800043180095305, 0.036080177038390754, 0.01085338658878421, 0.9927135868645387, 0.07571682594580252, 0.6130620423353688, 0.00488495651263242, 0.04152213035737558, 0.2613451734258345, 0.1663164825748255, 0.15861664541858359, 0.15091680826234166, 0.12473736193111913, 0.39731159726208315, 0.9685456433289783, 0.019370912866579566, 0.25221583697142697, 0.0852560575678063, 0.08821633734446624, 0.37240319590382054, 0.02782662990060344, 0.0023682238213279527, 0.0698626027291746, 0.0076967274193158455, 0.08288783374647835, 0.011249063151307775, 0.9363750021413054, 0.006834854030228507, 0.047843978211599546, 0.2242210767246406, 0.09221995897545701, 0.019890579386863276, 0.5912926781367538, 0.045205862242871084, 0.023507048366292964, 0.01269476310332645, 0.2617539249400168, 0.09037462304510972, 0.08704980413709565, 0.19797785315901964, 0.019646657183719506, 0.06196253419480767, 0.12845891235508908, 0.12755214356199432, 0.01269476310332645, 0.9779825787828222, 0.926420825105171, 0.07333715495593904, 0.7853579994642357, 0.18631430937800408, 0.014189500383093025, 0.014189500383093025, 0.12163558234393525, 0.0020272597057322543, 0.013177188087259652, 0.01723170749872416, 0.0015204447792991906, 0.3127048096092002, 0.10795157933024253, 0.2807754692439172, 0.02280667168948786, 0.119608322638203, 0.9956224425551732, 0.9924077534073357, 0.9828744692248123, 0.9738092637246235, 0.2291428648361576, 0.011651332110313098, 0.6693043001146524, 0.08544310214229604, 0.0025891849134029106, 0.0012945924567014553, 0.0027963751007311073, 0.5033475181315993, 0.1384205674861898, 0.17337525624532865, 0.03495468875913884, 0.04893656426279438, 0.040547438960601055, 0.058723877115353255, 0.9696407123736747, 0.9946991488522428, 0.05011833631512129, 0.28275318081525647, 0.14124258416079635, 0.15919942123626762, 0.1307900969079101, 0.0576226861377063, 0.03644969913827003, 0.015008699645170012, 0.009648449771895008, 0.1173894722247226, 0.9768422176702968, 0.022293079656376065, 0.7843184650654168, 0.16626879666269007, 0.0011196551963817514, 0.04814517344441531, 0.9962086878540223, 0.995712378508861, 0.21474313795120706, 0.6742934531667901, 0.03543261776194916, 0.07301266690341039, 0.0021474313795120706, 0.011277106487782396, 0.8711564761811902, 0.019734936353619194, 0.09303612852420477, 0.9775903061028358, 0.9944001999414825, 0.08810417975710155, 0.12505109384878932, 0.7503065630927358, 0.03410484377694254, 0.0028499663238025622, 0.0028499663238025622, 0.02849966323802562, 0.02564969691422306, 0.008549898971407687, 0.9290890215596354, 0.9386961358738021, 0.05969450784571079, 0.010637006064068347, 0.2675616140731038, 0.1832837967962546, 0.034365711899297734, 0.3559305875284408, 0.03927509931348312, 0.027001630778019647, 0.010637006064068347, 0.0040911561784878255, 0.06627673009150277, 0.9824988133091043, 0.9600770082040161, 0.9849486105876022, 0.2661254450143972, 0.7330121906536905, 0.8838721970826935, 0.08838721970826935, 0.01819736876346722, 0.007798872327200237, 0.05618806179222066, 0.936467696537011, 0.9727776360203322, 0.021147339913485483, 0.9883523791361156, 0.0010920417177873853, 0.0447737104292828, 0.7294838674819734, 0.005460208588936926, 0.09282354601192774, 0.010920417177873853, 0.09937579631865205, 0.017472667484598164, 0.9888122168963831, 0.006125858066149388, 0.9923890067162008, 0.30991719588325145, 0.013622733884978087, 0.010217050413733565, 0.6538912264789482, 0.010217050413733565, 0.9787037778020748, 0.9908879329805098, 0.021405375103766004, 0.07540529866099388, 0.1274592790269703, 0.35756706139245487, 0.1274592790269703, 0.009729715956257275, 0.11432416248602298, 0.0442702076009706, 0.01556754553001164, 0.10654038972101716, 0.06923193810807866, 0.030693962708015173, 0.11049826574885462, 0.07537073064968171, 0.022167861955788737, 0.02557830225667931, 0.31546572783237814, 0.08116847916119568, 0.08764831573288777, 0.18177646803746764, 0.9915915391614714, 0.022043396178921495, 0.09191680293474813, 0.21544300416379877, 0.11271245970731558, 0.04616635803509974, 0.23374318212365813, 0.04200722668058625, 0.17676308256682333, 0.05864375209864021, 0.009183155629200229, 0.16031165969832398, 0.3085540291411277, 0.11754439205376292, 0.11387112980208283, 0.011806914380400293, 0.06900485515656171, 0.0023613828760800587, 0.03463361551584086, 0.1731680775792043, 0.18027483619407605, 0.7811909568409963, 0.03719956937338077, 0.9922137520309796, 0.9929887839692658, 0.9793555867182973, 0.10101874208160634, 0.004298669875813036, 0.02149334937906518, 0.07737605776463465, 0.004298669875813036, 0.09027206739207376, 0.7006831897575249, 0.7330653351043055, 0.08783271296180618, 0.17566542592361237, 0.06479280249401102, 0.7107574091767269, 0.03730494689049119, 0.10013433112710794, 0.08639040332534803, 0.9558110627826633, 0.010480549822640689, 0.12183639168819801, 0.00851544673089556, 0.03537185565141233, 0.04126716492664771, 0.13493707896649887, 0.005895309275235388, 0.09891018895117151, 0.5436785220494857, 0.9613933560730575, 0.03431096916748956, 0.0034310969167489565, 0.7954330921017125, 0.006737599683970659, 0.003170635145397957, 0.006341270290795914, 0.15298314576545144, 0.0027743057522232125, 0.03249901024032906, 0.08871101896609487, 0.05645246661478765, 0.69893530094499, 0.016129276175653615, 0.010752850783769077, 0.018817488871595883, 0.04569961583101857, 0.06182889200667219, 0.10611284721106333, 0.09541239203011577, 0.029426251747605797, 0.0044585229920614845, 0.4360435486236132, 0.32814729221572525, 0.12829486686980804, 0.005345619452908667, 0.005345619452908667, 0.8606447319182955, 0.033871898011766134, 0.9597037770000405, 0.12385438177360993, 0.30611164275754, 0.5236120205063184, 0.018125031479064867, 0.027187547218597303, 0.989260498812855, 0.5844539774470835, 0.0015753476481053465, 0.12445246420032237, 0.28356257665896234, 0.003150695296210693, 0.024621541664957856, 0.0671496590862487, 0.04028979545174922, 0.03133650757358273, 0.6647816249538622, 0.17011246968516336, 0.9922564472789986, 0.10061206284886529, 0.09561270568867322, 0.03499550012134445, 0.06749132166259286, 0.06936608059766489, 0.38870001920493297, 0.025621705445984327, 0.08436415207824108, 0.06936608059766489, 0.06374180379244881, 0.9954879807758672, 0.041107297600418896, 0.01868513527291768, 0.01868513527291768, 0.014948108218334144, 0.001868513527291768, 0.9043605472092157, 0.1889898633034241, 0.05978250777965456, 0.007713871971568331, 0.032783955879165404, 0.015427743943136661, 0.6228951617041427, 0.07135331573700705, 0.13495422827882322, 0.8637070609844687, 0.9966577291684197, 0.24505241026645946, 0.05076085641233803, 0.0201293051290306, 0.24592759744598253, 0.03763304871949199, 0.3334463153982895, 0.0026255615385692085, 0.06388866410518407, 0.9899743561560522, 0.06150789882689577, 0.01482118044021585, 0.07707013828912242, 0.6521319393694974, 0.00296423608804317, 0.014080121418205057, 0.17785416528259018, 0.08058547340623035, 0.9094646284417424, 0.9861177858894512, 0.1068152756005819, 0.8778880463422825, 0.013351909450072738, 0.009537487345787505, 0.006936354433300004, 0.01907497469157501, 0.015606797474925008, 0.1924838355240751, 0.04768743672893753, 0.7083751965007629, 0.008153862296476388, 0.9757455214783411, 0.010871816395301851, 0.005435908197650926, 0.9340881254575677, 0.055766455251198076, 0.9913937507000514, 0.9675021082348373, 0.9815292744549845, 0.9907995888182888, 0.5194587581748046, 0.1490277501286805, 0.13882938312208204, 0.0483599983861281, 0.045070202577547964, 0.04408326383497392, 0.0026318366468641146, 0.007566530359734329, 0.0065795916171602865, 0.03816163137952966, 0.9867167744458268, 0.9935384693649962, 0.7983333776955411, 0.19418919997999648, 0.985474091493752, 0.010711674907540783, 0.9779048018670196, 0.9778821585324868, 0.9652672906155503, 0.9778963926147097, 0.010629308615377281, 0.33431039262055984, 0.05782306989659782, 0.2675147773951796, 0.11265529135026817, 0.0651340327570872, 0.07277731211123518, 0.0013292659746344327, 0.06081391833952529, 0.013624976240002935, 0.013292659746344327, 0.9979412842689794, 0.9879544750148639, 0.9524161305103195, 0.036631389635012286, 0.1494059069613587, 0.06189673288399145, 0.004268740198895962, 0.7192827235139697, 0.014940590696135868, 0.012806220596687887, 0.0341499215911677, 0.018121412625075096, 0.9785562817540553, 0.9744018824634373, 0.9926059508392303, 0.9745725996354316, 0.015370384037970428, 0.9837045784301074, 0.9752180309827432, 0.0015989581192551643, 0.7579061485269478, 0.13591144013668896, 0.07195311536648238, 0.03038020426584812, 0.0003668911565854146, 0.23481034021466538, 0.20729350347075925, 0.024214816334637367, 0.29241225179857544, 0.21646578238539463, 0.024214816334637367, 0.979586963538328, 0.9901605590758876, 0.4440592880635651, 0.5429545880253198, 0.013573864700632994, 0.9703236033765943, 0.0052079041858396746, 0.36585526905523713, 0.0013019760464599186, 0.5546417957919254, 0.01952964069689878, 0.053381017904856665, 0.8776818611270183, 0.08904018880998736, 0.002244710642268589, 0.03067771211100405, 0.9951563007013058, 0.2173535788581689, 0.08413686923542021, 0.6730949538833617, 0.02453992019366423, 0.9723987398812036, 0.9859775006057586, 0.03310525405298189, 0.09517760540232294, 0.05483057702525126, 0.05689965540356263, 0.14069732972517304, 0.010345391891556841, 0.020690783783113682, 0.02482894053973642, 0.5648583972790036, 0.011681541874229925, 0.9812495174353136, 0.056302082301466466, 0.3915079982259381, 0.030236303458194957, 0.11990258267904896, 0.21478201766855726, 0.05265287326340846, 0.026587094420136945, 0.023980516535809793, 0.04431182403356157, 0.04014129941863813, 0.09572034626823123, 0.23535943964776856, 0.006756730324816322, 0.271958395573857, 0.10191401573264619, 0.02702692129926529, 0.11767971982388428, 0.06813036410856459, 0.002815304302006801, 0.07319791185217682, 0.9862191549453801, 0.9883100884914412, 0.9099814061979768, 0.08531075683106033, 0.607503723854407, 0.001880816482521384, 0.2219363449375233, 0.10720653950371888, 0.003761632965042768, 0.054543677993120133, 0.024150181127111505, 0.972044790366238, 0.9753424603375955, 0.38254474850844383, 0.10991253608830087, 0.06815805310503574, 0.3131586223744885, 0.054649249786920547, 0.06631594356165639, 0.004912292115678251, 0.9799541094995733, 0.9873312881333935, 0.9592565179953871, 0.026281000493024304, 0.9765832505973914, 0.9953128017156355, 0.9811175369616008, 0.002864869542209663, 0.365270866631732, 0.18764895501473292, 0.0697118255271018, 0.24399138934485629, 0.0014324347711048315, 0.0014324347711048315, 0.06732443424192708, 0.060162260386402926, 0.05019534073012073, 0.6314045491841502, 0.155869742267217, 0.034344180499556294, 0.12680928184451554, 0.9649439098105221, 0.9970465242891325, 0.026147140763870157, 0.052294281527740315, 0.7669827957401912, 0.0653678519096754, 0.0958728494675239, 0.7420088375016949, 0.0070792362588500924, 0.002097551484103731, 0.2448891357691106, 0.003932909032694496, 0.006935747665730721, 0.04508235982724969, 0.017339369164326802, 0.05548598132584577, 0.7074462619045336, 0.15605432247894124, 0.013871495331461443, 0.06346652688559379, 0.7778339457839053, 0.030995280572034174, 0.013283691673728932, 0.028043349088983302, 0.08560601300847534, 0.3517321756919765, 0.016749151223427454, 0.0012883962479559579, 0.583643500324049, 0.04509386867845853, 0.02175491057209655, 0.975345157315662, 0.10506751294715136, 0.01834512130823278, 0.00917256065411639, 0.0925594756915381, 0.0025016074511226513, 0.030853158563846034, 0.05253375647357568, 0.01167416810523904, 0.008338691503742172, 0.6687630586001221, 0.047347235115545706, 0.0477484828707622, 0.4935347389162815, 0.047347235115545706, 0.05938466777204038, 0.08747201063719462, 0.012037432656494672, 0.010432441635628715, 0.08345953308502972, 0.11154687595018396, 0.9838077872952429, 0.01059072651751251, 0.9849375661286633, 0.9811946044974702, 0.9829015252158438, 0.9791443479263979, 0.9858765596281366, 0.9839908867255872, 0.988984191211002, 0.9706708906469451, 0.016262548953247247, 0.012196911714935437, 0.9862234373790878, 0.00426249240922632, 0.01278747722767896, 0.207644273078025, 0.0024357099481293254, 0.02618388194239025, 0.29411197623661606, 0.010960694766581965, 0.44086350061140794, 0.9827505400396778, 0.9774496777309784, 0.03581136173534773, 0.9597444945073191, 0.9725037551578285, 0.9922265588804301, 0.21664866296384552, 0.19663971001495534, 0.03794801421341243, 0.0489874365300415, 0.09176519800697915, 0.0006899638947893169, 0.350501658552973, 0.056577039372723986, 0.9891005548318623, 0.0023790607932966078, 0.09337813613689186, 0.013679599561455496, 0.032712085907828356, 0.044012624675987246, 0.0023790607932966078, 0.8112597305141432, 0.9745184240849376, 0.9948594277322091, 0.9752457662144197, 0.012503150848902817, 0.9842557245268425, 0.030150506513839603, 0.9547660396049207, 0.032128895259597647, 0.9638668577879294, 0.9946001450171176, 0.7660729404607365, 0.0035797800956109183, 0.1360316436332149, 0.09307428248588388, 0.032828456030013685, 0.37305063670470096, 0.13678523345839036, 0.17856690476931686, 0.159665672509612, 0.0044766076404564115, 0.0009948016978792026, 0.007461012734094019, 0.10146977318367865, 0.0044766076404564115, 0.978918613271918, 0.23829911490662603, 0.009254334559480623, 0.005398361826363697, 0.38868205149818613, 0.08058983012214375, 0.014267099112532627, 0.0011567918199350778, 0.26220614585195096, 0.9941948513000157, 0.0037751765320705086, 0.04530211838484611, 0.08777285437063934, 0.11136770769608001, 0.08966044263667458, 0.033032794655616954, 0.024538647458458306, 0.10192976636590374, 0.5020984787653777, 0.012363030007030712, 0.006181515003515356, 0.09890424005624569, 0.0017661471438615301, 0.21193765726338362, 0.30907575017576777, 0.17838086153001453, 0.13864255079313012, 0.043270605024607486, 0.004477057695553539, 0.011640350008439201, 0.5050121080584392, 0.015221996164882033, 0.03760728464264973, 0.07700539236352087, 0.3035445117585299, 0.02507152309509982, 0.017908230782214155, 0.0017908230782214157, 0.9928709738301682, 0.02311260212609978, 0.05084772467741951, 0.5038547263489751, 0.09614842484457507, 0.06009276552785942, 0.01664107353079184, 0.005547024510263947, 0.18212730475366626, 0.061017269612903414, 0.0508992477364977, 0.9501192910812903, 0.8152710316016663, 0.0673484765236159, 0.0673484765236159, 0.04962519322792751, 0.9390811976497526, 0.04401943113983216, 0.9855774222403587, 0.9738612393351115, 0.058179886605960976, 0.09759206785516035, 0.07507082142704642, 0.022521246428113928, 0.198937676781673, 0.2955913593689953, 0.0018767705356761606, 0.2505488665127674, 0.01641378188606104, 0.010445133927493388, 0.05819431759603459, 0.1984575446223744, 0.4506329208718576, 0.004476485968925738, 0.26262051017697663, 0.011324274382357355, 0.9399147737356605, 0.04529709752942942, 0.12005177481953928, 0.17851854827061361, 0.015591139586953153, 0.36795089425209443, 0.10524019221193379, 0.0202684814630391, 0.07016012814128919, 0.0202684814630391, 0.10212196429454316, 0.13844808296345573, 0.08343159584697332, 0.08494303780072285, 0.06650344596497873, 0.10549864837171627, 0.11517187687571318, 0.12091535629996134, 0.011486958848496327, 0.11124212779596443, 0.162631154223448, 0.015725216701724484, 0.974963435506918, 0.9867272533937458, 0.10095265316086151, 0.07381484317138261, 0.02822332238905806, 0.08249894236801586, 0.13026148794949874, 0.23881272790741434, 0.0542756199789578, 0.2909173230872138, 0.09788190160762174, 0.8963921515645359, 0.11238155716756902, 0.1252778014326999, 0.07737746559078523, 0.0368464121860882, 0.07553514498148081, 0.5729617094936715, 0.9728203444392699, 0.6659355836853492, 0.025481258770370302, 0.0022819037704809226, 0.06769647852426737, 0.006845711311442767, 0.16315611958938597, 0.03803172950801538, 0.02319935499988938, 0.006465394016362614, 0.959230297908413, 0.9921955579621226, 0.9811183117122445, 0.1333411825354309, 0.0006088638471937484, 0.12116390559155592, 0.005479774624743735, 0.023136826193362436, 0.1473450510208871, 0.3300042051790116, 0.0030443192359687417, 0.23502144501678685, 0.0006088638471937484, 0.02437442359961999, 0.0042024868275206875, 0.7480426552986824, 0.019331439406595163, 0.009245471020545513, 0.13279858374965373, 0.002521492096512413, 0.059675312950793764, 0.049743938041332536, 0.928553510104874, 0.004039189475463921, 0.2872873514423714, 0.0565486526564949, 0.3221253606682477, 0.042411489492371175, 0.014137163164123724, 0.1226903803172166, 0.009088176319793823, 0.04039189475463921, 0.101989534255464, 0.1900491202437465, 0.4227260805421651, 0.02309008002961406, 0.36411280046699096, 0.010661038133955001, 0.27160263817456787, 0.16067707473317894, 0.15560038990748606, 0.17083044438456466, 0.002284508171561786, 0.0053305190669775005, 0.024368087163325714, 0.04746700312022822, 0.15128520780564714, 0.42089676076648747, 0.17935941509935546, 0.1731416220425778, 0.12435586113555311, 0.024871172227110622, 0.033480424151879684, 0.005739501283179374, 0.011479002566358748, 0.026306047547905467, 0.8425417200541294, 0.08502714606050847, 0.015459481101910632, 0.05410818385668721, 0.9705591679545859, 0.013729562145420043, 0.09218420297639172, 0.6904008393125508, 0.20202070013975207, 0.001961366020774292, 0.001961366020774292, 0.09192017792063364, 0.8588362892286069, 0.049389946345415096, 0.9922626170399571, 0.9955378938549296, 0.9823186534717059, 0.05954267030616701, 0.14141384197714663, 0.7963832153449837, 0.007490152206876064, 0.029960608827504256, 0.08613675037907473, 0.03745076103438032, 0.02247045662062819, 0.0936269025859508, 0.10860720699970292, 0.6141924809638372, 0.005362884445791921, 0.9939212506201026, 0.9917067781061107, 0.9157896750676915, 0.011893372403476512, 0.05946686201738256, 0.994186490057611, 0.00016379181669549434, 0.7796490474705531, 0.034887656956140295, 0.054542674959599614, 0.046189292308129404, 0.017525724386417894, 0.012939553518944052, 0.012284386252162076, 0.04176691325735106, 0.9954851023666483, 0.0004097117893102402, 0.06596359807894867, 0.08276178144066852, 0.21059185970546346, 0.09300457617342453, 0.010652506522066245, 0.14176027910134312, 0.1589681742523732, 0.14421854983720456, 0.09136572901618356, 0.019270007598847148, 0.11947404711285231, 0.8093403191515802, 0.04624801823723315, 0.007636107001729175, 0.138977147431471, 0.19548433924426686, 0.10232383382317094, 0.5497997041245006, 0.004581664201037505, 0.961906710903817, 0.03802886996596486, 0.016766352204585836, 0.20994388847481396, 0.17859809957058825, 0.34480367794648265, 0.06487849331339737, 0.013850464864657866, 0.03207476073920769, 0.008747662019783916, 0.11517754992715488, 0.015308408534621851, 0.0011886175997868791, 0.07726014398614714, 0.20028206556408915, 0.4599950111175222, 0.13906825917506485, 0.11826745117879447, 0.0035658527993606376, 0.0008586472556552826, 0.0025759417669658476, 0.3400243132394919, 0.018890239624416216, 0.0025759417669658476, 0.045508304549729976, 0.08586472556552827, 0.5040259390696509, 0.004580602859908866, 0.05649410193887602, 0.593951504168183, 0.018322411439635464, 0.0763433809984811, 0.012214940959756976, 0.23819134871526104, 0.0100070924098437, 0.015010638614765549, 0.0008339243674869749, 0.27102541943326686, 0.11674941144817648, 0.22182388175153533, 0.364424948591808, 0.06208039449966602, 0.023877074807563854, 0.8333099107839785, 0.019101659846051083, 0.03104019724983301, 0.03104019724983301, 0.9856260273111549, 0.8913063334563917, 0.0032768615200602634, 0.06553723040120527, 0.0360454767206629, 0.22090323678252966, 0.019002428970540185, 0.002375303621317523, 0.03800485794108037, 0.722092300880527, 0.9782053346050505, 0.9938768615635097, 0.005833375723114013, 0.04739617775030135, 0.3412524798021697, 0.0007291719653892516, 0.03281273844251632, 0.5322955347341537, 0.006562547688503264, 0.03427108237329483, 0.13896019388903155, 0.2743343182583462, 0.012551243319009302, 0.4177770990470239, 0.04034328209681561, 0.11565074201087143, 0.2504040062513566, 0.07458842739402112, 0.3184352092590902, 0.049589009421299755, 0.09712888622188465, 0.0336057749797238, 0.01926184663471974, 0.015163581393290009, 0.0963092331735987, 0.045080917655727054, 0.4948638246037782, 0.42002509849136627, 0.007541887127607405, 0.050472629238603406, 0.026686677528456975, 0.058423265625580756, 0.3565244160858611, 0.02450927240878022, 0.3733389169244429, 0.043318714024820855, 0.07609274108307347, 0.002564923856732814, 0.029639120122245847, 0.035908933994259394, 0.1096163567818488, 0.886895977598595, 0.3601666878970922, 0.032794730367626604, 0.050630460918441075, 0.24394676624339792, 0.024164538165619604, 0.018411076697614936, 0.26926199670261847, 0.046430555115347896, 0.058812036479440666, 0.6221694385456618, 0.03250138858074352, 0.0015476851705115964, 0.12381481364092771, 0.0913134250601842, 0.02166759238716235, 0.9937729411450259, 0.9966537682091164, 0.9773710817938229, 0.13919341153003545, 0.024207549831310512, 0.07867453695175916, 0.06959670576501772, 0.036311324746965766, 0.65057790171647, 0.013507055146964899, 0.31516462009584767, 0.07428880330830695, 0.029265286151757282, 0.10355408946006422, 0.45473752328115163, 0.009004703431309933, 0.040653335369957466, 0.9485778252990076, 0.9842254185475952, 0.13149534575035948, 0.5542165799416992, 0.21942781622145874, 0.09438622977173042, 0.981484121074506, 0.9812839695567234, 0.8060011000215744, 0.027322071187172014, 0.06830517796793004, 0.027322071187172014, 0.06830517796793004, 0.02853208053072719, 0.004279812079609078, 0.7289946575600796, 0.06562378522067253, 0.16405946305168134, 0.004279812079609078, 0.004279812079609078, 0.2337375964456314, 0.041075226153625605, 0.195009526072213, 0.08899632333285548, 0.040292840893556545, 0.13652622788205082, 0.08782274544275188, 0.028948254622555188, 0.06200403186047294, 0.08586678229257924, 0.9843441537769472, 0.8516650046830263, 0.06245543367675527, 0.005677766697886842, 0.07948873377041579, 0.005484633013120525, 0.006855791266400656, 0.03702127283856354, 0.04250590585168407, 0.2152718457649806, 0.053475171877925116, 0.6115365809629385, 0.02605200681232249, 0.0013711582532801312, 0.3221544316709665, 0.03379549215076896, 0.010094757395684236, 0.04959598198749212, 0.031162077177981775, 0.10050867146137783, 0.20891758784111725, 0.1588827033581606, 0.014044879854865026, 0.07066330176978966, 0.993419421642227, 0.9940325671231245, 0.9850644576111584, 0.991181807740439, 0.09263324910944343, 0.23937607865106966, 0.12792210591304093, 0.15174208425546923, 0.07881178019470107, 0.0949858395630166, 0.058814761339329155, 0.012057026074562478, 0.09704435620989312, 0.04675773526476668, 0.9870782943435857, 0.011389364934733682, 0.9739465487829495, 0.7763202990848665, 0.0021843564971436875, 0.21057196632465147, 0.0069899407908597996, 0.0034949703954298998, 0.08695072633533033, 0.9081520306134501, 0.9760194162992912, 0.9903490325369606, 0.9954109213813064, 0.9986170545990486, 0.9849125952860487, 0.02847816107315113, 0.07674623068866152, 0.29250450186999294, 0.05912838527900023, 0.16785221208793738, 0.032218936468353186, 0.02099661028274702, 0.010015624445218406, 0.05200884501071244, 0.26004422505356223, 0.8927118375581355, 0.10050398171184308, 0.9787949291541304, 0.9890114467318898, 0.9195507918847464, 0.07583924056781413, 0.011113362916217236, 0.3541780442429232, 0.2169521717122408, 0.14688966637087128, 0.16959958189531518, 0.014012501068273904, 0.013046121684255015, 0.00289913815205667, 0.06474741872926564, 0.007247845380141675, 0.015449186684167763, 0.005149728894722588, 0.010299457789445176, 0.010299457789445176, 0.9526998455236787, 0.05743403706673346, 0.12922658340015028, 0.8088626886898296, 0.9884319598188577, 0.9748592886522751, 0.17378710211134168, 0.00668411931197468, 0.021166377821253152, 0.00334205965598734, 0.07909541185836705, 0.6750960505094427, 0.04010471587184808, 0.02907285862914009, 0.3014631802467757, 0.08856040013184212, 0.11316051127957605, 0.22274282457402717, 0.007603670718390485, 0.04875294754732723, 0.07827308092460794, 0.09437497185767015, 0.015654616184921588, 0.9086200624730706, 0.018467887448639645, 0.07017797230483065, 0.3838453144878211, 0.00916949656374357, 0.0010188329515270632, 0.061639393567387325, 0.01706545193807831, 0.16785272876408366, 0.13142945074699117, 0.12735411894088292, 0.033112070924629554, 0.06724297480078617, 0.01848975833143098, 0.16640782498287882, 0.8061534632503907, 0.0036979516662861956, 0.9845744924696584, 0.04260224621321669, 0.9585505397973755, 0.0271610232254979, 0.9642163245051755, 0.9915628892159325, 0.004970240046195151, 0.0266066001476209, 0.01330330007381045, 0.9578376053143524, 0.9778081955302977, 0.9974474195785772, 0.11051929435422575, 0.865734472441435, 0.006139960797456986, 0.006139960797456986, 0.019223800823955434, 0.9163345059418757, 0.057671402471866307, 0.0111998827263077, 0.09132212069143202, 0.11630647446550303, 0.2687971854313848, 0.06633776691736099, 0.004307647202426038, 0.03704576594086393, 0.01809211825018936, 0.027568942095526645, 0.3592577766823316, 0.9886493277326663, 0.7494982670557391, 0.021921981158258896, 0.014398460997436318, 0.002724033161677141, 0.004280623539778364, 0.13594222635417352, 0.03359640899401807, 0.026851184022246104, 0.004150907674936596, 0.006615509106930199, 0.32646388105263263, 0.6683270017775593, 0.006159695868917597, 0.991953472909284, 0.9844286754770513, 0.020930545929967057, 0.969781961421807, 0.802806381977287, 0.00475596197853843, 0.001426788593561529, 0.08037575743729947, 0.03329173384976901, 0.009987520154930703, 0.06801025629309955, 0.9270589009228527, 0.01847957942038909, 0.004619894855097273, 0.007699824758495455, 0.04003908874417637, 0.997753186186506, 0.6067018965575197, 0.0003573038260056064, 0.025368571646398056, 0.04323376294667838, 0.00500225356407849, 0.19258676221702187, 0.07467649963517174, 0.026440483124414875, 0.0003573038260056064, 0.025368571646398056, 0.001298303851998043, 0.20318455283769374, 0.16683204498174853, 0.02531692511396184, 0.3713149016714403, 0.04868639444992661, 0.016228798149975538, 0.0090881269639863, 0.11619819475382485, 0.04154572326393738, 0.10858799072044079, 0.39131403973036893, 0.019863656839105022, 0.06621218946368342, 0.11851981913999331, 0.05032126399239939, 0.043037923151394215, 0.1264652818756353, 0.0562803610441309, 0.01920153494446819, 0.486308326825256, 0.0003969863892451069, 0.09289481508335502, 0.003572877503205962, 0.01786438751602981, 0.07622138673506053, 0.09090988313712949, 0.040492611703000905, 0.04644740754167751, 0.1445030456852189, 0.9537153466447411, 0.026129187579307978, 0.4493711259626938, 0.48736460308490404, 0.056335155732932456, 0.005240479603063485, 0.9824179934352679, 0.9864699450215714, 0.09176903557190863, 0.8972972367031067, 0.7134391546025202, 0.0028199176071245858, 0.2025640814451161, 0.06250817362459499, 0.013629601767768831, 0.004229876410686879, 0.7411512662126418, 0.19462453406577535, 0.003682085779622777, 0.057335335711268955, 0.003156073525390952, 0.02561678436572012, 0.26788615990960507, 0.1834052752992515, 0.05068853076621215, 0.18395031326447958, 0.02261907555696564, 0.06976485954919522, 0.027251898261404384, 0.06921982158396714, 0.099469428654126, 0.0987014636407864, 0.25995576570359985, 0.16816969123509784, 0.03394827411848704, 0.16911269884950025, 0.04872206007745825, 0.0018860152288048358, 0.1757137521503172, 0.04369268613397869, 0.17816249792402053, 0.1717006456677089, 0.017539313267131554, 0.0636954008122146, 0.14723791926881488, 0.03415550478336145, 0.08169627495479698, 0.08492720108295279, 0.1384682626352491, 0.08215783583024781, 0.6069407267853719, 0.09960052952375334, 0.012450066190469167, 0.059137814404728546, 0.074700397142815, 0.10738182089279656, 0.0373501985714075, 0.9654733095906801, 0.004661484363998598, 0.1503328707389548, 0.4306046181243705, 0.32339047775240276, 0.018645937455994393, 0.027386220638491762, 0.010488339818996845, 0.004661484363998598, 0.01223639645549632, 0.018063251910494568, 0.5307203898326891, 0.0036181153235813036, 0.0019042712229375282, 0.0028564068344062925, 0.014282034172031461, 0.23632005876654724, 0.11292328352019543, 0.08683476776595128, 0.010473491726156406, 0.9920509005199506, 0.9393967052017824, 0.05833512730375095, 0.004055404823842253, 0.0527202627099493, 0.32848779073122253, 0.03244323859073803, 0.02636013135497465, 0.527202627099493, 0.030415536178816902, 0.13979450912499386, 0.013105735230468174, 0.0012481652600445882, 0.3981647179542236, 0.06677684141238546, 0.2515052998989845, 0.02496330520089176, 0.10546996447376769, 0.9749710607518471, 0.9779381067965173, 0.9920284502535872, 0.15896937516943774, 0.04671138038154095, 0.001506818721985192, 0.13862732242263764, 0.04143751485459278, 0.024862508912755668, 0.5062910905870245, 0.07609434546025219, 0.004520456165955576, 0.9737458547908059, 0.013910655068440084, 0.07970534112470005, 0.5812358722016588, 0.21581753904534168, 0.06744298095166927, 0.007357416103818466, 0.04659696865751695, 0.974051581634832, 0.9641818776091398, 0.968542721952089, 0.08510234698036256, 0.06440177609324735, 0.006900190295705073, 0.004600126863803382, 0.8372230892122156, 0.09291953380644381, 0.055001697141034006, 0.6054353480751697, 0.04750146571271119, 0.037501157141614096, 0.00041667952379571214, 0.13833760190017644, 0.022500694284968457, 0.0031972948082693168, 0.04795942212403975, 0.21741604696231354, 0.40221968688028004, 0.025578358466154534, 0.03261240704434703, 0.0006394589616538633, 0.012789179233077267, 0.25770196154650693, 0.0089989825286342, 0.7311673304515288, 0.13273499229735444, 0.12823550103303735, 0.9833600517785528, 0.3116625952367461, 0.25736338413344667, 0.038678890100980426, 0.252156610466007, 0.0018595620240855974, 0.07735778020196085, 0.060621721985190474, 0.00037191240481711945, 0.9902075644572067, 0.017457589997605518, 0.08437835165509333, 0.7914107465581167, 0.049463171659882295, 0.005819196665868506, 0.005819196665868506, 0.04364397499401379, 0.988614449378207, 0.9864567508939027, 0.753846493656208, 0.005971061335890757, 0.15897950806809139, 0.04926125602109874, 0.019405949341644958, 0.011195740004795169, 0.0014927653339726892, 0.26098127165406076, 0.4254785580299536, 0.03848814713282108, 0.19665861480194882, 0.0010544697844608517, 0.0021089395689217034, 0.06379542195988153, 0.011071932736838942, 0.05140158348542224, 0.8395591969285632, 0.10280316697084448, 0.9751639964165483, 0.09721277345778591, 0.0734496510569938, 0.24519221749908224, 0.01944255469155718, 0.005400709636543662, 0.02808369011002704, 0.008641135418469859, 0.054007096365436616, 0.4687815964519898, 0.0886200261497457, 0.10566233887085065, 0.02726770035376791, 0.7669040724497225, 0.006816925088441977, 0.7265789524280396, 0.002904203661594635, 0.011880833161068962, 0.020065407116472023, 0.08818218390660074, 0.07181303599579461, 0.07550929520146052, 0.002640185146904214, 0.2982967955631252, 0.19135345998353956, 0.010014760522503005, 0.18741908977827054, 0.0003576700186608216, 0.22926648196158667, 0.07904507412404158, 0.0032190301679473946, 0.0010730100559824649, 0.9923946866747071, 0.06012203359139589, 0.0515331716497679, 0.02576658582488395, 0.7911296166232887, 0.03244681177948349, 0.0038172719740568817, 0.0009543179935142204, 0.006680225954599543, 0.016223405889741745, 0.012406133915684864, 0.25399838361030275, 0.11505909684911149, 0.47543287188595124, 0.06078593795802117, 0.010854631778218065, 0.08358066469227911, 0.0049538704697203355, 0.18989836800594617, 0.6208850988716154, 0.00660516062629378, 0.15191869440475694, 0.021466772035454787, 0.001651290156573445, 0.9962822276580708, 0.9962186187857492, 0.9866461358110402, 0.13382586795645987, 0.06293002124143053, 0.019914563683997005, 0.029473554252315567, 0.04142229246271377, 0.05974369105199101, 0.152943849093097, 0.04938811793631257, 0.37519037980650355, 0.07567534199918861, 0.013195880555377418, 0.7064871435802064, 0.03654243846104516, 0.01827121923052258, 0.007105474145203225, 0.03654243846104516, 0.03248216752092903, 0.02334655790566774, 0.12688346687862903, 0.9736422524939449, 0.9815001770013827, 0.9838899061275795, 0.22774685063936567, 0.4654888608679198, 0.014278799413126373, 0.16563407319226595, 0.08353097656678929, 0.04355033821003544, 0.9552994857197112, 0.5185287938746442, 0.10109215667551313, 0.058436197883162476, 0.009616083195963444, 0.13215950238554888, 0.12278998542537937, 0.02046499757089656, 0.012328311789696724, 0.01208174555390279, 0.01208174555390279, 0.0034100487605178307, 0.03751053636569614, 0.06479092644983879, 0.010230146281553493, 0.886612677734636, 0.02307390986389043, 0.9729498659273799, 0.9776090208707953, 0.8640902385791052, 0.03844469281813816, 0.01281489760604605, 0.007322798632026315, 0.07414333614926644, 0.002746049487009868, 0.9584515205285019, 0.04078517108631923, 0.08859406230736172, 0.9080891386504576, 0.9983633593847746, 0.02536333527417967, 0.08531303683133161, 0.03612353811777105, 0.06071828747455133, 0.20674961178043427, 0.0023057577521981517, 0.18446062017585213, 0.03151202261337474, 0.2736165865941807, 0.09453606784012422, 0.8984957246746194, 0.09335020516099941, 0.04234703524456463, 0.100574208705841, 0.8522340842968632, 0.0026466897027852894, 0.9427154475707836, 0.0563375765480548, 0.19401818288561878, 0.7862842148522445, 0.02042296661953882, 0.24636043489937967, 0.6501178143178075, 0.10265018120807486, 0.9629089112377609, 0.0786600408196834, 0.3887496232245511, 0.048106140666583246, 0.09036153449533879, 0.21647763299962458, 0.01690215753150222, 0.06955887907195145, 0.024053070333291623, 0.011051410693674529, 0.0559071364503535, 0.9181831868278235, 0.06388948616098175, 0.010952483341882587, 0.005476241670941294, 0.07458814849182475, 0.13452505352989821, 0.11676597055565423, 0.11410210810951764, 0.06659656115341496, 0.02086692249473669, 0.31211588327233813, 0.04439770743560997, 0.05194531769966367, 0.06304474455856617, 0.9789776638575233, 0.9864949339823293, 0.986107227201523, 0.017673110147521435, 0.1590579913276929, 0.824745140217667, 0.9925572209432606, 0.23809823961100884, 0.0717347260366501, 0.0549457476025405, 0.5967718697942593, 0.0381567691684309, 0.12874680055544527, 0.011870272391636797, 0.08035261311261832, 0.06391685133958276, 0.01278337026791655, 0.01917505540187483, 0.009130978762797537, 0.6738662326944582, 0.10032319475657639, 0.132185496953944, 0.02023686761184159, 0.0938646199868397, 0.18342352346052163, 0.009042004677631348, 0.09343404833552393, 0.11108748603947084, 0.2419812680394675, 0.013778292842104911, 0.9912115801167759, 0.054212356227966205, 0.13986146340469388, 0.11997290668200805, 0.18252562540658446, 0.08147892592842258, 0.02630422018161674, 0.07762952785306404, 0.13504971581049569, 0.04458886103956984, 0.1385783307129077, 0.00233992766165195, 0.2285329349546738, 0.3661986790485302, 0.030809047545084012, 0.19616393563515516, 0.06824789013151522, 0.027299156052606088, 0.0019499397180432919, 0.035098914924779255, 0.04289867379695242, 0.006336164153658404, 0.36864955075830713, 0.08525020861285852, 0.2695749839920121, 0.1123229099966717, 0.029952775999112453, 0.014976387999556227, 0.012096313384256952, 0.0702738206133023, 0.030528790922172307, 0.4198341763082597, 0.04464654486860224, 0.0054829090189511525, 0.0540458174725185, 0.394769449364483, 0.03681381769867202, 0.042296726717623176, 0.0023498181509790652, 0.9227119041526048, 0.0731417972803894, 0.4770197058133883, 0.024067593633369744, 0.15908679391657402, 0.027677732678375203, 0.25800460374972367, 0.02142015833369907, 0.009145685580680503, 0.02166083427003277, 0.0014440556180021847, 0.08740868955237503, 0.8740868955237504, 0.02622260686571251, 0.2692706089529631, 0.010939118488714128, 0.02818926687476333, 0.0345002967720984, 0.07026279952366382, 0.06184809299388372, 0.26253884372913905, 0.11486074413149834, 0.052591915811125614, 0.0946654484600261, 0.09863051151319319, 0.15857405514836662, 0.3035439018121549, 0.21851759878354007, 0.08077498787718407, 0.03911209939316281, 0.0072272357574322595, 0.04931525575659659, 0.044638809090022775, 0.990941333337819, 0.03275181890183784, 0.8187954725459461, 0.09825545670551353, 0.0467883127169112, 0.002911466999045152, 0.2525697621671669, 0.454916718600805, 0.21472069117957995, 0.005095067248329016, 0.06841947447756107, 0.9956370859095844, 0.11076920845174708, 0.022499995466761125, 0.11509613065689345, 0.029423070994995318, 0.032884608759112414, 0.063173064195137, 0.058846141989990636, 0.5659614244331452, 0.978262970380989, 0.043778213328714136, 0.948527955455473, 0.9279850790945507, 0.07066820241601789, 0.9567935291188375, 0.03417119746852991, 0.9799072194292526, 0.9845589653051565, 0.9918384156647659, 0.005540996735557351, 0.9769590748871606, 0.021954136514318216, 0.2322605767480502, 0.33224029521575393, 0.27430333015498204, 0.07895834176423781, 0.016919644663765245, 0.002050866019850333, 0.008203464079401332, 0.0548606660309964, 0.0467478594061679, 0.44850174024333367, 0.03239950651912627, 0.15042628026737195, 0.11108402235129007, 0.07081606424894742, 0.019439703911475762, 0.05970766201381841, 0.039805108009212276, 0.02129110428399726, 0.17710729246579823, 0.015569871865125118, 0.03697844567967216, 0.09633858216546168, 0.01848922283983608, 0.0038924679662812795, 0.0019462339831406398, 0.6276604595628563, 0.02238169080611736, 0.03287930106457535, 0.0059780547390137, 0.044835410542602754, 0.5768822823148221, 0.33776009275427404, 0.9880552886463042, 0.9822911280638018, 0.650048414710188, 0.31450799899070797, 0.0014673779113096794, 0.033749691960122626, 0.9796507305921157, 0.9944240913437741, 0.9773001125007557, 0.9777029174352339, 0.049432158392235775, 0.9462727463656563, 0.9856458529728584, 0.012621854502349096, 0.265058944549331, 0.23178314631586522, 0.017211619775930585, 0.31554636255872737, 0.15719946062016601, 0.9677328821266503, 0.04782952301526901, 0.12555249791508113, 0.2331689246994364, 0.026904106696088816, 0.5186513901968233, 0.014946725942271564, 0.03288279707299744, 0.9837903531529392, 0.9743807416152422, 0.010131588189992189, 0.9827640544292423, 0.0038928571958445793, 0.9926785849403676, 0.9868598710619606, 0.02913901999614309, 0.961587659872722, 0.9923206599034539, 0.006014064605475478, 0.20570900739745918, 0.5580283018350964, 0.1466102870401781, 0.002273027706049273, 0.087511566682897, 0.28063550281809274, 0.7153453993402364, 0.9730661026128588, 0.9834521467444379, 0.2550792617702919, 0.07795105130139479, 0.06075058458230768, 0.08307459457942074, 0.23861072980520845, 0.061116551959309526, 0.023787879505120475, 0.028911422783146422, 0.05379720441927246, 0.11674359326359125, 0.896229984348696, 0.10341115204023416, 0.8842339746047948, 0.0016762729376394215, 0.09554755744544703, 0.005866955281737975, 0.01173391056347595, 0.059983238304428074, 0.28791954386125473, 0.09197429873345637, 0.5598435575079953, 0.009043099482142181, 0.13646859218505475, 0.22237803726540545, 0.2955449330754649, 0.10769509383278417, 0.008220999529220166, 0.033706098069802674, 0.012742549270291255, 0.09084204479788283, 0.08344314522158468, 0.28115715497495897, 0.36801463320829453, 0.03665084341637858, 0.19028314595626689, 0.014057857748747949, 0.07229755413641802, 0.03765497611271772, 0.11174994327527363, 0.8800308032927797, 0.9727960027325674, 0.06043170316863312, 0.03625902190117987, 0.8943892068957701, 0.6285761815818122, 0.053061625717945184, 0.012558964666969274, 0.04552624691776362, 0.012872938783643506, 0.16734820418736557, 0.03610702341753666, 0.01193101643362081, 0.010989094083598114, 0.021350239933847766, 0.9943450424293329, 0.9977592456205954, 0.08685825289728447, 0.015589942827717725, 0.004454269379347921, 0.011135673448369804, 0.8841724718005625, 0.9914313406157351, 0.003340131972773936, 0.6880671863914308, 0.0025050989795804522, 0.11940971802666822, 0.007515296938741357, 0.02922615476177194, 0.14947090578163363, 0.011715089252716412, 0.1356997838439651, 0.02928772313179103, 0.34364261807968144, 0.011715089252716412, 0.4676273126709301, 0.9896883025389492, 0.021572831221400027, 0.009492045737416011, 0.05867810092220807, 0.6238862789228887, 0.12080785483984015, 0.006903305990848008, 0.13806611981696015, 0.01639535172826402, 0.004314566244280005, 0.9814067111362581, 0.030056412989474104, 0.0030056412989474105, 0.04508461948421116, 0.09317488026736973, 0.018033847793684464, 0.09618052156631714, 0.7123369878505362, 0.9594666291604971, 0.0581862600698669, 0.8190835071373571, 0.09996101088925852, 0.02088737540969581, 0.0014919553864068435, 0.2359556426740179, 0.09056883254154222, 0.24548920399418023, 0.03217576945554789, 0.09295222287158281, 0.0011916951650202923, 0.30030718158511366, 0.09660764429822735, 0.022294071761129387, 0.8843315131914657, 0.019637427080213536, 0.1290459493842604, 0.03366416070893749, 0.008416040177234373, 0.011221386902979164, 0.7939131233857758, 0.12040037508069687, 0.17700652157386032, 0.09703910827399449, 0.20647765816077718, 0.09793761853579074, 0.08445996460884705, 0.03953445151903479, 0.02497858527793562, 0.05337150955069697, 0.09865642674522773, 0.8836178706336697, 0.03606603553606815, 0.0721320710721363, 0.9836277895077655, 0.5222284828135877, 0.004610363812961047, 0.0008382479659929176, 0.0008382479659929176, 0.0037721158469681292, 0.30596050758741494, 0.08927340837824572, 0.0004191239829964588, 0.02053707516682648, 0.05155224990856443, 0.0037504775175193628, 0.9263679468272826, 0.03750477517519363, 0.033754297657674265, 0.9808196412562903, 0.009056727394599043, 0.35161412237855105, 0.3153872128001549, 0.10654973405410638, 0.10708248272437691, 0.015449711437845424, 0.026104684843256065, 0.06819182979462808, 0.018417597707662357, 0.13076494372440273, 0.17680893799355862, 0.6206730427482214, 0.0515692735814546, 0.9645345815186658, 0.07205703836897176, 0.9031148808911128, 0.022417745270346772, 0.05024442121729823, 0.7589552047033996, 0.16659992298367307, 0.007933329665889194, 0.00528888644392613, 0.01057777288785226, 0.02194553653475606, 0.20787299884310603, 0.060350225470579166, 0.2938263502709006, 0.06461741313011507, 0.07071339550088064, 0.04998705544027769, 0.008534375319071802, 0.07741897610872277, 0.14447478218714407, 0.9873575496517616, 0.940169913184785, 0.05187144348605711, 0.976974748006299, 0.011770780096461434, 0.9808368606713537, 0.01697602258854266, 0.0018862247320602956, 0.9966817315735844, 0.4463329938626948, 0.007028866045081808, 0.04217319627049085, 0.5025639222233493, 0.07547171974325168, 0.00943396496790646, 0.004192873319069538, 0.056603789807438756, 0.7536689791027494, 0.09958074132790153, 0.9505515862494724, 0.03435728624998093, 0.8956378313007339, 0.047294406933372085, 0.054684158016711476, 0.2076161544953494, 0.12354517176065784, 0.13620101862394474, 0.21846402323530958, 0.0578552999464544, 0.09642549991075733, 0.03465291403042842, 0.04248748589817745, 0.0524313655764743, 0.030434298409332785, 0.15940801373223745, 0.00332100028608828, 0.7970400686611873, 0.03653100314697108, 0.07680985006847633, 0.06708708423702363, 0.00097227658314527, 0.014584148747179051, 0.15556425330324322, 0.02333463799548648, 0.13028506214146618, 0.11181180706170606, 0.30723940027390534, 0.1137563602279966, 0.08861937053417471, 0.2296047327476345, 0.09365456204179827, 0.05840822148843333, 0.364547865151946, 0.0010070383015247126, 0.12990794089668792, 0.03323226395031552, 0.9878707063637451, 0.9895916230841201, 0.14536373579746825, 0.05498541310599886, 0.07647396535432024, 0.04771722631612545, 0.07520993286912488, 0.16843232865228386, 0.11818703736576766, 0.04266109637534394, 0.1049146962712162, 0.1659042636818931, 0.3826988910711096, 0.6165704356145655, 0.05320656978961421, 0.9449486794635484, 0.9826749707770012, 0.9752037276192719, 0.031626508581549063, 0.17580618005625803, 0.18603828577381804, 0.40928422870239967, 0.15534196862113805, 0.010232105717559992, 0.031626508581549063, 0.5799923026555815, 0.029675257148207002, 0.010598306124359644, 0.047162462253400414, 0.008743602552596706, 0.26919697555873495, 0.0002649576531089911, 0.05087186939692629, 0.0034444494904168842, 0.9901371321908332, 0.9803322244279955, 0.7002683827916254, 0.01679453619931342, 0.01998337218652483, 0.027849167621646305, 0.0006377671974422817, 0.1609299228212691, 0.002338479723955033, 0.05846199309887583, 0.012542754883031542, 0.056787300399880426, 0.0014560846256379597, 0.06261163890243227, 0.04368253876913879, 0.8343364904905509, 0.030721758455431993, 0.004388822636490285, 0.004388822636490285, 0.004388822636490285, 0.07899880745682512, 0.8777645272980569, 0.33240813669886377, 0.013252151629190584, 0.007730421783694506, 0.009939113721892937, 0.007178248799144899, 0.001656518953648823, 0.6272685104483543, 0.0032789588026502707, 0.16066898132986326, 0.8328555358731687, 0.003759319386189958, 0.028821448627456343, 0.9661450822508192, 0.9923445662300008, 0.024478035004270395, 0.8278026383262352, 0.026703310913749525, 0.03560441455166603, 0.042280242280103415, 0.042280242280103415, 0.9972388456563419, 0.12579422286854083, 0.024276078097437703, 0.024276078097437703, 0.035310659050818476, 0.7878690800713873, 0.8827887121075997, 0.11714098450267342, 0.013917898613674807, 0.06842966818390113, 0.12874056217649196, 0.5926705159656522, 0.03711439630313282, 0.005799124422364503, 0.08698686633546754, 0.002319649768945801, 0.06379036864600954, 0.9942032626544822, 0.0806769821832987, 0.9167838884465762, 0.025798136003659596, 0.9631304108032915, 0.15424093478389664, 0.22542905853031045, 0.4957744332339534, 0.011017209627421188, 0.09576497599219956, 0.016949553272955675, 0.9683014624548536, 0.036548062484354216, 0.0355602770118041, 0.19459373809237246, 0.23509294246692714, 0.11260754387071299, 0.020743494923552392, 0.001975570945100228, 0.294360070819934, 0.06815719760595787, 0.9908548015881569, 0.9812845881633693, 0.9854640938016793, 0.9875086572622449, 0.028430140547543656, 0.17322550752224272, 0.13686137426375666, 0.16793617904828112, 0.2981858927195858, 0.024463144192072447, 0.011239823007168422, 0.004628162414716409, 0.11570406036791023, 0.03966996355471208, 0.13319502767525554, 0.24433789845063433, 0.31402271425424483, 0.1834739454069745, 0.009261905897948232, 0.11026078449938373, 0.005292517655970419, 0.9855336723364709, 0.051084554872702456, 0.7662683230905368, 0.10216910974540491, 0.08027572908567529, 0.9870597291900045, 0.05458033537463463, 0.40791619069463775, 0.09479742459804961, 0.020108544611707496, 0.2550912516456608, 0.013214186459122068, 0.0436642682997077, 0.0022981193841951422, 0.08617947690731784, 0.02183213414985385, 0.10765872742848372, 0.02985847518524353, 0.15181562735032275, 0.1829357282476188, 0.07401537510708256, 0.02060655329685821, 0.22667208626544033, 0.06770724654681984, 0.06560453702673226, 0.07233320749101249, 0.11554463453256116, 0.06607883784253094, 0.4179393161848214, 0.022026279280843646, 0.06066559971418801, 0.03695934997972069, 0.11666461483497693, 0.049839123457502146, 0.045172538864103065, 0.06906545198230635, 0.003982832509575701, 0.2220429124088453, 0.02290128693006028, 0.48889269055041723, 0.04480686573272663, 0.003982832509575701, 0.02688411943963598, 0.18520171169527008, 0.011604260467389384, 0.13925112560867262, 0.034812781402168154, 0.8084301458947938, 0.07349712078888758, 0.31174340559331526, 0.054503482832208766, 0.33858224183644836, 0.03303241383770228, 0.012800060362109634, 0.02188397416747776, 0.016103301745879862, 0.050787336275467256, 0.08753589666991105, 0.46929115296294205, 0.06250804291514597, 0.0019233243973891068, 0.4447687668962309, 0.021637399470627452, 0.07502019187687489, 0.1436827403743536, 0.12270251722234621, 0.08360301043905972, 0.08678183212875781, 0.1722921355816364, 0.1261992210810141, 0.06675525548365986, 0.05340420438692788, 0.06961619500438813, 0.02820160732087329, 0.808446076531701, 0.023501339434061075, 0.13630776871755423, 0.978516742156225, 0.0026506479857927273, 0.16080597780475878, 0.11972093402497151, 0.3927376765616224, 0.1418096672399109, 0.011044366607469696, 0.021646958550640607, 0.0017670986571951515, 0.1272311033180509, 0.02120518388634182, 0.1502898292156945, 0.8373290484874407, 0.9881866714190908], \"Term\": [\"05\", \"05\", \"05\", \"05\", \"05\", \"05\", \"05\", \"05\", \"05\", \"1\", \"1\", \"1\", \"1\", \"1\", \"1\", \"1\", \"1\", \"1\", \"1\", \"10\", \"10\", \"10\", \"10\", \"10\", \"10\", \"10\", \"10\", \"10\", \"10\", \"1001\", \"1012\", \"119\", \"11monthold\", \"15\", \"15\", \"15\", \"15\", \"15\", \"15\", \"15\", \"15\", \"15\", \"15\", \"2\", \"2\", \"2\", \"2\", \"2\", \"2\", \"2\", \"2\", \"2\", \"2\", \"20\", \"20\", \"20\", \"20\", \"20\", \"20\", \"20\", \"20\", \"20\", \"22gauge\", \"3\", \"3\", \"3\", \"3\", \"3\", \"3\", \"3\", \"3\", \"3\", \"3\", \"39\", \"39\", \"39\", \"39\", \"39\", \"39\", \"4french\", \"6french\", \"986\", \"a1\", \"a1\", \"abdomen\", \"abdomen\", \"abdomen\", \"abdomen\", \"abdomen\", \"abdomen\", \"abdomen\", \"abdomen\", \"abdominal\", \"abdominal\", \"abdominal\", \"abdominal\", \"abdominal\", \"abdominal\", \"abdominal\", \"abdominal\", \"abilities\", \"able\", \"able\", \"able\", \"able\", \"able\", \"able\", \"able\", \"able\", \"able\", \"able\", \"accommodation\", \"accommodation\", \"accommodation\", \"accommodation\", \"accommodation\", \"accuracy\", \"acidosis\", \"acidosis\", \"acoustic\", \"acute\", \"acute\", \"acute\", \"acute\", \"acute\", \"acute\", \"acute\", \"acute\", \"acute\", \"adenosine\", \"adjuvant\", \"admission\", \"admission\", \"admission\", \"admission\", \"admission\", \"admission\", \"admission\", \"admitted\", \"admitted\", \"admitted\", \"admitted\", \"admitted\", \"admitted\", \"admitted\", \"admitted\", \"admitted\", \"af\", \"afb\", \"age\", \"age\", \"age\", \"age\", \"age\", \"age\", \"age\", \"age\", \"age\", \"age\", \"alar\", \"alert\", \"alert\", \"alert\", \"alert\", \"alert\", \"alert\", \"alkaline\", \"alkaline\", \"alkaline\", \"allegra\", \"allegra\", \"allergies\", \"allergies\", \"allergies\", \"allergies\", \"allergies\", \"allergies\", \"allis\", \"also\", \"also\", \"also\", \"also\", \"also\", \"also\", \"also\", \"also\", \"also\", \"also\", \"alt\", \"alt\", \"alt\", \"alt\", \"ampicillin\", \"amplitude\", \"amplitude\", \"ana\", \"anc\", \"anca\", \"anesthesia\", \"anesthesia\", \"anesthesia\", \"anesthesia\", \"anesthesia\", \"anesthesia\", \"anesthesia\", \"angioplasty\", \"ant\", \"antebrachial\", \"antegrade\", \"antegrade\", \"anterior\", \"anterior\", \"anterior\", \"anterior\", \"anterior\", \"anterior\", \"anterior\", \"anterior\", \"anterior\", \"anterior\", \"antibodies\", \"antibodies\", \"anticipatory\", \"anticipatory\", \"antrum\", \"aorta\", \"aorta\", \"aorta\", \"aortic\", \"aortic\", \"aortic\", \"aortic\", \"aortic\", \"approximated\", \"approximated\", \"area\", \"area\", \"area\", \"area\", \"area\", \"area\", \"area\", \"area\", \"area\", \"area\", \"arteriotomy\", \"artery\", \"artery\", \"artery\", \"artery\", \"artery\", \"artery\", \"artery\", \"artery\", \"arthroscopic\", \"arthroscopy\", \"asbestos\", \"aspirin\", \"aspirin\", \"aspirin\", \"aspirin\", \"aspirin\", \"aspirin\", \"assessing\", \"assessing\", \"ast\", \"ast\", \"ast\", \"atrial\", \"atrial\", \"atrial\", \"atrial\", \"atrium\", \"attentional\", \"auscultated\", \"average\", \"average\", \"average\", \"average\", \"avulsion\", \"baby\", \"baby\", \"baby\", \"baby\", \"baby\", \"back\", \"back\", \"back\", \"back\", \"back\", \"back\", \"back\", \"back\", \"back\", \"back\", \"balloon\", \"balloon\", \"balloon\", \"bandage\", \"bandage\", \"bandage\", \"basilic\", \"beerybuktenica\", \"behavior\", \"behavior\", \"behavior\", \"behavior\", \"behavioral\", \"beverages\", \"bid\", \"bid\", \"bid\", \"bid\", \"bid\", \"bid\", \"bid\", \"bid6\", \"bilaterally\", \"bilaterally\", \"bilaterally\", \"bilaterally\", \"bilaterally\", \"bilaterally\", \"bilaterally\", \"bilaterally\", \"bilaterally\", \"bilaterallycv\", \"bilaterallygen\", \"bilirubin\", \"bilirubin\", \"bilirubin\", \"biopsies\", \"biopsies\", \"biopsies\", \"biopsies\", \"biopsy\", \"biopsy\", \"biopsy\", \"biopsy\", \"biopsy\", \"biopsy\", \"bladder\", \"bladder\", \"bladder\", \"bladder\", \"bladder\", \"bladder\", \"bladder\", \"bladder\", \"blood\", \"blood\", \"blood\", \"blood\", \"blood\", \"blood\", \"blood\", \"blood\", \"blood\", \"blood\", \"bluntly\", \"bone\", \"bone\", \"bone\", \"bone\", \"bone\", \"bone\", \"bone\", \"bone\", \"bovie\", \"bovie\", \"bowel\", \"bowel\", \"bowel\", \"bowel\", \"bowel\", \"bowel\", \"bowel\", \"bowel\", \"bp\", \"bp\", \"bp\", \"bp\", \"bp\", \"bp\", \"brachiocephalic\", \"brain\", \"brain\", \"brain\", \"brain\", \"brain\", \"brain\", \"brain\", \"brain\", \"branch\", \"branch\", \"branch\", \"breast\", \"breast\", \"breast\", \"breast\", \"breast\", \"breast\", \"breast\", \"breast\", \"bronchoscope\", \"brought\", \"brought\", \"brought\", \"brought\", \"brought\", \"brought\", \"brought\", \"brought\", \"brought\", \"bue\", \"bulldog\", \"bun\", \"bun\", \"bun\", \"bun\", \"bunion\", \"bunionectomy\", \"bur\", \"buttock\", \"buttock\", \"buttock\", \"buttock\", \"c5c6\", \"c5c6\", \"calcaneal\", \"calcifications\", \"calcifications\", \"calcium\", \"calcium\", \"calcium\", \"calcium\", \"calcium\", \"calcium\", \"calories\", \"calories\", \"calories\", \"camera\", \"canals\", \"canals\", \"cancer\", \"cancer\", \"cancer\", \"cancer\", \"cancer\", \"cancer\", \"cancer\", \"cancer\", \"cancerhistory\", \"carbohydrate\", \"carbohydrate\", \"carboplatin\", \"cardiac\", \"cardiac\", \"cardiac\", \"cardiac\", \"cardiac\", \"cardiac\", \"carotid\", \"carotid\", \"carotid\", \"carotid\", \"carotid\", \"carotid\", \"carotid\", \"carpal\", \"carpal\", \"carpal\", \"carried\", \"carried\", \"carried\", \"carried\", \"cartilage\", \"cartilage\", \"cartilage\", \"catheter\", \"catheter\", \"catheter\", \"catheter\", \"catheter\", \"catheter\", \"catheter\", \"catheterization\", \"catheterization\", \"catheterization\", \"catheterization\", \"cautery\", \"cautery\", \"cautery\", \"cc\", \"cc\", \"cc\", \"cc\", \"cc\", \"cc\", \"cecum\", \"cecum\", \"cefotaxime\", \"cephalic\", \"cephalic\", \"cephalic\", \"chantix\", \"chemotherapy\", \"chemotherapy\", \"chemotherapy\", \"chemotherapy\", \"chemotherapy\", \"chemotherapy\", \"chest\", \"chest\", \"chest\", \"chest\", \"chest\", \"chest\", \"chest\", \"chest\", \"chest\", \"chiropractic\", \"chloride\", \"chloride\", \"chloride\", \"chloride\", \"chondromalacia\", \"chronic\", \"chronic\", \"chronic\", \"chronic\", \"chronic\", \"chronic\", \"chronic\", \"chronic\", \"chronic\", \"chronic\", \"circumflex\", \"claim\", \"claimant\", \"claimant\", \"clamp\", \"clamps\", \"clear\", \"clear\", \"clear\", \"clear\", \"clear\", \"clear\", \"clear\", \"clear\", \"clear\", \"clear\", \"clicks\", \"closed\", \"closed\", \"closed\", \"closed\", \"closed\", \"cm\", \"cm\", \"cm\", \"cm\", \"cm\", \"cm\", \"cm\", \"cm\", \"cm\", \"cn\", \"cognitive\", \"cognitive\", \"cognitive\", \"collecting\", \"collecting\", \"colon\", \"colon\", \"colon\", \"colon\", \"colon\", \"colonoscope\", \"colposcopy\", \"comprehension\", \"conditions\", \"conditions\", \"conditions\", \"conditions\", \"conditions\", \"consume\", \"consume\", \"consume\", \"continue\", \"continue\", \"continue\", \"continue\", \"continue\", \"continue\", \"continue\", \"continue\", \"continue\", \"contractions\", \"contractions\", \"contractions\", \"contrast\", \"contrast\", \"contrast\", \"contrast\", \"contrast\", \"contrast\", \"contrastreason\", \"coronary\", \"coronary\", \"coronary\", \"coronary\", \"coronary\", \"coronary\", \"correlation\", \"correlation\", \"correlation\", \"coumadin\", \"coumadin\", \"coumadin\", \"coumadin\", \"coumadin\", \"coumadin\", \"count\", \"count\", \"count\", \"count\", \"count\", \"cranial\", \"cranial\", \"cranial\", \"cranial\", \"cranial\", \"cranial\", \"cranial\", \"cranial\", \"creatinine\", \"creatinine\", \"creatinine\", \"creatinine\", \"creatinine\", \"creatinine\", \"cruciate\", \"cruciate\", \"ct\", \"ct\", \"ct\", \"ct\", \"ct\", \"ct\", \"ct\", \"ct\", \"ct\", \"ct\", \"curette\", \"currently\", \"currently\", \"currently\", \"currently\", \"currently\", \"currently\", \"currently\", \"currently\", \"cyanosiscns\", \"cycle\", \"cycle\", \"cycle\", \"cycle\", \"cyclophosphamide\", \"cystoscope\", \"cystoscopy\", \"cystoscopy\", \"cytology\", \"cytology\", \"d5\", \"daily\", \"daily\", \"daily\", \"daily\", \"daily\", \"daily\", \"daily\", \"daily\", \"daily\", \"daily10\", \"daily6\", \"daily6\", \"daily7\", \"daily9\", \"data\", \"data\", \"data\", \"data\", \"data\", \"data\", \"daughter\", \"daughter\", \"daughter\", \"daughter\", \"daughter\", \"daughter\", \"daughter\", \"daughter\", \"day\", \"day\", \"day\", \"day\", \"day\", \"day\", \"day\", \"day\", \"day\", \"day\", \"day3\", \"day5\", \"decisions\", \"decongestant\", \"decreased\", \"decreased\", \"decreased\", \"decreased\", \"decreased\", \"decreased\", \"decreased\", \"decreased\", \"decreased\", \"deepened\", \"deepened\", \"deepened\", \"degenerative\", \"degenerative\", \"degenerative\", \"degenerative\", \"degenerative\", \"degenerative\", \"degenerative\", \"degenerative\", \"degenerative\", \"degrees\", \"degrees\", \"degrees\", \"degrees\", \"degrees\", \"degrees\", \"degrees\", \"degrees\", \"degrees\", \"degrees\", \"delivery\", \"delivery\", \"delivery\", \"delivery\", \"delivery\", \"delivery\", \"delusions\", \"delusions\", \"delusions\", \"denied\", \"denied\", \"denied\", \"denied\", \"denied\", \"denies\", \"denies\", \"denies\", \"denies\", \"denies\", \"denies\", \"depomedrol\", \"descending\", \"descending\", \"diagnosis\", \"diagnosis\", \"diagnosis\", \"diagnosis\", \"diagnosis\", \"diagnosis\", \"diagnosis\", \"diagnosis\", \"diagnosis\", \"diagnosis\", \"diagonal\", \"dialysis\", \"dialysis\", \"dialysis\", \"dialysis\", \"dialysis\", \"died\", \"died\", \"died\", \"died\", \"died\", \"difficile\", \"difficile\", \"difficulty\", \"difficulty\", \"difficulty\", \"difficulty\", \"difficulty\", \"difficulty\", \"difficulty\", \"difficulty\", \"difficulty\", \"difficulty\", \"digoxin\", \"digoxin\", \"digoxin\", \"directed\", \"directed\", \"directed\", \"directed\", \"directed\", \"directed\", \"disease\", \"disease\", \"disease\", \"disease\", \"disease\", \"disease\", \"disease\", \"disease\", \"disease\", \"disease\", \"dispense\", \"dissected\", \"dissected\", \"dissection\", \"dissection\", \"dissection\", \"dissection\", \"distal\", \"distal\", \"distal\", \"distal\", \"distal\", \"distal\", \"distal\", \"distal\", \"distal\", \"distal\", \"distraction\", \"diverticula\", \"dm\", \"dna\", \"dorsal\", \"dorsal\", \"dorsal\", \"dorsal\", \"dorsal\", \"dorsal\", \"dose\", \"dose\", \"dose\", \"dose\", \"dose\", \"dose\", \"dose\", \"dose\", \"doublestranded\", \"doubly\", \"dr\", \"dr\", \"dr\", \"dr\", \"dr\", \"dr\", \"dr\", \"dr\", \"dr\", \"dr\", \"drain\", \"drain\", \"draped\", \"draped\", \"draped\", \"draped\", \"drilled\", \"dura\", \"ear\", \"ear\", \"ear\", \"ear\", \"ear\", \"ears\", \"ears\", \"ears\", \"ears\", \"ecstasy\", \"edition\", \"ejection\", \"ejection\", \"ejection\", \"ejection\", \"elbow\", \"elbow\", \"elbow\", \"elbow\", \"elbow\", \"elbow\", \"electrocautery\", \"electrocautery\", \"emergency\", \"emergency\", \"emergency\", \"emergency\", \"emergency\", \"emergency\", \"emergency\", \"emergency\", \"emergency\", \"emergency\", \"eminence\", \"empirically\", \"enddiastolic\", \"endoscopy\", \"endoscopy\", \"endotracheal\", \"endotracheal\", \"endotracheal\", \"endotracheal\", \"enhancing\", \"enhancing\", \"enzyme\", \"enzyme\", \"epicondylitis\", \"equal\", \"equal\", \"equal\", \"equal\", \"equal\", \"equal\", \"equal\", \"equal\", \"errors\", \"esmarch\", \"esmarch\", \"esophagus\", \"esophagus\", \"esophagus\", \"esophagus\", \"esophagus\", \"esrd\", \"ethibond\", \"evaluation\", \"evaluation\", \"evaluation\", \"evaluation\", \"evaluation\", \"evaluation\", \"evaluation\", \"evaluation\", \"evaluation\", \"evaluation\", \"evidence\", \"evidence\", \"evidence\", \"evidence\", \"evidence\", \"evidence\", \"evidence\", \"evidence\", \"evidence\", \"evidence\", \"evoked\", \"exam\", \"exam\", \"exam\", \"exam\", \"exam\", \"exam\", \"exam\", \"exam\", \"exam\", \"examination\", \"examination\", \"examination\", \"examination\", \"examination\", \"examination\", \"examination\", \"examination\", \"examination\", \"examination\", \"excision\", \"excision\", \"excision\", \"executive\", \"exsanguinated\", \"exsmoker\", \"extension\", \"extension\", \"extension\", \"extension\", \"extension\", \"extension\", \"extension\", \"extensor\", \"extensor\", \"extensor\", \"extraocular\", \"extraocular\", \"extraocular\", \"extraocular\", \"extraocular\", \"extremitiesneurologic\", \"extremity\", \"extremity\", \"extremity\", \"extremity\", \"extremity\", \"extremity\", \"extremity\", \"extremity\", \"extremity\", \"fascia\", \"fascia\", \"fascia\", \"fashion\", \"fashion\", \"fashion\", \"fashion\", \"fashion\", \"fashion\", \"fashion\", \"fell\", \"fell\", \"fell\", \"fell\", \"fell\", \"fell\", \"fell\", \"fell\", \"femoral\", \"femoral\", \"femoral\", \"femoral\", \"femoral\", \"femoral\", \"femur\", \"femur\", \"femur\", \"femur\", \"fetal\", \"fetal\", \"fever\", \"fever\", \"fever\", \"fever\", \"fever\", \"fevergastrointestinal\", \"fibrillation\", \"fibrillation\", \"fibrillation\", \"fibrillation\", \"fibrillation\", \"fifth\", \"fifth\", \"fifth\", \"fifth\", \"fifth\", \"fifth\", \"figureofeight\", \"first\", \"first\", \"first\", \"first\", \"first\", \"first\", \"first\", \"first\", \"first\", \"first\", \"fistulogram\", \"flexion\", \"flexion\", \"flexion\", \"flexion\", \"flexion\", \"flexion\", \"flow\", \"flow\", \"flow\", \"flow\", \"flow\", \"flow\", \"flow\", \"fluconazole\", \"fluconazole\", \"fluency\", \"fluid\", \"fluid\", \"fluid\", \"fluid\", \"fluid\", \"fluid\", \"fluid\", \"fluid\", \"foci\", \"foot\", \"foot\", \"foot\", \"foot\", \"foot\", \"foot\", \"foot\", \"foot2\", \"foot2\", \"footpostoperative\", \"fraction\", \"fraction\", \"fraction\", \"fracture\", \"fracture\", \"fracture\", \"fracture\", \"fracture\", \"fracture\", \"fracture\", \"functioning\", \"functioning\", \"functioning\", \"functioning\", \"funduscopic\", \"funduscopic\", \"furosemide\", \"gaf\", \"gastroenteritis\", \"gcsf\", \"general\", \"general\", \"general\", \"general\", \"general\", \"general\", \"general\", \"general\", \"general\", \"general\", \"generator\", \"generic\", \"gestational\", \"gestational\", \"gfr\", \"gfr\", \"glaucomacardiovascular\", \"glenn\", \"glenohumeral\", \"goals\", \"goals\", \"good\", \"good\", \"good\", \"good\", \"good\", \"good\", \"good\", \"good\", \"good\", \"good\", \"grasped\", \"gs\", \"gums\", \"gums\", \"h\", \"h\", \"h\", \"h\", \"h\", \"h\", \"h\", \"ha\", \"ha\", \"haldol\", \"hallux\", \"hamstring\", \"hct\", \"hct\", \"hdl\", \"hearing\", \"hearing\", \"hearing\", \"hearing\", \"hearing\", \"heart\", \"heart\", \"heart\", \"heart\", \"heart\", \"heart\", \"heart\", \"heeltoshin\", \"hematemesis\", \"hematocrit\", \"hematocrit\", \"hematocrit\", \"hematologiclymphatic\", \"hemoglobin\", \"hemoglobin\", \"hemoglobin\", \"hemoglobin\", \"hemoglobin\", \"hemoglobin\", \"hemostasis\", \"hemostasis\", \"hemostasis\", \"hemostasis\", \"hemostatic\", \"hepatitis\", \"hepatitis\", \"hepatitis\", \"hepatitis\", \"hepatosplenomegalyext\", \"hepatosplenomegalyextremities\", \"hip\", \"hip\", \"hip\", \"hip\", \"hip\", \"hip\", \"hip\", \"hip\", \"hip\", \"ho\", \"ho\", \"hospital\", \"hospital\", \"hospital\", \"hospital\", \"hospital\", \"hospital\", \"hospital\", \"hospital\", \"hospital\", \"hospital\", \"however\", \"however\", \"however\", \"however\", \"however\", \"however\", \"however\", \"however\", \"however\", \"however\", \"htn\", \"humerus\", \"huntington\", \"huntington\", \"husband\", \"husband\", \"husband\", \"husband\", \"husband\", \"husband\", \"hydronephrosis\", \"hydronephrosis\", \"hyperkalemia\", \"hypertension\", \"hypertension\", \"hypertension\", \"hypertension\", \"hypertension\", \"hypertension\", \"hypertension\", \"hypokinesis\", \"i131\", \"iixii\", \"iixii\", \"ileocecal\", \"ileum\", \"ileus\", \"illness\", \"illness\", \"illness\", \"illness\", \"illness\", \"illness\", \"illness\", \"illness\", \"illness\", \"images\", \"images\", \"images\", \"images\", \"images\", \"immunologic\", \"impairment\", \"inch\", \"inch\", \"inch\", \"inch\", \"inch\", \"incision\", \"incision\", \"incision\", \"incision\", \"incision\", \"inflammatory\", \"inflammatory\", \"inflammatory\", \"inflammatory\", \"inflammatory\", \"inflammatory\", \"inflammatory\", \"information\", \"information\", \"information\", \"information\", \"information\", \"information\", \"injected\", \"injected\", \"injected\", \"injected\", \"injected\", \"injured\", \"injured\", \"injury\", \"injury\", \"injury\", \"injury\", \"injury\", \"injury\", \"injury\", \"injury\", \"injury\", \"injury\", \"intact\", \"intact\", \"intact\", \"intact\", \"intact\", \"intact\", \"intact\", \"intact\", \"intact\", \"intact\", \"intellectual\", \"intelligence\", \"intelligence\", \"intermetatarsal\", \"interphalangeal\", \"intestinal\", \"intracardiac\", \"intrarenal\", \"inventory\", \"irrigated\", \"irrigated\", \"irrigated\", \"items\", \"joint\", \"joint\", \"joint\", \"joint\", \"joint\", \"joint\", \"joint\", \"joint\", \"joules\", \"judkins\", \"kerlix\", \"kerlix\", \"kernig\", \"kerrison\", \"kidney\", \"kidney\", \"kidney\", \"kidney\", \"kidney\", \"kidney\", \"kidney\", \"kidney\", \"klonopin\", \"knee\", \"knee\", \"knee\", \"knee\", \"knee\", \"knee\", \"knee\", \"knee2\", \"knowledge\", \"kwire\", \"kwire\", \"kwires\", \"labor\", \"labor\", \"lad\", \"lad\", \"lantus\", \"lasix\", \"lasix\", \"lasix\", \"lasix\", \"last\", \"last\", \"last\", \"last\", \"last\", \"last\", \"last\", \"last\", \"last\", \"last\", \"latency\", \"lateral\", \"lateral\", \"lateral\", \"lateral\", \"lateral\", \"lateral\", \"lateral\", \"lateral\", \"learning\", \"leg\", \"leg\", \"leg\", \"leg\", \"leg\", \"leg\", \"leg\", \"leg\", \"leg\", \"lesion\", \"lesion\", \"lesion\", \"lesion\", \"lesion\", \"lesion\", \"lesion\", \"lesion\", \"lesion\", \"lesions\", \"lesions\", \"lesions\", \"lesions\", \"lesions\", \"lesions\", \"lesions\", \"lesions\", \"lesions\", \"lesions\", \"ligamentous\", \"light\", \"light\", \"light\", \"light\", \"light\", \"light\", \"light\", \"light\", \"light\", \"lightheaded\", \"lightheaded\", \"lisinopril\", \"lisinopril\", \"lisinopril\", \"lisinopril\", \"lithium\", \"lithium\", \"lithotripsy\", \"livedo\", \"liver\", \"liver\", \"liver\", \"liver\", \"liver\", \"liver\", \"liver\", \"liver\", \"lobe\", \"lobe\", \"lobe\", \"lobe\", \"lobe\", \"lobe\", \"lobe\", \"lobes\", \"lobes\", \"lobes\", \"low\", \"low\", \"low\", \"low\", \"low\", \"low\", \"low\", \"low\", \"low\", \"lower\", \"lower\", \"lower\", \"lower\", \"lower\", \"lower\", \"lower\", \"lower\", \"lower\", \"lower\", \"lue\", \"lue\", \"luminal\", \"lung\", \"lung\", \"lung\", \"lung\", \"lung\", \"lung\", \"lung\", \"lung\", \"lv\", \"lv\", \"lymph\", \"lymph\", \"lymph\", \"lymph\", \"lymph\", \"lymph\", \"lymphadenitis\", \"made\", \"made\", \"made\", \"made\", \"made\", \"made\", \"made\", \"made\", \"made\", \"mag\", \"malleolus\", \"manic\", \"mass\", \"mass\", \"mass\", \"mass\", \"mass\", \"mass\", \"mass\", \"mass\", \"mass\", \"mass\", \"masses\", \"masses\", \"masses\", \"masses\", \"masses\", \"masses\", \"masses\", \"masses\", \"mastectomy\", \"mastectomy\", \"may\", \"may\", \"may\", \"may\", \"may\", \"may\", \"may\", \"may\", \"may\", \"may\", \"medial\", \"medial\", \"medial\", \"medial\", \"medical\", \"medical\", \"medical\", \"medical\", \"medical\", \"medical\", \"medical\", \"medical\", \"medical\", \"medical\", \"medications\", \"medications\", \"medications\", \"medications\", \"medications\", \"medications\", \"medications\", \"medications\", \"medications\", \"medications1\", \"medications1\", \"medications1\", \"medications1\", \"melenaurological\", \"membranes\", \"membranes\", \"membranes\", \"membranes\", \"membranes\", \"membranes\", \"memory\", \"memory\", \"memory\", \"meniscal\", \"meniscus\", \"meq\", \"metastasis\", \"metastasis\", \"metastasis\", \"metastatic\", \"metastatic\", \"metastatic\", \"metastatic\", \"metastatic\", \"metastatic\", \"metastatic\", \"metastatic\", \"metatarsal\", \"metatarsal\", \"metatarsophalangeal\", \"methotrexate\", \"methotrexate\", \"methotrexate\", \"metzenbaum\", \"mg\", \"mg\", \"mg\", \"mg\", \"mg\", \"mg\", \"mg\", \"mg\", \"mg\", \"microscope\", \"mild\", \"mild\", \"mild\", \"mild\", \"mild\", \"mild\", \"mild\", \"mild\", \"mild\", \"mild\", \"mitral\", \"mitral\", \"mitral\", \"mitral\", \"mom\", \"mom\", \"mom\", \"mom\", \"mom\", \"mom\", \"monocryl\", \"monocryl\", \"months\", \"months\", \"months\", \"months\", \"months\", \"months\", \"months\", \"months\", \"months\", \"months\", \"mother\", \"mother\", \"mother\", \"mother\", \"mother\", \"mother\", \"mother\", \"motion\", \"motion\", \"motion\", \"motion\", \"motion\", \"motion\", \"motion\", \"motion\", \"mr\", \"mr\", \"mr\", \"mr\", \"mr\", \"mr\", \"mr\", \"mri\", \"mri\", \"mri\", \"mri\", \"mri\", \"mri\", \"mri\", \"ms\", \"ms\", \"ms\", \"ms\", \"ms\", \"ms\", \"murmurlungs\", \"musculoskeletal\", \"musculoskeletal\", \"musculoskeletal\", \"musculoskeletal\", \"myocardial\", \"myocardial\", \"myocardial\", \"myocardial\", \"myocardial\", \"myoview\", \"naming\", \"nasal\", \"nasal\", \"nasal\", \"nasal\", \"nasal\", \"nasal\", \"nasal\", \"nasal\", \"nausea\", \"nausea\", \"nausea\", \"nausea\", \"nausea\", \"nausea\", \"neck\", \"neck\", \"neck\", \"neck\", \"neck\", \"neck\", \"neck\", \"neck\", \"neck\", \"neck\", \"needle\", \"needle\", \"needle\", \"needle\", \"needle\", \"negative\", \"negative\", \"negative\", \"negative\", \"negative\", \"negative\", \"negative\", \"negative\", \"negative\", \"nephrostomy\", \"nephrostomy\", \"nerve\", \"nerve\", \"nerve\", \"nerve\", \"nerve\", \"nerve\", \"nerve\", \"nerves\", \"nerves\", \"nerves\", \"nerves\", \"nerves\", \"nerves\", \"nerves\", \"nerves\", \"neuroblastoma\", \"neuropsychological\", \"nevus\", \"node\", \"node\", \"node\", \"node\", \"node\", \"node\", \"nodes\", \"nodes\", \"nodes\", \"nodes\", \"nodes\", \"nodes\", \"nodes\", \"noncontrast\", \"noncontrast\", \"nonfocallaboratory\", \"nontender\", \"nontender\", \"nontender\", \"nontender\", \"normalfetal\", \"normocephalicneck\", \"norvasc\", \"norvasc\", \"norvasc\", \"norvasc\", \"norvasc\", \"nose\", \"nose\", \"nose\", \"nose\", \"nose\", \"nose\", \"nose\", \"noted\", \"noted\", \"noted\", \"noted\", \"noted\", \"noted\", \"noted\", \"noted\", \"noted\", \"noted\", \"notedneurologic\", \"nourished\", \"nourished\", \"nourished\", \"nourished\", \"obstruction\", \"obstruction\", \"obstruction\", \"obstruction\", \"obstruction\", \"obstruction\", \"obstruction\", \"obstruction\", \"obstruction\", \"obtained\", \"obtained\", \"obtained\", \"obtained\", \"obtained\", \"obtained\", \"obtained\", \"obtained\", \"obtained\", \"obtained\", \"obtuse\", \"od\", \"olympus\", \"omentum\", \"one\", \"one\", \"one\", \"one\", \"one\", \"one\", \"one\", \"one\", \"one\", \"one\", \"opened\", \"opened\", \"openended\", \"operating\", \"operating\", \"operating\", \"operating\", \"operating\", \"orifice\", \"orifice\", \"osteochondral\", \"osteomyelitis\", \"osteophytes\", \"osteotomy\", \"overload\", \"pain\", \"pain\", \"pain\", \"pain\", \"pain\", \"pain\", \"pain\", \"pain\", \"pain\", \"pain\", \"pancreas\", \"pancreas\", \"panic\", \"paranoia\", \"paranoid\", \"paranoid\", \"past\", \"past\", \"past\", \"past\", \"past\", \"past\", \"past\", \"past\", \"past\", \"past\", \"patella\", \"patella\", \"patella\", \"patella\", \"patella\", \"patellar\", \"patellar\", \"patellar\", \"patellofemoral\", \"pcr\", \"pelvis\", \"pelvis\", \"pelvis\", \"pelvis\", \"pelvis\", \"pelvis\", \"pelvis\", \"per\", \"per\", \"per\", \"per\", \"per\", \"per\", \"per\", \"per\", \"per\", \"per\", \"performance\", \"performance\", \"performance\", \"performed\", \"performed\", \"performed\", \"performed\", \"performed\", \"performed\", \"performed\", \"performed\", \"performed\", \"performed\", \"pericardial\", \"pericardial\", \"pericardial\", \"pericardial\", \"perinephric\", \"periosteal\", \"periosteal\", \"periosteum\", \"periosteum\", \"peritoneum\", \"peritoneum\", \"peroneal\", \"peroneal\", \"peroneal\", \"petct\", \"phalanx\", \"pharynx\", \"pharynx\", \"pharynx\", \"pharynx\", \"phosphatase\", \"phosphatase\", \"phosphatase\", \"physical\", \"physical\", \"physical\", \"physical\", \"physical\", \"physical\", \"physical\", \"physical\", \"physical\", \"physical\", \"pigtail\", \"placed\", \"placed\", \"placed\", \"placed\", \"placed\", \"placed\", \"placed\", \"placed\", \"placed\", \"placed\", \"platelet\", \"platelet\", \"platelet\", \"platysma\", \"pleura\", \"pneumatic\", \"pneumatic\", \"po\", \"po\", \"po\", \"po\", \"po\", \"po\", \"po\", \"port\", \"port\", \"port\", \"port\", \"port\", \"ports\", \"position\", \"position\", \"position\", \"position\", \"position\", \"position\", \"position\", \"position\", \"position\", \"position\", \"positive\", \"positive\", \"positive\", \"positive\", \"positive\", \"positive\", \"positive\", \"positive\", \"positive\", \"positive\", \"post\", \"post\", \"post\", \"post\", \"post\", \"post\", \"post\", \"post\", \"post\", \"post\", \"posterior\", \"posterior\", \"posterior\", \"posterior\", \"posterior\", \"posterior\", \"posterior\", \"posterior\", \"posterior\", \"posterior\", \"postnasal\", \"postnasal\", \"potassium\", \"potassium\", \"potassium\", \"potassium\", \"preeclampsia\", \"premorbid\", \"prenatal\", \"prenatal\", \"preoperative\", \"preoperative\", \"preoperative\", \"preoperative\", \"preoperative\", \"preoperative\", \"prepped\", \"prepped\", \"prepped\", \"prepped\", \"prepped\", \"present\", \"present\", \"present\", \"present\", \"present\", \"present\", \"present\", \"present\", \"present\", \"present\", \"pressure\", \"pressure\", \"pressure\", \"pressure\", \"pressure\", \"pressure\", \"pressure\", \"pressure\", \"pressure\", \"prior\", \"prior\", \"prior\", \"prior\", \"prior\", \"prior\", \"prior\", \"prior\", \"prior\", \"prior\", \"prn\", \"prn\", \"prn\", \"prn\", \"prn\", \"prn\", \"prn\", \"probed\", \"problems\", \"problems\", \"problems\", \"problems\", \"problems\", \"problems\", \"problems\", \"problems\", \"problems\", \"problems\", \"procedure\", \"procedure\", \"procedure\", \"procedure\", \"procedure\", \"procedure\", \"procedure\", \"procedure\", \"procedure\", \"processing\", \"prolene\", \"prolene\", \"prostate\", \"prostate\", \"prostate\", \"prostate\", \"prostate\", \"prostate\", \"prostate\", \"proximal\", \"proximal\", \"proximal\", \"proximal\", \"proximal\", \"proximal\", \"proximal\", \"proximal\", \"psychiatry\", \"psychosis\", \"pulley\", \"pulmonary\", \"pulmonary\", \"pulmonary\", \"pulmonary\", \"pulmonary\", \"pulmonary\", \"pulmonary\", \"pulmonary\", \"pulmonary\", \"pulsations\", \"pulsations\", \"pulses\", \"pulses\", \"pulses\", \"pulses\", \"pulses\", \"pulses\", \"pyelogram\", \"pylorus\", \"q6\", \"qd\", \"qd\", \"qd\", \"qd\", \"qd\", \"quot\", \"quot\", \"quot\", \"quot\", \"quot\", \"quot\", \"quot\", \"quot\", \"range\", \"range\", \"range\", \"range\", \"range\", \"range\", \"range\", \"range\", \"range\", \"rashes\", \"rashes\", \"rashes\", \"rashes\", \"rasp\", \"rate\", \"rate\", \"rate\", \"rate\", \"rate\", \"rate\", \"rate\", \"rate\", \"rca\", \"recall\", \"recall\", \"recall\", \"recall\", \"recall\", \"recall\", \"recall\", \"reciprocating\", \"recognition\", \"recovery\", \"recovery\", \"recovery\", \"recovery\", \"recovery\", \"recovery\", \"recovery\", \"regular\", \"regular\", \"regular\", \"regular\", \"regular\", \"regular\", \"regular\", \"regular\", \"regurgitation\", \"regurgitation\", \"regurgitation\", \"rejection\", \"related\", \"related\", \"related\", \"related\", \"related\", \"related\", \"related\", \"related\", \"related\", \"release\", \"release\", \"release\", \"release\", \"release\", \"removed\", \"removed\", \"removed\", \"removed\", \"removed\", \"removed\", \"removed\", \"removed\", \"renal\", \"renal\", \"renal\", \"renal\", \"renal\", \"renal\", \"renal\", \"renal\", \"renal\", \"repetition\", \"reported\", \"reported\", \"reported\", \"reported\", \"reported\", \"reported\", \"reported\", \"reported\", \"reported\", \"reported\", \"reports\", \"reports\", \"reports\", \"reports\", \"reports\", \"reports\", \"respirations\", \"respirations\", \"respirations\", \"respirations\", \"respirations\", \"respirations\", \"respirations\", \"retractor\", \"retractors\", \"retroflexed\", \"revealed\", \"revealed\", \"revealed\", \"revealed\", \"revealed\", \"revealed\", \"revealed\", \"revealed\", \"revealed\", \"revealed\", \"reveals\", \"reveals\", \"reveals\", \"reveals\", \"reveals\", \"reveals\", \"reveals\", \"reveals\", \"reveals\", \"reversible\", \"rhf\", \"rhm\", \"rhythm\", \"rhythm\", \"rhythm\", \"rhythm\", \"rhythm\", \"rhythm\", \"righthand\", \"room\", \"room\", \"room\", \"room\", \"room\", \"room\", \"room\", \"room\", \"room\", \"room\", \"rotation\", \"rotation\", \"rotation\", \"rotation\", \"rotation\", \"rotator\", \"rotator\", \"rue\", \"running\", \"running\", \"running\", \"running\", \"running\", \"running\", \"salivary\", \"salivary\", \"saphenous\", \"saphenous\", \"scalpel\", \"scan\", \"scan\", \"scan\", \"scan\", \"scan\", \"scan\", \"scan\", \"scan\", \"scan\", \"scan\", \"schizophrenia\", \"schizophrenia\", \"school\", \"school\", \"school\", \"school\", \"scissors\", \"scissors\", \"scope\", \"scope\", \"scope\", \"screw\", \"screw\", \"screw\", \"seatbelt\", \"secondary\", \"secondary\", \"secondary\", \"secondary\", \"secondary\", \"secondary\", \"secondary\", \"secondary\", \"secondary\", \"secondary\", \"secured\", \"secured\", \"secured\", \"secured\", \"seen\", \"seen\", \"seen\", \"seen\", \"seen\", \"seen\", \"seen\", \"seen\", \"seen\", \"seen\", \"segs\", \"selfbreast\", \"sentence\", \"sepsis\", \"sepsis\", \"sepsis\", \"seroquel\", \"sheath\", \"sheath\", \"sheath\", \"sheath\", \"sheath\", \"shoulder\", \"shoulder\", \"shoulder\", \"shoulder\", \"shoulder\", \"shoulder\", \"shoulder\", \"shoulder\", \"showed\", \"showed\", \"showed\", \"showed\", \"showed\", \"showed\", \"showed\", \"showed\", \"showed\", \"showed\", \"sig\", \"significant\", \"significant\", \"significant\", \"significant\", \"significant\", \"significant\", \"significant\", \"significant\", \"significant\", \"significant\", \"signs\", \"signs\", \"signs\", \"signs\", \"signs\", \"signs\", \"signs\", \"signs\", \"signs\", \"signs\", \"since\", \"since\", \"since\", \"since\", \"since\", \"since\", \"since\", \"since\", \"since\", \"since\", \"site\", \"site\", \"site\", \"site\", \"site\", \"site\", \"site\", \"site\", \"skills\", \"skills\", \"skin\", \"skin\", \"skin\", \"skin\", \"skin\", \"skin\", \"skin\", \"skin\", \"skin\", \"sliding\", \"sliding\", \"sliding\", \"small\", \"small\", \"small\", \"small\", \"small\", \"small\", \"small\", \"small\", \"small\", \"small\", \"soft\", \"soft\", \"soft\", \"soft\", \"soft\", \"soft\", \"soft\", \"soft\", \"soft\", \"solitary\", \"sore\", \"sore\", \"sore\", \"sore\", \"sounds\", \"sounds\", \"sounds\", \"sounds\", \"sounds\", \"sounds\", \"speculum\", \"spine\", \"spine\", \"spine\", \"spine\", \"spine\", \"spine\", \"spine\", \"spine\", \"splenectomy\", \"splinter\", \"splinter\", \"sponge\", \"sponge\", \"spots\", \"spots\", \"sprain\", \"staging\", \"stapler\", \"stapler\", \"staples\", \"staples\", \"states\", \"states\", \"states\", \"states\", \"states\", \"states\", \"states\", \"states\", \"status\", \"status\", \"status\", \"status\", \"status\", \"status\", \"status\", \"status\", \"status\", \"status\", \"stenosis\", \"stenosis\", \"stenosis\", \"stenosis\", \"stenosis\", \"stenosis\", \"stenosis\", \"stenosis\", \"stenosis\", \"stent\", \"stent\", \"stent\", \"stent\", \"stent\", \"stenting\", \"stereotactic\", \"sterile\", \"sterile\", \"sterile\", \"sterile\", \"sternotomy\", \"stitches\", \"stockinet\", \"stoma\", \"stone\", \"stone\", \"stranding\", \"strength\", \"strength\", \"strength\", \"strength\", \"strength\", \"strength\", \"streptococcus\", \"stress\", \"stress\", \"stress\", \"stress\", \"stress\", \"stress\", \"stress\", \"strictures\", \"stridor\", \"subacromial\", \"subacromial\", \"subclavian\", \"subclavian\", \"sublingual\", \"subscapularis\", \"subscapularis\", \"suction\", \"suction\", \"supple\", \"supple\", \"supple\", \"supple\", \"supple\", \"supraclavicular\", \"supraclavicular\", \"suprapatellar\", \"suprascapular\", \"surgery\", \"surgery\", \"surgery\", \"surgery\", \"surgery\", \"surgery\", \"surgery\", \"surgery\", \"surgery\", \"surgery\", \"suture\", \"suture\", \"sutures\", \"sutures\", \"sutures\", \"sutures\", \"sutures\", \"sweats\", \"sweats\", \"sweats\", \"sweats\", \"symptoms\", \"symptoms\", \"symptoms\", \"symptoms\", \"symptoms\", \"symptoms\", \"symptoms\", \"symptoms\", \"symptoms\", \"symptoms\", \"systems\", \"systems\", \"systems\", \"systems\", \"systems\", \"systems\", \"systems\", \"t1\", \"t1\", \"t7\", \"tab\", \"tab\", \"tab\", \"taken\", \"taken\", \"taken\", \"taken\", \"taken\", \"taken\", \"taken\", \"taken\", \"taken\", \"taken\", \"task\", \"tasks\", \"tear\", \"tear\", \"tear\", \"tear\", \"tear\", \"tenaculum\", \"tenderness\", \"tenderness\", \"tenderness\", \"tenderness\", \"tenderness\", \"tenderness\", \"tenderness\", \"tendon\", \"tendon\", \"tendon\", \"tendon\", \"tendon\", \"tendon\", \"terminal\", \"test\", \"test\", \"test\", \"test\", \"test\", \"test\", \"test\", \"test\", \"test\", \"testicles\", \"thoracic\", \"thoracic\", \"thoracic\", \"thoracic\", \"thoracic\", \"thoracic\", \"thoracic\", \"thrills\", \"throat\", \"throat\", \"throat\", \"throat\", \"throat\", \"thyroid\", \"thyroid\", \"thyroid\", \"thyroid\", \"thyroid\", \"thyroid\", \"thyroid\", \"tibia\", \"tibia\", \"tibia\", \"tibial\", \"tibial\", \"tibial\", \"tibial\", \"tibial\", \"tibial\", \"time\", \"time\", \"time\", \"time\", \"time\", \"time\", \"time\", \"time\", \"time\", \"time\", \"tinnitus\", \"tinnitus\", \"tinnitus\", \"tirednessheent\", \"tissue\", \"tissue\", \"tissue\", \"tissue\", \"tissue\", \"tissue\", \"tissue\", \"tissue\", \"tissue\", \"tissue\", \"tms\", \"tms\", \"tms\", \"tms\", \"tobaccoetohillicit\", \"today\", \"today\", \"today\", \"today\", \"today\", \"today\", \"today\", \"today\", \"toe\", \"toe\", \"toe\", \"toe\", \"toe\", \"toothache\", \"tourniquet\", \"tourniquet\", \"tourniquet\", \"transplant\", \"transplant\", \"transplant\", \"transplant\", \"transplant\", \"transplant\", \"treatment\", \"treatment\", \"treatment\", \"treatment\", \"treatment\", \"treatment\", \"treatment\", \"treatment\", \"treatment\", \"treatment\", \"tricor\", \"tricuspid\", \"tricuspid\", \"triglycerides\", \"triglycerides\", \"trocar\", \"trocar\", \"trocar\", \"trocars\", \"tsh\", \"tsh\", \"tsh\", \"tsh\", \"tumor\", \"tumor\", \"tumor\", \"tumor\", \"tumor\", \"tumor\", \"turgor\", \"turgor\", \"turned\", \"turned\", \"turned\", \"two\", \"two\", \"two\", \"two\", \"two\", \"two\", \"two\", \"two\", \"two\", \"two\", \"tympanic\", \"tympanic\", \"tympanic\", \"tympanic\", \"underwent\", \"underwent\", \"underwent\", \"underwent\", \"underwent\", \"underwent\", \"underwent\", \"underwent\", \"underwent\", \"underwent\", \"unremarkable\", \"unremarkable\", \"unremarkable\", \"unremarkable\", \"unremarkable\", \"unremarkable\", \"unremarkable\", \"unremarkable\", \"unremarkablemotor\", \"upj\", \"upper\", \"upper\", \"upper\", \"upper\", \"upper\", \"upper\", \"upper\", \"upper\", \"upper\", \"upper\", \"ureter\", \"ureter\", \"ureteral\", \"ureteral\", \"ureteroscope\", \"urgencymusculoskeletal\", \"urine\", \"urine\", \"urine\", \"urine\", \"urine\", \"urine\", \"urine\", \"used\", \"used\", \"used\", \"used\", \"used\", \"used\", \"used\", \"used\", \"used\", \"useexam\", \"usereview\", \"using\", \"using\", \"using\", \"using\", \"using\", \"using\", \"using\", \"using\", \"using\", \"valve\", \"valve\", \"valve\", \"valve\", \"valve\", \"vehicle\", \"vehicle\", \"vehicle\", \"vehicle\", \"vehicle\", \"vehicle\", \"vein\", \"vein\", \"vein\", \"vein\", \"vein\", \"vein\", \"vein\", \"ventricle\", \"ventricle\", \"ventricle\", \"ventricular\", \"ventricular\", \"ventricular\", \"ventriculogram\", \"verbal\", \"verbal\", \"verbal\", \"verbal\", \"verbal\", \"verbal\", \"veress\", \"vessel\", \"vessel\", \"vessel\", \"vessel\", \"vessel\", \"vicryl\", \"vicryl\", \"visual\", \"visual\", \"visual\", \"visual\", \"visual\", \"visual\", \"visual\", \"visual\", \"visual\", \"visuospatial\", \"vocal\", \"vocal\", \"volar\", \"volar\", \"vomiting\", \"vomiting\", \"vomiting\", \"vomiting\", \"vomiting\", \"vomiting\", \"wbcs\", \"weakness\", \"weakness\", \"weakness\", \"weakness\", \"weakness\", \"weakness\", \"weakness\", \"weakness\", \"weakness\", \"weaknesses\", \"weaknessskin\", \"webril\", \"wechsler\", \"weeks\", \"weeks\", \"weeks\", \"weeks\", \"weeks\", \"weeks\", \"weeks\", \"weeks\", \"weeks\", \"weeks\", \"weight\", \"weight\", \"weight\", \"weight\", \"weight\", \"weight\", \"weight\", \"wellchild\", \"wellnourished\", \"wellnourished\", \"wellnourished\", \"wellnourished\", \"wheeze\", \"white\", \"white\", \"white\", \"white\", \"white\", \"white\", \"white\", \"white\", \"white\", \"white\", \"within\", \"within\", \"within\", \"within\", \"within\", \"within\", \"within\", \"within\", \"within\", \"within\", \"without\", \"without\", \"without\", \"without\", \"without\", \"without\", \"without\", \"without\", \"without\", \"without\", \"work\", \"work\", \"work\", \"work\", \"work\", \"work\", \"work\", \"work\", \"worker\", \"worker\", \"worker\", \"worker\", \"would\", \"would\", \"would\", \"would\", \"would\", \"would\", \"would\", \"would\", \"would\", \"would\", \"wound\", \"wound\", \"wound\", \"wound\", \"wound\", \"x\", \"x\", \"x\", \"x\", \"x\", \"x\", \"x\", \"x\", \"x\", \"x\", \"xii\", \"xii\", \"xii\", \"xii\", \"xxxx\", \"years\", \"years\", \"years\", \"years\", \"years\", \"years\", \"years\", \"years\", \"years\", \"years\", \"yo\", \"yo\", \"zyprexa\"]}, \"R\": 30, \"lambda.step\": 0.01, \"plot.opts\": {\"xlab\": \"PC1\", \"ylab\": \"PC2\"}, \"topic.order\": [4, 9, 5, 3, 1, 10, 8, 2, 6, 7]};\n",
              "\n",
              "function LDAvis_load_lib(url, callback){\n",
              "  var s = document.createElement('script');\n",
              "  s.src = url;\n",
              "  s.async = true;\n",
              "  s.onreadystatechange = s.onload = callback;\n",
              "  s.onerror = function(){console.warn(\"failed to load library \" + url);};\n",
              "  document.getElementsByTagName(\"head\")[0].appendChild(s);\n",
              "}\n",
              "\n",
              "if(typeof(LDAvis) !== \"undefined\"){\n",
              "   // already loaded: just create the visualization\n",
              "   !function(LDAvis){\n",
              "       new LDAvis(\"#\" + \"ldavis_el611403573994974244284852265\", ldavis_el611403573994974244284852265_data);\n",
              "   }(LDAvis);\n",
              "}else if(typeof define === \"function\" && define.amd){\n",
              "   // require.js is available: use it to load d3/LDAvis\n",
              "   require.config({paths: {d3: \"https://cdnjs.cloudflare.com/ajax/libs/d3/3.5.5/d3.min\"}});\n",
              "   require([\"d3\"], function(d3){\n",
              "      window.d3 = d3;\n",
              "      LDAvis_load_lib(\"https://cdn.rawgit.com/bmabey/pyLDAvis/files/ldavis.v1.0.0.js\", function(){\n",
              "        new LDAvis(\"#\" + \"ldavis_el611403573994974244284852265\", ldavis_el611403573994974244284852265_data);\n",
              "      });\n",
              "    });\n",
              "}else{\n",
              "    // require.js not available: dynamically load d3 & LDAvis\n",
              "    LDAvis_load_lib(\"https://cdnjs.cloudflare.com/ajax/libs/d3/3.5.5/d3.min.js\", function(){\n",
              "         LDAvis_load_lib(\"https://cdn.rawgit.com/bmabey/pyLDAvis/files/ldavis.v1.0.0.js\", function(){\n",
              "                 new LDAvis(\"#\" + \"ldavis_el611403573994974244284852265\", ldavis_el611403573994974244284852265_data);\n",
              "            })\n",
              "         });\n",
              "}\n",
              "</script>"
            ]
          },
          "metadata": {},
          "execution_count": 18
        }
      ],
      "source": [
        "\n",
        "## It can be hard to get a good understanding of what's actually in these topics\n",
        "## Visualizations are very helpful for this, let's use a package that does this:\n",
        "\n",
        "vis_data = gensimvis.prepare(lda, corpus, dictionary)\n",
        "pyLDAvis.display(vis_data)"
      ]
    },
    {
      "cell_type": "markdown",
      "metadata": {
        "id": "7QE58x8lLTFM"
      },
      "source": [
        "Take a look at the results. What observations do you have? What happens if you change the number of topics?"
      ]
    },
    {
      "cell_type": "markdown",
      "metadata": {
        "id": "pUmu4yClLTFN"
      },
      "source": [
        "# 3 Using sklearn and comparing with 'existing' categories\n",
        "\n",
        "Now you have seen how you can build a topic models with gensim and look at the contents visually with pyLDAVis.\n",
        "\n",
        "You can also use sklearn for topic modeling, both lda and nmf, and analyse results visually by comparing with existing categories, if you have them.\n",
        "\n",
        "NMF approaches can be very efficient, particularly with smaller datasets. Let's see what you think.\n",
        "\n"
      ]
    },
    {
      "cell_type": "code",
      "execution_count": 159,
      "metadata": {
        "id": "ut-oDcPNLTFO"
      },
      "outputs": [],
      "source": [
        "# We need a couple of functions to visualise the data\n",
        "# Preparation for visualisation \n",
        "# Written by Sonia Priou, adaptations by Sumithra Velupillai\n",
        "\n",
        "def display_topics(model, feature_names, no_top_words):\n",
        "    for topic_idx, topic in enumerate(model.components_):\n",
        "        print(\"Topic %d:\" % (topic_idx))\n",
        "        print(\", \".join([feature_names[i] for i in topic.argsort()[:-no_top_words - 1:-1]]))\n",
        "\n",
        "def get_topic_list(model, feature_names, no_top_words):\n",
        "    tlist = {}\n",
        "    for topic_idx, topic in enumerate(model.components_):\n",
        "        tlist[topic_idx]= str(\"%d: \" % (topic_idx)+\", \".join([feature_names[i] for i in topic.argsort()[:-no_top_words - 1:-1]]))\n",
        "    return tlist\n",
        "\n",
        "    \n",
        "def display_topic_representation (model,dataframe,tlist):\n",
        "    doc_topic = model    #example : model = lda_Tfidf.transform(tfidf)\n",
        "    doc = np.arange(doc_topic.shape[0])\n",
        "    num_topics = doc_topic.shape[1]\n",
        "    dico = {'index': doc}\n",
        "    for n in range(num_topics):\n",
        "        dico[\"topic\" + str(n)] = doc_topic[:,n]\n",
        "    \n",
        "    #Max topic \n",
        "    Topic_max = []\n",
        "    for i in range(doc_topic.shape[0]):\n",
        "        if len(set(doc_topic[i])) == 1:\n",
        "            Topic_max.append(num_topics+1)\n",
        "        else:\n",
        "            Topic_max.append(doc_topic[i].argmax())\n",
        "    dico[\"Topic most represented\"] = Topic_max\n",
        "    #print(Topic_max)\n",
        "    tlist[num_topics+1] = 'NONE'\n",
        "    dico[\"Topic and its most representative words\"] = [tlist[x] for x in Topic_max]\n",
        "    df_topic = pd.DataFrame(dico)\n",
        "\n",
        "    \n",
        "    #Link both DataFrame\n",
        "    df_result = pd.merge(dataframe,df_topic, on='index')\n",
        "    df_result = df_result.sort_values('Topic most represented')\n",
        "    \n",
        "    #Finding within the cluster found by LDA the original file\n",
        "    fig, ax = plt.subplots()\n",
        "    fig.set_size_inches(11.7, 8.27)\n",
        "    sns.set_style('whitegrid')\n",
        "    sns.countplot(y='Topic and its most representative words', data = df_result)\n",
        "    return df_result\n",
        "\n",
        "def display_file_representation (model,dataframe):\n",
        "    #Within a file, what is the slipt between topics found\n",
        "    doc_topic = model    #example : model = lda_Tfidf.transform(tfidf)\n",
        "    doc = np.arange(doc_topic.shape[0])\n",
        "    no_topics = doc_topic.shape[1]\n",
        "    topic = np.arange(no_topics)\n",
        "    dico = {'index': doc}\n",
        "    for n in range(no_topics):\n",
        "        dico[\"topic\" + str(n)] = doc_topic[:,n]\n",
        "    #Max topic \n",
        "    Topic_max = []\n",
        "    for i in range(doc_topic.shape[0]):\n",
        "        Topic_max.append(doc_topic[i].argmax())\n",
        "    dico[\"Topic most represented\"] = Topic_max\n",
        "    df_topic = pd.DataFrame(dico)\n",
        "    #print(df_topic)\n",
        "    \n",
        "    \n",
        "    #Link both DataFrame\n",
        "    df_result = pd.merge(dataframe,df_topic, on='index')\n",
        "    dico2 = {'Topic': topic}\n",
        "    for i in df_result['Category'].value_counts().index:\n",
        "        ser = df_result.loc[df_result['Category']==i].mean()\n",
        "        score = ser[2:no_topics+2]\n",
        "        dico2[i]=score\n",
        "\n",
        "    df_score = pd.DataFrame(dico2)\n",
        "    print('For each given file, we calculate the mean percentage of the documents depence to each topic')\n",
        "    print('')\n",
        "    print(df_score)\n",
        "    print(df_result['Category'].value_counts().index)\n",
        "    fig, axs = plt.subplots(ncols=len(dataframe['Category'].value_counts()))\n",
        "    fig.set_size_inches(11.7, 8.27)\n",
        "    count = 0\n",
        "    for i in df_result['Category'].value_counts().index:\n",
        "        sns.barplot(x='Topic', y =i ,data = df_score, ax=axs[count])\n",
        "        count = count + 1\n",
        "        \n",
        "    plt.tight_layout()"
      ]
    },
    {
      "cell_type": "markdown",
      "metadata": {
        "id": "e_Elx5BkLTFQ"
      },
      "source": [
        "Let's look at a smaller sample, to make the analysis a bit easier. You can choose other categories of course!"
      ]
    },
    {
      "cell_type": "code",
      "execution_count": 20,
      "metadata": {
        "id": "92GsYnGrLTFR",
        "colab": {
          "base_uri": "https://localhost:8080/",
          "height": 206
        },
        "outputId": "26e29935-1882-4c2d-ff1e-f40221784b89"
      },
      "outputs": [
        {
          "output_type": "execute_result",
          "data": {
            "text/plain": [
              "     Unnamed: 0  index      Category                       Document Name  \\\n",
              "475         475      0  17-dentistry   2336-bonyimpactedteethremoval.txt   \n",
              "476         476      1  17-dentistry  1260-dentalpain-emergencyvisit.txt   \n",
              "477         477      2  17-dentistry            2748-jawpain-ervisit.txt   \n",
              "478         478      3  17-dentistry       1916-odontogenicabscessid.txt   \n",
              "479         479      4  17-dentistry          2338-teethextractionid.txt   \n",
              "\n",
              "                                      Document Content  \\\n",
              "475                                  PREOPERATIVE D...   \n",
              "476                                  CHIEF COMPLAIN...   \n",
              "477                                  CHIEF COMPLAIN...   \n",
              "478                                  PREOPERATIVE D...   \n",
              "479                                  PREOPERATIVE D...   \n",
              "\n",
              "                                        Document words  \n",
              "475  [preoperative, diagnosis, , completely, bony, ...  \n",
              "476  [chief, complaint, , dental, painhistory, of, ...  \n",
              "477  [chief, complaint, , jaw, painhistory, of, pre...  \n",
              "478  [preoperative, diagnoses1, , left, facial, cel...  \n",
              "479  [preoperative, diagnoses1, , carious, teeth, ,...  "
            ],
            "text/html": [
              "\n",
              "  <div id=\"df-c2cfdf0e-8122-4ddf-9b19-87c339ce2918\">\n",
              "    <div class=\"colab-df-container\">\n",
              "      <div>\n",
              "<style scoped>\n",
              "    .dataframe tbody tr th:only-of-type {\n",
              "        vertical-align: middle;\n",
              "    }\n",
              "\n",
              "    .dataframe tbody tr th {\n",
              "        vertical-align: top;\n",
              "    }\n",
              "\n",
              "    .dataframe thead th {\n",
              "        text-align: right;\n",
              "    }\n",
              "</style>\n",
              "<table border=\"1\" class=\"dataframe\">\n",
              "  <thead>\n",
              "    <tr style=\"text-align: right;\">\n",
              "      <th></th>\n",
              "      <th>Unnamed: 0</th>\n",
              "      <th>index</th>\n",
              "      <th>Category</th>\n",
              "      <th>Document Name</th>\n",
              "      <th>Document Content</th>\n",
              "      <th>Document words</th>\n",
              "    </tr>\n",
              "  </thead>\n",
              "  <tbody>\n",
              "    <tr>\n",
              "      <th>475</th>\n",
              "      <td>475</td>\n",
              "      <td>0</td>\n",
              "      <td>17-dentistry</td>\n",
              "      <td>2336-bonyimpactedteethremoval.txt</td>\n",
              "      <td>PREOPERATIVE D...</td>\n",
              "      <td>[preoperative, diagnosis, , completely, bony, ...</td>\n",
              "    </tr>\n",
              "    <tr>\n",
              "      <th>476</th>\n",
              "      <td>476</td>\n",
              "      <td>1</td>\n",
              "      <td>17-dentistry</td>\n",
              "      <td>1260-dentalpain-emergencyvisit.txt</td>\n",
              "      <td>CHIEF COMPLAIN...</td>\n",
              "      <td>[chief, complaint, , dental, painhistory, of, ...</td>\n",
              "    </tr>\n",
              "    <tr>\n",
              "      <th>477</th>\n",
              "      <td>477</td>\n",
              "      <td>2</td>\n",
              "      <td>17-dentistry</td>\n",
              "      <td>2748-jawpain-ervisit.txt</td>\n",
              "      <td>CHIEF COMPLAIN...</td>\n",
              "      <td>[chief, complaint, , jaw, painhistory, of, pre...</td>\n",
              "    </tr>\n",
              "    <tr>\n",
              "      <th>478</th>\n",
              "      <td>478</td>\n",
              "      <td>3</td>\n",
              "      <td>17-dentistry</td>\n",
              "      <td>1916-odontogenicabscessid.txt</td>\n",
              "      <td>PREOPERATIVE D...</td>\n",
              "      <td>[preoperative, diagnoses1, , left, facial, cel...</td>\n",
              "    </tr>\n",
              "    <tr>\n",
              "      <th>479</th>\n",
              "      <td>479</td>\n",
              "      <td>4</td>\n",
              "      <td>17-dentistry</td>\n",
              "      <td>2338-teethextractionid.txt</td>\n",
              "      <td>PREOPERATIVE D...</td>\n",
              "      <td>[preoperative, diagnoses1, , carious, teeth, ,...</td>\n",
              "    </tr>\n",
              "  </tbody>\n",
              "</table>\n",
              "</div>\n",
              "      <button class=\"colab-df-convert\" onclick=\"convertToInteractive('df-c2cfdf0e-8122-4ddf-9b19-87c339ce2918')\"\n",
              "              title=\"Convert this dataframe to an interactive table.\"\n",
              "              style=\"display:none;\">\n",
              "        \n",
              "  <svg xmlns=\"http://www.w3.org/2000/svg\" height=\"24px\"viewBox=\"0 0 24 24\"\n",
              "       width=\"24px\">\n",
              "    <path d=\"M0 0h24v24H0V0z\" fill=\"none\"/>\n",
              "    <path d=\"M18.56 5.44l.94 2.06.94-2.06 2.06-.94-2.06-.94-.94-2.06-.94 2.06-2.06.94zm-11 1L8.5 8.5l.94-2.06 2.06-.94-2.06-.94L8.5 2.5l-.94 2.06-2.06.94zm10 10l.94 2.06.94-2.06 2.06-.94-2.06-.94-.94-2.06-.94 2.06-2.06.94z\"/><path d=\"M17.41 7.96l-1.37-1.37c-.4-.4-.92-.59-1.43-.59-.52 0-1.04.2-1.43.59L10.3 9.45l-7.72 7.72c-.78.78-.78 2.05 0 2.83L4 21.41c.39.39.9.59 1.41.59.51 0 1.02-.2 1.41-.59l7.78-7.78 2.81-2.81c.8-.78.8-2.07 0-2.86zM5.41 20L4 18.59l7.72-7.72 1.47 1.35L5.41 20z\"/>\n",
              "  </svg>\n",
              "      </button>\n",
              "      \n",
              "  <style>\n",
              "    .colab-df-container {\n",
              "      display:flex;\n",
              "      flex-wrap:wrap;\n",
              "      gap: 12px;\n",
              "    }\n",
              "\n",
              "    .colab-df-convert {\n",
              "      background-color: #E8F0FE;\n",
              "      border: none;\n",
              "      border-radius: 50%;\n",
              "      cursor: pointer;\n",
              "      display: none;\n",
              "      fill: #1967D2;\n",
              "      height: 32px;\n",
              "      padding: 0 0 0 0;\n",
              "      width: 32px;\n",
              "    }\n",
              "\n",
              "    .colab-df-convert:hover {\n",
              "      background-color: #E2EBFA;\n",
              "      box-shadow: 0px 1px 2px rgba(60, 64, 67, 0.3), 0px 1px 3px 1px rgba(60, 64, 67, 0.15);\n",
              "      fill: #174EA6;\n",
              "    }\n",
              "\n",
              "    [theme=dark] .colab-df-convert {\n",
              "      background-color: #3B4455;\n",
              "      fill: #D2E3FC;\n",
              "    }\n",
              "\n",
              "    [theme=dark] .colab-df-convert:hover {\n",
              "      background-color: #434B5C;\n",
              "      box-shadow: 0px 1px 3px 1px rgba(0, 0, 0, 0.15);\n",
              "      filter: drop-shadow(0px 1px 2px rgba(0, 0, 0, 0.3));\n",
              "      fill: #FFFFFF;\n",
              "    }\n",
              "  </style>\n",
              "\n",
              "      <script>\n",
              "        const buttonEl =\n",
              "          document.querySelector('#df-c2cfdf0e-8122-4ddf-9b19-87c339ce2918 button.colab-df-convert');\n",
              "        buttonEl.style.display =\n",
              "          google.colab.kernel.accessAllowed ? 'block' : 'none';\n",
              "\n",
              "        async function convertToInteractive(key) {\n",
              "          const element = document.querySelector('#df-c2cfdf0e-8122-4ddf-9b19-87c339ce2918');\n",
              "          const dataTable =\n",
              "            await google.colab.kernel.invokeFunction('convertToInteractive',\n",
              "                                                     [key], {});\n",
              "          if (!dataTable) return;\n",
              "\n",
              "          const docLinkHtml = 'Like what you see? Visit the ' +\n",
              "            '<a target=\"_blank\" href=https://colab.research.google.com/notebooks/data_table.ipynb>data table notebook</a>'\n",
              "            + ' to learn more about interactive tables.';\n",
              "          element.innerHTML = '';\n",
              "          dataTable['output_type'] = 'display_data';\n",
              "          await google.colab.output.renderOutput(dataTable, element);\n",
              "          const docLink = document.createElement('div');\n",
              "          docLink.innerHTML = docLinkHtml;\n",
              "          element.appendChild(docLink);\n",
              "        }\n",
              "      </script>\n",
              "    </div>\n",
              "  </div>\n",
              "  "
            ]
          },
          "metadata": {},
          "execution_count": 20
        }
      ],
      "source": [
        "categories_to_keep = ['17-dentistry', '46-ophthalmology', '72-psychiatrypsychology', '71-podiatry']\n",
        "df_smaller = df.loc[df['Category'].isin(categories_to_keep)]\n",
        "#new_df = df.drop(df_smaller)\n",
        "new_df = df[~df.isin(df_smaller)]\n",
        "df_smaller['index'] = range(0,len (df_smaller))\n",
        "df_smaller.head()"
      ]
    },
    {
      "cell_type": "markdown",
      "metadata": {
        "id": "dDUZrlJaLTFT"
      },
      "source": [
        "Now let's use sklearn's function for converting corpora to document-term-matrices. We'll define a function for this, which takes as parameters a dataframe, the name of the text column that should be transformed to tf-idf, and some optional parameters for thresholds in creating the model. These thresholds can of course be changed!"
      ]
    },
    {
      "cell_type": "code",
      "execution_count": 37,
      "metadata": {
        "id": "3C9pkMNJLTFU"
      },
      "outputs": [],
      "source": [
        "def get_tfidf_model(dataframe, text_column, min_df = 5, max_df=100000, lowercase = True):\n",
        "    stopwords = nltk.corpus.stopwords.words('english')\n",
        "    bow_transformer = CountVectorizer(stop_words=stopwords, \n",
        "                                  min_df=min_df, \n",
        "                                  max_df=max_df, \n",
        "                                  lowercase = lowercase).fit(dataframe[text_column])\n",
        "    document_bow = bow_transformer.transform(dataframe[text_column])\n",
        "    feature_names = bow_transformer.get_feature_names()\n",
        "\n",
        "    tfidf_transformer = TfidfTransformer().fit(document_bow)\n",
        "    document_tfidf= tfidf_transformer.transform(document_bow)\n",
        "    return feature_names, document_tfidf"
      ]
    },
    {
      "cell_type": "markdown",
      "metadata": {
        "id": "0pIVcwXkLTFV"
      },
      "source": [
        "Let's also define some functions to train the different topic models - we're using NMF and LDA with some preset parameters, these can of course be changed. Note that the two functions return different variables."
      ]
    },
    {
      "cell_type": "code",
      "execution_count": 22,
      "metadata": {
        "id": "thSTO3JXLTFV"
      },
      "outputs": [],
      "source": [
        "def getNMFModel(no_topics, document_tfidf):\n",
        "    nmf = NMF(n_components=no_topics, \n",
        "          random_state=1, \n",
        "          alpha=.1, \n",
        "          l1_ratio=.5, \n",
        "          init='nndsvd').fit(document_tfidf)\n",
        "\n",
        "    W = nmf.transform(document_tfidf)\n",
        "    H = nmf.components_\n",
        "    return nmf, W, H\n",
        "\n",
        "def getLDAModel(no_topics, document_tfidf):\n",
        "    lda = LatentDirichletAllocation(n_components=no_topics).fit(document_tfidf)\n",
        "    return lda"
      ]
    },
    {
      "cell_type": "markdown",
      "metadata": {
        "id": "NLsxTAApLTFW"
      },
      "source": [
        "Now let's convert our data to a tfidf model and get the feature names from that model (i.e. the vocabulary)"
      ]
    },
    {
      "cell_type": "code",
      "execution_count": 23,
      "metadata": {
        "id": "9BQ98LcoLTFX"
      },
      "outputs": [],
      "source": [
        "feature_names, document_tfidf = get_tfidf_model(df_smaller, 'Document Content')"
      ]
    },
    {
      "cell_type": "markdown",
      "metadata": {
        "id": "djAyuCc3LTFY"
      },
      "source": [
        "How many features does the model contain? What parameters can you change?"
      ]
    },
    {
      "cell_type": "code",
      "execution_count": 24,
      "metadata": {
        "id": "7Narg5YOLTFZ",
        "colab": {
          "base_uri": "https://localhost:8080/"
        },
        "outputId": "9a210226-bdc0-40be-80fd-c5902046553b"
      },
      "outputs": [
        {
          "output_type": "stream",
          "name": "stdout",
          "text": [
            "2238\n"
          ]
        }
      ],
      "source": [
        "print(len(feature_names))"
      ]
    },
    {
      "cell_type": "markdown",
      "metadata": {
        "id": "vxrDHAiZLTFa"
      },
      "source": [
        "### Optional\n",
        "What's in the variable feature_names? How can you take a look?"
      ]
    },
    {
      "cell_type": "code",
      "execution_count": 39,
      "metadata": {
        "id": "pywrbX8-LTFa",
        "colab": {
          "base_uri": "https://localhost:8080/"
        },
        "outputId": "ccfe10fa-0a86-4c36-f782-3d383000224d"
      },
      "outputs": [
        {
          "output_type": "execute_result",
          "data": {
            "text/plain": [
              "['00',\n",
              " '000',\n",
              " '01',\n",
              " '03',\n",
              " '04',\n",
              " '05',\n",
              " '06',\n",
              " '07',\n",
              " '08',\n",
              " '09',\n",
              " '10',\n",
              " '100',\n",
              " '11',\n",
              " '12',\n",
              " '120',\n",
              " '13',\n",
              " '14',\n",
              " '15',\n",
              " '16',\n",
              " '17',\n",
              " '18',\n",
              " '19',\n",
              " '1997',\n",
              " '1999',\n",
              " '20',\n",
              " '200',\n",
              " '2001',\n",
              " '2002',\n",
              " '2003',\n",
              " '2004',\n",
              " '2005',\n",
              " '2006',\n",
              " '2007',\n",
              " '2009',\n",
              " '21',\n",
              " '22',\n",
              " '23',\n",
              " '24',\n",
              " '25',\n",
              " '250',\n",
              " '26',\n",
              " '27',\n",
              " '28',\n",
              " '29',\n",
              " '30',\n",
              " '300',\n",
              " '31',\n",
              " '32',\n",
              " '33',\n",
              " '35',\n",
              " '36',\n",
              " '360',\n",
              " '37',\n",
              " '40',\n",
              " '41',\n",
              " '42',\n",
              " '43',\n",
              " '44',\n",
              " '45',\n",
              " '48',\n",
              " '49',\n",
              " '4h',\n",
              " '4s',\n",
              " '4x4s',\n",
              " '50',\n",
              " '500',\n",
              " '51',\n",
              " '54',\n",
              " '55',\n",
              " '58',\n",
              " '60',\n",
              " '62',\n",
              " '65',\n",
              " '650',\n",
              " '69',\n",
              " '6h',\n",
              " '70',\n",
              " '75',\n",
              " '77',\n",
              " '80',\n",
              " '81',\n",
              " '8h',\n",
              " '90',\n",
              " '97',\n",
              " '98',\n",
              " '________',\n",
              " 'abc',\n",
              " 'abcd',\n",
              " 'abdomen',\n",
              " 'abdominal',\n",
              " 'abilities',\n",
              " 'ability',\n",
              " 'able',\n",
              " 'abnormal',\n",
              " 'abnormalities',\n",
              " 'abnormality',\n",
              " 'abscess',\n",
              " 'absence',\n",
              " 'absent',\n",
              " 'abuse',\n",
              " 'abusive',\n",
              " 'academic',\n",
              " 'access',\n",
              " 'accident',\n",
              " 'accompanied',\n",
              " 'accomplished',\n",
              " 'according',\n",
              " 'accurate',\n",
              " 'accurately',\n",
              " 'ace',\n",
              " 'achieve',\n",
              " 'achieved',\n",
              " 'across',\n",
              " 'act',\n",
              " 'active',\n",
              " 'activities',\n",
              " 'activity',\n",
              " 'actual',\n",
              " 'actually',\n",
              " 'acuity',\n",
              " 'acute',\n",
              " 'addition',\n",
              " 'additional',\n",
              " 'address',\n",
              " 'addressed',\n",
              " 'adequate',\n",
              " 'adhd',\n",
              " 'administered',\n",
              " 'administration',\n",
              " 'admission',\n",
              " 'admits',\n",
              " 'admitted',\n",
              " 'adult',\n",
              " 'advanced',\n",
              " 'advised',\n",
              " 'aerobic',\n",
              " 'afebrile',\n",
              " 'affect',\n",
              " 'affective',\n",
              " 'afferent',\n",
              " 'african',\n",
              " 'age',\n",
              " 'agent',\n",
              " 'ages',\n",
              " 'aggressive',\n",
              " 'agitated',\n",
              " 'agitation',\n",
              " 'ago',\n",
              " 'agreed',\n",
              " 'aid',\n",
              " 'air',\n",
              " 'alcohol',\n",
              " 'alert',\n",
              " 'allergic',\n",
              " 'allergies',\n",
              " 'allow',\n",
              " 'allowed',\n",
              " 'allowing',\n",
              " 'alone',\n",
              " 'along',\n",
              " 'already',\n",
              " 'also',\n",
              " 'alternate',\n",
              " 'alternatives',\n",
              " 'although',\n",
              " 'always',\n",
              " 'ambulation',\n",
              " 'american',\n",
              " 'amount',\n",
              " 'amounts',\n",
              " 'anaerobic',\n",
              " 'ancef',\n",
              " 'anemia',\n",
              " 'anesthesia',\n",
              " 'anesthetic',\n",
              " 'anesthetics',\n",
              " 'anger',\n",
              " 'angle',\n",
              " 'angry',\n",
              " 'anhedonia',\n",
              " 'ankle',\n",
              " 'another',\n",
              " 'answer',\n",
              " 'answered',\n",
              " 'anterior',\n",
              " 'anteriorly',\n",
              " 'antibiotic',\n",
              " 'antibiotics',\n",
              " 'anxiety',\n",
              " 'anxious',\n",
              " 'anything',\n",
              " 'apartment',\n",
              " 'apparent',\n",
              " 'apparently',\n",
              " 'appear',\n",
              " 'appearance',\n",
              " 'appeared',\n",
              " 'appearing',\n",
              " 'appears',\n",
              " 'appetite',\n",
              " 'applanation',\n",
              " 'applied',\n",
              " 'apply',\n",
              " 'appointment',\n",
              " 'appointments',\n",
              " 'appropriate',\n",
              " 'appropriately',\n",
              " 'approximated',\n",
              " 'approximately',\n",
              " 'april',\n",
              " 'arch',\n",
              " 'area',\n",
              " 'areas',\n",
              " 'arise',\n",
              " 'arm',\n",
              " 'arms',\n",
              " 'around',\n",
              " 'arrived',\n",
              " 'artery',\n",
              " 'aseptic',\n",
              " 'asked',\n",
              " 'asleep',\n",
              " 'aspect',\n",
              " 'aspects',\n",
              " 'aspirated',\n",
              " 'aspiration',\n",
              " 'aspirin',\n",
              " 'assess',\n",
              " 'assessed',\n",
              " 'assessment',\n",
              " 'assets',\n",
              " 'assist',\n",
              " 'assistance',\n",
              " 'associated',\n",
              " 'association',\n",
              " 'asthma',\n",
              " 'ativan',\n",
              " 'attached',\n",
              " 'attachments',\n",
              " 'attacks',\n",
              " 'attempt',\n",
              " 'attempted',\n",
              " 'attempts',\n",
              " 'attend',\n",
              " 'attended',\n",
              " 'attending',\n",
              " 'attention',\n",
              " 'attitude',\n",
              " 'auditory',\n",
              " 'aunt',\n",
              " 'available',\n",
              " 'average',\n",
              " 'avoid',\n",
              " 'awake',\n",
              " 'awakened',\n",
              " 'aware',\n",
              " 'away',\n",
              " 'axis',\n",
              " 'back',\n",
              " 'background',\n",
              " 'bad',\n",
              " 'bag',\n",
              " 'balanced',\n",
              " 'bandage',\n",
              " 'base',\n",
              " 'based',\n",
              " 'baseline',\n",
              " 'basic',\n",
              " 'basis',\n",
              " 'became',\n",
              " 'become',\n",
              " 'becomes',\n",
              " 'becoming',\n",
              " 'bed',\n",
              " 'bedtime',\n",
              " 'began',\n",
              " 'begin',\n",
              " 'beginning',\n",
              " 'begun',\n",
              " 'behavior',\n",
              " 'behavioral',\n",
              " 'behaviors',\n",
              " 'behind',\n",
              " 'believe',\n",
              " 'believes',\n",
              " 'belt',\n",
              " 'beneath',\n",
              " 'benefit',\n",
              " 'benefits',\n",
              " 'benign',\n",
              " 'bent',\n",
              " 'benzodiazepines',\n",
              " 'best',\n",
              " 'betadine',\n",
              " 'better',\n",
              " 'beveled',\n",
              " 'bilateral',\n",
              " 'bilaterally',\n",
              " 'bimanual',\n",
              " 'biological',\n",
              " 'bipolar',\n",
              " 'birth',\n",
              " 'bit',\n",
              " 'blade',\n",
              " 'bleeding',\n",
              " 'blepharoplasty',\n",
              " 'block',\n",
              " 'blood',\n",
              " 'blunt',\n",
              " 'body',\n",
              " 'bone',\n",
              " 'bony',\n",
              " 'border',\n",
              " 'borderline',\n",
              " 'born',\n",
              " 'bovie',\n",
              " 'bowel',\n",
              " 'brain',\n",
              " 'breast',\n",
              " 'breath',\n",
              " 'breathing',\n",
              " 'brevis',\n",
              " 'brief',\n",
              " 'bring',\n",
              " 'brother',\n",
              " 'brothers',\n",
              " 'brought',\n",
              " 'bss',\n",
              " 'buccal',\n",
              " 'bun',\n",
              " 'bunion',\n",
              " 'bunionectomy',\n",
              " 'bupivacaine',\n",
              " 'buried',\n",
              " 'calcaneus',\n",
              " 'calcium',\n",
              " 'california',\n",
              " 'call',\n",
              " 'called',\n",
              " 'calm',\n",
              " 'came',\n",
              " 'cancer',\n",
              " 'cannot',\n",
              " 'cannula',\n",
              " 'capsular',\n",
              " 'capsule',\n",
              " 'capsulorrhexis',\n",
              " 'capsulotomy',\n",
              " 'card',\n",
              " 'cardiac',\n",
              " 'cardiovascular',\n",
              " 'care',\n",
              " 'careful',\n",
              " 'carefully',\n",
              " 'caries',\n",
              " 'carious',\n",
              " 'carried',\n",
              " 'cart',\n",
              " 'case',\n",
              " 'cataract',\n",
              " 'cataracts',\n",
              " 'category',\n",
              " 'caucasian',\n",
              " 'cause',\n",
              " 'caused',\n",
              " 'causing',\n",
              " 'cauterized',\n",
              " 'cautery',\n",
              " 'cavity',\n",
              " 'cbc',\n",
              " 'cc',\n",
              " 'cell',\n",
              " 'cellulitis',\n",
              " 'center',\n",
              " 'centered',\n",
              " 'central',\n",
              " 'cervical',\n",
              " 'chamber',\n",
              " 'change',\n",
              " 'changed',\n",
              " 'changes',\n",
              " 'chart',\n",
              " 'check',\n",
              " 'checked',\n",
              " 'cheek',\n",
              " 'chest',\n",
              " 'chief',\n",
              " 'child',\n",
              " 'childhood',\n",
              " 'children',\n",
              " 'chills',\n",
              " 'chloride',\n",
              " 'chromic',\n",
              " 'chronic',\n",
              " 'church',\n",
              " 'cigarettes',\n",
              " 'circular',\n",
              " 'clean',\n",
              " 'cleaned',\n",
              " 'cleaning',\n",
              " 'cleansed',\n",
              " 'clear',\n",
              " 'cleared',\n",
              " 'clearly',\n",
              " 'clinic',\n",
              " 'clinical',\n",
              " 'clock',\n",
              " 'close',\n",
              " 'closed',\n",
              " 'closely',\n",
              " 'closure',\n",
              " 'cm',\n",
              " 'coban',\n",
              " 'cocaine',\n",
              " 'codeine',\n",
              " 'cognitive',\n",
              " 'collateral',\n",
              " 'college',\n",
              " 'color',\n",
              " 'combination',\n",
              " 'come',\n",
              " 'comes',\n",
              " 'comfortable',\n",
              " 'company',\n",
              " 'complaining',\n",
              " 'complains',\n",
              " 'complaint',\n",
              " 'complaints',\n",
              " 'complete',\n",
              " 'completed',\n",
              " 'completely',\n",
              " 'completion',\n",
              " 'complex',\n",
              " 'compliance',\n",
              " 'complications',\n",
              " 'comprehensive',\n",
              " 'compression',\n",
              " 'computer',\n",
              " 'concentrate',\n",
              " 'concentration',\n",
              " 'concern',\n",
              " 'concerned',\n",
              " 'concerns',\n",
              " 'conclusion',\n",
              " 'condition',\n",
              " 'conditions',\n",
              " 'confirmed',\n",
              " 'confrontation',\n",
              " 'confused',\n",
              " 'confusion',\n",
              " 'conjunctiva',\n",
              " 'conjunctival',\n",
              " 'conquer',\n",
              " 'consciousness',\n",
              " 'consent',\n",
              " 'conservative',\n",
              " 'consider',\n",
              " 'consisted',\n",
              " 'consistent',\n",
              " 'consisting',\n",
              " 'constant',\n",
              " 'constitutional',\n",
              " 'consult',\n",
              " 'consultation',\n",
              " 'consulted',\n",
              " 'contact',\n",
              " 'content',\n",
              " 'contents',\n",
              " 'continue',\n",
              " 'continued',\n",
              " 'continues',\n",
              " 'continuous',\n",
              " 'contrast',\n",
              " 'control',\n",
              " 'controlled',\n",
              " 'cooperation',\n",
              " 'cooperative',\n",
              " 'copious',\n",
              " 'copy',\n",
              " 'cornea',\n",
              " 'corneal',\n",
              " 'correct',\n",
              " 'correction',\n",
              " 'cortex',\n",
              " 'cortical',\n",
              " 'cosmetic',\n",
              " 'could',\n",
              " 'counseling',\n",
              " 'count',\n",
              " 'couple',\n",
              " 'course',\n",
              " 'covered',\n",
              " 'cpt',\n",
              " 'create',\n",
              " 'created',\n",
              " 'creatinine',\n",
              " 'crescent',\n",
              " 'cross',\n",
              " 'crutches',\n",
              " 'ct',\n",
              " 'cuff',\n",
              " 'culture',\n",
              " 'cultures',\n",
              " 'cup',\n",
              " 'current',\n",
              " 'currently',\n",
              " 'curved',\n",
              " 'curvilinear',\n",
              " 'cut',\n",
              " 'cystitome',\n",
              " 'cystotome',\n",
              " 'daily',\n",
              " 'data',\n",
              " 'database',\n",
              " 'date',\n",
              " 'daughter',\n",
              " 'day',\n",
              " 'days',\n",
              " 'dd',\n",
              " 'debrided',\n",
              " 'debris',\n",
              " 'decadron',\n",
              " 'decay',\n",
              " 'december',\n",
              " 'decided',\n",
              " 'decision',\n",
              " 'decisions',\n",
              " 'decline',\n",
              " 'decrease',\n",
              " 'decreased',\n",
              " 'deep',\n",
              " 'deepen',\n",
              " 'deepened',\n",
              " 'defect',\n",
              " 'defects',\n",
              " 'deferred',\n",
              " 'deficit',\n",
              " 'deficits',\n",
              " 'deformity',\n",
              " 'degeneration',\n",
              " 'degree',\n",
              " 'degrees',\n",
              " 'delay',\n",
              " 'delayed',\n",
              " 'delivered',\n",
              " 'delusions',\n",
              " 'dementia',\n",
              " 'demonstrated',\n",
              " 'demonstration',\n",
              " 'denied',\n",
              " 'denies',\n",
              " 'dental',\n",
              " 'dentition',\n",
              " 'depakote',\n",
              " 'department',\n",
              " 'depressed',\n",
              " 'depression',\n",
              " 'depressive',\n",
              " 'described',\n",
              " 'describes',\n",
              " 'description',\n",
              " 'desires',\n",
              " 'despite',\n",
              " 'detachment',\n",
              " 'detail',\n",
              " 'details',\n",
              " 'determine',\n",
              " 'determined',\n",
              " 'develop',\n",
              " 'developed',\n",
              " 'developmental',\n",
              " 'dexamethasone',\n",
              " 'diabetes',\n",
              " 'diabetic',\n",
              " 'diagnosed',\n",
              " 'diagnoses',\n",
              " 'diagnoses1',\n",
              " 'diagnosis',\n",
              " 'diagnostic',\n",
              " 'diameter',\n",
              " 'diamond',\n",
              " 'died',\n",
              " 'diet',\n",
              " 'different',\n",
              " 'difficult',\n",
              " 'difficulties',\n",
              " 'difficulty',\n",
              " 'digit',\n",
              " 'digital',\n",
              " 'digitorum',\n",
              " 'digits',\n",
              " 'dilated',\n",
              " 'diopter',\n",
              " 'diopters',\n",
              " 'diplopia',\n",
              " 'direct',\n",
              " 'directed',\n",
              " 'directions',\n",
              " 'directly',\n",
              " 'disability',\n",
              " 'disc',\n",
              " 'discharge',\n",
              " 'discharged',\n",
              " 'discolored',\n",
              " 'discomfort',\n",
              " 'discontinued',\n",
              " 'discuss',\n",
              " 'discussed',\n",
              " 'discussion',\n",
              " 'disease',\n",
              " 'disorder',\n",
              " 'disorganized',\n",
              " 'disposition',\n",
              " 'dissected',\n",
              " 'dissection',\n",
              " 'distal',\n",
              " 'distally',\n",
              " 'distance',\n",
              " 'distracted',\n",
              " 'distress',\n",
              " 'disturbance',\n",
              " 'disturbances',\n",
              " 'divide',\n",
              " 'divorced',\n",
              " 'doctor',\n",
              " 'documented',\n",
              " 'domestic',\n",
              " 'done',\n",
              " 'donor',\n",
              " 'dorsal',\n",
              " 'dorsally',\n",
              " 'dose',\n",
              " 'double',\n",
              " 'dr',\n",
              " 'drain',\n",
              " 'drainage',\n",
              " 'drained',\n",
              " 'drains',\n",
              " 'draped',\n",
              " 'drapes',\n",
              " 'drawn',\n",
              " 'dressed',\n",
              " 'dressing',\n",
              " 'dressings',\n",
              " 'drill',\n",
              " 'drink',\n",
              " 'drinking',\n",
              " 'drinks',\n",
              " 'drive',\n",
              " 'driving',\n",
              " 'drop',\n",
              " 'dropped',\n",
              " 'drops',\n",
              " 'drug',\n",
              " 'drugs',\n",
              " 'dry',\n",
              " 'due',\n",
              " 'duration',\n",
              " 'dysfunction',\n",
              " 'ear',\n",
              " 'earlier',\n",
              " 'early',\n",
              " 'easily',\n",
              " 'eating',\n",
              " 'econopred',\n",
              " 'edema',\n",
              " 'edge',\n",
              " 'edges',\n",
              " 'education',\n",
              " 'educational',\n",
              " 'eeg',\n",
              " 'effect',\n",
              " 'effective',\n",
              " 'effects',\n",
              " 'effort',\n",
              " 'eight',\n",
              " 'either',\n",
              " 'ekg',\n",
              " 'electrocautery',\n",
              " 'elevate',\n",
              " 'elevated',\n",
              " 'elevation',\n",
              " 'elevator',\n",
              " 'emergency',\n",
              " 'eminence',\n",
              " 'emotional',\n",
              " 'employed',\n",
              " 'employment',\n",
              " 'encountered',\n",
              " 'encouraged',\n",
              " 'end',\n",
              " 'ended',\n",
              " 'endorsed',\n",
              " 'endotracheal',\n",
              " 'energy',\n",
              " 'engaged',\n",
              " 'enjoys',\n",
              " 'enlarged',\n",
              " 'enough',\n",
              " 'ensure',\n",
              " 'enter',\n",
              " 'entered',\n",
              " 'entire',\n",
              " 'entirely',\n",
              " 'environment',\n",
              " 'epinephrine',\n",
              " 'episode',\n",
              " 'episodes',\n",
              " 'eps',\n",
              " 'equal',\n",
              " 'equals',\n",
              " 'er',\n",
              " 'erythema',\n",
              " 'escorted',\n",
              " 'esmarch',\n",
              " 'especially',\n",
              " 'essentially',\n",
              " 'established',\n",
              " 'estimated',\n",
              " 'etc',\n",
              " 'euthymic',\n",
              " 'evaluate',\n",
              " 'evaluated',\n",
              " 'evaluation',\n",
              " 'even',\n",
              " 'evening',\n",
              " 'event',\n",
              " 'events',\n",
              " 'eventually',\n",
              " 'ever',\n",
              " 'every',\n",
              " 'evidence',\n",
              " 'exactly',\n",
              " 'exam',\n",
              " 'examination',\n",
              " 'examined',\n",
              " 'examiner',\n",
              " 'excellent',\n",
              " 'except',\n",
              " 'exception',\n",
              " 'excessive',\n",
              " 'exchange',\n",
              " 'excised',\n",
              " 'excision',\n",
              " 'executive',\n",
              " 'exercise',\n",
              " 'expanded',\n",
              " 'expectations',\n",
              " 'expected',\n",
              " 'experience',\n",
              " 'experienced',\n",
              " 'experiencing',\n",
              " 'explained',\n",
              " 'exploration',\n",
              " 'expose',\n",
              " 'exposed',\n",
              " 'exposing',\n",
              " 'exposure',\n",
              " 'expressed',\n",
              " 'exsanguinate',\n",
              " 'exsanguinated',\n",
              " 'extended',\n",
              " 'extending',\n",
              " 'extensive',\n",
              " 'extensor',\n",
              " 'extracted',\n",
              " 'extraction',\n",
              " 'extractions',\n",
              " 'extraocular',\n",
              " 'extreme',\n",
              " 'extremely',\n",
              " 'extremities',\n",
              " 'extremity',\n",
              " 'extubated',\n",
              " 'eye',\n",
              " 'eyelid',\n",
              " 'eyelids',\n",
              " 'eyes',\n",
              " 'face',\n",
              " 'facial',\n",
              " 'facility',\n",
              " 'fact',\n",
              " 'factor',\n",
              " 'factors',\n",
              " 'failed',\n",
              " 'fair',\n",
              " 'fairly',\n",
              " 'fall',\n",
              " 'falling',\n",
              " 'family',\n",
              " 'far',\n",
              " 'fascia',\n",
              " 'fashion',\n",
              " 'fat',\n",
              " 'father',\n",
              " 'fatigue',\n",
              " 'features',\n",
              " 'feel',\n",
              " 'feeling',\n",
              " 'feelings',\n",
              " 'feels',\n",
              " 'feet',\n",
              " 'fell',\n",
              " 'felt',\n",
              " 'female',\n",
              " 'fever',\n",
              " 'field',\n",
              " 'fields',\n",
              " 'fifth',\n",
              " 'figure',\n",
              " 'fill',\n",
              " 'filled',\n",
              " 'final',\n",
              " 'financial',\n",
              " 'find',\n",
              " 'findings',\n",
              " 'fine',\n",
              " 'finished',\n",
              " 'firm',\n",
              " 'first',\n",
              " 'five',\n",
              " 'fixation',\n",
              " 'flap',\n",
              " 'flat',\n",
              " 'flexor',\n",
              " 'floor',\n",
              " 'fluency',\n",
              " 'fluid',\n",
              " 'fluids',\n",
              " 'flush',\n",
              " 'flushed',\n",
              " 'focal',\n",
              " 'focused',\n",
              " 'folded',\n",
              " 'follow',\n",
              " 'followed',\n",
              " 'following',\n",
              " 'followup',\n",
              " 'foot',\n",
              " 'forceps',\n",
              " 'foreign',\n",
              " 'form',\n",
              " 'formed',\n",
              " 'formulation',\n",
              " 'forte',\n",
              " 'forward',\n",
              " 'found',\n",
              " 'four',\n",
              " 'fourth',\n",
              " 'fracture',\n",
              " 'fractures',\n",
              " 'free',\n",
              " 'freed',\n",
              " 'freely',\n",
              " 'frequency',\n",
              " 'frequent',\n",
              " 'frequently',\n",
              " 'friday',\n",
              " 'friends',\n",
              " 'front',\n",
              " 'frustrated',\n",
              " 'full',\n",
              " 'fully',\n",
              " 'function',\n",
              " 'functioning',\n",
              " 'fundus',\n",
              " 'future',\n",
              " 'gaf',\n",
              " 'gas',\n",
              " 'gastroesophageal',\n",
              " 'gastrointestinal',\n",
              " 'gauge',\n",
              " 'gauze',\n",
              " 'gave',\n",
              " 'general',\n",
              " 'generally',\n",
              " 'gentamicin',\n",
              " 'gentle',\n",
              " 'gentleman',\n",
              " 'gerd',\n",
              " 'get',\n",
              " 'gets',\n",
              " 'getting',\n",
              " 'give',\n",
              " 'given',\n",
              " 'gives',\n",
              " 'giving',\n",
              " 'glass',\n",
              " 'glasses',\n",
              " 'glaucoma',\n",
              " 'global',\n",
              " 'globe',\n",
              " 'glucose',\n",
              " 'go',\n",
              " 'goal',\n",
              " 'goes',\n",
              " 'going',\n",
              " 'good',\n",
              " 'got',\n",
              " 'grade',\n",
              " 'grades',\n",
              " 'graduated',\n",
              " 'graft',\n",
              " 'gram',\n",
              " 'grandfather',\n",
              " 'grandmother',\n",
              " 'gray',\n",
              " 'great',\n",
              " 'greater',\n",
              " 'groomed',\n",
              " 'grooming',\n",
              " 'groove',\n",
              " 'gross',\n",
              " 'grossly',\n",
              " 'group',\n",
              " 'groups',\n",
              " 'growing',\n",
              " 'growth',\n",
              " 'guarded',\n",
              " 'gut',\n",
              " 'hair',\n",
              " 'half',\n",
              " 'hallucinations',\n",
              " 'hallucis',\n",
              " 'hallux',\n",
              " 'hand',\n",
              " 'handpiece',\n",
              " 'hands',\n",
              " 'happy',\n",
              " 'haptic',\n",
              " 'hard',\n",
              " 'head',\n",
              " 'headache',\n",
              " 'headaches',\n",
              " 'healon',\n",
              " 'health',\n",
              " 'healthy',\n",
              " 'hearing',\n",
              " 'heart',\n",
              " 'heent',\n",
              " 'height',\n",
              " 'held',\n",
              " 'help',\n",
              " 'helpful',\n",
              " 'hematocrit',\n",
              " 'hemoglobin',\n",
              " 'hemorrhage',\n",
              " 'hemostasis',\n",
              " 'hemostat',\n",
              " 'herniated',\n",
              " 'high',\n",
              " 'highest',\n",
              " 'highly',\n",
              " 'historical',\n",
              " 'history',\n",
              " 'hit',\n",
              " 'hold',\n",
              " 'holding',\n",
              " 'hole',\n",
              " 'home',\n",
              " 'homicidal',\n",
              " 'hook',\n",
              " 'horizontal',\n",
              " 'hospital',\n",
              " 'hospitalization',\n",
              " 'hospitalizations',\n",
              " 'hospitalized',\n",
              " 'hour',\n",
              " 'hours',\n",
              " 'house',\n",
              " 'household',\n",
              " 'houston',\n",
              " 'however',\n",
              " 'hpi',\n",
              " 'hurt',\n",
              " 'husband',\n",
              " 'hydrated',\n",
              " 'hydrodelineation',\n",
              " 'hydrodissected',\n",
              " 'hydrodissection',\n",
              " 'hygiene',\n",
              " 'hyperactivity',\n",
              " 'hypercholesterolemia',\n",
              " 'hyperemic',\n",
              " 'hypertension',\n",
              " 'hypertrophic',\n",
              " 'hypothyroidism',\n",
              " 'ice',\n",
              " 'ideation',\n",
              " 'ideations',\n",
              " 'identification',\n",
              " 'identified',\n",
              " 'identify',\n",
              " 'identifying',\n",
              " 'ii',\n",
              " 'iii',\n",
              " 'illicit',\n",
              " 'illness',\n",
              " 'illnesses',\n",
              " 'imaging',\n",
              " ...]"
            ]
          },
          "metadata": {},
          "execution_count": 39
        }
      ],
      "source": [
        "## Do something with the variable feature_names\n",
        "feature_names"
      ]
    },
    {
      "cell_type": "code",
      "source": [
        "print(document_tfidf)"
      ],
      "metadata": {
        "colab": {
          "base_uri": "https://localhost:8080/"
        },
        "id": "h5nOTolQwJy8",
        "outputId": "40e9bb78-3dfa-4df4-ccde-e39c7fe9c282"
      },
      "execution_count": 41,
      "outputs": [
        {
          "output_type": "stream",
          "name": "stdout",
          "text": [
            "  (0, 1)\t0.0750583898541307\n",
            "  (0, 11)\t0.03241071912645877\n",
            "  (0, 17)\t0.10677743020586662\n",
            "  (0, 18)\t0.13505433601742706\n",
            "  (0, 19)\t0.1501167797082614\n",
            "  (0, 25)\t0.040291613920324286\n",
            "  (0, 47)\t0.196508716590022\n",
            "  (0, 125)\t0.03009610370305639\n",
            "  (0, 127)\t0.032734703009804675\n",
            "  (0, 168)\t0.03148884946872733\n",
            "  (0, 173)\t0.041785804961982066\n",
            "  (0, 174)\t0.03803244840868975\n",
            "  (0, 211)\t0.0937654054953287\n",
            "  (0, 222)\t0.13364233002563905\n",
            "  (0, 254)\t0.041606820575260176\n",
            "  (0, 277)\t0.052098889834784556\n",
            "  (0, 303)\t0.10920353573685282\n",
            "  (0, 310)\t0.13801146687990606\n",
            "  (0, 311)\t0.12697106053297805\n",
            "  (0, 326)\t0.025041718422578664\n",
            "  (0, 328)\t0.18701725596187144\n",
            "  (0, 332)\t0.05392167106476617\n",
            "  (0, 408)\t0.11635656219936577\n",
            "  (0, 430)\t0.12087484176097286\n",
            "  (0, 431)\t0.044778954230413566\n",
            "  :\t:\n",
            "  (209, 2059)\t0.07659090940480832\n",
            "  (209, 2062)\t0.027677089055339575\n",
            "  (209, 2068)\t0.027932216058305592\n",
            "  (209, 2090)\t0.373175274940777\n",
            "  (209, 2097)\t0.08968473404106997\n",
            "  (209, 2102)\t0.041861626114754455\n",
            "  (209, 2110)\t0.020338560814807914\n",
            "  (209, 2112)\t0.03452309787422279\n",
            "  (209, 2120)\t0.0409404141915232\n",
            "  (209, 2121)\t0.08574139921393192\n",
            "  (209, 2135)\t0.05124301835989426\n",
            "  (209, 2136)\t0.01937541910093006\n",
            "  (209, 2153)\t0.04523317802271743\n",
            "  (209, 2175)\t0.04398617860086064\n",
            "  (209, 2181)\t0.04287069960696596\n",
            "  (209, 2189)\t0.06550890625963465\n",
            "  (209, 2191)\t0.03235488652913475\n",
            "  (209, 2210)\t0.17594471440344256\n",
            "  (209, 2213)\t0.06111224308330821\n",
            "  (209, 2214)\t0.11792514338119638\n",
            "  (209, 2215)\t0.07329530072065794\n",
            "  (209, 2229)\t0.0710643427328686\n",
            "  (209, 2230)\t0.033124702108353506\n",
            "  (209, 2231)\t0.05166232942030235\n",
            "  (209, 2232)\t0.04827894243205486\n"
          ]
        }
      ]
    },
    {
      "cell_type": "markdown",
      "metadata": {
        "id": "t1BQ49NrLTFc"
      },
      "source": [
        "### Number of topics and top words for each topic\n",
        "* How many topics do you want the model to generate?\n",
        "* How many discriminative words from each topic do you want to look at? "
      ]
    },
    {
      "cell_type": "code",
      "execution_count": 26,
      "metadata": {
        "id": "lRRlpJaILTFe"
      },
      "outputs": [],
      "source": [
        "## In this case, we know that there are four categories in the dataset, \n",
        "## let's see if the models produce something coherent with that number\n",
        "no_topics = 4\n",
        "\n",
        "## Each topic is represented with a list of words, ranked according to how discriminative they are for that topic. \n",
        "## We can use the top ranked words to try to understand what the topic represents.\n",
        "no_top_words = 10"
      ]
    },
    {
      "cell_type": "markdown",
      "metadata": {
        "id": "MBug1QhbLTFk"
      },
      "source": [
        "Now let's build an lda model"
      ]
    },
    {
      "cell_type": "code",
      "execution_count": 72,
      "metadata": {
        "id": "e6d8TYRhLTFm"
      },
      "outputs": [],
      "source": [
        "lda = getLDAModel(no_topics, document_tfidf)"
      ]
    },
    {
      "cell_type": "markdown",
      "metadata": {
        "id": "IwuWZSUjLTFn"
      },
      "source": [
        "### Most discriminative words - LDA\n",
        "Let's look at the most discriminative words for each topic generated from our LDA model. Do you see a pattern? Do they make sense? Do you think more work needs to be done, e.g. with parameters, with the underlying representation, or other things?"
      ]
    },
    {
      "cell_type": "code",
      "execution_count": 73,
      "metadata": {
        "id": "XSQZYefBLTFn",
        "colab": {
          "base_uri": "https://localhost:8080/"
        },
        "outputId": "b7e03099-da67-4488-ba82-40bdf1d00c46"
      },
      "outputs": [
        {
          "output_type": "stream",
          "name": "stdout",
          "text": [
            "Topic 0:\n",
            "eye, patient, right, procedure, foot, left, placed, chamber, used, lens\n",
            "Topic 1:\n",
            "nails, absent, vascular, hypertrophic, growth, toenail, thickness, pedal, painful, onychomycosis\n",
            "Topic 2:\n",
            "toenail, growth, hypertrophic, nails, absent, vascular, thickness, painful, onychomycosis, pattern\n",
            "Topic 3:\n",
            "patient, history, quot, mg, axis, mother, past, normal, pain, examination\n"
          ]
        }
      ],
      "source": [
        "display_topics(lda,feature_names, no_top_words)"
      ]
    },
    {
      "cell_type": "markdown",
      "metadata": {
        "id": "pITDQ8xDLTFo"
      },
      "source": [
        "We can now look at the distribution of the main topic (i.e. the topic with highest probability) for each document. "
      ]
    },
    {
      "cell_type": "code",
      "execution_count": 74,
      "metadata": {
        "id": "0dXcblrzLTFp",
        "colab": {
          "base_uri": "https://localhost:8080/",
          "height": 566
        },
        "outputId": "79f34330-828e-4344-d1c0-800da98cea4b"
      },
      "outputs": [
        {
          "output_type": "stream",
          "name": "stdout",
          "text": [
            "Representation of the main topic for each document in the document collection\n",
            "{0: '0: eye, patient, right, procedure, foot, left, placed, chamber, used, lens', 1: '1: nails, absent, vascular, hypertrophic, growth, toenail, thickness, pedal, painful, onychomycosis', 2: '2: toenail, growth, hypertrophic, nails, absent, vascular, thickness, painful, onychomycosis, pattern', 3: '3: patient, history, quot, mg, axis, mother, past, normal, pain, examination'}\n"
          ]
        },
        {
          "output_type": "display_data",
          "data": {
            "text/plain": [
              "<Figure size 842.4x595.44 with 1 Axes>"
            ],
            "image/png": "[encoded data removed]"
          },
          "metadata": {}
        }
      ],
      "source": [
        "print('Representation of the main topic for each document in the document collection')\n",
        "tlist = get_topic_list(lda,feature_names, 10)\n",
        "print(tlist)\n",
        "df_result = display_topic_representation(lda.transform(document_tfidf),df_smaller,tlist)"
      ]
    },
    {
      "cell_type": "markdown",
      "metadata": {
        "id": "guTlJWdtLTFp"
      },
      "source": [
        "Does this look reasonable to you? Are all the topics represented? How do you interpret these results?"
      ]
    },
    {
      "cell_type": "markdown",
      "source": [
        "Not all topics represented because terms most represented in topic 4 is not prominent in all documents. "
      ],
      "metadata": {
        "id": "TNO2Q-g0xxzz"
      }
    },
    {
      "cell_type": "markdown",
      "metadata": {
        "id": "4gOWu6cYLTFq"
      },
      "source": [
        "There's a new column saved in the dataframe that contains the topic number that had the highest probability, we can look at the distribution of those. "
      ]
    },
    {
      "cell_type": "code",
      "execution_count": 30,
      "metadata": {
        "id": "pr71KtNULTFu",
        "colab": {
          "base_uri": "https://localhost:8080/"
        },
        "outputId": "c59d742f-b0e9-475c-f985-5a5943d4a103"
      },
      "outputs": [
        {
          "output_type": "execute_result",
          "data": {
            "text/plain": [
              "1    143\n",
              "3     67\n",
              "Name: Topic most represented, dtype: int64"
            ]
          },
          "metadata": {},
          "execution_count": 30
        }
      ],
      "source": [
        "df_result['Topic most represented'].value_counts()"
      ]
    },
    {
      "cell_type": "markdown",
      "metadata": {
        "id": "0owXncAKLTFv"
      },
      "source": [
        "We can also look at the probability scores each topic resulted in in the whole document collection and get some descriptive statistics. Look at some of the other topics!"
      ]
    },
    {
      "cell_type": "code",
      "execution_count": 31,
      "metadata": {
        "id": "yGOKk0z6LTFw",
        "colab": {
          "base_uri": "https://localhost:8080/"
        },
        "outputId": "3183b561-77c7-4739-edb9-e9e2ba28ce39"
      },
      "outputs": [
        {
          "output_type": "execute_result",
          "data": {
            "text/plain": [
              "count    210.000000\n",
              "mean       0.600017\n",
              "std        0.372549\n",
              "min        0.016093\n",
              "25%        0.206530\n",
              "50%        0.769086\n",
              "75%        0.920780\n",
              "max        0.944442\n",
              "Name: topic1, dtype: float64"
            ]
          },
          "metadata": {},
          "execution_count": 31
        }
      ],
      "source": [
        "df_result['topic1'].describe()"
      ]
    },
    {
      "cell_type": "markdown",
      "metadata": {
        "id": "9PF3E01bLTFx"
      },
      "source": [
        "Now let's look at the distribution of topics in the files in relation to the 'existing' categories in the dataset. We'll use the function we defined earlier."
      ]
    },
    {
      "cell_type": "code",
      "execution_count": 32,
      "metadata": {
        "id": "XUa49-2KLTFy",
        "colab": {
          "base_uri": "https://localhost:8080/",
          "height": 575
        },
        "outputId": "1c509243-24ae-4ecb-a7ce-553da711db8b"
      },
      "outputs": [
        {
          "output_type": "stream",
          "name": "stdout",
          "text": [
            "For each given file, we calculate the mean percentage of the documents depence to each topic\n",
            "\n",
            "        Topic  46-ophthalmology  72-psychiatrypsychology  71-podiatry  \\\n",
            "topic0      0          0.026099                 0.020769     0.026930   \n",
            "topic1      1          0.858252                 0.027158     0.645290   \n",
            "topic2      2          0.026187                 0.020871     0.194953   \n",
            "topic3      3          0.089461                 0.931202     0.132827   \n",
            "\n",
            "        17-dentistry  \n",
            "topic0      0.024703  \n",
            "topic1      0.851875  \n",
            "topic2      0.024801  \n",
            "topic3      0.098621  \n",
            "Index(['46-ophthalmology', '72-psychiatrypsychology', '71-podiatry',\n",
            "       '17-dentistry'],\n",
            "      dtype='object')\n"
          ]
        },
        {
          "output_type": "display_data",
          "data": {
            "text/plain": [
              "<Figure size 432x288 with 4 Axes>"
            ],
            "image/png": "[encoded data removed]"
          },
          "metadata": {}
        }
      ],
      "source": [
        "display_file_representation(lda.transform(document_tfidf),df_smaller)"
      ]
    },
    {
      "cell_type": "markdown",
      "source": [
        "Not a very good model. This is a standard way of assessing topic modelling. "
      ],
      "metadata": {
        "id": "HWquFKJRyjbs"
      }
    },
    {
      "cell_type": "markdown",
      "metadata": {
        "id": "wAYALjkpLTFz"
      },
      "source": [
        "### NMF\n",
        "Now let's compare with NMF.  "
      ]
    },
    {
      "cell_type": "code",
      "execution_count": 33,
      "metadata": {
        "id": "iQ6mUkTTLTFz"
      },
      "outputs": [],
      "source": [
        "nmf, W, H = getNMFModel(no_topics, document_tfidf)"
      ]
    },
    {
      "cell_type": "code",
      "execution_count": 34,
      "metadata": {
        "id": "OYLTEaWQLTF0",
        "colab": {
          "base_uri": "https://localhost:8080/"
        },
        "outputId": "1c182e0d-2d71-4092-946f-857570fa6e35"
      },
      "outputs": [
        {
          "output_type": "stream",
          "name": "stdout",
          "text": [
            "Topic 0:\n",
            "eye, chamber, lens, anterior, cataract, right, bag, used, placed, capsular\n",
            "Topic 1:\n",
            "patient, history, quot, mg, axis, mother, past, disorder, denies, family\n",
            "Topic 2:\n",
            "foot, left, patient, right, ankle, plantar, tendon, metatarsal, lateral, incision\n",
            "Topic 3:\n",
            "teeth, tooth, caries, dental, mandible, patient, buccal, ml, throat, left\n"
          ]
        }
      ],
      "source": [
        "display_topics(nmf, feature_names, no_top_words)"
      ]
    },
    {
      "cell_type": "code",
      "execution_count": 35,
      "metadata": {
        "id": "QqxwzfPELTF0",
        "colab": {
          "base_uri": "https://localhost:8080/",
          "height": 528
        },
        "outputId": "c0ea79bb-2fcc-4c67-c29d-ac50f084381b"
      },
      "outputs": [
        {
          "output_type": "stream",
          "name": "stdout",
          "text": [
            "Representation of the main topic for each document\n"
          ]
        },
        {
          "output_type": "display_data",
          "data": {
            "text/plain": [
              "<Figure size 842.4x595.44 with 1 Axes>"
            ],
            "image/png": "[encoded data removed]"
          },
          "metadata": {}
        }
      ],
      "source": [
        "print('Representation of the main topic for each document')\n",
        "\n",
        "tlist = get_topic_list(nmf,feature_names, 10)\n",
        "df_result = display_topic_representation(W,df_smaller,tlist)\n"
      ]
    },
    {
      "cell_type": "code",
      "execution_count": 36,
      "metadata": {
        "id": "y3YhQfQPLTF1",
        "colab": {
          "base_uri": "https://localhost:8080/",
          "height": 575
        },
        "outputId": "8de07326-94ea-4407-9a98-c2da51370211"
      },
      "outputs": [
        {
          "output_type": "stream",
          "name": "stdout",
          "text": [
            "For each given file, we calculate the mean percentage of the documents depence to each topic\n",
            "\n",
            "          Topic  46-ophthalmology  72-psychiatrypsychology  71-podiatry  \\\n",
            "topic0_x      0          0.217147                 0.000103     0.003959   \n",
            "topic1_x      1          0.024771                 0.304825     0.033483   \n",
            "topic2_x      2          0.025931                 0.000444     0.278998   \n",
            "topic3_x      3          0.007534                 0.000000     0.003497   \n",
            "\n",
            "          17-dentistry  \n",
            "topic0_x      0.009361  \n",
            "topic1_x      0.043000  \n",
            "topic2_x      0.029675  \n",
            "topic3_x      0.349090  \n",
            "Index(['46-ophthalmology', '72-psychiatrypsychology', '71-podiatry',\n",
            "       '17-dentistry'],\n",
            "      dtype='object')\n"
          ]
        },
        {
          "output_type": "display_data",
          "data": {
            "text/plain": [
              "<Figure size 432x288 with 4 Axes>"
            ],
            "image/png": "[encoded data removed]"
          },
          "metadata": {}
        }
      ],
      "source": [
        "display_file_representation(W,df_result)"
      ]
    },
    {
      "cell_type": "markdown",
      "metadata": {
        "id": "hpbyE6deLTF1"
      },
      "source": [
        "## LDA vs NMF?\n",
        "What do you think about these results and models? What main differences do you notice when comparing NMF and LDA results? Do you think one is better than the other? What parameters might be worth changing?"
      ]
    },
    {
      "cell_type": "markdown",
      "source": [
        "*Seems like NMF is better than LDA*"
      ],
      "metadata": {
        "id": "NAEZtHFpz72O"
      }
    },
    {
      "cell_type": "markdown",
      "metadata": {
        "id": "DXCy8W0ILTF1"
      },
      "source": [
        "# Choosing number of topics ('k') - coherence score\n",
        "\n",
        "There are several metrics proposed for automatically calculating what the 'optimal' number of topics in a document collection is, by trying to measure how coherent generated topics are.\n",
        "\n",
        "Here, we will use the TC-W2W score proposed by O'Callaghan et al. \n",
        "\n",
        "O’Callaghan, D., Greene, D., Carthy, J., & Cunningham, P. (2015). \n",
        "An analysis of the coherence of descriptors in topic modeling. \n",
        "Expert Systems with Applications, 42(13), 5645-5657\n",
        "\n",
        "The code is from: https://github.com/derekgreene/topic-model-tutorial/blob/master/3%20-%20Parameter%20Selection%20for%20NMF.ipynb\n",
        "With slight adaptations for our example."
      ]
    },
    {
      "cell_type": "markdown",
      "metadata": {
        "id": "R6QkmD5wLTF2"
      },
      "source": [
        "The main idea with this score is to calculate the pairwise embedding vector similarity for each term pair in the top ranked words in each generated topic."
      ]
    },
    {
      "cell_type": "markdown",
      "metadata": {
        "id": "m3iWAFYULTF2"
      },
      "source": [
        "We need to have a word2vec model first. We'll start by building one on the entire document collection we have. NOTE: this means that we have an 'in-domain' model."
      ]
    },
    {
      "cell_type": "code",
      "execution_count": 75,
      "metadata": {
        "id": "vbN3WCl0LTF3"
      },
      "outputs": [],
      "source": [
        "import gensim\n",
        "\n",
        "w2v_model = gensim.models.Word2Vec(df['Document words'], size=300, min_count=2, batch_words=1000)\n"
      ]
    },
    {
      "cell_type": "markdown",
      "metadata": {
        "id": "G8rR4jf7LTF3"
      },
      "source": [
        "How big is the vocabulary in this embedding model? "
      ]
    },
    {
      "cell_type": "code",
      "execution_count": 76,
      "metadata": {
        "id": "WMLuSREgLTF3",
        "colab": {
          "base_uri": "https://localhost:8080/"
        },
        "outputId": "55e1f21b-f111-4d49-8b25-a30269fe8054"
      },
      "outputs": [
        {
          "output_type": "stream",
          "name": "stdout",
          "text": [
            "Model has 44650 terms\n"
          ]
        }
      ],
      "source": [
        "print( \"Model has %d terms\" % len(w2v_model.wv.vocab) )"
      ]
    },
    {
      "cell_type": "markdown",
      "metadata": {
        "id": "kizVrYzVLTF5"
      },
      "source": [
        "Recap: we can get similarity scores for different word pairs in these types of models. We can try this on a pair of words from the generated topics in our previous NMF model, e.g. topic3 had the words 'teeth' and 'tooth'"
      ]
    },
    {
      "cell_type": "code",
      "execution_count": 77,
      "metadata": {
        "id": "SLIOYQQvLTF5",
        "colab": {
          "base_uri": "https://localhost:8080/"
        },
        "outputId": "b90c722e-2f26-458f-9f43-c4c7268dea38"
      },
      "outputs": [
        {
          "output_type": "execute_result",
          "data": {
            "text/plain": [
              "0.5668133"
            ]
          },
          "metadata": {},
          "execution_count": 77
        }
      ],
      "source": [
        "w2v_model.similarity('teeth', 'tooth')"
      ]
    },
    {
      "cell_type": "code",
      "source": [
        "w2v_model.most_similar(\"die\")"
      ],
      "metadata": {
        "colab": {
          "base_uri": "https://localhost:8080/"
        },
        "id": "BHlBs5Eo9C1K",
        "outputId": "d4b43d18-375b-4271-e96a-82ab61337c3d"
      },
      "execution_count": 131,
      "outputs": [
        {
          "output_type": "execute_result",
          "data": {
            "text/plain": [
              "[('setter', 0.8761212229728699),\n",
              " ('holiday', 0.7891170978546143),\n",
              " ('fosamax5', 0.7819795608520508),\n",
              " ('marcaine1', 0.776340901851654),\n",
              " ('sizeabnormal', 0.7709121704101562),\n",
              " ('bilateralpt', 0.7619158625602722),\n",
              " ('15yearsexam', 0.7606968283653259),\n",
              " ('diesel', 0.7600849866867065),\n",
              " ('nilindications', 0.7598327398300171),\n",
              " ('t982', 0.7590040564537048)]"
            ]
          },
          "metadata": {},
          "execution_count": 131
        }
      ]
    },
    {
      "cell_type": "markdown",
      "metadata": {
        "id": "NAEfyIalLTF6"
      },
      "source": [
        "Next, we need to build topic models with different number of topics assigned. Let's define a range of k to try."
      ]
    },
    {
      "cell_type": "code",
      "execution_count": 109,
      "metadata": {
        "id": "GqPsElZ0LTF7"
      },
      "outputs": [],
      "source": [
        "kmin, kmax = 3, 50"
      ]
    },
    {
      "cell_type": "markdown",
      "metadata": {
        "id": "7f2ZNYbQLTF7"
      },
      "source": [
        "Let's try our smaller dataset again, and generate a tfidf-representation to use in the topic models."
      ]
    },
    {
      "cell_type": "code",
      "execution_count": 110,
      "metadata": {
        "id": "8yJveuKcLTF7"
      },
      "outputs": [],
      "source": [
        "feature_names, document_tfidf = get_tfidf_model(df_smaller, 'Document Content')"
      ]
    },
    {
      "cell_type": "markdown",
      "metadata": {
        "id": "V7CcMF0wLTF7"
      },
      "source": [
        "Now, let's generate NMF topic models for each value of k in our range"
      ]
    },
    {
      "cell_type": "code",
      "execution_count": 111,
      "metadata": {
        "id": "aWjN7uU7LTF8",
        "colab": {
          "base_uri": "https://localhost:8080/"
        },
        "outputId": "c2546ed7-a62f-4a1f-c212-569159c23b1a"
      },
      "outputs": [
        {
          "output_type": "stream",
          "name": "stdout",
          "text": [
            "Applying NMF for k=3 ...\n",
            "Applying NMF for k=4 ...\n",
            "Applying NMF for k=5 ...\n",
            "Applying NMF for k=6 ...\n",
            "Applying NMF for k=7 ...\n",
            "Applying NMF for k=8 ...\n",
            "Applying NMF for k=9 ...\n",
            "Applying NMF for k=10 ...\n",
            "Applying NMF for k=11 ...\n",
            "Applying NMF for k=12 ...\n",
            "Applying NMF for k=13 ...\n",
            "Applying NMF for k=14 ...\n",
            "Applying NMF for k=15 ...\n",
            "Applying NMF for k=16 ...\n",
            "Applying NMF for k=17 ...\n",
            "Applying NMF for k=18 ...\n",
            "Applying NMF for k=19 ...\n",
            "Applying NMF for k=20 ...\n",
            "Applying NMF for k=21 ...\n",
            "Applying NMF for k=22 ...\n",
            "Applying NMF for k=23 ...\n",
            "Applying NMF for k=24 ...\n",
            "Applying NMF for k=25 ...\n",
            "Applying NMF for k=26 ...\n",
            "Applying NMF for k=27 ...\n",
            "Applying NMF for k=28 ...\n",
            "Applying NMF for k=29 ...\n",
            "Applying NMF for k=30 ...\n",
            "Applying NMF for k=31 ...\n",
            "Applying NMF for k=32 ...\n",
            "Applying NMF for k=33 ...\n",
            "Applying NMF for k=34 ...\n",
            "Applying NMF for k=35 ...\n",
            "Applying NMF for k=36 ...\n",
            "Applying NMF for k=37 ...\n",
            "Applying NMF for k=38 ...\n",
            "Applying NMF for k=39 ...\n",
            "Applying NMF for k=40 ...\n",
            "Applying NMF for k=41 ...\n",
            "Applying NMF for k=42 ...\n",
            "Applying NMF for k=43 ...\n",
            "Applying NMF for k=44 ...\n",
            "Applying NMF for k=45 ...\n",
            "Applying NMF for k=46 ...\n",
            "Applying NMF for k=47 ...\n",
            "Applying NMF for k=48 ...\n",
            "Applying NMF for k=49 ...\n",
            "Applying NMF for k=50 ...\n"
          ]
        }
      ],
      "source": [
        "from sklearn import decomposition\n",
        "topic_models = []\n",
        "# try each value of k\n",
        "for k in range(kmin,kmax+1):\n",
        "    print(\"Applying NMF for k=%d ...\" % k )\n",
        "    # run NMF\n",
        "    #model = decomposition.NMF( init=\"nndsvd\", n_components=k ) \n",
        "    model = decomposition.NMF( n_components=k, \n",
        "          random_state=1, \n",
        "          alpha=.1, \n",
        "          l1_ratio=.5, \n",
        "          init='nndsvd') \n",
        "    W = model.fit_transform( document_tfidf )\n",
        "    H = model.components_    \n",
        "    # store for later\n",
        "    topic_models.append( (k,W,H) )"
      ]
    },
    {
      "cell_type": "markdown",
      "metadata": {
        "id": "QXGZjfTzLTF9"
      },
      "source": [
        "We need a couple of functions to calculate the coherence score"
      ]
    },
    {
      "cell_type": "code",
      "execution_count": 138,
      "metadata": {
        "id": "iDXEt50HLTF9"
      },
      "outputs": [],
      "source": [
        "from itertools import combinations\n",
        "def calculate_coherence( w2v_model, term_rankings , print_pairs=False):\n",
        "    overall_coherence = 0.0\n",
        "    for topic_index in range(len(term_rankings)):\n",
        "        # check each pair of terms\n",
        "        pair_scores = []\n",
        "        for pair in combinations( term_rankings[topic_index], 2 ):\n",
        "            ## check if word in vocabulary first!! Added by Sumithra\n",
        "            if pair[0] in w2v_model.wv.vocab and pair[1] in w2v_model.wv.vocab:\n",
        "                pair_scores.append( w2v_model.similarity(pair[0], pair[1]) )\n",
        "                if print_pairs:\n",
        "                    print(pair[0], pair[1], w2v_model.similarity(pair[0], pair[1]))\n",
        "            else:\n",
        "                if print_pairs:\n",
        "                    print('word pair not in vocabulary', pair[0], pair[1])\n",
        "                pair_scores.append( 0.0 )\n",
        "        # get the mean for all pairs in this topic\n",
        "        topic_score = sum(pair_scores) / len(pair_scores)\n",
        "        overall_coherence += topic_score\n",
        "    # get the mean score across all topics\n",
        "    return overall_coherence / len(term_rankings)"
      ]
    },
    {
      "cell_type": "code",
      "execution_count": 139,
      "metadata": {
        "id": "sieuSwp8LTF-"
      },
      "outputs": [],
      "source": [
        "def get_descriptor( all_terms, H, topic_index, top ):\n",
        "    # reverse sort the values to sort the indices\n",
        "    top_indices = np.argsort( H[topic_index,:] )[::-1]\n",
        "    # now get the terms corresponding to the top-ranked indices\n",
        "    top_terms = []\n",
        "    for term_index in top_indices[0:top]:\n",
        "        top_terms.append( all_terms[term_index] )\n",
        "    return top_terms"
      ]
    },
    {
      "cell_type": "markdown",
      "metadata": {
        "id": "LoqOMP7LLTF-"
      },
      "source": [
        "Let's calculate the coherence score for each model with k topics."
      ]
    },
    {
      "cell_type": "code",
      "execution_count": 140,
      "metadata": {
        "id": "vYW0uK2ALTF_",
        "colab": {
          "base_uri": "https://localhost:8080/"
        },
        "outputId": "8229f900-c93b-4278-9685-d1d00d2e6ba6"
      },
      "outputs": [
        {
          "output_type": "stream",
          "name": "stdout",
          "text": [
            "K=03: Coherence=0.2373\n",
            "K=04: Coherence=0.2493\n",
            "K=05: Coherence=0.2210\n",
            "K=06: Coherence=0.2397\n",
            "K=07: Coherence=0.2714\n",
            "K=08: Coherence=0.2803\n",
            "K=09: Coherence=0.2592\n",
            "K=10: Coherence=0.2630\n",
            "K=11: Coherence=0.2563\n",
            "K=12: Coherence=0.2456\n",
            "K=13: Coherence=0.2602\n",
            "K=14: Coherence=0.2608\n",
            "K=15: Coherence=0.2655\n",
            "K=16: Coherence=0.2569\n",
            "K=17: Coherence=0.2492\n",
            "K=18: Coherence=0.2458\n",
            "K=19: Coherence=0.2396\n",
            "K=20: Coherence=0.2450\n",
            "K=21: Coherence=0.2471\n",
            "K=22: Coherence=0.2423\n",
            "K=23: Coherence=0.2463\n",
            "K=24: Coherence=0.2396\n",
            "K=25: Coherence=0.2358\n",
            "K=26: Coherence=0.2256\n",
            "K=27: Coherence=0.2337\n",
            "K=28: Coherence=0.2317\n",
            "K=29: Coherence=0.2434\n",
            "K=30: Coherence=0.2259\n",
            "K=31: Coherence=0.2390\n",
            "K=32: Coherence=0.2376\n",
            "K=33: Coherence=0.2321\n",
            "K=34: Coherence=0.2362\n",
            "K=35: Coherence=0.2352\n",
            "K=36: Coherence=0.2330\n",
            "K=37: Coherence=0.2224\n",
            "K=38: Coherence=0.2208\n",
            "K=39: Coherence=0.2344\n",
            "K=40: Coherence=0.2350\n",
            "K=41: Coherence=0.2311\n",
            "K=42: Coherence=0.2167\n",
            "K=43: Coherence=0.2166\n",
            "K=44: Coherence=0.2312\n",
            "K=45: Coherence=0.2134\n",
            "K=46: Coherence=0.2025\n",
            "K=47: Coherence=0.2297\n",
            "K=48: Coherence=0.2072\n",
            "K=49: Coherence=0.2139\n",
            "K=50: Coherence=0.2096\n"
          ]
        }
      ],
      "source": [
        "\n",
        "k_values = []\n",
        "coherences = []\n",
        "for (k,W,H) in topic_models:\n",
        "    # Get all of the topic descriptors - the term_rankings, based on top 10 terms\n",
        "    term_rankings = []\n",
        "    for topic_index in range(k):\n",
        "        term_rankings.append( get_descriptor( feature_names, H, topic_index, 10 ) )\n",
        "    # Now calculate the coherence based on our Word2vec model\n",
        "    k_values.append( k )\n",
        "    coherences.append( calculate_coherence( w2v_model, term_rankings, print_pairs=False ) )\n",
        "    print(\"K=%02d: Coherence=%.4f\" % ( k, coherences[-1] ) )"
      ]
    },
    {
      "cell_type": "markdown",
      "metadata": {
        "id": "R_V3Ia6LLTF_"
      },
      "source": [
        "We can plot this to visualise"
      ]
    },
    {
      "cell_type": "code",
      "execution_count": 141,
      "metadata": {
        "id": "t0SCVXmkLTF_"
      },
      "outputs": [],
      "source": [
        "%matplotlib inline\n",
        "import matplotlib\n",
        "import matplotlib.pyplot as plt\n",
        "plt.style.use(\"ggplot\")\n",
        "matplotlib.rcParams.update({\"font.size\": 14})"
      ]
    },
    {
      "cell_type": "code",
      "execution_count": 142,
      "metadata": {
        "id": "oPfcEG8oLTGA",
        "colab": {
          "base_uri": "https://localhost:8080/",
          "height": 454
        },
        "outputId": "5ec5842c-f548-4d8e-c945-726b6c5a7919"
      },
      "outputs": [
        {
          "output_type": "display_data",
          "data": {
            "text/plain": [
              "<Figure size 936x504 with 1 Axes>"
            ],
            "image/png": "[encoded data removed]"
          },
          "metadata": {}
        }
      ],
      "source": [
        "fig = plt.figure(figsize=(13,7))\n",
        "# create the line plot\n",
        "ax = plt.plot( k_values, coherences )\n",
        "plt.xticks(k_values)\n",
        "plt.xlabel(\"Number of Topics\")\n",
        "plt.ylabel(\"Mean Coherence\")\n",
        "# add the points\n",
        "plt.scatter( k_values, coherences, s=120)\n",
        "# find and annotate the maximum point on the plot\n",
        "ymax = max(coherences)\n",
        "xpos = coherences.index(ymax)\n",
        "best_k = k_values[xpos]\n",
        "plt.annotate( \"k=%d\" % best_k, xy=(best_k, ymax), xytext=(best_k, ymax), textcoords=\"offset points\", fontsize=16)\n",
        "# show the plot\n",
        "plt.show()"
      ]
    },
    {
      "cell_type": "markdown",
      "metadata": {
        "id": "_Ydp_4gLLTGA"
      },
      "source": [
        "What seems to be the 'optimal' number of topics? Does this make sense do you think?"
      ]
    },
    {
      "cell_type": "markdown",
      "metadata": {
        "id": "8AkdBvqHLTGA"
      },
      "source": [
        "Now let's build a model with this 'k' and look at what the model produces"
      ]
    },
    {
      "cell_type": "code",
      "execution_count": 161,
      "metadata": {
        "id": "2SExTecGLTGB"
      },
      "outputs": [],
      "source": [
        "\n",
        "## Assign a value to no_topics from the results above\n",
        "no_topics = 4\n",
        "\n",
        "## How many words do you want as topic descriptors?\n",
        "no_top_words = 10"
      ]
    },
    {
      "cell_type": "code",
      "execution_count": 162,
      "metadata": {
        "id": "BJlQSfsgLTGC"
      },
      "outputs": [],
      "source": [
        "nmf, W, H = getNMFModel(no_topics, document_tfidf)"
      ]
    },
    {
      "cell_type": "code",
      "source": [
        "np.shape(W)"
      ],
      "metadata": {
        "colab": {
          "base_uri": "https://localhost:8080/"
        },
        "id": "R59RoK0Q_-W8",
        "outputId": "846fb69d-c490-401c-fa4b-224b3c99f1ba"
      },
      "execution_count": 163,
      "outputs": [
        {
          "output_type": "execute_result",
          "data": {
            "text/plain": [
              "(210, 4)"
            ]
          },
          "metadata": {},
          "execution_count": 163
        }
      ]
    },
    {
      "cell_type": "code",
      "execution_count": 164,
      "metadata": {
        "id": "RgCrAUE1LTGD",
        "colab": {
          "base_uri": "https://localhost:8080/",
          "height": 540
        },
        "outputId": "e3444d3b-7041-4208-8a19-7451a0d76f1a"
      },
      "outputs": [
        {
          "output_type": "stream",
          "name": "stdout",
          "text": [
            "Representation of the main topic for each document\n"
          ]
        },
        {
          "output_type": "display_data",
          "data": {
            "text/plain": [
              "<Figure size 842.4x595.44 with 1 Axes>"
            ],
            "image/png": "[encoded data removed]"
          },
          "metadata": {}
        }
      ],
      "source": [
        "print('Representation of the main topic for each document')\n",
        "\n",
        "tlist = get_topic_list(nmf,feature_names, 10)\n",
        "df_result = display_topic_representation(W,df_smaller,tlist)"
      ]
    },
    {
      "cell_type": "code",
      "source": [
        "display_file_representation(W,df_result)"
      ],
      "metadata": {
        "colab": {
          "base_uri": "https://localhost:8080/",
          "height": 874
        },
        "id": "RhYASRL1_Rul",
        "outputId": "c2827aea-9ecf-4c11-f856-5b1a3b0727aa"
      },
      "execution_count": 165,
      "outputs": [
        {
          "output_type": "stream",
          "name": "stdout",
          "text": [
            "For each given file, we calculate the mean percentage of the documents depence to each topic\n",
            "\n",
            "          Topic  46-ophthalmology  72-psychiatrypsychology  71-podiatry  \\\n",
            "topic0_x      0          0.217147                 0.000103     0.003959   \n",
            "topic1_x      1          0.024771                 0.304825     0.033483   \n",
            "topic2_x      2          0.025931                 0.000444     0.278998   \n",
            "topic3_x      3          0.007534                 0.000000     0.003497   \n",
            "\n",
            "          17-dentistry  \n",
            "topic0_x      0.009361  \n",
            "topic1_x      0.043000  \n",
            "topic2_x      0.029675  \n",
            "topic3_x      0.349090  \n",
            "Index(['46-ophthalmology', '72-psychiatrypsychology', '71-podiatry',\n",
            "       '17-dentistry'],\n",
            "      dtype='object')\n"
          ]
        },
        {
          "output_type": "display_data",
          "data": {
            "text/plain": [
              "<Figure size 842.4x595.44 with 4 Axes>"
            ],
            "image/png": "[encoded data removed]"
          },
          "metadata": {}
        }
      ]
    },
    {
      "cell_type": "markdown",
      "source": [
        "Despite k=4 has the highest coherence, some documents in ophthalmology were \"forced\" to have higher probabilities to have more topics. A better k is 4, we will try that. \n",
        "\n",
        "With k=4, the coherence looks better!"
      ],
      "metadata": {
        "id": "b8nKO3XsB-JN"
      }
    },
    {
      "cell_type": "code",
      "execution_count": 90,
      "metadata": {
        "id": "pnvqdTnXLTGE",
        "colab": {
          "base_uri": "https://localhost:8080/",
          "height": 354
        },
        "outputId": "06bf8869-8aab-4b05-d9ec-773308eeb074"
      },
      "outputs": [
        {
          "output_type": "execute_result",
          "data": {
            "text/plain": [
              "     Unnamed: 0  index          Category  \\\n",
              "129        5386    129  46-ophthalmology   \n",
              "92         5349     92  46-ophthalmology   \n",
              "93         5350     93  46-ophthalmology   \n",
              "84         5341     84  46-ophthalmology   \n",
              "83         5340     83  46-ophthalmology   \n",
              "\n",
              "                                      Document Name  \\\n",
              "129  2386-phacoemulsificationlensimplantation-5.txt   \n",
              "92   1964-phacoemulsificationlensimplantation-2.txt   \n",
              "93                      1958-cataractextraction.txt   \n",
              "84                   1966-yaglasercapsulotomy-1.txt   \n",
              "83                     1896-yaglasercapsulotomy.txt   \n",
              "\n",
              "                                      Document Content  \\\n",
              "129                                  PREOPERATIVE D...   \n",
              "92                                   PROCEDURE PERF...   \n",
              "93                                   PROCEDURE PERF...   \n",
              "84                                   PREOPERATIVE D...   \n",
              "83                                   PREOPERATIVE D...   \n",
              "\n",
              "                                        Document words    topic0    topic1  \\\n",
              "129  [preoperative, diagnosis, , cataract, , right,...  0.373079  0.000000   \n",
              "92   [procedure, performed, , phacoemulsification, ...  0.471224  0.000000   \n",
              "93   [procedure, performed, , cataract, extraction,...  0.322384  0.000000   \n",
              "84   [preoperative, diagnosis, , secondary, capsula...  0.199040  0.020780   \n",
              "83   [preoperative, diagnosis, , visually, signific...  0.167168  0.038911   \n",
              "\n",
              "       topic2  topic3    topic4  topic5    topic6  topic7  \\\n",
              "129  0.000000     0.0  0.000000     0.0  0.077006     0.0   \n",
              "92   0.000000     0.0  0.000000     0.0  0.000000     0.0   \n",
              "93   0.011183     0.0  0.000000     0.0  0.061070     0.0   \n",
              "84   0.005793     0.0  0.045491     0.0  0.003762     0.0   \n",
              "83   0.026814     0.0  0.063760     0.0  0.031371     0.0   \n",
              "\n",
              "     Topic most represented            Topic and its most representative words  \n",
              "129                       0  0: eye, lens, chamber, anterior, cataract, bag...  \n",
              "92                        0  0: eye, lens, chamber, anterior, cataract, bag...  \n",
              "93                        0  0: eye, lens, chamber, anterior, cataract, bag...  \n",
              "84                        0  0: eye, lens, chamber, anterior, cataract, bag...  \n",
              "83                        0  0: eye, lens, chamber, anterior, cataract, bag...  "
            ],
            "text/html": [
              "\n",
              "  <div id=\"df-ddf0e02e-8df1-4abe-bd3b-0d7f376bec3c\">\n",
              "    <div class=\"colab-df-container\">\n",
              "      <div>\n",
              "<style scoped>\n",
              "    .dataframe tbody tr th:only-of-type {\n",
              "        vertical-align: middle;\n",
              "    }\n",
              "\n",
              "    .dataframe tbody tr th {\n",
              "        vertical-align: top;\n",
              "    }\n",
              "\n",
              "    .dataframe thead th {\n",
              "        text-align: right;\n",
              "    }\n",
              "</style>\n",
              "<table border=\"1\" class=\"dataframe\">\n",
              "  <thead>\n",
              "    <tr style=\"text-align: right;\">\n",
              "      <th></th>\n",
              "      <th>Unnamed: 0</th>\n",
              "      <th>index</th>\n",
              "      <th>Category</th>\n",
              "      <th>Document Name</th>\n",
              "      <th>Document Content</th>\n",
              "      <th>Document words</th>\n",
              "      <th>topic0</th>\n",
              "      <th>topic1</th>\n",
              "      <th>topic2</th>\n",
              "      <th>topic3</th>\n",
              "      <th>topic4</th>\n",
              "      <th>topic5</th>\n",
              "      <th>topic6</th>\n",
              "      <th>topic7</th>\n",
              "      <th>Topic most represented</th>\n",
              "      <th>Topic and its most representative words</th>\n",
              "    </tr>\n",
              "  </thead>\n",
              "  <tbody>\n",
              "    <tr>\n",
              "      <th>129</th>\n",
              "      <td>5386</td>\n",
              "      <td>129</td>\n",
              "      <td>46-ophthalmology</td>\n",
              "      <td>2386-phacoemulsificationlensimplantation-5.txt</td>\n",
              "      <td>PREOPERATIVE D...</td>\n",
              "      <td>[preoperative, diagnosis, , cataract, , right,...</td>\n",
              "      <td>0.373079</td>\n",
              "      <td>0.000000</td>\n",
              "      <td>0.000000</td>\n",
              "      <td>0.0</td>\n",
              "      <td>0.000000</td>\n",
              "      <td>0.0</td>\n",
              "      <td>0.077006</td>\n",
              "      <td>0.0</td>\n",
              "      <td>0</td>\n",
              "      <td>0: eye, lens, chamber, anterior, cataract, bag...</td>\n",
              "    </tr>\n",
              "    <tr>\n",
              "      <th>92</th>\n",
              "      <td>5349</td>\n",
              "      <td>92</td>\n",
              "      <td>46-ophthalmology</td>\n",
              "      <td>1964-phacoemulsificationlensimplantation-2.txt</td>\n",
              "      <td>PROCEDURE PERF...</td>\n",
              "      <td>[procedure, performed, , phacoemulsification, ...</td>\n",
              "      <td>0.471224</td>\n",
              "      <td>0.000000</td>\n",
              "      <td>0.000000</td>\n",
              "      <td>0.0</td>\n",
              "      <td>0.000000</td>\n",
              "      <td>0.0</td>\n",
              "      <td>0.000000</td>\n",
              "      <td>0.0</td>\n",
              "      <td>0</td>\n",
              "      <td>0: eye, lens, chamber, anterior, cataract, bag...</td>\n",
              "    </tr>\n",
              "    <tr>\n",
              "      <th>93</th>\n",
              "      <td>5350</td>\n",
              "      <td>93</td>\n",
              "      <td>46-ophthalmology</td>\n",
              "      <td>1958-cataractextraction.txt</td>\n",
              "      <td>PROCEDURE PERF...</td>\n",
              "      <td>[procedure, performed, , cataract, extraction,...</td>\n",
              "      <td>0.322384</td>\n",
              "      <td>0.000000</td>\n",
              "      <td>0.011183</td>\n",
              "      <td>0.0</td>\n",
              "      <td>0.000000</td>\n",
              "      <td>0.0</td>\n",
              "      <td>0.061070</td>\n",
              "      <td>0.0</td>\n",
              "      <td>0</td>\n",
              "      <td>0: eye, lens, chamber, anterior, cataract, bag...</td>\n",
              "    </tr>\n",
              "    <tr>\n",
              "      <th>84</th>\n",
              "      <td>5341</td>\n",
              "      <td>84</td>\n",
              "      <td>46-ophthalmology</td>\n",
              "      <td>1966-yaglasercapsulotomy-1.txt</td>\n",
              "      <td>PREOPERATIVE D...</td>\n",
              "      <td>[preoperative, diagnosis, , secondary, capsula...</td>\n",
              "      <td>0.199040</td>\n",
              "      <td>0.020780</td>\n",
              "      <td>0.005793</td>\n",
              "      <td>0.0</td>\n",
              "      <td>0.045491</td>\n",
              "      <td>0.0</td>\n",
              "      <td>0.003762</td>\n",
              "      <td>0.0</td>\n",
              "      <td>0</td>\n",
              "      <td>0: eye, lens, chamber, anterior, cataract, bag...</td>\n",
              "    </tr>\n",
              "    <tr>\n",
              "      <th>83</th>\n",
              "      <td>5340</td>\n",
              "      <td>83</td>\n",
              "      <td>46-ophthalmology</td>\n",
              "      <td>1896-yaglasercapsulotomy.txt</td>\n",
              "      <td>PREOPERATIVE D...</td>\n",
              "      <td>[preoperative, diagnosis, , visually, signific...</td>\n",
              "      <td>0.167168</td>\n",
              "      <td>0.038911</td>\n",
              "      <td>0.026814</td>\n",
              "      <td>0.0</td>\n",
              "      <td>0.063760</td>\n",
              "      <td>0.0</td>\n",
              "      <td>0.031371</td>\n",
              "      <td>0.0</td>\n",
              "      <td>0</td>\n",
              "      <td>0: eye, lens, chamber, anterior, cataract, bag...</td>\n",
              "    </tr>\n",
              "  </tbody>\n",
              "</table>\n",
              "</div>\n",
              "      <button class=\"colab-df-convert\" onclick=\"convertToInteractive('df-ddf0e02e-8df1-4abe-bd3b-0d7f376bec3c')\"\n",
              "              title=\"Convert this dataframe to an interactive table.\"\n",
              "              style=\"display:none;\">\n",
              "        \n",
              "  <svg xmlns=\"http://www.w3.org/2000/svg\" height=\"24px\"viewBox=\"0 0 24 24\"\n",
              "       width=\"24px\">\n",
              "    <path d=\"M0 0h24v24H0V0z\" fill=\"none\"/>\n",
              "    <path d=\"M18.56 5.44l.94 2.06.94-2.06 2.06-.94-2.06-.94-.94-2.06-.94 2.06-2.06.94zm-11 1L8.5 8.5l.94-2.06 2.06-.94-2.06-.94L8.5 2.5l-.94 2.06-2.06.94zm10 10l.94 2.06.94-2.06 2.06-.94-2.06-.94-.94-2.06-.94 2.06-2.06.94z\"/><path d=\"M17.41 7.96l-1.37-1.37c-.4-.4-.92-.59-1.43-.59-.52 0-1.04.2-1.43.59L10.3 9.45l-7.72 7.72c-.78.78-.78 2.05 0 2.83L4 21.41c.39.39.9.59 1.41.59.51 0 1.02-.2 1.41-.59l7.78-7.78 2.81-2.81c.8-.78.8-2.07 0-2.86zM5.41 20L4 18.59l7.72-7.72 1.47 1.35L5.41 20z\"/>\n",
              "  </svg>\n",
              "      </button>\n",
              "      \n",
              "  <style>\n",
              "    .colab-df-container {\n",
              "      display:flex;\n",
              "      flex-wrap:wrap;\n",
              "      gap: 12px;\n",
              "    }\n",
              "\n",
              "    .colab-df-convert {\n",
              "      background-color: #E8F0FE;\n",
              "      border: none;\n",
              "      border-radius: 50%;\n",
              "      cursor: pointer;\n",
              "      display: none;\n",
              "      fill: #1967D2;\n",
              "      height: 32px;\n",
              "      padding: 0 0 0 0;\n",
              "      width: 32px;\n",
              "    }\n",
              "\n",
              "    .colab-df-convert:hover {\n",
              "      background-color: #E2EBFA;\n",
              "      box-shadow: 0px 1px 2px rgba(60, 64, 67, 0.3), 0px 1px 3px 1px rgba(60, 64, 67, 0.15);\n",
              "      fill: #174EA6;\n",
              "    }\n",
              "\n",
              "    [theme=dark] .colab-df-convert {\n",
              "      background-color: #3B4455;\n",
              "      fill: #D2E3FC;\n",
              "    }\n",
              "\n",
              "    [theme=dark] .colab-df-convert:hover {\n",
              "      background-color: #434B5C;\n",
              "      box-shadow: 0px 1px 3px 1px rgba(0, 0, 0, 0.15);\n",
              "      filter: drop-shadow(0px 1px 2px rgba(0, 0, 0, 0.3));\n",
              "      fill: #FFFFFF;\n",
              "    }\n",
              "  </style>\n",
              "\n",
              "      <script>\n",
              "        const buttonEl =\n",
              "          document.querySelector('#df-ddf0e02e-8df1-4abe-bd3b-0d7f376bec3c button.colab-df-convert');\n",
              "        buttonEl.style.display =\n",
              "          google.colab.kernel.accessAllowed ? 'block' : 'none';\n",
              "\n",
              "        async function convertToInteractive(key) {\n",
              "          const element = document.querySelector('#df-ddf0e02e-8df1-4abe-bd3b-0d7f376bec3c');\n",
              "          const dataTable =\n",
              "            await google.colab.kernel.invokeFunction('convertToInteractive',\n",
              "                                                     [key], {});\n",
              "          if (!dataTable) return;\n",
              "\n",
              "          const docLinkHtml = 'Like what you see? Visit the ' +\n",
              "            '<a target=\"_blank\" href=https://colab.research.google.com/notebooks/data_table.ipynb>data table notebook</a>'\n",
              "            + ' to learn more about interactive tables.';\n",
              "          element.innerHTML = '';\n",
              "          dataTable['output_type'] = 'display_data';\n",
              "          await google.colab.output.renderOutput(dataTable, element);\n",
              "          const docLink = document.createElement('div');\n",
              "          docLink.innerHTML = docLinkHtml;\n",
              "          element.appendChild(docLink);\n",
              "        }\n",
              "      </script>\n",
              "    </div>\n",
              "  </div>\n",
              "  "
            ]
          },
          "metadata": {},
          "execution_count": 90
        }
      ],
      "source": [
        "df_result.head()"
      ]
    },
    {
      "cell_type": "code",
      "execution_count": 117,
      "metadata": {
        "id": "7Tt8WayPLTGF"
      },
      "outputs": [],
      "source": [
        "# We can also look at the distribution of topics per document.\n",
        "# We can extract the columns with topic probabilities\n",
        "\n",
        "tmp = df_result[['index', 'topic0', 'topic1', 'topic2', 'topic3', 'topic4',\n",
        "       'topic5', 'topic6', 'topic7']]\n",
        "\n",
        "## Let's sample a few documents\n",
        "tmp = tmp.sample(5)"
      ]
    },
    {
      "cell_type": "markdown",
      "metadata": {
        "id": "ANVl7uvTLTGF"
      },
      "source": [
        "Let's plot these"
      ]
    },
    {
      "cell_type": "code",
      "execution_count": 118,
      "metadata": {
        "id": "IzEkCLakLTGF",
        "colab": {
          "base_uri": "https://localhost:8080/",
          "height": 630
        },
        "outputId": "285f6ad5-b690-478f-c985-fa1afdd168e8"
      },
      "outputs": [
        {
          "output_type": "display_data",
          "data": {
            "text/plain": [
              "<Figure size 720x720 with 1 Axes>"
            ],
            "image/png": "[encoded data removed]"
          },
          "metadata": {}
        }
      ],
      "source": [
        "ax = tmp.plot.bar(figsize=(10,10), x='index')\n",
        "ax.legend(tlist.items(), bbox_to_anchor=(1, 0.5));"
      ]
    },
    {
      "cell_type": "markdown",
      "metadata": {
        "id": "0Sg6SurSLTGG"
      },
      "source": [
        "Let's look at one of these documents"
      ]
    },
    {
      "cell_type": "code",
      "execution_count": 122,
      "metadata": {
        "id": "oYCEMGuoLTGG",
        "colab": {
          "base_uri": "https://localhost:8080/",
          "height": 81
        },
        "outputId": "d48f02fd-612b-4ea2-c9c2-08209ac7b15a"
      },
      "outputs": [
        {
          "output_type": "execute_result",
          "data": {
            "text/plain": [
              "     index  topic0    topic1  topic2  topic3  topic4  topic5  topic6  topic7\n",
              "193    193     0.0  0.257272     0.0     0.0     0.0     0.0     0.0     0.0"
            ],
            "text/html": [
              "\n",
              "  <div id=\"df-3afd5ce4-536d-4122-b02c-04f5fb05c3d0\">\n",
              "    <div class=\"colab-df-container\">\n",
              "      <div>\n",
              "<style scoped>\n",
              "    .dataframe tbody tr th:only-of-type {\n",
              "        vertical-align: middle;\n",
              "    }\n",
              "\n",
              "    .dataframe tbody tr th {\n",
              "        vertical-align: top;\n",
              "    }\n",
              "\n",
              "    .dataframe thead th {\n",
              "        text-align: right;\n",
              "    }\n",
              "</style>\n",
              "<table border=\"1\" class=\"dataframe\">\n",
              "  <thead>\n",
              "    <tr style=\"text-align: right;\">\n",
              "      <th></th>\n",
              "      <th>index</th>\n",
              "      <th>topic0</th>\n",
              "      <th>topic1</th>\n",
              "      <th>topic2</th>\n",
              "      <th>topic3</th>\n",
              "      <th>topic4</th>\n",
              "      <th>topic5</th>\n",
              "      <th>topic6</th>\n",
              "      <th>topic7</th>\n",
              "    </tr>\n",
              "  </thead>\n",
              "  <tbody>\n",
              "    <tr>\n",
              "      <th>193</th>\n",
              "      <td>193</td>\n",
              "      <td>0.0</td>\n",
              "      <td>0.257272</td>\n",
              "      <td>0.0</td>\n",
              "      <td>0.0</td>\n",
              "      <td>0.0</td>\n",
              "      <td>0.0</td>\n",
              "      <td>0.0</td>\n",
              "      <td>0.0</td>\n",
              "    </tr>\n",
              "  </tbody>\n",
              "</table>\n",
              "</div>\n",
              "      <button class=\"colab-df-convert\" onclick=\"convertToInteractive('df-3afd5ce4-536d-4122-b02c-04f5fb05c3d0')\"\n",
              "              title=\"Convert this dataframe to an interactive table.\"\n",
              "              style=\"display:none;\">\n",
              "        \n",
              "  <svg xmlns=\"http://www.w3.org/2000/svg\" height=\"24px\"viewBox=\"0 0 24 24\"\n",
              "       width=\"24px\">\n",
              "    <path d=\"M0 0h24v24H0V0z\" fill=\"none\"/>\n",
              "    <path d=\"M18.56 5.44l.94 2.06.94-2.06 2.06-.94-2.06-.94-.94-2.06-.94 2.06-2.06.94zm-11 1L8.5 8.5l.94-2.06 2.06-.94-2.06-.94L8.5 2.5l-.94 2.06-2.06.94zm10 10l.94 2.06.94-2.06 2.06-.94-2.06-.94-.94-2.06-.94 2.06-2.06.94z\"/><path d=\"M17.41 7.96l-1.37-1.37c-.4-.4-.92-.59-1.43-.59-.52 0-1.04.2-1.43.59L10.3 9.45l-7.72 7.72c-.78.78-.78 2.05 0 2.83L4 21.41c.39.39.9.59 1.41.59.51 0 1.02-.2 1.41-.59l7.78-7.78 2.81-2.81c.8-.78.8-2.07 0-2.86zM5.41 20L4 18.59l7.72-7.72 1.47 1.35L5.41 20z\"/>\n",
              "  </svg>\n",
              "      </button>\n",
              "      \n",
              "  <style>\n",
              "    .colab-df-container {\n",
              "      display:flex;\n",
              "      flex-wrap:wrap;\n",
              "      gap: 12px;\n",
              "    }\n",
              "\n",
              "    .colab-df-convert {\n",
              "      background-color: #E8F0FE;\n",
              "      border: none;\n",
              "      border-radius: 50%;\n",
              "      cursor: pointer;\n",
              "      display: none;\n",
              "      fill: #1967D2;\n",
              "      height: 32px;\n",
              "      padding: 0 0 0 0;\n",
              "      width: 32px;\n",
              "    }\n",
              "\n",
              "    .colab-df-convert:hover {\n",
              "      background-color: #E2EBFA;\n",
              "      box-shadow: 0px 1px 2px rgba(60, 64, 67, 0.3), 0px 1px 3px 1px rgba(60, 64, 67, 0.15);\n",
              "      fill: #174EA6;\n",
              "    }\n",
              "\n",
              "    [theme=dark] .colab-df-convert {\n",
              "      background-color: #3B4455;\n",
              "      fill: #D2E3FC;\n",
              "    }\n",
              "\n",
              "    [theme=dark] .colab-df-convert:hover {\n",
              "      background-color: #434B5C;\n",
              "      box-shadow: 0px 1px 3px 1px rgba(0, 0, 0, 0.15);\n",
              "      filter: drop-shadow(0px 1px 2px rgba(0, 0, 0, 0.3));\n",
              "      fill: #FFFFFF;\n",
              "    }\n",
              "  </style>\n",
              "\n",
              "      <script>\n",
              "        const buttonEl =\n",
              "          document.querySelector('#df-3afd5ce4-536d-4122-b02c-04f5fb05c3d0 button.colab-df-convert');\n",
              "        buttonEl.style.display =\n",
              "          google.colab.kernel.accessAllowed ? 'block' : 'none';\n",
              "\n",
              "        async function convertToInteractive(key) {\n",
              "          const element = document.querySelector('#df-3afd5ce4-536d-4122-b02c-04f5fb05c3d0');\n",
              "          const dataTable =\n",
              "            await google.colab.kernel.invokeFunction('convertToInteractive',\n",
              "                                                     [key], {});\n",
              "          if (!dataTable) return;\n",
              "\n",
              "          const docLinkHtml = 'Like what you see? Visit the ' +\n",
              "            '<a target=\"_blank\" href=https://colab.research.google.com/notebooks/data_table.ipynb>data table notebook</a>'\n",
              "            + ' to learn more about interactive tables.';\n",
              "          element.innerHTML = '';\n",
              "          dataTable['output_type'] = 'display_data';\n",
              "          await google.colab.output.renderOutput(dataTable, element);\n",
              "          const docLink = document.createElement('div');\n",
              "          docLink.innerHTML = docLinkHtml;\n",
              "          element.appendChild(docLink);\n",
              "        }\n",
              "      </script>\n",
              "    </div>\n",
              "  </div>\n",
              "  "
            ]
          },
          "metadata": {},
          "execution_count": 122
        }
      ],
      "source": [
        "## choose a document index and assign value to i\n",
        "i = 193\n",
        "tmp[tmp['index']==i]"
      ]
    },
    {
      "cell_type": "code",
      "execution_count": 123,
      "metadata": {
        "id": "gQAeipQkLTGH",
        "colab": {
          "base_uri": "https://localhost:8080/",
          "height": 81
        },
        "outputId": "026292e3-fd47-49f2-a69f-94b376bd06d6"
      },
      "outputs": [
        {
          "output_type": "execute_result",
          "data": {
            "text/plain": [
              "      Unnamed: 0  index                 Category     Document Name  \\\n",
              "5709        5709    193  72-psychiatrypsychology  91-psychhp-1.txt   \n",
              "\n",
              "                                       Document Content  \\\n",
              "5709                                  HISTORY OF PRE...   \n",
              "\n",
              "                                         Document words  \n",
              "5709  [history, of, present, illness, , this, 40year...  "
            ],
            "text/html": [
              "\n",
              "  <div id=\"df-dd17383c-5fc5-4c0b-a028-378f4ad80af6\">\n",
              "    <div class=\"colab-df-container\">\n",
              "      <div>\n",
              "<style scoped>\n",
              "    .dataframe tbody tr th:only-of-type {\n",
              "        vertical-align: middle;\n",
              "    }\n",
              "\n",
              "    .dataframe tbody tr th {\n",
              "        vertical-align: top;\n",
              "    }\n",
              "\n",
              "    .dataframe thead th {\n",
              "        text-align: right;\n",
              "    }\n",
              "</style>\n",
              "<table border=\"1\" class=\"dataframe\">\n",
              "  <thead>\n",
              "    <tr style=\"text-align: right;\">\n",
              "      <th></th>\n",
              "      <th>Unnamed: 0</th>\n",
              "      <th>index</th>\n",
              "      <th>Category</th>\n",
              "      <th>Document Name</th>\n",
              "      <th>Document Content</th>\n",
              "      <th>Document words</th>\n",
              "    </tr>\n",
              "  </thead>\n",
              "  <tbody>\n",
              "    <tr>\n",
              "      <th>5709</th>\n",
              "      <td>5709</td>\n",
              "      <td>193</td>\n",
              "      <td>72-psychiatrypsychology</td>\n",
              "      <td>91-psychhp-1.txt</td>\n",
              "      <td>HISTORY OF PRE...</td>\n",
              "      <td>[history, of, present, illness, , this, 40year...</td>\n",
              "    </tr>\n",
              "  </tbody>\n",
              "</table>\n",
              "</div>\n",
              "      <button class=\"colab-df-convert\" onclick=\"convertToInteractive('df-dd17383c-5fc5-4c0b-a028-378f4ad80af6')\"\n",
              "              title=\"Convert this dataframe to an interactive table.\"\n",
              "              style=\"display:none;\">\n",
              "        \n",
              "  <svg xmlns=\"http://www.w3.org/2000/svg\" height=\"24px\"viewBox=\"0 0 24 24\"\n",
              "       width=\"24px\">\n",
              "    <path d=\"M0 0h24v24H0V0z\" fill=\"none\"/>\n",
              "    <path d=\"M18.56 5.44l.94 2.06.94-2.06 2.06-.94-2.06-.94-.94-2.06-.94 2.06-2.06.94zm-11 1L8.5 8.5l.94-2.06 2.06-.94-2.06-.94L8.5 2.5l-.94 2.06-2.06.94zm10 10l.94 2.06.94-2.06 2.06-.94-2.06-.94-.94-2.06-.94 2.06-2.06.94z\"/><path d=\"M17.41 7.96l-1.37-1.37c-.4-.4-.92-.59-1.43-.59-.52 0-1.04.2-1.43.59L10.3 9.45l-7.72 7.72c-.78.78-.78 2.05 0 2.83L4 21.41c.39.39.9.59 1.41.59.51 0 1.02-.2 1.41-.59l7.78-7.78 2.81-2.81c.8-.78.8-2.07 0-2.86zM5.41 20L4 18.59l7.72-7.72 1.47 1.35L5.41 20z\"/>\n",
              "  </svg>\n",
              "      </button>\n",
              "      \n",
              "  <style>\n",
              "    .colab-df-container {\n",
              "      display:flex;\n",
              "      flex-wrap:wrap;\n",
              "      gap: 12px;\n",
              "    }\n",
              "\n",
              "    .colab-df-convert {\n",
              "      background-color: #E8F0FE;\n",
              "      border: none;\n",
              "      border-radius: 50%;\n",
              "      cursor: pointer;\n",
              "      display: none;\n",
              "      fill: #1967D2;\n",
              "      height: 32px;\n",
              "      padding: 0 0 0 0;\n",
              "      width: 32px;\n",
              "    }\n",
              "\n",
              "    .colab-df-convert:hover {\n",
              "      background-color: #E2EBFA;\n",
              "      box-shadow: 0px 1px 2px rgba(60, 64, 67, 0.3), 0px 1px 3px 1px rgba(60, 64, 67, 0.15);\n",
              "      fill: #174EA6;\n",
              "    }\n",
              "\n",
              "    [theme=dark] .colab-df-convert {\n",
              "      background-color: #3B4455;\n",
              "      fill: #D2E3FC;\n",
              "    }\n",
              "\n",
              "    [theme=dark] .colab-df-convert:hover {\n",
              "      background-color: #434B5C;\n",
              "      box-shadow: 0px 1px 3px 1px rgba(0, 0, 0, 0.15);\n",
              "      filter: drop-shadow(0px 1px 2px rgba(0, 0, 0, 0.3));\n",
              "      fill: #FFFFFF;\n",
              "    }\n",
              "  </style>\n",
              "\n",
              "      <script>\n",
              "        const buttonEl =\n",
              "          document.querySelector('#df-dd17383c-5fc5-4c0b-a028-378f4ad80af6 button.colab-df-convert');\n",
              "        buttonEl.style.display =\n",
              "          google.colab.kernel.accessAllowed ? 'block' : 'none';\n",
              "\n",
              "        async function convertToInteractive(key) {\n",
              "          const element = document.querySelector('#df-dd17383c-5fc5-4c0b-a028-378f4ad80af6');\n",
              "          const dataTable =\n",
              "            await google.colab.kernel.invokeFunction('convertToInteractive',\n",
              "                                                     [key], {});\n",
              "          if (!dataTable) return;\n",
              "\n",
              "          const docLinkHtml = 'Like what you see? Visit the ' +\n",
              "            '<a target=\"_blank\" href=https://colab.research.google.com/notebooks/data_table.ipynb>data table notebook</a>'\n",
              "            + ' to learn more about interactive tables.';\n",
              "          element.innerHTML = '';\n",
              "          dataTable['output_type'] = 'display_data';\n",
              "          await google.colab.output.renderOutput(dataTable, element);\n",
              "          const docLink = document.createElement('div');\n",
              "          docLink.innerHTML = docLinkHtml;\n",
              "          element.appendChild(docLink);\n",
              "        }\n",
              "      </script>\n",
              "    </div>\n",
              "  </div>\n",
              "  "
            ]
          },
          "metadata": {},
          "execution_count": 123
        }
      ],
      "source": [
        "## which category did it belong to?\n",
        "df_smaller[df_smaller['index']==i]"
      ]
    },
    {
      "cell_type": "code",
      "execution_count": 124,
      "metadata": {
        "id": "laYHV1r1LTGI",
        "colab": {
          "base_uri": "https://localhost:8080/"
        },
        "outputId": "e80c58a8-0943-41f4-c8df-493a2430ce80"
      },
      "outputs": [
        {
          "output_type": "execute_result",
          "data": {
            "text/plain": [
              "[\"                                HISTORY OF PRESENT ILLNESS:  This 40-year-old white single man was hospitalized at XYZ Hospital in the mental health ward, issues were filled up by his sister and his mother.  The issues involved include the fact that for the last 10 years he has been on disability for psychiatric reasons and has been not working, and in the last several weeks to month he began to call his family talking about the fact that he had been sexually abused by brother.  He has been in outpatient therapy with Jeffrey Silverberg for the past 10 years and Mr. Silverberg became concerned about his behavior, called the family and told them to have him put in the hospital, and at one point called the police because the patient was throwing cellphones and having tantrums in his office.The history includes the fact that the patient is the 3rd of 4 children.  A brother who is approximately 8 years older, sexually abused brother who is 4 years older.  The brother who is 8 years older lives in California and will contact the family, has had minimal contact for many years.That brother in California is gay.  The brother who is 4 years older, sexually abused, the patient from age 8 to 12 on a regular basis.  He said, he told his mother several years ago, but she did nothing about it.The patient finished high school and with some struggle completed college at the University of Houston.  He has a sister who is approximately a year and half younger than he is, who was sexually abused by the brothers will, but only on one occasion.  She has been concerned about patient's behavior and was instrumental in having him committed.Reportedly, the patient ran away from home at the age of 12 or 13 because of the abuse, but was not able to tell his family what happened.He had no or minimal psychiatric treatment growing up and after completing college worked in retail part time.He states he injured his back about 10 yeas ago.  He told he had disk problems but never had surgery.  He subsequently was put on psychiatric disability for depression, states he has been unable to get out of bed at times and isolates and keeps to himself.He has been on a variety of different medications including Celexa 40 mg and ADD medication different times, and reportedly has used amphetamines in the past, although he denies it at this time.  He minimizes any alcohol use which appears not to be a problem, but what does appear to be a problem is he isolates, stays at home, has been in situations where he brings in people he does not know well and he runs the risk of getting himself physically harmed.He has never been psychiatrically hospitalized before.MENTAL STATUS EXAMINATION:  Revealed a somewhat disheveled 40-year-old man who was clearly quite depressed and somewhat shocked at his family's commitment.  He says he has not seen them on a regular basis because every time he sees them he feels hurt and acknowledged that he called up the brother who abused him and told the brother's wife what had happened.  The brother has a child and wife became very upset with him.Normocephalic.  Pleasant, cooperative, disheveled man with about 37 to 40, thoughts were somewhat guarded.  His affect was anxious and depressed and he denied being suicidal, although the family said that he has talked about it at times.Recent past memory were intact.DIAGNOSES:Axis I:  Major depression rule out substance abuse.Axis II:  Deferred at this time.Axis III:  Noncontributory.Axis IV:  Family financial and social pressures.Axis V:  Global Assessment of Functioning 40.RECOMMENDATION:  The patient will be hospitalized to assess.Along the issues, the fact that he is been living in disability in the fact that his family has had to support him for all this time despite the fact that he has had a college degree.  He says he has had several part time jobs, but never been able to sustain employment, although he would like to.                \"]"
            ]
          },
          "metadata": {},
          "execution_count": 124
        }
      ],
      "source": [
        "## what's in the document? does the generated topic distribution make sense?\n",
        "df_smaller[df_smaller['index']==i]['Document Content'].tolist()"
      ]
    },
    {
      "cell_type": "code",
      "execution_count": 126,
      "metadata": {
        "id": "HYyKo79dLTGI",
        "colab": {
          "base_uri": "https://localhost:8080/",
          "height": 81
        },
        "outputId": "0664af50-ee79-4976-c92c-1c879214c025"
      },
      "outputs": [
        {
          "output_type": "execute_result",
          "data": {
            "text/plain": [
              "     index  topic0    topic1  topic2  topic3  topic4  topic5  topic6  topic7\n",
              "196    196     0.0  0.348751     0.0     0.0     0.0     0.0     0.0     0.0"
            ],
            "text/html": [
              "\n",
              "  <div id=\"df-b8c037f8-247e-42dc-80ce-9cc1eaa03693\">\n",
              "    <div class=\"colab-df-container\">\n",
              "      <div>\n",
              "<style scoped>\n",
              "    .dataframe tbody tr th:only-of-type {\n",
              "        vertical-align: middle;\n",
              "    }\n",
              "\n",
              "    .dataframe tbody tr th {\n",
              "        vertical-align: top;\n",
              "    }\n",
              "\n",
              "    .dataframe thead th {\n",
              "        text-align: right;\n",
              "    }\n",
              "</style>\n",
              "<table border=\"1\" class=\"dataframe\">\n",
              "  <thead>\n",
              "    <tr style=\"text-align: right;\">\n",
              "      <th></th>\n",
              "      <th>index</th>\n",
              "      <th>topic0</th>\n",
              "      <th>topic1</th>\n",
              "      <th>topic2</th>\n",
              "      <th>topic3</th>\n",
              "      <th>topic4</th>\n",
              "      <th>topic5</th>\n",
              "      <th>topic6</th>\n",
              "      <th>topic7</th>\n",
              "    </tr>\n",
              "  </thead>\n",
              "  <tbody>\n",
              "    <tr>\n",
              "      <th>196</th>\n",
              "      <td>196</td>\n",
              "      <td>0.0</td>\n",
              "      <td>0.348751</td>\n",
              "      <td>0.0</td>\n",
              "      <td>0.0</td>\n",
              "      <td>0.0</td>\n",
              "      <td>0.0</td>\n",
              "      <td>0.0</td>\n",
              "      <td>0.0</td>\n",
              "    </tr>\n",
              "  </tbody>\n",
              "</table>\n",
              "</div>\n",
              "      <button class=\"colab-df-convert\" onclick=\"convertToInteractive('df-b8c037f8-247e-42dc-80ce-9cc1eaa03693')\"\n",
              "              title=\"Convert this dataframe to an interactive table.\"\n",
              "              style=\"display:none;\">\n",
              "        \n",
              "  <svg xmlns=\"http://www.w3.org/2000/svg\" height=\"24px\"viewBox=\"0 0 24 24\"\n",
              "       width=\"24px\">\n",
              "    <path d=\"M0 0h24v24H0V0z\" fill=\"none\"/>\n",
              "    <path d=\"M18.56 5.44l.94 2.06.94-2.06 2.06-.94-2.06-.94-.94-2.06-.94 2.06-2.06.94zm-11 1L8.5 8.5l.94-2.06 2.06-.94-2.06-.94L8.5 2.5l-.94 2.06-2.06.94zm10 10l.94 2.06.94-2.06 2.06-.94-2.06-.94-.94-2.06-.94 2.06-2.06.94z\"/><path d=\"M17.41 7.96l-1.37-1.37c-.4-.4-.92-.59-1.43-.59-.52 0-1.04.2-1.43.59L10.3 9.45l-7.72 7.72c-.78.78-.78 2.05 0 2.83L4 21.41c.39.39.9.59 1.41.59.51 0 1.02-.2 1.41-.59l7.78-7.78 2.81-2.81c.8-.78.8-2.07 0-2.86zM5.41 20L4 18.59l7.72-7.72 1.47 1.35L5.41 20z\"/>\n",
              "  </svg>\n",
              "      </button>\n",
              "      \n",
              "  <style>\n",
              "    .colab-df-container {\n",
              "      display:flex;\n",
              "      flex-wrap:wrap;\n",
              "      gap: 12px;\n",
              "    }\n",
              "\n",
              "    .colab-df-convert {\n",
              "      background-color: #E8F0FE;\n",
              "      border: none;\n",
              "      border-radius: 50%;\n",
              "      cursor: pointer;\n",
              "      display: none;\n",
              "      fill: #1967D2;\n",
              "      height: 32px;\n",
              "      padding: 0 0 0 0;\n",
              "      width: 32px;\n",
              "    }\n",
              "\n",
              "    .colab-df-convert:hover {\n",
              "      background-color: #E2EBFA;\n",
              "      box-shadow: 0px 1px 2px rgba(60, 64, 67, 0.3), 0px 1px 3px 1px rgba(60, 64, 67, 0.15);\n",
              "      fill: #174EA6;\n",
              "    }\n",
              "\n",
              "    [theme=dark] .colab-df-convert {\n",
              "      background-color: #3B4455;\n",
              "      fill: #D2E3FC;\n",
              "    }\n",
              "\n",
              "    [theme=dark] .colab-df-convert:hover {\n",
              "      background-color: #434B5C;\n",
              "      box-shadow: 0px 1px 3px 1px rgba(0, 0, 0, 0.15);\n",
              "      filter: drop-shadow(0px 1px 2px rgba(0, 0, 0, 0.3));\n",
              "      fill: #FFFFFF;\n",
              "    }\n",
              "  </style>\n",
              "\n",
              "      <script>\n",
              "        const buttonEl =\n",
              "          document.querySelector('#df-b8c037f8-247e-42dc-80ce-9cc1eaa03693 button.colab-df-convert');\n",
              "        buttonEl.style.display =\n",
              "          google.colab.kernel.accessAllowed ? 'block' : 'none';\n",
              "\n",
              "        async function convertToInteractive(key) {\n",
              "          const element = document.querySelector('#df-b8c037f8-247e-42dc-80ce-9cc1eaa03693');\n",
              "          const dataTable =\n",
              "            await google.colab.kernel.invokeFunction('convertToInteractive',\n",
              "                                                     [key], {});\n",
              "          if (!dataTable) return;\n",
              "\n",
              "          const docLinkHtml = 'Like what you see? Visit the ' +\n",
              "            '<a target=\"_blank\" href=https://colab.research.google.com/notebooks/data_table.ipynb>data table notebook</a>'\n",
              "            + ' to learn more about interactive tables.';\n",
              "          element.innerHTML = '';\n",
              "          dataTable['output_type'] = 'display_data';\n",
              "          await google.colab.output.renderOutput(dataTable, element);\n",
              "          const docLink = document.createElement('div');\n",
              "          docLink.innerHTML = docLinkHtml;\n",
              "          element.appendChild(docLink);\n",
              "        }\n",
              "      </script>\n",
              "    </div>\n",
              "  </div>\n",
              "  "
            ]
          },
          "metadata": {},
          "execution_count": 126
        }
      ],
      "source": [
        "## this is another example\n",
        "i = 196\n",
        "tmp[tmp['index']==i]"
      ]
    },
    {
      "cell_type": "code",
      "execution_count": 127,
      "metadata": {
        "id": "TpIWsC-bLTGJ",
        "colab": {
          "base_uri": "https://localhost:8080/",
          "height": 81
        },
        "outputId": "b351a6c2-200d-4991-eeb8-010992894c16"
      },
      "outputs": [
        {
          "output_type": "execute_result",
          "data": {
            "text/plain": [
              "      Unnamed: 0  index                 Category  \\\n",
              "5712        5712    196  72-psychiatrypsychology   \n",
              "\n",
              "                       Document Name  \\\n",
              "5712  1547-psychconsult-paranoia.txt   \n",
              "\n",
              "                                       Document Content  \\\n",
              "5712                                  IDENTIFYING DA...   \n",
              "\n",
              "                                         Document words  \n",
              "5712  [identifying, data, , the, patient, is, a, 30y...  "
            ],
            "text/html": [
              "\n",
              "  <div id=\"df-acfcf2d8-0c09-4039-9f51-e000ddc96a1e\">\n",
              "    <div class=\"colab-df-container\">\n",
              "      <div>\n",
              "<style scoped>\n",
              "    .dataframe tbody tr th:only-of-type {\n",
              "        vertical-align: middle;\n",
              "    }\n",
              "\n",
              "    .dataframe tbody tr th {\n",
              "        vertical-align: top;\n",
              "    }\n",
              "\n",
              "    .dataframe thead th {\n",
              "        text-align: right;\n",
              "    }\n",
              "</style>\n",
              "<table border=\"1\" class=\"dataframe\">\n",
              "  <thead>\n",
              "    <tr style=\"text-align: right;\">\n",
              "      <th></th>\n",
              "      <th>Unnamed: 0</th>\n",
              "      <th>index</th>\n",
              "      <th>Category</th>\n",
              "      <th>Document Name</th>\n",
              "      <th>Document Content</th>\n",
              "      <th>Document words</th>\n",
              "    </tr>\n",
              "  </thead>\n",
              "  <tbody>\n",
              "    <tr>\n",
              "      <th>5712</th>\n",
              "      <td>5712</td>\n",
              "      <td>196</td>\n",
              "      <td>72-psychiatrypsychology</td>\n",
              "      <td>1547-psychconsult-paranoia.txt</td>\n",
              "      <td>IDENTIFYING DA...</td>\n",
              "      <td>[identifying, data, , the, patient, is, a, 30y...</td>\n",
              "    </tr>\n",
              "  </tbody>\n",
              "</table>\n",
              "</div>\n",
              "      <button class=\"colab-df-convert\" onclick=\"convertToInteractive('df-acfcf2d8-0c09-4039-9f51-e000ddc96a1e')\"\n",
              "              title=\"Convert this dataframe to an interactive table.\"\n",
              "              style=\"display:none;\">\n",
              "        \n",
              "  <svg xmlns=\"http://www.w3.org/2000/svg\" height=\"24px\"viewBox=\"0 0 24 24\"\n",
              "       width=\"24px\">\n",
              "    <path d=\"M0 0h24v24H0V0z\" fill=\"none\"/>\n",
              "    <path d=\"M18.56 5.44l.94 2.06.94-2.06 2.06-.94-2.06-.94-.94-2.06-.94 2.06-2.06.94zm-11 1L8.5 8.5l.94-2.06 2.06-.94-2.06-.94L8.5 2.5l-.94 2.06-2.06.94zm10 10l.94 2.06.94-2.06 2.06-.94-2.06-.94-.94-2.06-.94 2.06-2.06.94z\"/><path d=\"M17.41 7.96l-1.37-1.37c-.4-.4-.92-.59-1.43-.59-.52 0-1.04.2-1.43.59L10.3 9.45l-7.72 7.72c-.78.78-.78 2.05 0 2.83L4 21.41c.39.39.9.59 1.41.59.51 0 1.02-.2 1.41-.59l7.78-7.78 2.81-2.81c.8-.78.8-2.07 0-2.86zM5.41 20L4 18.59l7.72-7.72 1.47 1.35L5.41 20z\"/>\n",
              "  </svg>\n",
              "      </button>\n",
              "      \n",
              "  <style>\n",
              "    .colab-df-container {\n",
              "      display:flex;\n",
              "      flex-wrap:wrap;\n",
              "      gap: 12px;\n",
              "    }\n",
              "\n",
              "    .colab-df-convert {\n",
              "      background-color: #E8F0FE;\n",
              "      border: none;\n",
              "      border-radius: 50%;\n",
              "      cursor: pointer;\n",
              "      display: none;\n",
              "      fill: #1967D2;\n",
              "      height: 32px;\n",
              "      padding: 0 0 0 0;\n",
              "      width: 32px;\n",
              "    }\n",
              "\n",
              "    .colab-df-convert:hover {\n",
              "      background-color: #E2EBFA;\n",
              "      box-shadow: 0px 1px 2px rgba(60, 64, 67, 0.3), 0px 1px 3px 1px rgba(60, 64, 67, 0.15);\n",
              "      fill: #174EA6;\n",
              "    }\n",
              "\n",
              "    [theme=dark] .colab-df-convert {\n",
              "      background-color: #3B4455;\n",
              "      fill: #D2E3FC;\n",
              "    }\n",
              "\n",
              "    [theme=dark] .colab-df-convert:hover {\n",
              "      background-color: #434B5C;\n",
              "      box-shadow: 0px 1px 3px 1px rgba(0, 0, 0, 0.15);\n",
              "      filter: drop-shadow(0px 1px 2px rgba(0, 0, 0, 0.3));\n",
              "      fill: #FFFFFF;\n",
              "    }\n",
              "  </style>\n",
              "\n",
              "      <script>\n",
              "        const buttonEl =\n",
              "          document.querySelector('#df-acfcf2d8-0c09-4039-9f51-e000ddc96a1e button.colab-df-convert');\n",
              "        buttonEl.style.display =\n",
              "          google.colab.kernel.accessAllowed ? 'block' : 'none';\n",
              "\n",
              "        async function convertToInteractive(key) {\n",
              "          const element = document.querySelector('#df-acfcf2d8-0c09-4039-9f51-e000ddc96a1e');\n",
              "          const dataTable =\n",
              "            await google.colab.kernel.invokeFunction('convertToInteractive',\n",
              "                                                     [key], {});\n",
              "          if (!dataTable) return;\n",
              "\n",
              "          const docLinkHtml = 'Like what you see? Visit the ' +\n",
              "            '<a target=\"_blank\" href=https://colab.research.google.com/notebooks/data_table.ipynb>data table notebook</a>'\n",
              "            + ' to learn more about interactive tables.';\n",
              "          element.innerHTML = '';\n",
              "          dataTable['output_type'] = 'display_data';\n",
              "          await google.colab.output.renderOutput(dataTable, element);\n",
              "          const docLink = document.createElement('div');\n",
              "          docLink.innerHTML = docLinkHtml;\n",
              "          element.appendChild(docLink);\n",
              "        }\n",
              "      </script>\n",
              "    </div>\n",
              "  </div>\n",
              "  "
            ]
          },
          "metadata": {},
          "execution_count": 127
        }
      ],
      "source": [
        "df_smaller[df_smaller['index']==i]"
      ]
    },
    {
      "cell_type": "code",
      "execution_count": 128,
      "metadata": {
        "id": "KtNLHDDnLTGJ",
        "colab": {
          "base_uri": "https://localhost:8080/"
        },
        "outputId": "c56d1251-346f-4b38-91fc-f2060483ee20"
      },
      "outputs": [
        {
          "output_type": "execute_result",
          "data": {
            "text/plain": [
              "['                                IDENTIFYING DATA:  The patient is a 30-year-old white male with a history of schizophrenia, chronic paranoid, was admitted for increasing mood lability, paranoia, and agitation.CHIEF COMPLAINT:  &quot;I am not sure.&quot; The patient has poor insight into hospitalization and need for treatment.HISTORY OF PRESENT ILLNESS:  The patient has a history of schizophrenia and chronic paranoid, for which she has received treatment in Houston, Texas.  According to mental health professionals, the patient had been noncompliant with medications for approximately two weeks.  The patient had taken an airplane from Houston to Seattle, but became agitated, paranoid, expressing paranoid delusions that the stewardess and pilots were trying to reject him and was deplaned in Seattle.  The patient was taken to the local shelter where he remained labile, breaking a window, and was taken to jail.  The patient has now been discharged from jail but involuntarily detained for persistent paranoia and disorganization (no jail hold).PAST PSYCHIATRIC HISTORY:  History of schizophrenia, chronic paranoid.  The patient as noted has been treated in Houston but has not had recent treatment or medications.PAST MEDICAL HISTORY:  No acute medical problems noted.CURRENT MEDICATIONS:  None.  The patient was most recently treated with Invega and Abilify according to his records.FAMILY SOCIAL HISTORY:  The patient resides with his father in Houston.  The patient has no known history of substances abuse.  The patient as noted was in jail prior to admission after breaking a window at the local shelter but has no current jail hold.FAMILY PSYCHIATRIC HISTORY:  Need to increase database.MENTAL STATUS EXAMINATION:Attitude:  Calm and cooperative.Appearance:  Shows poor hygiene and grooming.Psychomotor:  Behavior is within normal limits without agitation or retardation.  No EPS or TDS noted.Affect:  Is suspicious.Mood:  Anxious but cooperative.Speech:  Shows normal rate and rhythm.Thoughts:  DisorganizedThought Content:  Remarkable for paranoia &quot;they want to hurt me.&quot;Psychosis:  The patient endorses paranoid delusions as above.  The patient denies auditory hallucinations.Suicidal/Homicidal Ideation:  The patient denies on admission.Cognitive Assessment:  Grossly intact.  The patient is alert and oriented x 3.Judgment:  Poor, shown by noncompliance with treatment.Assets:  Include stable physical status.Limitations:  Include recurrent psychosis.FORMULATION:  The patient with a history of schizophrenia was admitted for increasing mood lability and psychosis due to noncompliance with treatment.INITIAL IMPRESSION:AXIS I:  Schizophrenia, chronic paranoid.AXIS II:  None.AXIS III:  None.AXIS IV:  Severe.AXIS V:  10.ESTIMATED LENGTH OF STAY:  12 days.PLAN:  The patient will be restarted on Invega and Abilify for psychosis.  The patient will also be continued on Cogentin for EPS.  Increased database will be obtained.                ']"
            ]
          },
          "metadata": {},
          "execution_count": 128
        }
      ],
      "source": [
        "df_smaller[df_smaller['index']==i]['Document Content'].tolist()"
      ]
    },
    {
      "cell_type": "code",
      "execution_count": 100,
      "metadata": {
        "id": "bGt11dyWLTGK"
      },
      "outputs": [],
      "source": [
        ""
      ]
    }
  ],
  "metadata": {
    "kernelspec": {
      "display_name": "Python 3",
      "language": "python",
      "name": "python3"
    },
    "language_info": {
      "codemirror_mode": {
        "name": "ipython",
        "version": 3
      },
      "file_extension": ".py",
      "mimetype": "text/x-python",
      "name": "python",
      "nbconvert_exporter": "python",
      "pygments_lexer": "ipython3",
      "version": "3.8.3"
    },
    "colab": {
      "name": "D4_5_example-lda-nmf_coherence.ipynb",
      "provenance": [],
      "include_colab_link": true
    }
  },
  "nbformat": 4,
  "nbformat_minor": 0
}